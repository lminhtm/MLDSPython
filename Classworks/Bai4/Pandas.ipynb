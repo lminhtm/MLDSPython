{
 "cells": [
  {
   "cell_type": "markdown",
   "metadata": {},
   "source": [
    "# Gioi thieu\n",
    "Pandas co 2 kieu cau truc du lieu<br>\n",
    "- Series: Mang 1 chieu\n",
    "- Dataframe: Mang 2 chieu"
   ]
  },
  {
   "cell_type": "markdown",
   "metadata": {},
   "source": [
    "# Khoi tao"
   ]
  },
  {
   "cell_type": "code",
   "execution_count": 40,
   "metadata": {},
   "outputs": [
    {
     "name": "stdout",
     "output_type": "stream",
     "text": [
      "0    a\n",
      "1    b\n",
      "2    c\n",
      "3    d\n",
      "dtype: object \n",
      "\n",
      "1    a\n",
      "2    b\n",
      "3    c\n",
      "4    d\n",
      "dtype: object \n",
      "\n",
      "hv1    a\n",
      "hv2    b\n",
      "hv3    c\n",
      "hv4    d\n",
      "dtype: object \n",
      "\n",
      "0    7.5\n",
      "1    6.0\n",
      "2    8.0\n",
      "3    9.0\n",
      "dtype: float64 \n",
      "\n",
      "0    10\n",
      "1    10\n",
      "2    10\n",
      "3    10\n",
      "dtype: int64 \n",
      "\n"
     ]
    }
   ],
   "source": [
    "import pandas as pd\n",
    "\n",
    "# Tao Series tu list\n",
    "list = ['a','b','c','d']\n",
    "s = pd.Series(list)\n",
    "print(s, \"\\n\")\n",
    "\n",
    "# Tao Series tu list voi custom index\n",
    "s1 = pd.Series(list, index=[1,2,3,4])\n",
    "s2 = pd.Series(list, index=['hv1','hv2','hv3','hv4'])\n",
    "print(s1, \"\\n\")\n",
    "print(s2, \"\\n\")\n",
    "\n",
    "# Tao Series tu tuple\n",
    "tuple = (7.5,6,8,9)\n",
    "s3 = pd.Series(tuple)\n",
    "print(s3, \"\\n\")\n",
    "\n",
    "# Tao Series tu hang so\n",
    "s4 = pd.Series(10, index=[0,1,2,3])\n",
    "print(s4, \"\\n\")"
   ]
  },
  {
   "cell_type": "markdown",
   "metadata": {},
   "source": [
    "# 2. Truy xuat\n",
    "- `loc`: index tuong minh\n",
    "- `iloc`: index ngam dinh"
   ]
  },
  {
   "cell_type": "markdown",
   "metadata": {},
   "source": [
    "## 2.1. Truy xuat theo index"
   ]
  },
  {
   "cell_type": "code",
   "execution_count": 14,
   "metadata": {},
   "outputs": [
    {
     "name": "stdout",
     "output_type": "stream",
     "text": [
      "a\n",
      "a\n",
      "a\n",
      "a\n"
     ]
    }
   ],
   "source": [
    "print(s2['hv1'])\n",
    "print(s2.loc['hv1'])\n",
    "print(s2[0])\n",
    "print(s2.iloc[0])"
   ]
  },
  {
   "cell_type": "markdown",
   "metadata": {},
   "source": [
    "## 2.2. Truy xuat nhieu phan tu"
   ]
  },
  {
   "cell_type": "code",
   "execution_count": 29,
   "metadata": {},
   "outputs": [
    {
     "name": "stdout",
     "output_type": "stream",
     "text": [
      "hv2    b\n",
      "hv3    c\n",
      "dtype: object \n",
      "\n",
      "hv1    a\n",
      "hv2    b\n",
      "hv4    d\n",
      "dtype: object \n",
      "\n",
      "hv1    a\n",
      "hv4    d\n",
      "dtype: object \n",
      "\n",
      "hv1    a\n",
      "hv2    b\n",
      "dtype: object \n",
      "\n",
      "hv3    c\n",
      "hv4    d\n",
      "dtype: object \n",
      "\n"
     ]
    }
   ],
   "source": [
    "print(s2[1:3], \"\\n\")\n",
    "print(s2.iloc[[0,1,3]], \"\\n\")\n",
    "print(s2[['hv1','hv4']], \"\\n\")\n",
    "print(s2.head(2), \"\\n\")\n",
    "print(s2.tail(2), \"\\n\")"
   ]
  },
  {
   "cell_type": "markdown",
   "metadata": {},
   "source": [
    "## 2.3. Truy xuat theo dieu kien"
   ]
  },
  {
   "cell_type": "code",
   "execution_count": 32,
   "metadata": {},
   "outputs": [
    {
     "name": "stdout",
     "output_type": "stream",
     "text": [
      "hv1    a\n",
      "dtype: object \n",
      "\n"
     ]
    }
   ],
   "source": [
    "print(s2[s2 == 'a'], \"\\n\")"
   ]
  },
  {
   "cell_type": "markdown",
   "metadata": {},
   "source": [
    "# 3. Them phan tu"
   ]
  },
  {
   "cell_type": "code",
   "execution_count": 38,
   "metadata": {},
   "outputs": [
    {
     "name": "stdout",
     "output_type": "stream",
     "text": [
      "hv1    a\n",
      "hv2    b\n",
      "hv3    c\n",
      "hv4    f\n",
      "hv5    g\n",
      "hv6    c\n",
      "hv7    d\n",
      "hv6    c\n",
      "hv7    d\n",
      "hv6    c\n",
      "hv7    d\n",
      "dtype: object \n",
      "\n"
     ]
    }
   ],
   "source": [
    "# Them phan tu\n",
    "s2['hv5'] = 'g'\n",
    "\n",
    "# Them phan tu by concat\n",
    "new_hv = pd.Series(['c', 'd'], index=['hv6', 'hv7'])\n",
    "s2 = pd.concat([s2, new_hv])\n",
    "print(s2, \"\\n\")"
   ]
  },
  {
   "cell_type": "markdown",
   "metadata": {},
   "source": [
    "# 4. Sua phan tu"
   ]
  },
  {
   "cell_type": "code",
   "execution_count": 44,
   "metadata": {},
   "outputs": [
    {
     "name": "stdout",
     "output_type": "stream",
     "text": [
      "0    7.5\n",
      "1    6.0\n",
      "2    8.0\n",
      "3    9.0\n",
      "dtype: float64 \n",
      "\n",
      "0    7.5\n",
      "1    6.5\n",
      "2    8.0\n",
      "3    9.0\n",
      "dtype: float64 \n",
      "\n"
     ]
    }
   ],
   "source": [
    "print(s3, \"\\n\")\n",
    "s3[1] = 6.5\n",
    "print(s3, \"\\n\")"
   ]
  },
  {
   "cell_type": "code",
   "execution_count": null,
   "metadata": {},
   "outputs": [],
   "source": []
  }
 ],
 "metadata": {
  "kernelspec": {
   "display_name": "Python 3",
   "language": "python",
   "name": "python3"
  },
  "language_info": {
   "codemirror_mode": {
    "name": "ipython",
    "version": 3
   },
   "file_extension": ".py",
   "mimetype": "text/x-python",
   "name": "python",
   "nbconvert_exporter": "python",
   "pygments_lexer": "ipython3",
   "version": "3.6.8"
  }
 },
 "nbformat": 4,
 "nbformat_minor": 4
}
