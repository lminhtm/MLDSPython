{
 "cells": [
  {
   "cell_type": "markdown",
   "metadata": {
    "id": "bbcf3b32"
   },
   "source": [
    "# Chapter 4 - Exercise 4: Weather Data"
   ]
  },
  {
   "cell_type": "markdown",
   "metadata": {
    "id": "e1beac2d"
   },
   "source": [
    "#### Bộ dữ liệu Weather Data bao gồm thông tin về thời tiết của tất cả các ngày trong tháng 7 năm 2017\n",
    "#### Bộ dữ liệu chứa trong thư mục data gồm các file dữ liệu:\n",
    "- 1_TempHighF: Nhiệt độ cao nhất (độ F)\n",
    "- 2_TempLowF: Nhiệt độ thấp nhất (độ F)\n",
    "- 3_HumidityHighPercent: Độ ẩm cao nhất (%)\n",
    "- 4_HumidityLowPercent: Độ ẩm thấp nhất (%)\n",
    "- 5_VisibilityHighMiles: Tầm nhìn xa (miles)\n",
    "- 6_VisibilityLowMiles: Tầm nhìn gần (miles)\n",
    "- 7_WindMPH: Sức gió (miles per hour)\n",
    "- 8_PrecipitationSumInches: Lượng mưa (inches)"
   ]
  },
  {
   "cell_type": "markdown",
   "metadata": {
    "id": "hvUw3DwZZDBW"
   },
   "source": [
    "- Link thư mục data: https://drive.google.com/drive/folders/1614aFbGoWimoWYVi_x-o5F9Tbc_bNnPc?usp=sharing"
   ]
  },
  {
   "cell_type": "markdown",
   "metadata": {
    "id": "b353e1de"
   },
   "source": [
    "### * Yêu cầu\n",
    "<p><b>1. Đọc dữ liệu từ các tập tin và lưu trữ vào list data với mỗi phần tử là dữ liệu được đọc từ 1 tập tin tương ứng trong thư mục data (có kiểu numpy array). In kết quả list data</b></p>\n",
    "<p><b>2. Từ các numpy array trong list data, tạo dataframe dfWeather gồm các cột: \n",
    "- 'TempHighF', 'TempLowF', 'HumidityHighPercent', 'HumidityLowPercent', 'VisibilityHighMiles', 'VisibilityLowMiles', 'WindMPH', 'PrecipitationSumInches'</b><br>\n",
    "- Nhiệt độ cao nhất, nhiệt độ thấp nhất, độ ẩm cao nhất, độ ẩm thấp nhất, tầm nhìn xa, tầm nhìn gần, sức gió và lượng mưa<br>\n",
    "- Xem 5 dòng đầu tiên trong dfWeather\n",
    "</p>"
   ]
  },
  {
   "cell_type": "markdown",
   "metadata": {},
   "source": [
    "<p><b>3. Tạo dataframe dfWeather2 lần lượt với các cột sau đây:\n",
    "'TempHighC', 'TempLowC', 'HumidityHighPercent', 'HumidityLowPercent', 'VisibilityHighKMs', 'VisibilityLowKMs', 'WindKMPH', 'PrecipitationSumMM'</b></p>  \n",
    "<p>&nbsp; &nbsp;3.1  Chuyển đổi cột nhiệt độ cao nhất từ độ F sang độ C và lưu vào cột TempHighC trong dfWeather2 (làm tròn 2 số lẻ), hiển thị 5 giá trị đầu của TempHighC</p>\n",
    "<ul>\n",
    "    <li>công thức chuyển từ độ F sang C: C = (F − 32) × 5/9</li>\n",
    "    <li>ví dụ chuyển từ 80F sang C: C = (80 - 32) x 5/9 = 26.67C</li>\n",
    "</ul>    \n",
    "<p>&nbsp; &nbsp;3.2 Chuyển đổi cột nhiệt độ thấp nhất từ độ F sang độ C và lưu vào cột TempLowC trong dfWeather2</p>\n",
    "<p>&nbsp; &nbsp;3.3 Tính nhiệt độ trung bình TempMediumC trong dfWeather2</p>\n",
    "<p>&nbsp; &nbsp;3.4 Tạo mới các cột độ ẩm HumidityHighPercent và HumidityLowPercent trong dfWeather2 bằng các cột HumidityHighPercent và HumidityLowPercent trong dfWeather</p>\n",
    "<p>&nbsp; &nbsp;3.5 Chuyển đổi cột tầm nhìn xa từ miles sang kilomet và lưu vào cột VisibilityHighKMs trong dfWeather2</p>\n",
    "<ul>\n",
    "<li>công thức chuyển từ Mile sang Kilomet: km = mile * 1.609344</li>\n",
    "    <li>ví dụ chuyển từ 10 mile sang km: km = 10 * 1.609344 = 16.09344 km</li>\n",
    "</ul>    \n",
    "<p>&nbsp; &nbsp;3.6 Chuyển đổi cột tầm nhìn gần từ miles sang kilomet và lưu vào cột VisibilityLowKMs trong dfWeather2</p>\n",
    "<p>&nbsp; &nbsp;3.7 Chuyển đổi cột sức gió từ miles/hour (WindMPH) sang kilomets/hour và lưu vào cột WindKMPH trong dfWeather2</p>\n",
    "<p>&nbsp; &nbsp;3.8 Chuyển đổi cột lượng mưa từ inches sang milimet và lưu vào cột PrecipitationSumMMs trong dfWeather2</p>\n",
    "<ul>\n",
    "    <li>công thức chuyển từ Inches sang Milimet: mm = inches * 25.4</li>\n",
    "    <li>ví dụ chuyển từ 10 inches sang milimet: mm = 10 * 25.4 = 254 mm</li>"
   ]
  },
  {
   "cell_type": "markdown",
   "metadata": {},
   "source": [
    "<p><b>4. Xem thông tin thời tiết của 5 ngày đầu tiên trong dfWeather2\n",
    "<p><b>5. Từ dfWeather2, liệt kê thông tin thời tiết của các ngày có nhiệt độ trung bình cao nhất\n",
    "<p><b>6. Từ dfWeather2, liệt kê thông tin thời tiết của các ngày có nhiệt độ trung bình thấp nhất\n",
    "<p><b>7. Từ dfWeather2, liệt kê thông tin thời tiết của các ngày có mưa, sắp giảm theo lượng mưa\n",
    "<p><b>8. Từ dfWeather2, liệt kê thông tin thời tiết của các ngày không có mưa và có độ ẩm trung bình cao nhất\n",
    "<p><b>9. Tạo series ser chứa hai giá trị trung bình cột TempMediumC của các ngày có mưa và các ngày không mưa trong tháng"
   ]
  },
  {
   "cell_type": "code",
   "execution_count": 1,
   "metadata": {
    "id": "3995dac0"
   },
   "outputs": [],
   "source": [
    "import numpy as np\n",
    "import pandas as np\n",
    "import os"
   ]
  },
  {
   "cell_type": "markdown",
   "metadata": {},
   "source": [
    "## Câu 1"
   ]
  },
  {
   "cell_type": "code",
   "execution_count": 6,
   "metadata": {},
   "outputs": [
    {
     "data": {
      "text/plain": [
       "['data_bt4/1_TempHighF.txt',\n",
       " 'data_bt4/2_TempLowF.txt',\n",
       " 'data_bt4/3_HumidityHighPercent.txt',\n",
       " 'data_bt4/4_HumidityLowPercent.txt',\n",
       " 'data_bt4/5_VisibilityHighMiles.txt',\n",
       " 'data_bt4/6_VisibilityLowMiles.txt',\n",
       " 'data_bt4/7_WindMPH.txt',\n",
       " 'data_bt4/8_PrecipitationSumInches.txt']"
      ]
     },
     "execution_count": 6,
     "metadata": {},
     "output_type": "execute_result"
    }
   ],
   "source": [
    "filenames = os.listdir('data_bt4')\n",
    "filenames = ['data_bt4/'+ x for x in filenames]\n",
    "filenames"
   ]
  },
  {
   "cell_type": "code",
   "execution_count": null,
   "metadata": {},
   "outputs": [],
   "source": []
  }
 ],
 "metadata": {
  "colab": {
   "collapsed_sections": [],
   "name": "Chap3_Ex6.ipynb",
   "provenance": []
  },
  "kernelspec": {
   "display_name": "Python 3",
   "language": "python",
   "name": "python3"
  },
  "language_info": {
   "codemirror_mode": {
    "name": "ipython",
    "version": 3
   },
   "file_extension": ".py",
   "mimetype": "text/x-python",
   "name": "python",
   "nbconvert_exporter": "python",
   "pygments_lexer": "ipython3",
   "version": "3.6.8"
  }
 },
 "nbformat": 4,
 "nbformat_minor": 5
}
