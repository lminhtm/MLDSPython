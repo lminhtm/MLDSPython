{
 "cells": [
  {
   "cell_type": "markdown",
   "metadata": {},
   "source": [
    "## Chapter 6 - Exercise 3: Titanic Disaster"
   ]
  },
  {
   "cell_type": "markdown",
   "metadata": {},
   "source": [
    "Vào ngày 15 tháng 4 năm 1912, trong chuyến hải trình đầu tiên của mình, tàu Titanic đã chìm sau khi va chạm với một tảng băng trôi, đã có 1502 nạn nhân mãi mãi ra đi trong tổng số 2224 hành khách và thủy thủ đoàn. \n",
    "\n",
    "__Thông tin về Titanic Disaster có thể xem tại:__\n",
    "https://www.kaggle.com/c/titanic/data"
   ]
  },
  {
   "cell_type": "markdown",
   "metadata": {},
   "source": [
    "#### Dựa trên tập tin _train.csv_ , hãy thực hiện các yêu cầu sau:"
   ]
  },
  {
   "cell_type": "markdown",
   "metadata": {},
   "source": [
    "# Yêu cầu"
   ]
  },
  {
   "cell_type": "markdown",
   "metadata": {},
   "source": [
    "## Câu 1: \n",
    "- a) Đọc dữ liệu từ tập tin train.csv và lưu vào biến titanic. Hiển thị 5 dòng dữ liệu đầu của titanic\n",
    "- b) Thiết lập cột index cho titanic là PassengerId. "
   ]
  },
  {
   "cell_type": "markdown",
   "metadata": {},
   "source": [
    "# Câu 2: \n",
    "- Tạo pie chart thể hiện tỷ lệ hành khách nam/nữ trên tàu."
   ]
  },
  {
   "cell_type": "markdown",
   "metadata": {},
   "source": [
    "# Câu 3: \n",
    "- Cho biết có bao nhiêu người còn sống sót\n",
    "- Cho biết tỷ lệ bao nhiêu người còn sống sót"
   ]
  },
  {
   "cell_type": "markdown",
   "metadata": {},
   "source": [
    "# Câu 4: \n",
    "- 4a) Vẽ biểu đồ histogram của cột vé (Fare), bổ sung các thông tin xlabel, ylabel, title. Bạn nhận xét gì về biểu đồ vừa vẽ\n",
    "- 4b) Vẽ biểu đồ histogram của cột vé (Fare). Bạn nhận xét gì về biểu đồ vừa vẽ"
   ]
  },
  {
   "cell_type": "markdown",
   "metadata": {},
   "source": [
    "# Câu 5: \n",
    "- a) Xem thông tin mô tả (describe) của biến Fare và vẽ biểu đồ Boxplot\n",
    "- b) Vẽ biểu đồ Barplot thể hiện tổng số hành khách trong mỗi class\n",
    "- c) Vẽ biểu đồ Barplot thể hiện tổng số hành khách tính theo tỷ lệ trong mỗi class\n",
    "- d) Vẽ biểu đồ Barplot thể hiện tuổi trung bình theo Nam/Nữ\n",
    "- e) Vẽ biểu đồ Barplot thể hiện tuổi trung bình theo class\n",
    "- f) Vẽ biểu đồ Barplot thể hiện tổng số hành khách và số chết trong mỗi class\n",
    "- g) vẽ biểu đồ StackedBar thể hiện tổng số hành khách Nam/Nữ theo mỗi class"
   ]
  },
  {
   "cell_type": "code",
   "execution_count": 1,
   "metadata": {},
   "outputs": [],
   "source": [
    "import numpy as np\n",
    "import pandas as pd\n",
    "import matplotlib.pyplot as plt\n",
    "import seaborn as sns"
   ]
  },
  {
   "cell_type": "code",
   "execution_count": 2,
   "metadata": {},
   "outputs": [
    {
     "data": {
      "text/html": [
       "<div>\n",
       "<style scoped>\n",
       "    .dataframe tbody tr th:only-of-type {\n",
       "        vertical-align: middle;\n",
       "    }\n",
       "\n",
       "    .dataframe tbody tr th {\n",
       "        vertical-align: top;\n",
       "    }\n",
       "\n",
       "    .dataframe thead th {\n",
       "        text-align: right;\n",
       "    }\n",
       "</style>\n",
       "<table border=\"1\" class=\"dataframe\">\n",
       "  <thead>\n",
       "    <tr style=\"text-align: right;\">\n",
       "      <th></th>\n",
       "      <th>PassengerId</th>\n",
       "      <th>Survived</th>\n",
       "      <th>Pclass</th>\n",
       "      <th>Name</th>\n",
       "      <th>Sex</th>\n",
       "      <th>Age</th>\n",
       "      <th>SibSp</th>\n",
       "      <th>Parch</th>\n",
       "      <th>Ticket</th>\n",
       "      <th>Fare</th>\n",
       "      <th>Cabin</th>\n",
       "      <th>Embarked</th>\n",
       "    </tr>\n",
       "  </thead>\n",
       "  <tbody>\n",
       "    <tr>\n",
       "      <th>0</th>\n",
       "      <td>1</td>\n",
       "      <td>0</td>\n",
       "      <td>3</td>\n",
       "      <td>Braund, Mr. Owen Harris</td>\n",
       "      <td>male</td>\n",
       "      <td>22.0</td>\n",
       "      <td>1</td>\n",
       "      <td>0</td>\n",
       "      <td>A/5 21171</td>\n",
       "      <td>7.2500</td>\n",
       "      <td>NaN</td>\n",
       "      <td>S</td>\n",
       "    </tr>\n",
       "    <tr>\n",
       "      <th>1</th>\n",
       "      <td>2</td>\n",
       "      <td>1</td>\n",
       "      <td>1</td>\n",
       "      <td>Cumings, Mrs. John Bradley (Florence Briggs Th...</td>\n",
       "      <td>female</td>\n",
       "      <td>38.0</td>\n",
       "      <td>1</td>\n",
       "      <td>0</td>\n",
       "      <td>PC 17599</td>\n",
       "      <td>71.2833</td>\n",
       "      <td>C85</td>\n",
       "      <td>C</td>\n",
       "    </tr>\n",
       "    <tr>\n",
       "      <th>2</th>\n",
       "      <td>3</td>\n",
       "      <td>1</td>\n",
       "      <td>3</td>\n",
       "      <td>Heikkinen, Miss. Laina</td>\n",
       "      <td>female</td>\n",
       "      <td>26.0</td>\n",
       "      <td>0</td>\n",
       "      <td>0</td>\n",
       "      <td>STON/O2. 3101282</td>\n",
       "      <td>7.9250</td>\n",
       "      <td>NaN</td>\n",
       "      <td>S</td>\n",
       "    </tr>\n",
       "    <tr>\n",
       "      <th>3</th>\n",
       "      <td>4</td>\n",
       "      <td>1</td>\n",
       "      <td>1</td>\n",
       "      <td>Futrelle, Mrs. Jacques Heath (Lily May Peel)</td>\n",
       "      <td>female</td>\n",
       "      <td>35.0</td>\n",
       "      <td>1</td>\n",
       "      <td>0</td>\n",
       "      <td>113803</td>\n",
       "      <td>53.1000</td>\n",
       "      <td>C123</td>\n",
       "      <td>S</td>\n",
       "    </tr>\n",
       "    <tr>\n",
       "      <th>4</th>\n",
       "      <td>5</td>\n",
       "      <td>0</td>\n",
       "      <td>3</td>\n",
       "      <td>Allen, Mr. William Henry</td>\n",
       "      <td>male</td>\n",
       "      <td>35.0</td>\n",
       "      <td>0</td>\n",
       "      <td>0</td>\n",
       "      <td>373450</td>\n",
       "      <td>8.0500</td>\n",
       "      <td>NaN</td>\n",
       "      <td>S</td>\n",
       "    </tr>\n",
       "  </tbody>\n",
       "</table>\n",
       "</div>"
      ],
      "text/plain": [
       "   PassengerId  Survived  Pclass  \\\n",
       "0            1         0       3   \n",
       "1            2         1       1   \n",
       "2            3         1       3   \n",
       "3            4         1       1   \n",
       "4            5         0       3   \n",
       "\n",
       "                                                Name     Sex   Age  SibSp  \\\n",
       "0                            Braund, Mr. Owen Harris    male  22.0      1   \n",
       "1  Cumings, Mrs. John Bradley (Florence Briggs Th...  female  38.0      1   \n",
       "2                             Heikkinen, Miss. Laina  female  26.0      0   \n",
       "3       Futrelle, Mrs. Jacques Heath (Lily May Peel)  female  35.0      1   \n",
       "4                           Allen, Mr. William Henry    male  35.0      0   \n",
       "\n",
       "   Parch            Ticket     Fare Cabin Embarked  \n",
       "0      0         A/5 21171   7.2500   NaN        S  \n",
       "1      0          PC 17599  71.2833   C85        C  \n",
       "2      0  STON/O2. 3101282   7.9250   NaN        S  \n",
       "3      0            113803  53.1000  C123        S  \n",
       "4      0            373450   8.0500   NaN        S  "
      ]
     },
     "execution_count": 2,
     "metadata": {},
     "output_type": "execute_result"
    }
   ],
   "source": [
    "# Câu 1: \n",
    "# a) Đọc dữ liệu từ tập tin train.csv và lưu vào biến titanic.  \n",
    "titanic = pd.read_csv(r'data\\train.csv', sep = ',')\n",
    "# Hiển thị 5 dòng dữ liệu đầu của titanic\n",
    "titanic.head()"
   ]
  },
  {
   "cell_type": "code",
   "execution_count": 3,
   "metadata": {},
   "outputs": [],
   "source": [
    "# b) Thiết lập cột index cho titanic là PassengerId. \n",
    "# Hiển thị lại 5 dòng dữ liệu đầu của titanic lúc này.\n",
    "titanic.set_index('PassengerId', inplace=True)"
   ]
  },
  {
   "cell_type": "code",
   "execution_count": 4,
   "metadata": {},
   "outputs": [
    {
     "data": {
      "text/html": [
       "<div>\n",
       "<style scoped>\n",
       "    .dataframe tbody tr th:only-of-type {\n",
       "        vertical-align: middle;\n",
       "    }\n",
       "\n",
       "    .dataframe tbody tr th {\n",
       "        vertical-align: top;\n",
       "    }\n",
       "\n",
       "    .dataframe thead th {\n",
       "        text-align: right;\n",
       "    }\n",
       "</style>\n",
       "<table border=\"1\" class=\"dataframe\">\n",
       "  <thead>\n",
       "    <tr style=\"text-align: right;\">\n",
       "      <th></th>\n",
       "      <th>Survived</th>\n",
       "      <th>Pclass</th>\n",
       "      <th>Name</th>\n",
       "      <th>Sex</th>\n",
       "      <th>Age</th>\n",
       "      <th>SibSp</th>\n",
       "      <th>Parch</th>\n",
       "      <th>Ticket</th>\n",
       "      <th>Fare</th>\n",
       "      <th>Cabin</th>\n",
       "      <th>Embarked</th>\n",
       "    </tr>\n",
       "    <tr>\n",
       "      <th>PassengerId</th>\n",
       "      <th></th>\n",
       "      <th></th>\n",
       "      <th></th>\n",
       "      <th></th>\n",
       "      <th></th>\n",
       "      <th></th>\n",
       "      <th></th>\n",
       "      <th></th>\n",
       "      <th></th>\n",
       "      <th></th>\n",
       "      <th></th>\n",
       "    </tr>\n",
       "  </thead>\n",
       "  <tbody>\n",
       "    <tr>\n",
       "      <th>1</th>\n",
       "      <td>0</td>\n",
       "      <td>3</td>\n",
       "      <td>Braund, Mr. Owen Harris</td>\n",
       "      <td>male</td>\n",
       "      <td>22.0</td>\n",
       "      <td>1</td>\n",
       "      <td>0</td>\n",
       "      <td>A/5 21171</td>\n",
       "      <td>7.2500</td>\n",
       "      <td>NaN</td>\n",
       "      <td>S</td>\n",
       "    </tr>\n",
       "    <tr>\n",
       "      <th>2</th>\n",
       "      <td>1</td>\n",
       "      <td>1</td>\n",
       "      <td>Cumings, Mrs. John Bradley (Florence Briggs Th...</td>\n",
       "      <td>female</td>\n",
       "      <td>38.0</td>\n",
       "      <td>1</td>\n",
       "      <td>0</td>\n",
       "      <td>PC 17599</td>\n",
       "      <td>71.2833</td>\n",
       "      <td>C85</td>\n",
       "      <td>C</td>\n",
       "    </tr>\n",
       "    <tr>\n",
       "      <th>3</th>\n",
       "      <td>1</td>\n",
       "      <td>3</td>\n",
       "      <td>Heikkinen, Miss. Laina</td>\n",
       "      <td>female</td>\n",
       "      <td>26.0</td>\n",
       "      <td>0</td>\n",
       "      <td>0</td>\n",
       "      <td>STON/O2. 3101282</td>\n",
       "      <td>7.9250</td>\n",
       "      <td>NaN</td>\n",
       "      <td>S</td>\n",
       "    </tr>\n",
       "    <tr>\n",
       "      <th>4</th>\n",
       "      <td>1</td>\n",
       "      <td>1</td>\n",
       "      <td>Futrelle, Mrs. Jacques Heath (Lily May Peel)</td>\n",
       "      <td>female</td>\n",
       "      <td>35.0</td>\n",
       "      <td>1</td>\n",
       "      <td>0</td>\n",
       "      <td>113803</td>\n",
       "      <td>53.1000</td>\n",
       "      <td>C123</td>\n",
       "      <td>S</td>\n",
       "    </tr>\n",
       "    <tr>\n",
       "      <th>5</th>\n",
       "      <td>0</td>\n",
       "      <td>3</td>\n",
       "      <td>Allen, Mr. William Henry</td>\n",
       "      <td>male</td>\n",
       "      <td>35.0</td>\n",
       "      <td>0</td>\n",
       "      <td>0</td>\n",
       "      <td>373450</td>\n",
       "      <td>8.0500</td>\n",
       "      <td>NaN</td>\n",
       "      <td>S</td>\n",
       "    </tr>\n",
       "  </tbody>\n",
       "</table>\n",
       "</div>"
      ],
      "text/plain": [
       "             Survived  Pclass  \\\n",
       "PassengerId                     \n",
       "1                   0       3   \n",
       "2                   1       1   \n",
       "3                   1       3   \n",
       "4                   1       1   \n",
       "5                   0       3   \n",
       "\n",
       "                                                          Name     Sex   Age  \\\n",
       "PassengerId                                                                    \n",
       "1                                      Braund, Mr. Owen Harris    male  22.0   \n",
       "2            Cumings, Mrs. John Bradley (Florence Briggs Th...  female  38.0   \n",
       "3                                       Heikkinen, Miss. Laina  female  26.0   \n",
       "4                 Futrelle, Mrs. Jacques Heath (Lily May Peel)  female  35.0   \n",
       "5                                     Allen, Mr. William Henry    male  35.0   \n",
       "\n",
       "             SibSp  Parch            Ticket     Fare Cabin Embarked  \n",
       "PassengerId                                                          \n",
       "1                1      0         A/5 21171   7.2500   NaN        S  \n",
       "2                1      0          PC 17599  71.2833   C85        C  \n",
       "3                0      0  STON/O2. 3101282   7.9250   NaN        S  \n",
       "4                1      0            113803  53.1000  C123        S  \n",
       "5                0      0            373450   8.0500   NaN        S  "
      ]
     },
     "execution_count": 4,
     "metadata": {},
     "output_type": "execute_result"
    }
   ],
   "source": [
    "titanic.head()"
   ]
  },
  {
   "cell_type": "code",
   "execution_count": 5,
   "metadata": {},
   "outputs": [
    {
     "data": {
      "image/png": "[encoded data removed]",
      "text/plain": [
       "<Figure size 432x288 with 1 Axes>"
      ]
     },
     "metadata": {},
     "output_type": "display_data"
    }
   ],
   "source": [
    "# Câu 2: Tạo pie chart thể hiện tỷ lệ hành khách nam/nữ trên tàu.\n",
    "'''\n",
    "Gợi ý:\n",
    "- Tạo biến males, female là tổng nam và tổng nữ. \n",
    "- Tạo biến proportions là list có 2 phần tử là male và female\n",
    "- Vẽ biểu đồ: với dữ liệu là proportions, nhãn là ['Males', 'Female'], \n",
    "    màu là ['green', 'magenta']\n",
    "- Thiết lập title là Sex Proportion\n",
    "'''\n",
    "\n",
    "# Tạo biến males, female là tổng nam và tổng nữ\n",
    "males = (titanic['Sex'] == 'male').sum()\n",
    "females = (titanic['Sex'] == 'female').sum()\n",
    "\n",
    "# Tạo biến proportions là list có 2 phần tử là male và female\n",
    "proportions = [males, females]\n",
    "\n",
    "# Vẽ biểu đồ\n",
    "plt.pie(proportions, labels = ['Males', 'Females'], shadow = False, \n",
    "        colors = ['green','magenta'], \n",
    "        explode = (0.05 , 0), startangle = 90, autopct = '%1.1f%%')\n",
    "\n",
    "plt.axis('off')\n",
    "\n",
    "# Thiết lập title là Sex Proportion\n",
    "plt.title(\"Sex Proportion\")\n",
    "\n",
    "# Show the plot\n",
    "plt.show()"
   ]
  },
  {
   "cell_type": "code",
   "execution_count": 6,
   "metadata": {},
   "outputs": [],
   "source": [
    "# Câu 3: Cho biết có bao nhiêu người còn sống sót\n"
   ]
  },
  {
   "cell_type": "code",
   "execution_count": 7,
   "metadata": {},
   "outputs": [],
   "source": [
    "# Câu 4a: Vẽ biểu đồ histogram của cột vé (Fare), \n",
    "# bổ sung các thông tin xlabel, ylabel, title\n",
    "# Bạn nhận xét gì về biểu đồ vừa vẽ\n"
   ]
  },
  {
   "cell_type": "markdown",
   "metadata": {},
   "source": [
    "<details>\n",
    "  <summary style='color:#FD6504; font-size:14px'>Nhấn vào đây để xem kết quả!</summary>\n",
    "<img src=\"data:image/png;base64,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\n",
    "\">\n",
    "</details>"
   ]
  },
  {
   "cell_type": "code",
   "execution_count": 8,
   "metadata": {},
   "outputs": [],
   "source": [
    "# Câu 4b: Vẽ biểu đồ histogram của cột vé (Fare)\n",
    "# Bạn nhận xét gì về biểu đồ vừa vẽ\n",
    "'''\n",
    "Gợi ý:\n",
    "- Tạo binsVal = np.arange(0,600,10)\n",
    "- Vẽ histogram với dữ liệu là titanic, bins = binsVal. \n",
    "- Bổ sung các thông tin xlabel, ylabel, title\n",
    "'''\n",
    "# Tạo binsVal = np.arange(0,600,10)\n",
    "binsVal = np.arange(0,600,10)\n"
   ]
  },
  {
   "cell_type": "markdown",
   "metadata": {},
   "source": [
    "<details>\n",
    "  <summary style='color:#FD6504; font-size:14px'>Nhấn vào đây để xem kết quả!</summary>\n",
    "<img src=\"data:image/png;base64,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\n",
    "\">\n",
    "</details>"
   ]
  },
  {
   "cell_type": "code",
   "execution_count": 9,
   "metadata": {},
   "outputs": [],
   "source": [
    "# Câu 5a: xem thông tin mô tả (describe) của biến Fare và vẽ biểu đồ Boxplot\n"
   ]
  },
  {
   "cell_type": "code",
   "execution_count": 10,
   "metadata": {},
   "outputs": [],
   "source": [
    "# Câu 5b: vẽ biểu đồ Barplot thể hiện tổng số hành khách trong mỗi class\n"
   ]
  },
  {
   "cell_type": "code",
   "execution_count": 11,
   "metadata": {},
   "outputs": [],
   "source": [
    "# Câu 5c: vẽ biểu đồ Barplot \n",
    "# thể hiện tổng số hành khách tính theo tỷ lệ trong mỗi class\n"
   ]
  },
  {
   "cell_type": "code",
   "execution_count": 12,
   "metadata": {},
   "outputs": [],
   "source": [
    "# Câu 5d: vẽ biểu đồ Barplot thể hiện tuổi trung bình theo Nam/Nữ\n"
   ]
  },
  {
   "cell_type": "code",
   "execution_count": 13,
   "metadata": {},
   "outputs": [],
   "source": [
    "# Câu 5e: vẽ biểu đồ Barplot thể hiện tuổi trung bình theo class\n"
   ]
  },
  {
   "cell_type": "code",
   "execution_count": 14,
   "metadata": {},
   "outputs": [],
   "source": [
    "# Câu 5f: vẽ biểu đồ Barplot thể hiện tổng số hành khách và số chết trong mỗi class\n"
   ]
  },
  {
   "cell_type": "markdown",
   "metadata": {},
   "source": [
    "<details>\n",
    "  <summary style='color:#FD6504; font-size:14px'>Nhấn vào đây để xem kết quả!</summary>\n",
    "<img src=\"data:image/png;base64,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\n",
    "\">\n",
    "</details>"
   ]
  },
  {
   "cell_type": "code",
   "execution_count": 15,
   "metadata": {},
   "outputs": [],
   "source": [
    "# Câu 5g: vẽ biểu đồ StackedBar thể hiện tổng số hành khách Nam/Nữ theo mỗi class\n"
   ]
  },
  {
   "cell_type": "markdown",
   "metadata": {},
   "source": [
    "<details>\n",
    "  <summary style='color:#FD6504; font-size:14px'>Nhấn vào đây để xem kết quả!</summary>\n",
    "<img src=\"data:image/png;base64,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\n",
    "\">\n",
    "</details>"
   ]
  },
  {
   "cell_type": "code",
   "execution_count": null,
   "metadata": {},
   "outputs": [],
   "source": []
  }
 ],
 "metadata": {
  "kernelspec": {
   "display_name": "Python 3",
   "language": "python",
   "name": "python3"
  },
  "language_info": {
   "codemirror_mode": {
    "name": "ipython",
    "version": 3
   },
   "file_extension": ".py",
   "mimetype": "text/x-python",
   "name": "python",
   "nbconvert_exporter": "python",
   "pygments_lexer": "ipython3",
   "version": "3.9.2"
  }
 },
 "nbformat": 4,
 "nbformat_minor": 1
}
