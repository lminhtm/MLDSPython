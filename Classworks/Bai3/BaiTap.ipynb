{
 "cells": [
  {
   "cell_type": "markdown",
   "metadata": {},
   "source": [
    "# Bai Tap"
   ]
  },
  {
   "cell_type": "markdown",
   "metadata": {},
   "source": [
    "## 1.a"
   ]
  },
  {
   "cell_type": "code",
   "execution_count": 1,
   "metadata": {},
   "outputs": [
    {
     "name": "stdout",
     "output_type": "stream",
     "text": [
      "[0 1 2 3 4 5 6 7 8 9]\n",
      "<class 'numpy.ndarray'>\n",
      "(10,)\n",
      "int32\n"
     ]
    }
   ],
   "source": [
    "import numpy as np\n",
    "arr = np.arange(10)\n",
    "print(arr)\n",
    "print(type(arr))\n",
    "print(arr.shape)\n",
    "print(arr.dtype)"
   ]
  },
  {
   "cell_type": "code",
   "execution_count": 2,
   "metadata": {},
   "outputs": [
    {
     "name": "stdout",
     "output_type": "stream",
     "text": [
      "[1 3 5 7 9]\n",
      "[0 2 4 6 8]\n"
     ]
    }
   ],
   "source": [
    "arr_odd = arr[arr%2!=0]\n",
    "arr_even = arr[arr%2==0]\n",
    "print(arr_odd)\n",
    "print(arr_even)"
   ]
  },
  {
   "cell_type": "code",
   "execution_count": 3,
   "metadata": {},
   "outputs": [
    {
     "name": "stdout",
     "output_type": "stream",
     "text": [
      "[  0 100   2 100   4 100   6 100   8 100]\n"
     ]
    }
   ],
   "source": [
    "arr_update_1 = arr.copy()\n",
    "arr_update_1[arr_update_1 % 2 != 0] = 100\n",
    "print(arr_update_1)"
   ]
  },
  {
   "cell_type": "markdown",
   "metadata": {},
   "source": [
    "## 1.b"
   ]
  },
  {
   "cell_type": "code",
   "execution_count": 6,
   "metadata": {},
   "outputs": [
    {
     "name": "stdout",
     "output_type": "stream",
     "text": [
      "[2 4]\n",
      "[1 3 5 6]\n"
     ]
    }
   ],
   "source": [
    "arr_a = np.array([1,2,3,2,3,4,3,4,5,6])\n",
    "arr_b = np.array([7,2,10,2,7,4,9,4,9,8])\n",
    "arr_c = np.intersect1d(arr_a, arr_b)\n",
    "print(arr_c)\n",
    "arr_d = np.setdiff1d(arr_a, arr_b)\n",
    "print(arr_d)"
   ]
  },
  {
   "cell_type": "code",
   "execution_count": 7,
   "metadata": {},
   "outputs": [
    {
     "name": "stdout",
     "output_type": "stream",
     "text": [
      "[ 6  9 10  8  6]\n"
     ]
    }
   ],
   "source": [
    "arr_e = np.array([2, 6, 1, 9, 10, 3, 27, 8, 6, 25, 16])\n",
    "arr_f = arr_e[(arr_e >= 5) & (arr_e <= 10)]\n",
    "print(arr_f)"
   ]
  },
  {
   "cell_type": "markdown",
   "metadata": {},
   "source": [
    "## 1.c"
   ]
  },
  {
   "cell_type": "code",
   "execution_count": 9,
   "metadata": {},
   "outputs": [
    {
     "name": "stdout",
     "output_type": "stream",
     "text": [
      "[0. 0. 0. 0. 1. 0. 0. 0. 0. 0.]\n"
     ]
    }
   ],
   "source": [
    "arr_zeros = np.zeros(10)\n",
    "arr_zeros[4] = 1\n",
    "print(arr_zeros)"
   ]
  },
  {
   "cell_type": "code",
   "execution_count": 12,
   "metadata": {},
   "outputs": [
    {
     "name": "stdout",
     "output_type": "stream",
     "text": [
      "[24 23 22 21 20 19 18 17 16 15 14 13 12 11 10]\n"
     ]
    }
   ],
   "source": [
    "arr_h = np.linspace(10, 24, 15, dtype=\"int\")\n",
    "print(arr_h[::-1])"
   ]
  },
  {
   "cell_type": "code",
   "execution_count": 13,
   "metadata": {},
   "outputs": [
    {
     "name": "stdout",
     "output_type": "stream",
     "text": [
      "[1 2 8 2 1 3 5]\n"
     ]
    }
   ],
   "source": [
    "arr_k = np.array([1, 2, 0, 8, 2, 0, 1, 3, 0, 5, 0])\n",
    "arr_l = arr_k[arr_k != 0]\n",
    "print(arr_l)"
   ]
  },
  {
   "cell_type": "code",
   "execution_count": 15,
   "metadata": {},
   "outputs": [
    {
     "name": "stdout",
     "output_type": "stream",
     "text": [
      "[ 1  2  0  8  2  0  1  3  0  5  0 10 20]\n"
     ]
    }
   ],
   "source": [
    "arr_k = np.append(arr_k, [10,20])\n",
    "print(arr_k)"
   ]
  },
  {
   "cell_type": "code",
   "execution_count": 16,
   "metadata": {},
   "outputs": [
    {
     "name": "stdout",
     "output_type": "stream",
     "text": [
      "[  1   2   0   8   2 100   0   1   3   0   5   0  10  20]\n"
     ]
    }
   ],
   "source": [
    "arr_k = np.insert(arr_k, 5 , 100)\n",
    "print(arr_k)"
   ]
  },
  {
   "cell_type": "code",
   "execution_count": 17,
   "metadata": {},
   "outputs": [
    {
     "name": "stdout",
     "output_type": "stream",
     "text": [
      "[  8   2 100   0   1   3   0   5   0  10  20]\n"
     ]
    }
   ],
   "source": [
    "arr_k = np.delete(arr_k, [0, 1, 2])\n",
    "print(arr_k)"
   ]
  },
  {
   "cell_type": "markdown",
   "metadata": {},
   "source": [
    "## 2"
   ]
  },
  {
   "cell_type": "code",
   "execution_count": 21,
   "metadata": {},
   "outputs": [
    {
     "name": "stdout",
     "output_type": "stream",
     "text": [
      "[74 74 72 ... 75 75 73]\n",
      "[180 215 210 ... 205 190 195]\n"
     ]
    }
   ],
   "source": [
    "def get_data(fname):\n",
    "    f = open(fname)\n",
    "    data = f.read()\n",
    "    f.close()\n",
    "    return np.array(eval(data))\n",
    "arr_height = get_data('heights_1.txt')\n",
    "arr_weight = get_data('weights_1.txt')\n",
    "print(height)\n",
    "print(weight)"
   ]
  },
  {
   "cell_type": "code",
   "execution_count": 22,
   "metadata": {},
   "outputs": [
    {
     "name": "stdout",
     "output_type": "stream",
     "text": [
      "[1.8796 1.8796 1.8288 ... 1.905  1.905  1.8542]\n"
     ]
    }
   ],
   "source": [
    "arr_height_m = arr_height * 0.0254\n",
    "print(arr_height_m)"
   ]
  },
  {
   "cell_type": "code",
   "execution_count": 23,
   "metadata": {},
   "outputs": [
    {
     "name": "stdout",
     "output_type": "stream",
     "text": [
      "[81.64656 97.52228 95.25432 ... 92.98636 86.18248 88.45044]\n"
     ]
    }
   ],
   "source": [
    "arr_weight_kg = arr_weight *  0.453592\n",
    "print(arr_weight_kg)"
   ]
  },
  {
   "cell_type": "code",
   "execution_count": 25,
   "metadata": {},
   "outputs": [
    {
     "name": "stdout",
     "output_type": "stream",
     "text": [
      "[23.11037639 27.60406069 28.48080465 ... 25.62295933 23.74810865\n",
      " 25.72686361]\n"
     ]
    }
   ],
   "source": [
    "arr_bmi = arr_weight_kg / (arr_height_m * arr_height_m)\n",
    "print(arr_bmi)"
   ]
  },
  {
   "cell_type": "code",
   "execution_count": 26,
   "metadata": {},
   "outputs": [
    {
     "name": "stdout",
     "output_type": "stream",
     "text": [
      "90.7184\n"
     ]
    }
   ],
   "source": [
    "print(arr_weight_kg[50])"
   ]
  },
  {
   "cell_type": "code",
   "execution_count": 33,
   "metadata": {},
   "outputs": [
    {
     "name": "stdout",
     "output_type": "stream",
     "text": [
      "[1.8542 1.8796 1.8288 1.8542 1.7526 1.8288 1.8542 1.905  1.905  1.8542\n",
      " 1.8288]\n"
     ]
    }
   ],
   "source": [
    "arr_height_m_100 = arr_height_m[100:110+1]\n",
    "print(arr_height_m_100)"
   ]
  },
  {
   "cell_type": "code",
   "execution_count": 28,
   "metadata": {},
   "outputs": [
    {
     "name": "stdout",
     "output_type": "stream",
     "text": [
      "[20.54255679 20.54255679 20.69282047 20.69282047 20.34343189 20.34343189\n",
      " 20.69282047 20.15883472 19.4984471  20.69282047 20.9205219 ]\n"
     ]
    }
   ],
   "source": [
    "print(arr_bmi[arr_bmi < 21])"
   ]
  },
  {
   "cell_type": "code",
   "execution_count": 31,
   "metadata": {},
   "outputs": [
    {
     "name": "stdout",
     "output_type": "stream",
     "text": [
      "Chieu cao trung binh: 1.8717172413793102\n",
      "Can nang trung binh: 91.33019058916256\n",
      "Chieu cao lon nhat: 2.1082\n",
      "Can nang lon nhat: 131.54167999999999\n",
      "Chieu cao nho nhat: 1.7018\n",
      "Can nang nho nhat: 68.0388\n"
     ]
    }
   ],
   "source": [
    "print(\"Chieu cao trung binh:\", np.mean(arr_height_m))\n",
    "print(\"Can nang trung binh:\", np.mean(arr_weight_kg))\n",
    "print(\"Chieu cao lon nhat:\", np.max(arr_height_m))\n",
    "print(\"Can nang lon nhat:\", np.max(arr_weight_kg))\n",
    "print(\"Chieu cao nho nhat:\", np.min(arr_height_m))\n",
    "print(\"Can nang nho nhat:\", np.min(arr_weight_kg))"
   ]
  },
  {
   "cell_type": "code",
   "execution_count": 46,
   "metadata": {},
   "outputs": [
    {
     "name": "stdout",
     "output_type": "stream",
     "text": [
      "909\n",
      "2.1082\n"
     ]
    }
   ],
   "source": [
    "max = np.max(arr_height_m)\n",
    "indexs = np.where(arr_height_m == max)\n",
    "print(indexs[0][0])\n",
    "print(max)"
   ]
  },
  {
   "cell_type": "code",
   "execution_count": 44,
   "metadata": {},
   "outputs": [
    {
     "name": "stdout",
     "output_type": "stream",
     "text": [
      "[1.7018 1.7018 1.7272 ... 2.0828 2.0828 2.1082]\n",
      "[2.1082 2.0828 2.0828 ... 1.7272 1.7018 1.7018]\n"
     ]
    }
   ],
   "source": [
    "print(np.sort(arr_height_m))\n",
    "print(np.sort(arr_height_m)[::-1])"
   ]
  },
  {
   "cell_type": "code",
   "execution_count": null,
   "metadata": {},
   "outputs": [],
   "source": []
  }
 ],
 "metadata": {
  "kernelspec": {
   "display_name": "Python 3",
   "language": "python",
   "name": "python3"
  },
  "language_info": {
   "codemirror_mode": {
    "name": "ipython",
    "version": 3
   },
   "file_extension": ".py",
   "mimetype": "text/x-python",
   "name": "python",
   "nbconvert_exporter": "python",
   "pygments_lexer": "ipython3",
   "version": "3.6.8"
  }
 },
 "nbformat": 4,
 "nbformat_minor": 4
}
