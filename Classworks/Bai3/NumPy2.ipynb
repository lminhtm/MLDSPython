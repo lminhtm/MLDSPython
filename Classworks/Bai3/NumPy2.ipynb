{
 "cells": [
  {
   "cell_type": "markdown",
   "id": "567daafa",
   "metadata": {},
   "source": [
    "# Mảng nhiều chiều NumPy"
   ]
  },
  {
   "cell_type": "code",
   "execution_count": 30,
   "id": "f567ceea",
   "metadata": {},
   "outputs": [],
   "source": [
    "import numpy as np"
   ]
  },
  {
   "cell_type": "markdown",
   "id": "c746f98a",
   "metadata": {},
   "source": [
    "## 1. Khởi tạo"
   ]
  },
  {
   "cell_type": "markdown",
   "id": "5344d2ee",
   "metadata": {},
   "source": [
    "### 1.1. Khởi tạo từ list"
   ]
  },
  {
   "cell_type": "code",
   "execution_count": 34,
   "id": "3d5afde3",
   "metadata": {},
   "outputs": [
    {
     "name": "stdout",
     "output_type": "stream",
     "text": [
      "a: [[38 13 73]\n",
      " [10 76  6]\n",
      " [80 65 17]\n",
      " [ 2 77 72]\n",
      " [ 7 26 51]] \n",
      "item type: int64 - ndim: 2 - shape: (5, 3) - item size: 8\n"
     ]
    }
   ],
   "source": [
    "a = np.array([[38, 13, 73],\n",
    "       [10, 76,  6],\n",
    "       [80, 65, 17],\n",
    "       [ 2, 77, 72],\n",
    "       [ 7, 26, 51]])\n",
    "print(\"a:\", a, \"\\nitem type:\", a.dtype, \"- ndim:\", a.ndim, \"- shape:\", a.shape, \"- item size:\", a.itemsize)"
   ]
  },
  {
   "cell_type": "markdown",
   "id": "36e903fc",
   "metadata": {},
   "source": [
    "### 1.2. Các hàm builder"
   ]
  },
  {
   "cell_type": "code",
   "execution_count": 25,
   "id": "841f9b24",
   "metadata": {
    "scrolled": true
   },
   "outputs": [
    {
     "data": {
      "text/plain": [
       "array([[0., 0., 0.],\n",
       "       [0., 0., 0.],\n",
       "       [0., 0., 0.]])"
      ]
     },
     "execution_count": 25,
     "metadata": {},
     "output_type": "execute_result"
    }
   ],
   "source": [
    "# Matrix builder zeros\n",
    "np.zeros((3,3))"
   ]
  },
  {
   "cell_type": "code",
   "execution_count": 26,
   "id": "c31182b1",
   "metadata": {},
   "outputs": [
    {
     "data": {
      "text/plain": [
       "array([[1., 1., 1.],\n",
       "       [1., 1., 1.],\n",
       "       [1., 1., 1.]])"
      ]
     },
     "execution_count": 26,
     "metadata": {},
     "output_type": "execute_result"
    }
   ],
   "source": [
    "# Matrix builder ones\n",
    "np.ones((3,3))"
   ]
  },
  {
   "cell_type": "code",
   "execution_count": 27,
   "id": "1fdb0fe8",
   "metadata": {},
   "outputs": [
    {
     "data": {
      "text/plain": [
       "array([[10, 10, 10],\n",
       "       [10, 10, 10],\n",
       "       [10, 10, 10]])"
      ]
     },
     "execution_count": 27,
     "metadata": {},
     "output_type": "execute_result"
    }
   ],
   "source": [
    "# Matrix builder custom\n",
    "np.full(shape=(3,3), fill_value=10)"
   ]
  },
  {
   "cell_type": "markdown",
   "id": "c26cfd60",
   "metadata": {},
   "source": [
    "## 2. Truy xuất phần tử"
   ]
  },
  {
   "cell_type": "markdown",
   "id": "6473af01",
   "metadata": {},
   "source": [
    "### 2.1. Truy xuất theo dòng, cột"
   ]
  },
  {
   "cell_type": "code",
   "execution_count": 3,
   "id": "290770e8",
   "metadata": {},
   "outputs": [
    {
     "data": {
      "text/plain": [
       "76"
      ]
     },
     "execution_count": 3,
     "metadata": {},
     "output_type": "execute_result"
    }
   ],
   "source": [
    "# Dòng 1, cột 1\n",
    "a[1][1]\n",
    "a[1,1]"
   ]
  },
  {
   "cell_type": "code",
   "execution_count": 4,
   "id": "19cd2150",
   "metadata": {},
   "outputs": [
    {
     "data": {
      "text/plain": [
       "51"
      ]
     },
     "execution_count": 4,
     "metadata": {},
     "output_type": "execute_result"
    }
   ],
   "source": [
    "# Dòng cuối, cột cuối\n",
    "a[-1,-1]"
   ]
  },
  {
   "cell_type": "markdown",
   "id": "3106c653",
   "metadata": {},
   "source": [
    "### 2.2. Truy xuất nhiều phần tử\n",
    "`[start:stop, start:stop]`</br>\n",
    "`[[indexes], [indexes]]`"
   ]
  },
  {
   "cell_type": "code",
   "execution_count": 6,
   "id": "43730f08",
   "metadata": {},
   "outputs": [
    {
     "data": {
      "text/plain": [
       "array([10, 76,  6])"
      ]
     },
     "execution_count": 6,
     "metadata": {},
     "output_type": "execute_result"
    }
   ],
   "source": [
    "# Dòng 1\n",
    "a[1,:]\n",
    "a[1]"
   ]
  },
  {
   "cell_type": "code",
   "execution_count": 7,
   "id": "7878147e",
   "metadata": {},
   "outputs": [
    {
     "data": {
      "text/plain": [
       "array([73,  6, 17, 72, 51])"
      ]
     },
     "execution_count": 7,
     "metadata": {},
     "output_type": "execute_result"
    }
   ],
   "source": [
    "# Cột 2\n",
    "a[:,2]"
   ]
  },
  {
   "cell_type": "code",
   "execution_count": 8,
   "id": "de345eed",
   "metadata": {},
   "outputs": [
    {
     "data": {
      "text/plain": [
       "array([[10, 76,  6],\n",
       "       [80, 65, 17],\n",
       "       [ 2, 77, 72]])"
      ]
     },
     "execution_count": 8,
     "metadata": {},
     "output_type": "execute_result"
    }
   ],
   "source": [
    "# Dòng 1->3\n",
    "a[1:4,:]"
   ]
  },
  {
   "cell_type": "code",
   "execution_count": 35,
   "id": "40de8e33",
   "metadata": {},
   "outputs": [
    {
     "data": {
      "text/plain": [
       "array([[38, 13],\n",
       "       [10, 76],\n",
       "       [80, 65],\n",
       "       [ 2, 77],\n",
       "       [ 7, 26]])"
      ]
     },
     "execution_count": 35,
     "metadata": {},
     "output_type": "execute_result"
    }
   ],
   "source": [
    "# 2 cột đầu\n",
    "a[:,:2]"
   ]
  },
  {
   "cell_type": "code",
   "execution_count": 37,
   "id": "1fa982eb",
   "metadata": {},
   "outputs": [
    {
     "data": {
      "text/plain": [
       "array([[13, 73],\n",
       "       [76,  6],\n",
       "       [65, 17],\n",
       "       [77, 72],\n",
       "       [26, 51]])"
      ]
     },
     "execution_count": 37,
     "metadata": {},
     "output_type": "execute_result"
    }
   ],
   "source": [
    "# 2 cột cuối\n",
    "a[:,-2:]"
   ]
  },
  {
   "cell_type": "code",
   "execution_count": 9,
   "id": "d253cb2b",
   "metadata": {},
   "outputs": [
    {
     "data": {
      "text/plain": [
       "array([[65, 17],\n",
       "       [77, 72]])"
      ]
     },
     "execution_count": 9,
     "metadata": {},
     "output_type": "execute_result"
    }
   ],
   "source": [
    "# Lấy phần tử 65, 17, 77, 72\n",
    "a[2:4,1:]"
   ]
  },
  {
   "cell_type": "code",
   "execution_count": 10,
   "id": "52d7a829",
   "metadata": {},
   "outputs": [
    {
     "data": {
      "text/plain": [
       "array([[10,  6],\n",
       "       [ 2, 72]])"
      ]
     },
     "execution_count": 10,
     "metadata": {},
     "output_type": "execute_result"
    }
   ],
   "source": [
    "# Lấy phần tử 10, 6, 2, 72\n",
    "a[1::2,::2]"
   ]
  },
  {
   "cell_type": "markdown",
   "id": "012b1832",
   "metadata": {},
   "source": [
    "### 2.3. Truy xuất theo điều kiện"
   ]
  },
  {
   "cell_type": "code",
   "execution_count": 11,
   "id": "0d35b62d",
   "metadata": {},
   "outputs": [
    {
     "data": {
      "text/plain": [
       "array([38, 10, 76,  6, 80,  2, 72, 26])"
      ]
     },
     "execution_count": 11,
     "metadata": {},
     "output_type": "execute_result"
    }
   ],
   "source": [
    "# Phần tử chia hết cho 2\n",
    "a[a % 2 == 0]"
   ]
  },
  {
   "cell_type": "code",
   "execution_count": 12,
   "id": "9c557066",
   "metadata": {},
   "outputs": [
    {
     "data": {
      "text/plain": [
       "array([76, 80, 72])"
      ]
     },
     "execution_count": 12,
     "metadata": {},
     "output_type": "execute_result"
    }
   ],
   "source": [
    "# Phần tử chia hết cho 2 và lớn hơn 70\n",
    "a[(a % 2 == 0) & (a > 70)]"
   ]
  },
  {
   "cell_type": "markdown",
   "id": "4edefcfd",
   "metadata": {},
   "source": [
    "### 2.4. Truy xuất mảng 3 chiều\n",
    "`tenmang[index ma tran, index dong, index cot]`"
   ]
  },
  {
   "cell_type": "code",
   "execution_count": 13,
   "id": "a8ee5193",
   "metadata": {},
   "outputs": [
    {
     "data": {
      "text/plain": [
       "array([[[38, 13, 73],\n",
       "        [10, 76,  6],\n",
       "        [80, 65, 17],\n",
       "        [ 2, 77, 72],\n",
       "        [ 7, 26, 51]],\n",
       "\n",
       "       [[21, 19, 85],\n",
       "        [12, 29, 30],\n",
       "        [15, 51, 69],\n",
       "        [88, 88, 95],\n",
       "        [97, 87, 14]]])"
      ]
     },
     "execution_count": 13,
     "metadata": {},
     "output_type": "execute_result"
    }
   ],
   "source": [
    "np.random.seed(1)\n",
    "b = np.random.randint(1, 101, size=(2,5,3))\n",
    "b"
   ]
  },
  {
   "cell_type": "code",
   "execution_count": 14,
   "id": "6d58abb6",
   "metadata": {},
   "outputs": [
    {
     "data": {
      "text/plain": [
       "76"
      ]
     },
     "execution_count": 14,
     "metadata": {},
     "output_type": "execute_result"
    }
   ],
   "source": [
    "# Ma trận 0, dòng 1, cột 1\n",
    "b[0,1,1]"
   ]
  },
  {
   "cell_type": "code",
   "execution_count": 15,
   "id": "61034f8e",
   "metadata": {},
   "outputs": [
    {
     "data": {
      "text/plain": [
       "array([[[21, 19, 85],\n",
       "        [12, 29, 30],\n",
       "        [15, 51, 69],\n",
       "        [88, 88, 95],\n",
       "        [97, 87, 14]]])"
      ]
     },
     "execution_count": 15,
     "metadata": {},
     "output_type": "execute_result"
    }
   ],
   "source": [
    "# Ma trận 1 trở đi\n",
    "b[1:]"
   ]
  },
  {
   "cell_type": "code",
   "execution_count": 16,
   "id": "ef08156e",
   "metadata": {},
   "outputs": [
    {
     "data": {
      "text/plain": [
       "array([[21, 19, 85],\n",
       "       [12, 29, 30],\n",
       "       [15, 51, 69],\n",
       "       [88, 88, 95],\n",
       "       [97, 87, 14]])"
      ]
     },
     "execution_count": 16,
     "metadata": {},
     "output_type": "execute_result"
    }
   ],
   "source": [
    "# Chỉ mỗi ma trận 1\n",
    "b[1]"
   ]
  },
  {
   "cell_type": "code",
   "execution_count": 17,
   "id": "9e0dd8d6",
   "metadata": {},
   "outputs": [
    {
     "data": {
      "text/plain": [
       "array([[[76,  6],\n",
       "        [65, 17]],\n",
       "\n",
       "       [[29, 30],\n",
       "        [51, 69]]])"
      ]
     },
     "execution_count": 17,
     "metadata": {},
     "output_type": "execute_result"
    }
   ],
   "source": [
    "# Lay phần tử 76, 6, 65, 17, 29, 30, 51, 69\n",
    "b[:,1:3,1:3]"
   ]
  },
  {
   "cell_type": "markdown",
   "id": "37fab360",
   "metadata": {},
   "source": [
    "## 3. Thao tác"
   ]
  },
  {
   "cell_type": "markdown",
   "id": "44c03d0a",
   "metadata": {},
   "source": [
    "### 3.1. Thêm dòng, cột vào ma trận\n",
    "**`np.insert`** or **`np.concatenate`**"
   ]
  },
  {
   "cell_type": "code",
   "execution_count": 18,
   "id": "fd38d478",
   "metadata": {},
   "outputs": [
    {
     "data": {
      "text/plain": [
       "array([[38, 13, 73],\n",
       "       [10, 76,  6],\n",
       "       [80, 65, 17],\n",
       "       [ 2, 77, 72],\n",
       "       [ 7, 26, 51],\n",
       "       [ 1,  2,  3]])"
      ]
     },
     "execution_count": 18,
     "metadata": {},
     "output_type": "execute_result"
    }
   ],
   "source": [
    "# Dùng insert, thêm [1, 2, 3] vào dòng 5\n",
    "np.insert(a, 5, [1, 2, 3], axis=0)"
   ]
  },
  {
   "cell_type": "code",
   "execution_count": 19,
   "id": "876c5033",
   "metadata": {},
   "outputs": [
    {
     "data": {
      "text/plain": [
       "array([[38, 13, 73,  0],\n",
       "       [10, 76,  6,  0],\n",
       "       [80, 65, 17,  0],\n",
       "       [ 2, 77, 72,  0],\n",
       "       [ 7, 26, 51,  0]])"
      ]
     },
     "execution_count": 19,
     "metadata": {},
     "output_type": "execute_result"
    }
   ],
   "source": [
    "# Dùng concatenate, thêm [[0, 0, 0, 0, 0]] vào cột cuối\n",
    "new_arr = np.array([[0, 0, 0, 0, 0]])\n",
    "np.concatenate([a, new_arr.T], axis=1)"
   ]
  },
  {
   "cell_type": "markdown",
   "id": "852c4e1f",
   "metadata": {},
   "source": [
    "### 3.2. Sửa giá trị trong ma trận"
   ]
  },
  {
   "cell_type": "code",
   "execution_count": 21,
   "id": "4ff8b90d",
   "metadata": {
    "scrolled": true
   },
   "outputs": [
    {
     "data": {
      "text/plain": [
       "array([[100,  13,  73],\n",
       "       [ 10,  76,   6],\n",
       "       [ 80,  65,  17],\n",
       "       [  2,  77,  72],\n",
       "       [  7,  26,  51]])"
      ]
     },
     "execution_count": 21,
     "metadata": {},
     "output_type": "execute_result"
    }
   ],
   "source": [
    "# Sửa dòng 0, cột 0 thành 100\n",
    "a[0,0] = 100\n",
    "a"
   ]
  },
  {
   "cell_type": "markdown",
   "id": "ba747245",
   "metadata": {},
   "source": [
    "### 3.3. Xóa phần tử trong ma trận"
   ]
  },
  {
   "cell_type": "code",
   "execution_count": 22,
   "id": "1f89b1ab",
   "metadata": {},
   "outputs": [
    {
     "data": {
      "text/plain": [
       "array([[100,  13],\n",
       "       [ 10,  76],\n",
       "       [ 80,  65],\n",
       "       [  2,  77],\n",
       "       [  7,  26]])"
      ]
     },
     "execution_count": 22,
     "metadata": {},
     "output_type": "execute_result"
    }
   ],
   "source": [
    "# Xóa cột cuối\n",
    "np.delete(a, -1, axis=1)"
   ]
  },
  {
   "cell_type": "markdown",
   "id": "8e2f6319",
   "metadata": {},
   "source": [
    "## 4. Thống kê"
   ]
  },
  {
   "cell_type": "code",
   "execution_count": 23,
   "id": "7c649e25",
   "metadata": {},
   "outputs": [
    {
     "name": "stdout",
     "output_type": "stream",
     "text": [
      "Min:  2\n",
      "Max:  100\n",
      "Mean:  45.0\n",
      "Standard Deviation:  33.06\n"
     ]
    }
   ],
   "source": [
    "print(\"Min: \", np.min(a))\n",
    "print(\"Max: \", np.max(a))\n",
    "print(\"Mean: \", round(np.mean(a), 2))\n",
    "print(\"Standard Deviation: \", round(np.std(a), 2))"
   ]
  },
  {
   "cell_type": "code",
   "execution_count": 24,
   "id": "f8057c7f",
   "metadata": {},
   "outputs": [
    {
     "name": "stdout",
     "output_type": "stream",
     "text": [
      "Min by column:  [ 2 13  6]\n",
      "Min by row:  [13  6 17  2  7]\n"
     ]
    }
   ],
   "source": [
    "print(\"Min by column: \", np.min(a, axis=0))\n",
    "print(\"Min by row: \", np.min(a, axis=1))"
   ]
  },
  {
   "cell_type": "markdown",
   "id": "686c1814",
   "metadata": {},
   "source": [
    "## 5. Sort & Tìm kiếm"
   ]
  },
  {
   "cell_type": "code",
   "execution_count": 46,
   "id": "6d8e4bdb",
   "metadata": {},
   "outputs": [
    {
     "data": {
      "text/plain": [
       "array([[13, 38, 73],\n",
       "       [ 6, 10, 76],\n",
       "       [17, 65, 80],\n",
       "       [ 2, 72, 77],\n",
       "       [ 7, 26, 51]])"
      ]
     },
     "execution_count": 46,
     "metadata": {},
     "output_type": "execute_result"
    }
   ],
   "source": [
    "# Sort tăng dần theo dòng\n",
    "np.sort(a, axis=1)"
   ]
  },
  {
   "cell_type": "code",
   "execution_count": 44,
   "id": "000ddb25",
   "metadata": {},
   "outputs": [
    {
     "name": "stdout",
     "output_type": "stream",
     "text": [
      "index: (array([0, 0, 0, 1, 1, 2, 2, 2, 3, 3, 4, 4]), array([0, 1, 2, 0, 1, 0, 1, 2, 1, 2, 1, 2]))\n",
      "value: [38 13 73 10 76 80 65 17 77 72 26 51]\n"
     ]
    }
   ],
   "source": [
    "# Tìm kiếm theo điều kiện\n",
    "index = np.where(a > 8)\n",
    "print(\"index:\", index)\n",
    "print(\"value:\", a[index])"
   ]
  },
  {
   "cell_type": "markdown",
   "id": "441a6b0c",
   "metadata": {},
   "source": [
    "## 6. Operator"
   ]
  },
  {
   "cell_type": "code",
   "execution_count": 47,
   "id": "cbebd684",
   "metadata": {},
   "outputs": [
    {
     "data": {
      "text/plain": [
       "array([[3, 4, 5],\n",
       "       [3, 3, 3]])"
      ]
     },
     "execution_count": 47,
     "metadata": {},
     "output_type": "execute_result"
    }
   ],
   "source": [
    "# Cộng\n",
    "c = np.array([[1, 2, 3], [1, 1, 1]])\n",
    "d = np.array([[2, 2, 2]])\n",
    "c + d"
   ]
  },
  {
   "cell_type": "markdown",
   "id": "8599a26f",
   "metadata": {},
   "source": [
    "## 7. Utils"
   ]
  },
  {
   "cell_type": "code",
   "execution_count": 51,
   "id": "e848d2b5",
   "metadata": {},
   "outputs": [
    {
     "data": {
      "text/plain": [
       "array([[2, 4],\n",
       "       [1, 1],\n",
       "       [4, 2]])"
      ]
     },
     "execution_count": 51,
     "metadata": {},
     "output_type": "execute_result"
    }
   ],
   "source": [
    "# Random low, high, size\n",
    "np.random.seed(1)\n",
    "np.random.randint(1, 5, size=(3,2))"
   ]
  },
  {
   "cell_type": "code",
   "execution_count": 57,
   "id": "cb63ccbc",
   "metadata": {},
   "outputs": [
    {
     "data": {
      "text/plain": [
       "array([[ 1,  2,  3],\n",
       "       [ 4,  5,  6],\n",
       "       [ 7,  8,  9],\n",
       "       [10, 11, 12]])"
      ]
     },
     "execution_count": 57,
     "metadata": {},
     "output_type": "execute_result"
    }
   ],
   "source": [
    "# Reshape đặt lại chiều cho mảng\n",
    "f = np.arange(1, 13)\n",
    "f.reshape(4, 3)"
   ]
  },
  {
   "cell_type": "code",
   "execution_count": 59,
   "id": "29909325",
   "metadata": {},
   "outputs": [
    {
     "data": {
      "text/plain": [
       "array([[ 1],\n",
       "       [ 2],\n",
       "       [ 3],\n",
       "       [ 4],\n",
       "       [ 5],\n",
       "       [ 6],\n",
       "       [ 7],\n",
       "       [ 8],\n",
       "       [ 9],\n",
       "       [10],\n",
       "       [11],\n",
       "       [12]])"
      ]
     },
     "execution_count": 59,
     "metadata": {},
     "output_type": "execute_result"
    }
   ],
   "source": [
    "# Reshape full dòng, 1 cột\n",
    "f.reshape(-1,1)"
   ]
  },
  {
   "cell_type": "code",
   "execution_count": 60,
   "id": "64166416",
   "metadata": {},
   "outputs": [
    {
     "data": {
      "text/plain": [
       "array([[ 1,  2,  3,  4,  5,  6,  7,  8,  9, 10, 11, 12]])"
      ]
     },
     "execution_count": 60,
     "metadata": {},
     "output_type": "execute_result"
    }
   ],
   "source": [
    "# Reshape 1 dòng, full cột\n",
    "f.reshape(1,-1)"
   ]
  },
  {
   "cell_type": "code",
   "execution_count": 61,
   "id": "56749b8b",
   "metadata": {},
   "outputs": [
    {
     "data": {
      "text/plain": [
       "array([ 1,  2,  3,  4,  5,  6,  7,  8,  9, 10, 11, 12])"
      ]
     },
     "execution_count": 61,
     "metadata": {},
     "output_type": "execute_result"
    }
   ],
   "source": [
    "# Reshape thành mảng 1 chiều\n",
    "f.reshape(-1)"
   ]
  }
 ],
 "metadata": {
  "kernelspec": {
   "display_name": "Python 3 (ipykernel)",
   "language": "python",
   "name": "python3"
  },
  "language_info": {
   "codemirror_mode": {
    "name": "ipython",
    "version": 3
   },
   "file_extension": ".py",
   "mimetype": "text/x-python",
   "name": "python",
   "nbconvert_exporter": "python",
   "pygments_lexer": "ipython3",
   "version": "3.9.13"
  }
 },
 "nbformat": 4,
 "nbformat_minor": 5
}
