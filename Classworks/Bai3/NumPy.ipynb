{
 "cells": [
  {
   "cell_type": "markdown",
   "metadata": {},
   "source": [
    "# Mang mot chieu"
   ]
  },
  {
   "cell_type": "markdown",
   "metadata": {},
   "source": [
    "## 1. Khai bao\n",
    "`dtype`: Kieu du lieu cua cac phan tu trong mang numpy <br>\n",
    "`size`: So phan tu <br>\n",
    "`ndim`: So chieu cua mang <br>\n",
    "`shape`: Kieu tuple, so chieu va so phan tu ung voi moi chieu <br>\n",
    "`itemsize`: Kich thuoc phan tu trong mang"
   ]
  },
  {
   "cell_type": "code",
   "execution_count": 1,
   "metadata": {},
   "outputs": [],
   "source": [
    "import numpy as np"
   ]
  },
  {
   "cell_type": "code",
   "execution_count": null,
   "metadata": {},
   "outputs": [],
   "source": [
    "a = np.array([1,2,3])\n",
    "print(\"a:\", a, \"Type of a:\", type(a), \"Item type:\", a.dtype)\n",
    "\n",
    "b = np.array([1, 2.3, 5])\n",
    "print(\"b:\", b, \"Type of b:\", type(b), \"Item type:\", b.dtype)\n",
    "\n",
    "c = np.array([1, 2.3, \"hi\"])\n",
    "print(\"c:\", c, \"Type of c:\", type(c), \"Item type:\", c.dtype)\n",
    "\n",
    "d = np.array([1,2,0], dtype=bool)\n",
    "print(\"d:\", d, \"Type of d:\", type(d), \"Item type:\", d.dtype)\n",
    "\n",
    "e = np.array([1,2,0], dtype=\"i1\")\n",
    "print(\"e:\", e, \"Type of e:\", type(e), \"Item type:\", e.dtype)\n",
    "\n",
    "print(\"Size:\", e.size, \"Shape:\", e.shape, \"ndim:\", e.ndim, \"item size:\", e.itemsize)"
   ]
  },
  {
   "cell_type": "code",
   "execution_count": 3,
   "metadata": {},
   "outputs": [
    {
     "name": "stdout",
     "output_type": "stream",
     "text": [
      "[ 1  2  3  4  5  6  7  8  9 10]\n"
     ]
    }
   ],
   "source": [
    "f = np.arange(1, 11)\n",
    "print(f)"
   ]
  },
  {
   "cell_type": "markdown",
   "metadata": {},
   "source": [
    "## 2. Truy xuat phan tu"
   ]
  },
  {
   "cell_type": "markdown",
   "metadata": {},
   "source": [
    "### 2.1. Truy xuat theo index"
   ]
  },
  {
   "cell_type": "code",
   "execution_count": null,
   "metadata": {},
   "outputs": [],
   "source": [
    "print(f[-1:-6:-1])\n",
    "print(f[-1:-4:-1])\n",
    "print(f[::-1]) # Invert\n",
    "\n",
    "indexs = [0, 1, 5]\n",
    "print(f[indexs])"
   ]
  },
  {
   "cell_type": "markdown",
   "metadata": {},
   "source": [
    "### 2.2. Truy xuat theo dieu kien"
   ]
  },
  {
   "cell_type": "code",
   "execution_count": null,
   "metadata": {},
   "outputs": [],
   "source": [
    "cond = f > 5\n",
    "print(cond)\n",
    "print(f[cond])\n",
    "\n",
    "print(f[f % 2 == 0])\n",
    "print(f[~(f % 2 == 0)])\n",
    "print(f[(f > 5) & (f < 9)])"
   ]
  },
  {
   "cell_type": "markdown",
   "metadata": {},
   "source": [
    "## 3. Cap nhat"
   ]
  },
  {
   "cell_type": "code",
   "execution_count": 6,
   "metadata": {},
   "outputs": [
    {
     "name": "stdout",
     "output_type": "stream",
     "text": [
      "[  1   2   3   4   5 100 100 100 100 100]\n",
      "[  1   2   3   4   5 101 101 101 101 101]\n"
     ]
    }
   ],
   "source": [
    "f[:-6:-1] = 100\n",
    "print(f)\n",
    "f[f>=100] = f[f>=100] + 1\n",
    "print(f)"
   ]
  },
  {
   "cell_type": "markdown",
   "metadata": {},
   "source": [
    "## 4. Them"
   ]
  },
  {
   "cell_type": "code",
   "execution_count": 8,
   "metadata": {},
   "outputs": [
    {
     "name": "stdout",
     "output_type": "stream",
     "text": [
      "[  1   2   3   4   5 101 101 101 101 101  10  20]\n",
      "[ 11  22   1   2   3   4   5 101 101 101 101 101]\n",
      "[  1  11   2   3  11   4   5 101 101 101 101 101]\n"
     ]
    }
   ],
   "source": [
    "f1 = np.append(f, [10, 20])\n",
    "print(f1)\n",
    "f2 = np.insert(f, 0, [11, 22])\n",
    "print(f2)\n",
    "f3 = np.insert(f, [1,3], [11])\n",
    "print(f3)"
   ]
  },
  {
   "cell_type": "markdown",
   "metadata": {},
   "source": [
    "## 5. Xoa"
   ]
  },
  {
   "cell_type": "code",
   "execution_count": 9,
   "metadata": {},
   "outputs": [
    {
     "name": "stdout",
     "output_type": "stream",
     "text": [
      "[  1   3   4   5 101 101 101 101 101]\n"
     ]
    }
   ],
   "source": [
    "f4 = np.delete(f, 1)\n",
    "print(f4)"
   ]
  },
  {
   "cell_type": "markdown",
   "metadata": {},
   "source": [
    "## 6. Thong ke"
   ]
  },
  {
   "cell_type": "code",
   "execution_count": 13,
   "metadata": {},
   "outputs": [
    {
     "name": "stdout",
     "output_type": "stream",
     "text": [
      "Sum: 520\n",
      "Min: 1\n",
      "Max: 101\n",
      "Mean: 52.0\n",
      "Median: 53.0\n",
      "std: 49.01020301937138\n"
     ]
    }
   ],
   "source": [
    "print(\"Sum:\", np.sum(f))\n",
    "print(\"Min:\", np.min(f))\n",
    "print(\"Max:\", np.max(f))\n",
    "print(\"Mean:\", np.mean(f))\n",
    "print(\"Median:\", np.median(f))\n",
    "print(\"std:\", np.std(f))"
   ]
  },
  {
   "cell_type": "markdown",
   "metadata": {},
   "source": [
    "## 7. Sort"
   ]
  },
  {
   "cell_type": "code",
   "execution_count": 15,
   "metadata": {},
   "outputs": [
    {
     "name": "stdout",
     "output_type": "stream",
     "text": [
      "Sort asc: [  1   2   3   4   5 101 101 101 101 101]\n",
      "Sort des: [101 101 101 101 101   5   4   3   2   1]\n"
     ]
    }
   ],
   "source": [
    "print(\"Sort asc:\", np.sort(f))\n",
    "print(\"Sort des:\", np.sort(f)[::-1])"
   ]
  },
  {
   "cell_type": "markdown",
   "metadata": {},
   "source": [
    "## 8. Operator"
   ]
  },
  {
   "cell_type": "code",
   "execution_count": 39,
   "metadata": {},
   "outputs": [
    {
     "name": "stdout",
     "output_type": "stream",
     "text": [
      "Operator plus 1: [  2   3   4   5   6 102 102 102 102 102]\n",
      "Phep giao: [10 40]\n",
      "Phan tu hieu: [20]\n"
     ]
    }
   ],
   "source": [
    "print(\"Operator plus 1:\", f + 1)\n",
    "print(\"Phep giao:\", np.intersect1d([10, 20, 40], [10, 40]))\n",
    "print(\"Phan tu hieu:\", np.setdiff1d([10, 20, 40], [10, 40]))"
   ]
  },
  {
   "cell_type": "markdown",
   "metadata": {},
   "source": [
    "## 9. Utils"
   ]
  },
  {
   "cell_type": "code",
   "execution_count": 36,
   "metadata": {},
   "outputs": [
    {
     "name": "stdout",
     "output_type": "stream",
     "text": [
      "Array builder zeros: [0. 0. 0. 0. 0. 0. 0. 0. 0. 0.]\n",
      "Array builder ones: [1. 1. 1. 1. 1. 1. 1. 1. 1. 1.]\n",
      "Array builder custom: [10 10 10 10 10 10 10 10 10 10]\n",
      "Linspace 1: [2.  3.6 5.2 6.8 8.4]\n",
      "Linspace 2: [ 2.  4.  6.  8. 10.]\n",
      "Random int: [4 5]\n",
      "Data file: [1.57 1.65 1.63 1.58 1.57 1.68 1.65 1.7  1.64 1.67]\n"
     ]
    }
   ],
   "source": [
    "f5 = f.astype(float)\n",
    "print(\"Ep kieu astype:\", f5)\n",
    "\n",
    "print(\"Array builder zeros:\", np.zeros(10))\n",
    "print(\"Array builder ones:\", np.ones(10))\n",
    "print(\"Array builder custom:\", np.full(shape=(10,),fill_value=10))\n",
    "\n",
    "print(\"Linspace 1:\", np.linspace(2, 10, 5, endpoint=False)) # Tu 2 den 10, lay 5 phan tu, ko bao gom end\n",
    "print(\"Linspace 2:\", np.linspace(2, 10, 5, endpoint=True)) # Tu 2 den 10, lay 5 phan tu\n",
    "\n",
    "np.random.seed(1)\n",
    "print(\"Random int:\", np.random.randint(1, 6, 2))\n",
    "\n",
    "f6 = np.loadtxt(\"data.txt\", delimiter=\",\")\n",
    "print(\"Data file:\", f6)"
   ]
  },
  {
   "cell_type": "markdown",
   "metadata": {},
   "source": [
    "# Mang nhieu chieu"
   ]
  },
  {
   "cell_type": "markdown",
   "metadata": {},
   "source": [
    "## 1. Khai bao"
   ]
  },
  {
   "cell_type": "code",
   "execution_count": 53,
   "metadata": {},
   "outputs": [
    {
     "data": {
      "text/plain": [
       "array([[38, 13, 73],\n",
       "       [10, 76,  6],\n",
       "       [80, 65, 17],\n",
       "       [ 2, 77, 72],\n",
       "       [ 7, 26, 51]])"
      ]
     },
     "execution_count": 53,
     "metadata": {},
     "output_type": "execute_result"
    }
   ],
   "source": [
    "a = np.array([[38, 13, 73],\n",
    "       [10, 76,  6],\n",
    "       [80, 65, 17],\n",
    "       [ 2, 77, 72],\n",
    "       [ 7, 26, 51]])\n",
    "a"
   ]
  },
  {
   "cell_type": "markdown",
   "metadata": {},
   "source": [
    "## 2. Truy xuat phan tu"
   ]
  },
  {
   "cell_type": "markdown",
   "metadata": {},
   "source": [
    "### 2.1. Truy xuat phan tu theo dong, cot"
   ]
  },
  {
   "cell_type": "code",
   "execution_count": 6,
   "metadata": {},
   "outputs": [
    {
     "name": "stdout",
     "output_type": "stream",
     "text": [
      "76\n",
      "76\n",
      "51\n"
     ]
    }
   ],
   "source": [
    "print(a[1][1])\n",
    "print(a[1,1])\n",
    "print(a[-1,-1])"
   ]
  },
  {
   "cell_type": "markdown",
   "metadata": {},
   "source": [
    "### 2.2. Truy xuat nhieu phan tu\n",
    " [start:stop:step, start:stop:step]"
   ]
  },
  {
   "cell_type": "code",
   "execution_count": 18,
   "metadata": {},
   "outputs": [
    {
     "name": "stdout",
     "output_type": "stream",
     "text": [
      "[10 76  6]\n",
      "[10 76  6]\n",
      "[73  6 17 72 51]\n",
      "[[10 76  6]\n",
      " [80 65 17]\n",
      " [ 2 77 72]]\n",
      "[[38 13 73]\n",
      " [10 76  6]\n",
      " [80 65 17]\n",
      " [ 2 77 72]\n",
      " [ 7 26 51]]\n"
     ]
    }
   ],
   "source": [
    "print(a[1,:])\n",
    "print(a[1])\n",
    "print(a[:,2])\n",
    "print(a[1:4,:])"
   ]
  },
  {
   "cell_type": "code",
   "execution_count": 13,
   "metadata": {},
   "outputs": [
    {
     "name": "stdout",
     "output_type": "stream",
     "text": [
      "[[65 17]\n",
      " [77 72]]\n"
     ]
    }
   ],
   "source": [
    "# Lay phan tu 65, 17, 77, 72\n",
    "print(a[2:4,1:])"
   ]
  },
  {
   "cell_type": "code",
   "execution_count": 17,
   "metadata": {},
   "outputs": [
    {
     "name": "stdout",
     "output_type": "stream",
     "text": [
      "[[10  6]\n",
      " [ 2 72]]\n"
     ]
    }
   ],
   "source": [
    "# Lay phan tu 10, 6, 2, 72\n",
    "print(a[1::2,::2])"
   ]
  },
  {
   "cell_type": "code",
   "execution_count": 19,
   "metadata": {},
   "outputs": [
    {
     "name": "stdout",
     "output_type": "stream",
     "text": [
      "[[10  6]\n",
      " [ 2 72]\n",
      " [ 7 51]]\n"
     ]
    }
   ],
   "source": [
    "# Lay phan tu 10, 6, 2, 72, 7, 51\n",
    "print(a[[1,3,4],::2])"
   ]
  },
  {
   "cell_type": "code",
   "execution_count": 23,
   "metadata": {},
   "outputs": [
    {
     "name": "stdout",
     "output_type": "stream",
     "text": [
      "[[80 65]\n",
      " [ 2 77]\n",
      " [ 7 26]]\n"
     ]
    }
   ],
   "source": [
    "# Lay phan tu 80, 65, 2, 77, 7, 26\n",
    "print(a[2:,:2])"
   ]
  },
  {
   "cell_type": "markdown",
   "metadata": {},
   "source": [
    "### 2.3. Truy xuat theo dieu kien"
   ]
  },
  {
   "cell_type": "code",
   "execution_count": 26,
   "metadata": {},
   "outputs": [
    {
     "name": "stdout",
     "output_type": "stream",
     "text": [
      "[38 10 76  6 80  2 72 26]\n",
      "[76 80 72]\n",
      "[ 6 72 51]\n"
     ]
    }
   ],
   "source": [
    "print(a[a % 2 == 0])\n",
    "print(a[(a % 2 == 0) & (a > 70)])\n",
    "print(a[a % 3 == 0])"
   ]
  },
  {
   "cell_type": "markdown",
   "metadata": {},
   "source": [
    "### 2.4. Truy xuat mang 3 chieu\n",
    "tenmang[index ma tran, index dong, index cot]"
   ]
  },
  {
   "cell_type": "code",
   "execution_count": 29,
   "metadata": {},
   "outputs": [
    {
     "data": {
      "text/plain": [
       "array([[[38, 13, 73],\n",
       "        [10, 76,  6],\n",
       "        [80, 65, 17],\n",
       "        [ 2, 77, 72],\n",
       "        [ 7, 26, 51]],\n",
       "\n",
       "       [[21, 19, 85],\n",
       "        [12, 29, 30],\n",
       "        [15, 51, 69],\n",
       "        [88, 88, 95],\n",
       "        [97, 87, 14]]])"
      ]
     },
     "execution_count": 29,
     "metadata": {},
     "output_type": "execute_result"
    }
   ],
   "source": [
    "np.random.seed(1)\n",
    "b = np.random.randint(1, 101, size=(2,5,3))\n",
    "b"
   ]
  },
  {
   "cell_type": "code",
   "execution_count": 35,
   "metadata": {},
   "outputs": [
    {
     "name": "stdout",
     "output_type": "stream",
     "text": [
      "76\n",
      "69\n",
      "[[[21 19 85]\n",
      "  [12 29 30]\n",
      "  [15 51 69]\n",
      "  [88 88 95]\n",
      "  [97 87 14]]]\n",
      "[[21 19 85]\n",
      " [12 29 30]\n",
      " [15 51 69]\n",
      " [88 88 95]\n",
      " [97 87 14]]\n"
     ]
    }
   ],
   "source": [
    "print(b[0,1,1])\n",
    "print(b[1,2,2])\n",
    "\n",
    "# Truy xuat nhieu phan tu\n",
    "print(b[1:]) # van giu nguyen so chieu\n",
    "print(b[1]) # so chieu giam di 1"
   ]
  },
  {
   "cell_type": "code",
   "execution_count": 36,
   "metadata": {},
   "outputs": [
    {
     "name": "stdout",
     "output_type": "stream",
     "text": [
      "[[[76  6]\n",
      "  [65 17]]\n",
      "\n",
      " [[29 30]\n",
      "  [51 69]]]\n"
     ]
    }
   ],
   "source": [
    "# Lay phan tu 76, 6, 65, 17, 29, 30, 51, 69\n",
    "print(b[:,1:3,1:3])"
   ]
  },
  {
   "cell_type": "markdown",
   "metadata": {},
   "source": [
    "## 3. Cap nhat"
   ]
  },
  {
   "cell_type": "code",
   "execution_count": 38,
   "metadata": {},
   "outputs": [
    {
     "name": "stdout",
     "output_type": "stream",
     "text": [
      "[[[100 100 100]\n",
      "  [ 10  76   6]\n",
      "  [ 80  65  17]\n",
      "  [  2  77  72]\n",
      "  [  7  26  51]]\n",
      "\n",
      " [[ 21  19  85]\n",
      "  [ 12  29  30]\n",
      "  [ 15  51  69]\n",
      "  [ 88  88  95]\n",
      "  [ 97  87  14]]]\n"
     ]
    }
   ],
   "source": [
    "b[0,0] = 100\n",
    "print(b)"
   ]
  },
  {
   "cell_type": "markdown",
   "metadata": {},
   "source": [
    "## 4. Them dong, cot\n",
    "**`np.insert`** or **`np.concatenate`**"
   ]
  },
  {
   "cell_type": "code",
   "execution_count": 60,
   "metadata": {},
   "outputs": [
    {
     "name": "stdout",
     "output_type": "stream",
     "text": [
      "[[38 13 73]\n",
      " [10 76  6]\n",
      " [80 65 17]\n",
      " [ 2 77 72]\n",
      " [ 7 26 51]] \n",
      "\n",
      "[[38 13 73]\n",
      " [10 76  6]\n",
      " [80 65 17]\n",
      " [ 2 77 72]\n",
      " [ 7 26 51]\n",
      " [ 1  2  3]] \n",
      "\n",
      "[[38 13 73  0  0]\n",
      " [10 76  6  0  0]\n",
      " [80 65 17  0  0]\n",
      " [ 2 77 72  0  0]\n",
      " [ 7 26 51  0  0]]\n"
     ]
    }
   ],
   "source": [
    "print(a, \"\\n\")\n",
    "c = np.insert(a, 5, [1, 2, 3], axis=0)\n",
    "print(c, \"\\n\")\n",
    "\n",
    "new_arr = np.array([[0, 0, 0, 0, 0]])\n",
    "new_arr_T = new_arr.T\n",
    "new_arr2 = np.array([[0], [0], [0], [0], [0]])\n",
    "d = np.concatenate([a, new_arr_T], axis=1)\n",
    "d = np.concatenate([d, new_arr2], axis=1)\n",
    "print(d)"
   ]
  },
  {
   "cell_type": "markdown",
   "metadata": {},
   "source": [
    "## 5. Xoa dong, cot"
   ]
  },
  {
   "cell_type": "code",
   "execution_count": 61,
   "metadata": {},
   "outputs": [
    {
     "name": "stdout",
     "output_type": "stream",
     "text": [
      "[[38 13 73  0]\n",
      " [10 76  6  0]\n",
      " [80 65 17  0]\n",
      " [ 2 77 72  0]\n",
      " [ 7 26 51  0]]\n"
     ]
    }
   ],
   "source": [
    "e = np.delete(d, -1, axis=1)\n",
    "print(e)"
   ]
  },
  {
   "cell_type": "markdown",
   "metadata": {},
   "source": [
    "## 6. Thong ke"
   ]
  },
  {
   "cell_type": "code",
   "execution_count": 66,
   "metadata": {},
   "outputs": [
    {
     "name": "stdout",
     "output_type": "stream",
     "text": [
      "Min:  2\n",
      "Max:  80\n",
      "Mean:  40.87\n",
      "Standard Deviation:  29.62\n"
     ]
    }
   ],
   "source": [
    "print(\"Min: \", np.min(a))\n",
    "print(\"Max: \", np.max(a))\n",
    "print(\"Mean: \", round(np.mean(a),2))\n",
    "print(\"Standard Deviation: \", round(np.std(a),2))"
   ]
  },
  {
   "cell_type": "code",
   "execution_count": 71,
   "metadata": {},
   "outputs": [
    {
     "name": "stdout",
     "output_type": "stream",
     "text": [
      "Min by column:  [ 2 13  6]\n",
      "Min by row:  [13  6 17  2  7]\n"
     ]
    }
   ],
   "source": [
    "print(\"Min by column: \", np.min(a, axis=0))\n",
    "print(\"Min by row: \", np.min(a, axis=1))"
   ]
  },
  {
   "cell_type": "markdown",
   "metadata": {},
   "source": [
    "## 7. Sort"
   ]
  },
  {
   "cell_type": "markdown",
   "metadata": {},
   "source": [
    "## 8. Operator"
   ]
  },
  {
   "cell_type": "markdown",
   "metadata": {},
   "source": [
    "## 9. Utils"
   ]
  },
  {
   "cell_type": "code",
   "execution_count": 74,
   "metadata": {},
   "outputs": [
    {
     "name": "stdout",
     "output_type": "stream",
     "text": [
      "Matrix builder zeros:\n",
      " [[0. 0. 0.]\n",
      " [0. 0. 0.]\n",
      " [0. 0. 0.]]\n",
      "Matrix builder ones:\n",
      " [[1. 1. 1.]\n",
      " [1. 1. 1.]\n",
      " [1. 1. 1.]]\n",
      "Matrix builder custom:\n",
      " [[10 10 10]\n",
      " [10 10 10]\n",
      " [10 10 10]]\n"
     ]
    }
   ],
   "source": [
    "print(\"Matrix builder zeros:\\n\", np.zeros((3,3)))\n",
    "print(\"Matrix builder ones:\\n\", np.ones((3,3)))\n",
    "print(\"Matrix builder custom:\\n\", np.full(shape=(3,3),fill_value=10))"
   ]
  },
  {
   "cell_type": "code",
   "execution_count": null,
   "metadata": {},
   "outputs": [],
   "source": []
  }
 ],
 "metadata": {
  "kernelspec": {
   "display_name": "Python 3",
   "language": "python",
   "name": "python3"
  },
  "language_info": {
   "codemirror_mode": {
    "name": "ipython",
    "version": 3
   },
   "file_extension": ".py",
   "mimetype": "text/x-python",
   "name": "python",
   "nbconvert_exporter": "python",
   "pygments_lexer": "ipython3",
   "version": "3.6.8"
  }
 },
 "nbformat": 4,
 "nbformat_minor": 4
}
