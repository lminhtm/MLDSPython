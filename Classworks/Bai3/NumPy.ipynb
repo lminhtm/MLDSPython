{
 "cells": [
  {
   "cell_type": "markdown",
   "metadata": {},
   "source": [
    "# NumPy"
   ]
  },
  {
   "cell_type": "markdown",
   "metadata": {},
   "source": [
    "## Khai bao"
   ]
  },
  {
   "cell_type": "code",
   "execution_count": 2,
   "metadata": {},
   "outputs": [],
   "source": [
    "import numpy as np"
   ]
  },
  {
   "cell_type": "code",
   "execution_count": 4,
   "metadata": {},
   "outputs": [
    {
     "name": "stdout",
     "output_type": "stream",
     "text": [
      "a: [1 2 3] Type of a: <class 'numpy.ndarray'> Item type: int64\n",
      "b: [1.  2.3 5. ] Type of b: <class 'numpy.ndarray'> Item type: float64\n",
      "c: ['1' '2.3' 'hi'] Type of c: <class 'numpy.ndarray'> Item type: <U32\n",
      "d: [ True  True False] Type of d: <class 'numpy.ndarray'> Item type: bool\n",
      "e: [1 2 0] Type of e: <class 'numpy.ndarray'> Item type: int16\n",
      "Size: 3 Shape: (3,) ndim: 1 item size: 2\n"
     ]
    }
   ],
   "source": [
    "a = np.array([1,2,3])\n",
    "print(\"a:\", a, \"Type of a:\", type(a), \"Item type:\", a.dtype)\n",
    "\n",
    "b = np.array([1, 2.3, 5])\n",
    "print(\"b:\", b, \"Type of b:\", type(b), \"Item type:\", b.dtype)\n",
    "\n",
    "c = np.array([1, 2.3, \"hi\"])\n",
    "print(\"c:\", c, \"Type of c:\", type(c), \"Item type:\", c.dtype)\n",
    "\n",
    "d = np.array([1,2,0], dtype=bool)\n",
    "print(\"d:\", d, \"Type of d:\", type(d), \"Item type:\", d.dtype)\n",
    "\n",
    "e = np.array([1,2,0], dtype=\"i2\")\n",
    "print(\"e:\", e, \"Type of e:\", type(e), \"Item type:\", e.dtype)\n",
    "\n",
    "print(\"Size:\", e.size, \"Shape:\", e.shape, \"ndim:\", e.ndim, \"item size:\", e.itemsize)"
   ]
  },
  {
   "cell_type": "code",
   "execution_count": 5,
   "metadata": {},
   "outputs": [
    {
     "name": "stdout",
     "output_type": "stream",
     "text": [
      "[ 1  2  3  4  5  6  7  8  9 10]\n"
     ]
    }
   ],
   "source": [
    "f = np.arange(1, 11)\n",
    "print(f)"
   ]
  },
  {
   "cell_type": "markdown",
   "metadata": {},
   "source": [
    "## Truy xuat numby array theo index"
   ]
  },
  {
   "cell_type": "code",
   "execution_count": null,
   "metadata": {},
   "outputs": [],
   "source": [
    "#  0  1  2  3  4  5\n",
    "# -6 -5 -4 -3 -2 -1\n",
    "print(f[-1:-6:-1]) # start:end:reverse\n",
    "print(f[-1:-4:-1])\n",
    "print(f[::-1]) # Invert\n",
    "\n",
    "indexs = [0, 1, 5]\n",
    "print(f[indexs])"
   ]
  },
  {
   "cell_type": "markdown",
   "metadata": {},
   "source": [
    "## Truy xuat theo dieu kien"
   ]
  },
  {
   "cell_type": "code",
   "execution_count": 7,
   "metadata": {},
   "outputs": [
    {
     "name": "stdout",
     "output_type": "stream",
     "text": [
      "[False False False False False  True  True  True  True  True] Type of cond: <class 'numpy.ndarray'>\n",
      "[ 6  7  8  9 10]\n",
      "[ 2  4  6  8 10]\n",
      "[1 3 5 7 9]\n",
      "[6 7 8]\n"
     ]
    }
   ],
   "source": [
    "cond = f > 5\n",
    "print(cond, \"Type of cond:\", type(cond))\n",
    "print(f[cond])\n",
    "\n",
    "print(f[f % 2 == 0])\n",
    "print(f[~(f % 2 == 0)])\n",
    "print(f[(f > 5) & (f < 9)])"
   ]
  },
  {
   "cell_type": "markdown",
   "metadata": {},
   "source": [
    "## Cap nhat"
   ]
  },
  {
   "cell_type": "code",
   "execution_count": 6,
   "metadata": {},
   "outputs": [
    {
     "name": "stdout",
     "output_type": "stream",
     "text": [
      "[  1   2   3   4   5 100 100 100 100 100]\n",
      "[  1   2   3   4   5 101 101 101 101 101]\n"
     ]
    }
   ],
   "source": [
    "f[:-6:-1] = 100\n",
    "print(f)\n",
    "f[f>=100] = f[f>=100] + 1\n",
    "print(f)"
   ]
  },
  {
   "cell_type": "markdown",
   "metadata": {},
   "source": [
    "## Them"
   ]
  },
  {
   "cell_type": "code",
   "execution_count": 8,
   "metadata": {},
   "outputs": [
    {
     "name": "stdout",
     "output_type": "stream",
     "text": [
      "[  1   2   3   4   5 101 101 101 101 101  10  20]\n",
      "[ 11  22   1   2   3   4   5 101 101 101 101 101]\n",
      "[  1  11   2   3  11   4   5 101 101 101 101 101]\n"
     ]
    }
   ],
   "source": [
    "f1 = np.append(f, [10, 20])\n",
    "print(f1)\n",
    "f2 = np.insert(f, 0, [11, 22])\n",
    "print(f2)\n",
    "f3 = np.insert(f, [1,3], [11])\n",
    "print(f3)"
   ]
  },
  {
   "cell_type": "markdown",
   "metadata": {},
   "source": [
    "## Xoa"
   ]
  },
  {
   "cell_type": "code",
   "execution_count": 9,
   "metadata": {},
   "outputs": [
    {
     "name": "stdout",
     "output_type": "stream",
     "text": [
      "[  1   3   4   5 101 101 101 101 101]\n"
     ]
    }
   ],
   "source": [
    "f4 = np.delete(f, 1)\n",
    "print(f4)"
   ]
  },
  {
   "cell_type": "markdown",
   "metadata": {},
   "source": [
    "## Thong ke"
   ]
  },
  {
   "cell_type": "code",
   "execution_count": 13,
   "metadata": {},
   "outputs": [
    {
     "name": "stdout",
     "output_type": "stream",
     "text": [
      "Sum: 520\n",
      "Min: 1\n",
      "Max: 101\n",
      "Mean: 52.0\n",
      "Median: 53.0\n",
      "std: 49.01020301937138\n"
     ]
    }
   ],
   "source": [
    "print(\"Sum:\", np.sum(f))\n",
    "print(\"Min:\", np.min(f))\n",
    "print(\"Max:\", np.max(f))\n",
    "print(\"Mean:\", np.mean(f))\n",
    "print(\"Median:\", np.median(f))\n",
    "print(\"std:\", np.std(f))"
   ]
  },
  {
   "cell_type": "markdown",
   "metadata": {},
   "source": [
    "## Sort"
   ]
  },
  {
   "cell_type": "code",
   "execution_count": 15,
   "metadata": {},
   "outputs": [
    {
     "name": "stdout",
     "output_type": "stream",
     "text": [
      "Sort asc: [  1   2   3   4   5 101 101 101 101 101]\n",
      "Sort des: [101 101 101 101 101   5   4   3   2   1]\n"
     ]
    }
   ],
   "source": [
    "print(\"Sort asc:\", np.sort(f))\n",
    "print(\"Sort des:\", np.sort(f)[::-1])"
   ]
  },
  {
   "cell_type": "markdown",
   "metadata": {},
   "source": [
    "## Operator"
   ]
  },
  {
   "cell_type": "code",
   "execution_count": 39,
   "metadata": {},
   "outputs": [
    {
     "name": "stdout",
     "output_type": "stream",
     "text": [
      "Operator plus 1: [  2   3   4   5   6 102 102 102 102 102]\n",
      "Phep giao: [10 40]\n",
      "Phan tu hieu: [20]\n"
     ]
    }
   ],
   "source": [
    "print(\"Operator plus 1:\", f + 1)\n",
    "print(\"Phep giao:\", np.intersect1d([10, 20, 40], [10, 40]))\n",
    "print(\"Phan tu hieu:\", np.setdiff1d([10, 20, 40], [10, 40]))"
   ]
  },
  {
   "cell_type": "markdown",
   "metadata": {},
   "source": [
    "## Ep kieu"
   ]
  },
  {
   "cell_type": "code",
   "execution_count": 17,
   "metadata": {},
   "outputs": [
    {
     "name": "stdout",
     "output_type": "stream",
     "text": [
      "[  1.   2.   3.   4.   5. 101. 101. 101. 101. 101.]\n"
     ]
    }
   ],
   "source": [
    "f5 = f.astype(float)\n",
    "print(\"Ep kieu astype:\", f5)"
   ]
  },
  {
   "cell_type": "markdown",
   "metadata": {},
   "source": [
    "## Utils"
   ]
  },
  {
   "cell_type": "code",
   "execution_count": 36,
   "metadata": {},
   "outputs": [
    {
     "name": "stdout",
     "output_type": "stream",
     "text": [
      "Array builder zeros: [0. 0. 0. 0. 0. 0. 0. 0. 0. 0.]\n",
      "Array builder ones: [1. 1. 1. 1. 1. 1. 1. 1. 1. 1.]\n",
      "Array builder custom: [10 10 10 10 10 10 10 10 10 10]\n",
      "Linspace 1: [2.  3.6 5.2 6.8 8.4]\n",
      "Linspace 2: [ 2.  4.  6.  8. 10.]\n",
      "Random int: [4 5]\n",
      "Data file: [1.57 1.65 1.63 1.58 1.57 1.68 1.65 1.7  1.64 1.67]\n"
     ]
    }
   ],
   "source": [
    "print(\"Array builder zeros:\", np.zeros(10))\n",
    "print(\"Array builder ones:\", np.ones(10))\n",
    "print(\"Array builder custom:\", np.full(shape=(10,),fill_value=10))\n",
    "\n",
    "print(\"Linspace 1:\", np.linspace(2, 10, 5, endpoint=False)) # Tu 2 den 10, lấy 5 phần tử CÁCH ĐỀU NHAU, ko bao gồm end\n",
    "print(\"Linspace 2:\", np.linspace(2, 10, 5, endpoint=True)) # Tu 2 den 10, lấy 5 phần tử CÁCH ĐỀU NHAU\n",
    "\n",
    "np.random.seed(1) # Mark stored this random\n",
    "print(\"Random int:\", np.random.randint(1, 6, 2))\n",
    "\n",
    "f6 = np.loadtxt(\"data.txt\", delimiter=\",\")\n",
    "print(\"Data file:\", f6)"
   ]
  },
  {
   "cell_type": "code",
   "execution_count": null,
   "metadata": {},
   "outputs": [],
   "source": []
  }
 ],
 "metadata": {
  "kernelspec": {
   "display_name": "Python 3 (ipykernel)",
   "language": "python",
   "name": "python3"
  },
  "language_info": {
   "codemirror_mode": {
    "name": "ipython",
    "version": 3
   },
   "file_extension": ".py",
   "mimetype": "text/x-python",
   "name": "python",
   "nbconvert_exporter": "python",
   "pygments_lexer": "ipython3",
   "version": "3.9.13"
  }
 },
 "nbformat": 4,
 "nbformat_minor": 4
}
