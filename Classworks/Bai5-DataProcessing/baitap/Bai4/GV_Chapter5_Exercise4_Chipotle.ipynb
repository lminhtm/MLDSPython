{
 "cells": [
  {
   "cell_type": "markdown",
   "id": "fleet-wallet",
   "metadata": {},
   "source": [
    "Nhà hàng Chipotle cần phân tích dữ liệu bán được trong ngày diễn ra khuyến mãi để có thể điều chỉnh thực đơn và thực hiện các chương trình khuyến mãi phù hợp.\n",
    "\n",
    "Dữ liệu được cung cấp trong file chipotle.tsv, hãy thực hiện các yêu cầu sau:"
   ]
  },
  {
   "cell_type": "markdown",
   "id": "grave-plenty",
   "metadata": {},
   "source": [
    "# Yêu cầu:"
   ]
  },
  {
   "cell_type": "markdown",
   "id": "portable-found",
   "metadata": {},
   "source": [
    "## 1. Đọc và xem thông tin dữ liệu\n",
    "- đọc tập tin chipotle.tsv\n",
    "- xem thông tin: shape, columns, head, tail, info"
   ]
  },
  {
   "cell_type": "markdown",
   "id": "decreased-direction",
   "metadata": {},
   "source": [
    "## 2. Xử lý Null và Duplicate\n",
    "- cho biết số lượng Null xuất hiện trong df?\n",
    "- cho biết số lượng dữ liệu trùng lắp ==> xóa các trùng lắp và giữ lại dữ liệu đầu tiên"
   ]
  },
  {
   "cell_type": "markdown",
   "id": "aggregate-decimal",
   "metadata": {},
   "source": [
    "## 3. Xử lý dữ liệu\n",
    "- chuyển kiểu cột item_price sang kiểu float\n",
    "- cho biết có bao nhiêu dữ liệu có item_price=0. Nếu có, hãy thay thế item_price = item_price trung bình\n",
    "- tạo df chỉ gồm các cột: order_id, item_name, quantity, item_price\n",
    "- tạo thêm cột revenue, với revenue = quantity * item_price"
   ]
  },
  {
   "cell_type": "markdown",
   "id": "eligible-therapy",
   "metadata": {},
   "source": [
    "## 4. Thống kê\n",
    "- thống kê đếm số món ăn trong mỗi đơn đặt hàng, sắp giảm dần theo đếm, in 5 dòng đầu tiên\n",
    "- thống kê chung (describe) cho 3 cột: 'quantity','item_price','revenue'\n",
    "- thống kê chung cột revenue theo nhóm item_name. In 10 dòng đầu tiên\n",
    "- cho biết tổng thành tiền của mỗi hóa đơn. In 5 hóa đơn đầu tiên\n",
    "- cho biết 5 hóa đơn có tổng thành tiền lớn nhất\n",
    "- cho biết 5 món ăn có tổng thành tiền lớn nhất. Vẽ biểu đồ Bar\n",
    "- cho biết 5 món ăn được đặt nhiều nhất. Vẽ biểu đồ Bar"
   ]
  },
  {
   "cell_type": "markdown",
   "id": "informal-retrieval",
   "metadata": {},
   "source": [
    "## 5. Rút trích theo điều kiện\n",
    "- cho biết món ăn nào có số lượng đặt nhiều nhất\n",
    "- cho biết đơn đặt hàng nào đặt nhiều món ăn nhất. Liệt kê các món ăn\n",
    "- cho biết đơn đặt hàng nào có tổng thành tiền lớn nhất"
   ]
  },
  {
   "cell_type": "markdown",
   "id": "decent-potato",
   "metadata": {},
   "source": [
    "## 6. Tính toán\n",
    "- cho biết tổng doanh thu trong ngày\n",
    "- cho biết món ăn nào được đặt nhiều nhất\n",
    "- cho biết thành tiền nhỏ nhất, lớn nhất và trung bình của các hóa đơn\n",
    "- vẽ biểu đồ Histogram biểu diễn: trục y là đếm số đơn đặt hàng; trục x là số món ăn đặt, vẽ với bins=5"
   ]
  },
  {
   "cell_type": "markdown",
   "id": "boxed-saudi",
   "metadata": {},
   "source": [
    "## 1. Đọc và xem thông tin dữ liệu"
   ]
  },
  {
   "cell_type": "code",
   "execution_count": 1,
   "id": "60ef268a",
   "metadata": {},
   "outputs": [],
   "source": [
    "import pandas as pd\n",
    "import numpy as np\n",
    "import warnings\n",
    "warnings.filterwarnings('ignore')"
   ]
  },
  {
   "cell_type": "code",
   "execution_count": 2,
   "id": "global-exclusion",
   "metadata": {},
   "outputs": [],
   "source": [
    "df = pd.read_csv('data/chipotle.tsv', sep='\\t')"
   ]
  },
  {
   "cell_type": "code",
   "execution_count": 3,
   "id": "classified-bachelor",
   "metadata": {},
   "outputs": [
    {
     "name": "stdout",
     "output_type": "stream",
     "text": [
      "(4622, 5)\n",
      "Index(['order_id', 'quantity', 'item_name', 'choice_description',\n",
      "       'item_price'],\n",
      "      dtype='object')\n"
     ]
    }
   ],
   "source": [
    "# xem thông tin\n",
    "print(df.shape)\n",
    "print(df.columns)"
   ]
  },
  {
   "cell_type": "code",
   "execution_count": 4,
   "id": "greater-fields",
   "metadata": {},
   "outputs": [
    {
     "data": {
      "text/html": [
       "<div>\n",
       "<style scoped>\n",
       "    .dataframe tbody tr th:only-of-type {\n",
       "        vertical-align: middle;\n",
       "    }\n",
       "\n",
       "    .dataframe tbody tr th {\n",
       "        vertical-align: top;\n",
       "    }\n",
       "\n",
       "    .dataframe thead th {\n",
       "        text-align: right;\n",
       "    }\n",
       "</style>\n",
       "<table border=\"1\" class=\"dataframe\">\n",
       "  <thead>\n",
       "    <tr style=\"text-align: right;\">\n",
       "      <th></th>\n",
       "      <th>order_id</th>\n",
       "      <th>quantity</th>\n",
       "      <th>item_name</th>\n",
       "      <th>choice_description</th>\n",
       "      <th>item_price</th>\n",
       "    </tr>\n",
       "  </thead>\n",
       "  <tbody>\n",
       "    <tr>\n",
       "      <th>0</th>\n",
       "      <td>1</td>\n",
       "      <td>1</td>\n",
       "      <td>Chips and Fresh Tomato Salsa</td>\n",
       "      <td>NaN</td>\n",
       "      <td>$2.39</td>\n",
       "    </tr>\n",
       "    <tr>\n",
       "      <th>1</th>\n",
       "      <td>1</td>\n",
       "      <td>1</td>\n",
       "      <td>Izze</td>\n",
       "      <td>[Clementine]</td>\n",
       "      <td>$3.39</td>\n",
       "    </tr>\n",
       "    <tr>\n",
       "      <th>2</th>\n",
       "      <td>1</td>\n",
       "      <td>1</td>\n",
       "      <td>Nantucket Nectar</td>\n",
       "      <td>[Apple]</td>\n",
       "      <td>$3.39</td>\n",
       "    </tr>\n",
       "    <tr>\n",
       "      <th>3</th>\n",
       "      <td>1</td>\n",
       "      <td>1</td>\n",
       "      <td>Chips and Tomatillo-Green Chili Salsa</td>\n",
       "      <td>NaN</td>\n",
       "      <td>$2.39</td>\n",
       "    </tr>\n",
       "    <tr>\n",
       "      <th>4</th>\n",
       "      <td>2</td>\n",
       "      <td>2</td>\n",
       "      <td>Chicken Bowl</td>\n",
       "      <td>[Tomatillo-Red Chili Salsa (Hot), [Black Beans...</td>\n",
       "      <td>$16.98</td>\n",
       "    </tr>\n",
       "  </tbody>\n",
       "</table>\n",
       "</div>"
      ],
      "text/plain": [
       "   order_id  quantity                              item_name  \\\n",
       "0         1         1           Chips and Fresh Tomato Salsa   \n",
       "1         1         1                                   Izze   \n",
       "2         1         1                       Nantucket Nectar   \n",
       "3         1         1  Chips and Tomatillo-Green Chili Salsa   \n",
       "4         2         2                           Chicken Bowl   \n",
       "\n",
       "                                  choice_description item_price  \n",
       "0                                                NaN     $2.39   \n",
       "1                                       [Clementine]     $3.39   \n",
       "2                                            [Apple]     $3.39   \n",
       "3                                                NaN     $2.39   \n",
       "4  [Tomatillo-Red Chili Salsa (Hot), [Black Beans...    $16.98   "
      ]
     },
     "execution_count": 4,
     "metadata": {},
     "output_type": "execute_result"
    }
   ],
   "source": [
    "df.head()"
   ]
  },
  {
   "cell_type": "code",
   "execution_count": 5,
   "id": "original-candy",
   "metadata": {},
   "outputs": [
    {
     "name": "stdout",
     "output_type": "stream",
     "text": [
      "<class 'pandas.core.frame.DataFrame'>\n",
      "RangeIndex: 4622 entries, 0 to 4621\n",
      "Data columns (total 5 columns):\n",
      " #   Column              Non-Null Count  Dtype \n",
      "---  ------              --------------  ----- \n",
      " 0   order_id            4622 non-null   int64 \n",
      " 1   quantity            4622 non-null   int64 \n",
      " 2   item_name           4622 non-null   object\n",
      " 3   choice_description  3376 non-null   object\n",
      " 4   item_price          4622 non-null   object\n",
      "dtypes: int64(2), object(3)\n",
      "memory usage: 180.7+ KB\n"
     ]
    }
   ],
   "source": [
    "df.info()"
   ]
  },
  {
   "cell_type": "markdown",
   "id": "acknowledged-evening",
   "metadata": {},
   "source": [
    "## 2. Xử lý Null và Duplicate"
   ]
  },
  {
   "cell_type": "code",
   "execution_count": 6,
   "id": "sixth-honor",
   "metadata": {},
   "outputs": [
    {
     "data": {
      "text/plain": [
       "order_id                 0\n",
       "quantity                 0\n",
       "item_name                0\n",
       "choice_description    1246\n",
       "item_price               0\n",
       "dtype: int64"
      ]
     },
     "execution_count": 6,
     "metadata": {},
     "output_type": "execute_result"
    }
   ],
   "source": [
    "# cho biết số lượng Null xuất hiện trong df?\n",
    "df.isnull().sum()"
   ]
  },
  {
   "cell_type": "code",
   "execution_count": 7,
   "id": "addressed-pharmacy",
   "metadata": {},
   "outputs": [
    {
     "data": {
      "text/plain": [
       "59"
      ]
     },
     "execution_count": 7,
     "metadata": {},
     "output_type": "execute_result"
    }
   ],
   "source": [
    "# cho biết số lượng dữ liệu trùng lắp ==> xóa các trùng lắp và giữ lại dữ liệu đầu tiên\n",
    "df.duplicated().sum()"
   ]
  },
  {
   "cell_type": "code",
   "execution_count": 8,
   "id": "amazing-property",
   "metadata": {},
   "outputs": [
    {
     "data": {
      "text/plain": [
       "(4563, 5)"
      ]
     },
     "execution_count": 8,
     "metadata": {},
     "output_type": "execute_result"
    }
   ],
   "source": [
    "df.drop_duplicates(keep='first', inplace=True)\n",
    "df.shape"
   ]
  },
  {
   "cell_type": "markdown",
   "id": "likely-insurance",
   "metadata": {},
   "source": [
    "## 3. Xử lý dữ liệu"
   ]
  },
  {
   "cell_type": "code",
   "execution_count": 9,
   "id": "after-hungary",
   "metadata": {},
   "outputs": [
    {
     "data": {
      "text/plain": [
       "dtype('float64')"
      ]
     },
     "execution_count": 9,
     "metadata": {},
     "output_type": "execute_result"
    }
   ],
   "source": [
    "# chuyển kiểu cột item_price sang kiểu float\n",
    "df['item_price'] = df['item_price'].str.replace('$', '').astype(float)\n",
    "df['item_price'].dtype"
   ]
  },
  {
   "cell_type": "code",
   "execution_count": 10,
   "id": "palestinian-unknown",
   "metadata": {},
   "outputs": [
    {
     "data": {
      "text/html": [
       "<div>\n",
       "<style scoped>\n",
       "    .dataframe tbody tr th:only-of-type {\n",
       "        vertical-align: middle;\n",
       "    }\n",
       "\n",
       "    .dataframe tbody tr th {\n",
       "        vertical-align: top;\n",
       "    }\n",
       "\n",
       "    .dataframe thead th {\n",
       "        text-align: right;\n",
       "    }\n",
       "</style>\n",
       "<table border=\"1\" class=\"dataframe\">\n",
       "  <thead>\n",
       "    <tr style=\"text-align: right;\">\n",
       "      <th></th>\n",
       "      <th>order_id</th>\n",
       "      <th>quantity</th>\n",
       "      <th>item_name</th>\n",
       "      <th>choice_description</th>\n",
       "      <th>item_price</th>\n",
       "    </tr>\n",
       "  </thead>\n",
       "  <tbody>\n",
       "    <tr>\n",
       "      <th>0</th>\n",
       "      <td>1</td>\n",
       "      <td>1</td>\n",
       "      <td>Chips and Fresh Tomato Salsa</td>\n",
       "      <td>NaN</td>\n",
       "      <td>2.39</td>\n",
       "    </tr>\n",
       "    <tr>\n",
       "      <th>1</th>\n",
       "      <td>1</td>\n",
       "      <td>1</td>\n",
       "      <td>Izze</td>\n",
       "      <td>[Clementine]</td>\n",
       "      <td>3.39</td>\n",
       "    </tr>\n",
       "    <tr>\n",
       "      <th>2</th>\n",
       "      <td>1</td>\n",
       "      <td>1</td>\n",
       "      <td>Nantucket Nectar</td>\n",
       "      <td>[Apple]</td>\n",
       "      <td>3.39</td>\n",
       "    </tr>\n",
       "    <tr>\n",
       "      <th>3</th>\n",
       "      <td>1</td>\n",
       "      <td>1</td>\n",
       "      <td>Chips and Tomatillo-Green Chili Salsa</td>\n",
       "      <td>NaN</td>\n",
       "      <td>2.39</td>\n",
       "    </tr>\n",
       "    <tr>\n",
       "      <th>4</th>\n",
       "      <td>2</td>\n",
       "      <td>2</td>\n",
       "      <td>Chicken Bowl</td>\n",
       "      <td>[Tomatillo-Red Chili Salsa (Hot), [Black Beans...</td>\n",
       "      <td>16.98</td>\n",
       "    </tr>\n",
       "  </tbody>\n",
       "</table>\n",
       "</div>"
      ],
      "text/plain": [
       "   order_id  quantity                              item_name  \\\n",
       "0         1         1           Chips and Fresh Tomato Salsa   \n",
       "1         1         1                                   Izze   \n",
       "2         1         1                       Nantucket Nectar   \n",
       "3         1         1  Chips and Tomatillo-Green Chili Salsa   \n",
       "4         2         2                           Chicken Bowl   \n",
       "\n",
       "                                  choice_description  item_price  \n",
       "0                                                NaN        2.39  \n",
       "1                                       [Clementine]        3.39  \n",
       "2                                            [Apple]        3.39  \n",
       "3                                                NaN        2.39  \n",
       "4  [Tomatillo-Red Chili Salsa (Hot), [Black Beans...       16.98  "
      ]
     },
     "execution_count": 10,
     "metadata": {},
     "output_type": "execute_result"
    }
   ],
   "source": [
    "df.head()"
   ]
  },
  {
   "cell_type": "code",
   "execution_count": 11,
   "id": "medieval-andorra",
   "metadata": {},
   "outputs": [
    {
     "data": {
      "text/plain": [
       "0"
      ]
     },
     "execution_count": 11,
     "metadata": {},
     "output_type": "execute_result"
    }
   ],
   "source": [
    "# cho biết có bao nhiêu dữ liệu có item_price=0\n",
    "# nếu có, hãy thay thế item_price = item_price trung bình\n",
    "df[df['item_price']==0].size"
   ]
  },
  {
   "cell_type": "code",
   "execution_count": 12,
   "id": "hollywood-surfing",
   "metadata": {},
   "outputs": [
    {
     "data": {
      "text/html": [
       "<div>\n",
       "<style scoped>\n",
       "    .dataframe tbody tr th:only-of-type {\n",
       "        vertical-align: middle;\n",
       "    }\n",
       "\n",
       "    .dataframe tbody tr th {\n",
       "        vertical-align: top;\n",
       "    }\n",
       "\n",
       "    .dataframe thead th {\n",
       "        text-align: right;\n",
       "    }\n",
       "</style>\n",
       "<table border=\"1\" class=\"dataframe\">\n",
       "  <thead>\n",
       "    <tr style=\"text-align: right;\">\n",
       "      <th></th>\n",
       "      <th>order_id</th>\n",
       "      <th>item_name</th>\n",
       "      <th>quantity</th>\n",
       "      <th>item_price</th>\n",
       "    </tr>\n",
       "  </thead>\n",
       "  <tbody>\n",
       "    <tr>\n",
       "      <th>0</th>\n",
       "      <td>1</td>\n",
       "      <td>Chips and Fresh Tomato Salsa</td>\n",
       "      <td>1</td>\n",
       "      <td>2.39</td>\n",
       "    </tr>\n",
       "    <tr>\n",
       "      <th>1</th>\n",
       "      <td>1</td>\n",
       "      <td>Izze</td>\n",
       "      <td>1</td>\n",
       "      <td>3.39</td>\n",
       "    </tr>\n",
       "    <tr>\n",
       "      <th>2</th>\n",
       "      <td>1</td>\n",
       "      <td>Nantucket Nectar</td>\n",
       "      <td>1</td>\n",
       "      <td>3.39</td>\n",
       "    </tr>\n",
       "    <tr>\n",
       "      <th>3</th>\n",
       "      <td>1</td>\n",
       "      <td>Chips and Tomatillo-Green Chili Salsa</td>\n",
       "      <td>1</td>\n",
       "      <td>2.39</td>\n",
       "    </tr>\n",
       "    <tr>\n",
       "      <th>4</th>\n",
       "      <td>2</td>\n",
       "      <td>Chicken Bowl</td>\n",
       "      <td>2</td>\n",
       "      <td>16.98</td>\n",
       "    </tr>\n",
       "  </tbody>\n",
       "</table>\n",
       "</div>"
      ],
      "text/plain": [
       "   order_id                              item_name  quantity  item_price\n",
       "0         1           Chips and Fresh Tomato Salsa         1        2.39\n",
       "1         1                                   Izze         1        3.39\n",
       "2         1                       Nantucket Nectar         1        3.39\n",
       "3         1  Chips and Tomatillo-Green Chili Salsa         1        2.39\n",
       "4         2                           Chicken Bowl         2       16.98"
      ]
     },
     "execution_count": 12,
     "metadata": {},
     "output_type": "execute_result"
    }
   ],
   "source": [
    "# tạo df chỉ gồm các cột: order_id, item_name, quantity, item_price\n",
    "df = df[['order_id', 'item_name', 'quantity', 'item_price']]\n",
    "df.head()"
   ]
  },
  {
   "cell_type": "code",
   "execution_count": 13,
   "id": "medical-transportation",
   "metadata": {},
   "outputs": [
    {
     "data": {
      "text/html": [
       "<div>\n",
       "<style scoped>\n",
       "    .dataframe tbody tr th:only-of-type {\n",
       "        vertical-align: middle;\n",
       "    }\n",
       "\n",
       "    .dataframe tbody tr th {\n",
       "        vertical-align: top;\n",
       "    }\n",
       "\n",
       "    .dataframe thead th {\n",
       "        text-align: right;\n",
       "    }\n",
       "</style>\n",
       "<table border=\"1\" class=\"dataframe\">\n",
       "  <thead>\n",
       "    <tr style=\"text-align: right;\">\n",
       "      <th></th>\n",
       "      <th>order_id</th>\n",
       "      <th>item_name</th>\n",
       "      <th>quantity</th>\n",
       "      <th>item_price</th>\n",
       "      <th>revenue</th>\n",
       "    </tr>\n",
       "  </thead>\n",
       "  <tbody>\n",
       "    <tr>\n",
       "      <th>0</th>\n",
       "      <td>1</td>\n",
       "      <td>Chips and Fresh Tomato Salsa</td>\n",
       "      <td>1</td>\n",
       "      <td>2.39</td>\n",
       "      <td>2.39</td>\n",
       "    </tr>\n",
       "    <tr>\n",
       "      <th>1</th>\n",
       "      <td>1</td>\n",
       "      <td>Izze</td>\n",
       "      <td>1</td>\n",
       "      <td>3.39</td>\n",
       "      <td>3.39</td>\n",
       "    </tr>\n",
       "    <tr>\n",
       "      <th>2</th>\n",
       "      <td>1</td>\n",
       "      <td>Nantucket Nectar</td>\n",
       "      <td>1</td>\n",
       "      <td>3.39</td>\n",
       "      <td>3.39</td>\n",
       "    </tr>\n",
       "    <tr>\n",
       "      <th>3</th>\n",
       "      <td>1</td>\n",
       "      <td>Chips and Tomatillo-Green Chili Salsa</td>\n",
       "      <td>1</td>\n",
       "      <td>2.39</td>\n",
       "      <td>2.39</td>\n",
       "    </tr>\n",
       "    <tr>\n",
       "      <th>4</th>\n",
       "      <td>2</td>\n",
       "      <td>Chicken Bowl</td>\n",
       "      <td>2</td>\n",
       "      <td>16.98</td>\n",
       "      <td>33.96</td>\n",
       "    </tr>\n",
       "  </tbody>\n",
       "</table>\n",
       "</div>"
      ],
      "text/plain": [
       "   order_id                              item_name  quantity  item_price  \\\n",
       "0         1           Chips and Fresh Tomato Salsa         1        2.39   \n",
       "1         1                                   Izze         1        3.39   \n",
       "2         1                       Nantucket Nectar         1        3.39   \n",
       "3         1  Chips and Tomatillo-Green Chili Salsa         1        2.39   \n",
       "4         2                           Chicken Bowl         2       16.98   \n",
       "\n",
       "   revenue  \n",
       "0     2.39  \n",
       "1     3.39  \n",
       "2     3.39  \n",
       "3     2.39  \n",
       "4    33.96  "
      ]
     },
     "execution_count": 13,
     "metadata": {},
     "output_type": "execute_result"
    }
   ],
   "source": [
    "# tạo thêm cột revenue, với revenue = quantity * item_price\n",
    "df['revenue'] = df['quantity'] * df['item_price']\n",
    "df.head()"
   ]
  },
  {
   "cell_type": "markdown",
   "id": "retained-glucose",
   "metadata": {},
   "source": [
    "## 4. Thống kê"
   ]
  },
  {
   "cell_type": "code",
   "execution_count": 14,
   "id": "weird-challenge",
   "metadata": {},
   "outputs": [
    {
     "data": {
      "text/plain": [
       "926     21\n",
       "1483    14\n",
       "691     11\n",
       "205     11\n",
       "759     11\n",
       "Name: order_id, dtype: int64"
      ]
     },
     "execution_count": 14,
     "metadata": {},
     "output_type": "execute_result"
    }
   ],
   "source": [
    "# thống kê đếm số món ăn trong mỗi đơn đặt hàng, sắp giảm dần theo đếm, in 5 dòng đầu tiên\n",
    "df['order_id'].value_counts().head()"
   ]
  },
  {
   "cell_type": "code",
   "execution_count": 15,
   "id": "single-landscape",
   "metadata": {},
   "outputs": [
    {
     "data": {
      "text/html": [
       "<div>\n",
       "<style scoped>\n",
       "    .dataframe tbody tr th:only-of-type {\n",
       "        vertical-align: middle;\n",
       "    }\n",
       "\n",
       "    .dataframe tbody tr th {\n",
       "        vertical-align: top;\n",
       "    }\n",
       "\n",
       "    .dataframe thead th {\n",
       "        text-align: right;\n",
       "    }\n",
       "</style>\n",
       "<table border=\"1\" class=\"dataframe\">\n",
       "  <thead>\n",
       "    <tr style=\"text-align: right;\">\n",
       "      <th></th>\n",
       "      <th>quantity</th>\n",
       "      <th>item_price</th>\n",
       "      <th>revenue</th>\n",
       "    </tr>\n",
       "  </thead>\n",
       "  <tbody>\n",
       "    <tr>\n",
       "      <th>count</th>\n",
       "      <td>4563.000000</td>\n",
       "      <td>4563.000000</td>\n",
       "      <td>4563.000000</td>\n",
       "    </tr>\n",
       "    <tr>\n",
       "      <th>mean</th>\n",
       "      <td>1.076704</td>\n",
       "      <td>7.490083</td>\n",
       "      <td>8.528185</td>\n",
       "    </tr>\n",
       "    <tr>\n",
       "      <th>std</th>\n",
       "      <td>0.412739</td>\n",
       "      <td>4.244155</td>\n",
       "      <td>12.701196</td>\n",
       "    </tr>\n",
       "    <tr>\n",
       "      <th>min</th>\n",
       "      <td>1.000000</td>\n",
       "      <td>1.090000</td>\n",
       "      <td>1.090000</td>\n",
       "    </tr>\n",
       "    <tr>\n",
       "      <th>25%</th>\n",
       "      <td>1.000000</td>\n",
       "      <td>3.750000</td>\n",
       "      <td>3.990000</td>\n",
       "    </tr>\n",
       "    <tr>\n",
       "      <th>50%</th>\n",
       "      <td>1.000000</td>\n",
       "      <td>8.750000</td>\n",
       "      <td>8.750000</td>\n",
       "    </tr>\n",
       "    <tr>\n",
       "      <th>75%</th>\n",
       "      <td>1.000000</td>\n",
       "      <td>9.250000</td>\n",
       "      <td>10.980000</td>\n",
       "    </tr>\n",
       "    <tr>\n",
       "      <th>max</th>\n",
       "      <td>15.000000</td>\n",
       "      <td>44.250000</td>\n",
       "      <td>663.750000</td>\n",
       "    </tr>\n",
       "  </tbody>\n",
       "</table>\n",
       "</div>"
      ],
      "text/plain": [
       "          quantity   item_price      revenue\n",
       "count  4563.000000  4563.000000  4563.000000\n",
       "mean      1.076704     7.490083     8.528185\n",
       "std       0.412739     4.244155    12.701196\n",
       "min       1.000000     1.090000     1.090000\n",
       "25%       1.000000     3.750000     3.990000\n",
       "50%       1.000000     8.750000     8.750000\n",
       "75%       1.000000     9.250000    10.980000\n",
       "max      15.000000    44.250000   663.750000"
      ]
     },
     "execution_count": 15,
     "metadata": {},
     "output_type": "execute_result"
    }
   ],
   "source": [
    "# thống kê chung cho 3 cột: 'quantity','item_price','revenue'\n",
    "df[['quantity','item_price','revenue']].describe()"
   ]
  },
  {
   "cell_type": "code",
   "execution_count": 16,
   "id": "proof-hurricane",
   "metadata": {},
   "outputs": [
    {
     "data": {
      "text/html": [
       "<div>\n",
       "<style scoped>\n",
       "    .dataframe tbody tr th:only-of-type {\n",
       "        vertical-align: middle;\n",
       "    }\n",
       "\n",
       "    .dataframe tbody tr th {\n",
       "        vertical-align: top;\n",
       "    }\n",
       "\n",
       "    .dataframe thead th {\n",
       "        text-align: right;\n",
       "    }\n",
       "</style>\n",
       "<table border=\"1\" class=\"dataframe\">\n",
       "  <thead>\n",
       "    <tr style=\"text-align: right;\">\n",
       "      <th></th>\n",
       "      <th>count</th>\n",
       "      <th>mean</th>\n",
       "      <th>std</th>\n",
       "      <th>min</th>\n",
       "      <th>25%</th>\n",
       "      <th>50%</th>\n",
       "      <th>75%</th>\n",
       "      <th>max</th>\n",
       "    </tr>\n",
       "    <tr>\n",
       "      <th>item_name</th>\n",
       "      <th></th>\n",
       "      <th></th>\n",
       "      <th></th>\n",
       "      <th></th>\n",
       "      <th></th>\n",
       "      <th></th>\n",
       "      <th></th>\n",
       "      <th></th>\n",
       "    </tr>\n",
       "  </thead>\n",
       "  <tbody>\n",
       "    <tr>\n",
       "      <th>6 Pack Soft Drink</th>\n",
       "      <td>54.0</td>\n",
       "      <td>6.850556</td>\n",
       "      <td>2.649531</td>\n",
       "      <td>6.49</td>\n",
       "      <td>6.49</td>\n",
       "      <td>6.49</td>\n",
       "      <td>6.49</td>\n",
       "      <td>25.96</td>\n",
       "    </tr>\n",
       "    <tr>\n",
       "      <th>Barbacoa Bowl</th>\n",
       "      <td>65.0</td>\n",
       "      <td>10.201692</td>\n",
       "      <td>1.265312</td>\n",
       "      <td>8.69</td>\n",
       "      <td>9.25</td>\n",
       "      <td>9.25</td>\n",
       "      <td>11.75</td>\n",
       "      <td>11.75</td>\n",
       "    </tr>\n",
       "    <tr>\n",
       "      <th>Barbacoa Burrito</th>\n",
       "      <td>90.0</td>\n",
       "      <td>9.838889</td>\n",
       "      <td>1.144220</td>\n",
       "      <td>8.69</td>\n",
       "      <td>9.25</td>\n",
       "      <td>9.25</td>\n",
       "      <td>11.38</td>\n",
       "      <td>11.75</td>\n",
       "    </tr>\n",
       "    <tr>\n",
       "      <th>Barbacoa Crispy Tacos</th>\n",
       "      <td>11.0</td>\n",
       "      <td>12.610000</td>\n",
       "      <td>8.183734</td>\n",
       "      <td>8.99</td>\n",
       "      <td>9.25</td>\n",
       "      <td>9.25</td>\n",
       "      <td>11.75</td>\n",
       "      <td>37.00</td>\n",
       "    </tr>\n",
       "    <tr>\n",
       "      <th>Barbacoa Salad Bowl</th>\n",
       "      <td>9.0</td>\n",
       "      <td>10.778889</td>\n",
       "      <td>1.317616</td>\n",
       "      <td>9.39</td>\n",
       "      <td>9.39</td>\n",
       "      <td>11.89</td>\n",
       "      <td>11.89</td>\n",
       "      <td>11.89</td>\n",
       "    </tr>\n",
       "  </tbody>\n",
       "</table>\n",
       "</div>"
      ],
      "text/plain": [
       "                       count       mean       std   min   25%    50%    75%  \\\n",
       "item_name                                                                     \n",
       "6 Pack Soft Drink       54.0   6.850556  2.649531  6.49  6.49   6.49   6.49   \n",
       "Barbacoa Bowl           65.0  10.201692  1.265312  8.69  9.25   9.25  11.75   \n",
       "Barbacoa Burrito        90.0   9.838889  1.144220  8.69  9.25   9.25  11.38   \n",
       "Barbacoa Crispy Tacos   11.0  12.610000  8.183734  8.99  9.25   9.25  11.75   \n",
       "Barbacoa Salad Bowl      9.0  10.778889  1.317616  9.39  9.39  11.89  11.89   \n",
       "\n",
       "                         max  \n",
       "item_name                     \n",
       "6 Pack Soft Drink      25.96  \n",
       "Barbacoa Bowl          11.75  \n",
       "Barbacoa Burrito       11.75  \n",
       "Barbacoa Crispy Tacos  37.00  \n",
       "Barbacoa Salad Bowl    11.89  "
      ]
     },
     "execution_count": 16,
     "metadata": {},
     "output_type": "execute_result"
    }
   ],
   "source": [
    "# thống kê chung cột revenue theo nhóm item_name. In 10 dòng đầu tiên\n",
    "df.groupby('item_name')['revenue'].describe().head()"
   ]
  },
  {
   "cell_type": "code",
   "execution_count": 17,
   "id": "practical-participant",
   "metadata": {},
   "outputs": [
    {
     "data": {
      "text/plain": [
       "order_id\n",
       "1    11.56\n",
       "2    33.96\n",
       "3    12.67\n",
       "4    21.00\n",
       "5    13.70\n",
       "Name: revenue, dtype: float64"
      ]
     },
     "execution_count": 17,
     "metadata": {},
     "output_type": "execute_result"
    }
   ],
   "source": [
    "# cho biết tổng thành tiền của mỗi hóa đơn. In 5 hóa đơn đầu tiên\n",
    "df.groupby('order_id')['revenue'].sum().head()"
   ]
  },
  {
   "cell_type": "code",
   "execution_count": 18,
   "id": "worth-stylus",
   "metadata": {},
   "outputs": [
    {
     "data": {
      "text/plain": [
       "order_id\n",
       "1443    1074.24\n",
       "511      315.29\n",
       "1559     246.00\n",
       "1660     218.30\n",
       "1786     197.70\n",
       "Name: revenue, dtype: float64"
      ]
     },
     "execution_count": 18,
     "metadata": {},
     "output_type": "execute_result"
    }
   ],
   "source": [
    "# cho biết 5 hóa đơn có tổng thành tiền lớn nhất\n",
    "df.groupby('order_id')['revenue'].sum().sort_values(ascending=False).head()"
   ]
  },
  {
   "cell_type": "code",
   "execution_count": 19,
   "id": "tracked-feelings",
   "metadata": {},
   "outputs": [
    {
     "data": {
      "text/plain": [
       "item_name\n",
       "Chicken Bowl           7961.65\n",
       "Chicken Burrito        6320.81\n",
       "Steak Burrito          4203.64\n",
       "Steak Bowl             2470.56\n",
       "Chips and Guacamole    2453.37\n",
       "Name: revenue, dtype: float64"
      ]
     },
     "execution_count": 19,
     "metadata": {},
     "output_type": "execute_result"
    }
   ],
   "source": [
    "# cho biết 5 món ăn có tổng thành tiền lớn nhất\n",
    "df.groupby('item_name')['revenue'].sum().sort_values(ascending=False).head()"
   ]
  },
  {
   "cell_type": "code",
   "execution_count": 20,
   "id": "running-ozone",
   "metadata": {},
   "outputs": [
    {
     "data": {
      "image/png": "[encoded data removed]",
      "text/plain": [
       "<Figure size 432x288 with 1 Axes>"
      ]
     },
     "metadata": {
      "needs_background": "light"
     },
     "output_type": "display_data"
    }
   ],
   "source": [
    "# vẽ biểu đồ Bar\n",
    "df_ = df.groupby('item_name')['revenue'].sum().sort_values(ascending=False).head()\n",
    "df_.plot.bar(rot=60, grid=True);"
   ]
  },
  {
   "cell_type": "code",
   "execution_count": 21,
   "id": "metallic-hardwood",
   "metadata": {},
   "outputs": [
    {
     "data": {
      "text/plain": [
       "item_name\n",
       "Chicken Bowl           717\n",
       "Chicken Burrito        546\n",
       "Chips and Guacamole    474\n",
       "Steak Burrito          365\n",
       "Canned Soft Drink      290\n",
       "dtype: int64"
      ]
     },
     "execution_count": 21,
     "metadata": {},
     "output_type": "execute_result"
    }
   ],
   "source": [
    "# cho biết 5 món ăn được đặt nhiều nhất\n",
    "df.groupby('item_name').size().sort_values(ascending=False).head()"
   ]
  },
  {
   "cell_type": "code",
   "execution_count": 22,
   "id": "excess-freedom",
   "metadata": {},
   "outputs": [
    {
     "data": {
      "image/png": "[encoded data removed]",
      "text/plain": [
       "<Figure size 432x288 with 1 Axes>"
      ]
     },
     "metadata": {
      "needs_background": "light"
     },
     "output_type": "display_data"
    }
   ],
   "source": [
    "# vẽ biểu đồ Bar\n",
    "df_ = df.groupby('item_name').size().sort_values(ascending=False).head()\n",
    "df_.plot.bar(rot=60, grid=True);"
   ]
  },
  {
   "cell_type": "markdown",
   "id": "polish-shower",
   "metadata": {},
   "source": [
    "## 5. Rút trích theo điều kiện"
   ]
  },
  {
   "cell_type": "code",
   "execution_count": 23,
   "id": "beneficial-virginia",
   "metadata": {},
   "outputs": [
    {
     "data": {
      "text/html": [
       "<div>\n",
       "<style scoped>\n",
       "    .dataframe tbody tr th:only-of-type {\n",
       "        vertical-align: middle;\n",
       "    }\n",
       "\n",
       "    .dataframe tbody tr th {\n",
       "        vertical-align: top;\n",
       "    }\n",
       "\n",
       "    .dataframe thead th {\n",
       "        text-align: right;\n",
       "    }\n",
       "</style>\n",
       "<table border=\"1\" class=\"dataframe\">\n",
       "  <thead>\n",
       "    <tr style=\"text-align: right;\">\n",
       "      <th></th>\n",
       "      <th>order_id</th>\n",
       "      <th>item_name</th>\n",
       "      <th>quantity</th>\n",
       "    </tr>\n",
       "  </thead>\n",
       "  <tbody>\n",
       "    <tr>\n",
       "      <th>3598</th>\n",
       "      <td>1443</td>\n",
       "      <td>Chips and Fresh Tomato Salsa</td>\n",
       "      <td>15</td>\n",
       "    </tr>\n",
       "  </tbody>\n",
       "</table>\n",
       "</div>"
      ],
      "text/plain": [
       "      order_id                     item_name  quantity\n",
       "3598      1443  Chips and Fresh Tomato Salsa        15"
      ]
     },
     "execution_count": 23,
     "metadata": {},
     "output_type": "execute_result"
    }
   ],
   "source": [
    "# cho biết món ăn nào có số lượng đặt nhiều nhất\n",
    "df[df['quantity']==df['quantity'].max()][['order_id','item_name','quantity']]"
   ]
  },
  {
   "cell_type": "code",
   "execution_count": 24,
   "id": "young-sunrise",
   "metadata": {},
   "outputs": [
    {
     "data": {
      "text/plain": [
       "926    21\n",
       "Name: order_id, dtype: int64"
      ]
     },
     "execution_count": 24,
     "metadata": {},
     "output_type": "execute_result"
    }
   ],
   "source": [
    "# cho biết đơn đặt hàng nào đặt nhiều món ăn nhất\n",
    "df_ = df['order_id'].value_counts().head(1)\n",
    "df_"
   ]
  },
  {
   "cell_type": "code",
   "execution_count": 25,
   "id": "ambient-playback",
   "metadata": {},
   "outputs": [
    {
     "data": {
      "text/html": [
       "<div>\n",
       "<style scoped>\n",
       "    .dataframe tbody tr th:only-of-type {\n",
       "        vertical-align: middle;\n",
       "    }\n",
       "\n",
       "    .dataframe tbody tr th {\n",
       "        vertical-align: top;\n",
       "    }\n",
       "\n",
       "    .dataframe thead th {\n",
       "        text-align: right;\n",
       "    }\n",
       "</style>\n",
       "<table border=\"1\" class=\"dataframe\">\n",
       "  <thead>\n",
       "    <tr style=\"text-align: right;\">\n",
       "      <th></th>\n",
       "      <th>order_id</th>\n",
       "      <th>item_name</th>\n",
       "      <th>quantity</th>\n",
       "      <th>item_price</th>\n",
       "      <th>revenue</th>\n",
       "    </tr>\n",
       "  </thead>\n",
       "  <tbody>\n",
       "    <tr>\n",
       "      <th>2304</th>\n",
       "      <td>926</td>\n",
       "      <td>Steak Burrito</td>\n",
       "      <td>1</td>\n",
       "      <td>9.25</td>\n",
       "      <td>9.25</td>\n",
       "    </tr>\n",
       "    <tr>\n",
       "      <th>2305</th>\n",
       "      <td>926</td>\n",
       "      <td>Chicken Bowl</td>\n",
       "      <td>1</td>\n",
       "      <td>8.75</td>\n",
       "      <td>8.75</td>\n",
       "    </tr>\n",
       "    <tr>\n",
       "      <th>2306</th>\n",
       "      <td>926</td>\n",
       "      <td>Chicken Bowl</td>\n",
       "      <td>1</td>\n",
       "      <td>8.75</td>\n",
       "      <td>8.75</td>\n",
       "    </tr>\n",
       "    <tr>\n",
       "      <th>2308</th>\n",
       "      <td>926</td>\n",
       "      <td>Steak Bowl</td>\n",
       "      <td>1</td>\n",
       "      <td>9.25</td>\n",
       "      <td>9.25</td>\n",
       "    </tr>\n",
       "    <tr>\n",
       "      <th>2309</th>\n",
       "      <td>926</td>\n",
       "      <td>Chicken Bowl</td>\n",
       "      <td>1</td>\n",
       "      <td>8.75</td>\n",
       "      <td>8.75</td>\n",
       "    </tr>\n",
       "    <tr>\n",
       "      <th>2310</th>\n",
       "      <td>926</td>\n",
       "      <td>Steak Burrito</td>\n",
       "      <td>1</td>\n",
       "      <td>9.25</td>\n",
       "      <td>9.25</td>\n",
       "    </tr>\n",
       "    <tr>\n",
       "      <th>2311</th>\n",
       "      <td>926</td>\n",
       "      <td>Chicken Burrito</td>\n",
       "      <td>1</td>\n",
       "      <td>8.75</td>\n",
       "      <td>8.75</td>\n",
       "    </tr>\n",
       "    <tr>\n",
       "      <th>2312</th>\n",
       "      <td>926</td>\n",
       "      <td>Chicken Bowl</td>\n",
       "      <td>1</td>\n",
       "      <td>8.75</td>\n",
       "      <td>8.75</td>\n",
       "    </tr>\n",
       "    <tr>\n",
       "      <th>2313</th>\n",
       "      <td>926</td>\n",
       "      <td>Chicken Bowl</td>\n",
       "      <td>1</td>\n",
       "      <td>8.75</td>\n",
       "      <td>8.75</td>\n",
       "    </tr>\n",
       "    <tr>\n",
       "      <th>2314</th>\n",
       "      <td>926</td>\n",
       "      <td>Chicken Salad Bowl</td>\n",
       "      <td>1</td>\n",
       "      <td>8.75</td>\n",
       "      <td>8.75</td>\n",
       "    </tr>\n",
       "    <tr>\n",
       "      <th>2315</th>\n",
       "      <td>926</td>\n",
       "      <td>Steak Bowl</td>\n",
       "      <td>1</td>\n",
       "      <td>9.25</td>\n",
       "      <td>9.25</td>\n",
       "    </tr>\n",
       "    <tr>\n",
       "      <th>2316</th>\n",
       "      <td>926</td>\n",
       "      <td>Chicken Burrito</td>\n",
       "      <td>1</td>\n",
       "      <td>8.75</td>\n",
       "      <td>8.75</td>\n",
       "    </tr>\n",
       "    <tr>\n",
       "      <th>2317</th>\n",
       "      <td>926</td>\n",
       "      <td>Steak Bowl</td>\n",
       "      <td>1</td>\n",
       "      <td>9.25</td>\n",
       "      <td>9.25</td>\n",
       "    </tr>\n",
       "    <tr>\n",
       "      <th>2319</th>\n",
       "      <td>926</td>\n",
       "      <td>Steak Bowl</td>\n",
       "      <td>1</td>\n",
       "      <td>9.25</td>\n",
       "      <td>9.25</td>\n",
       "    </tr>\n",
       "    <tr>\n",
       "      <th>2320</th>\n",
       "      <td>926</td>\n",
       "      <td>Chicken Burrito</td>\n",
       "      <td>1</td>\n",
       "      <td>8.75</td>\n",
       "      <td>8.75</td>\n",
       "    </tr>\n",
       "    <tr>\n",
       "      <th>2321</th>\n",
       "      <td>926</td>\n",
       "      <td>Chicken Bowl</td>\n",
       "      <td>1</td>\n",
       "      <td>8.75</td>\n",
       "      <td>8.75</td>\n",
       "    </tr>\n",
       "    <tr>\n",
       "      <th>2322</th>\n",
       "      <td>926</td>\n",
       "      <td>Chicken Bowl</td>\n",
       "      <td>1</td>\n",
       "      <td>8.75</td>\n",
       "      <td>8.75</td>\n",
       "    </tr>\n",
       "    <tr>\n",
       "      <th>2323</th>\n",
       "      <td>926</td>\n",
       "      <td>Barbacoa Burrito</td>\n",
       "      <td>1</td>\n",
       "      <td>9.25</td>\n",
       "      <td>9.25</td>\n",
       "    </tr>\n",
       "    <tr>\n",
       "      <th>2324</th>\n",
       "      <td>926</td>\n",
       "      <td>Chicken Burrito</td>\n",
       "      <td>1</td>\n",
       "      <td>8.75</td>\n",
       "      <td>8.75</td>\n",
       "    </tr>\n",
       "    <tr>\n",
       "      <th>2325</th>\n",
       "      <td>926</td>\n",
       "      <td>Steak Bowl</td>\n",
       "      <td>1</td>\n",
       "      <td>9.25</td>\n",
       "      <td>9.25</td>\n",
       "    </tr>\n",
       "    <tr>\n",
       "      <th>2326</th>\n",
       "      <td>926</td>\n",
       "      <td>Veggie Bowl</td>\n",
       "      <td>1</td>\n",
       "      <td>8.75</td>\n",
       "      <td>8.75</td>\n",
       "    </tr>\n",
       "  </tbody>\n",
       "</table>\n",
       "</div>"
      ],
      "text/plain": [
       "      order_id           item_name  quantity  item_price  revenue\n",
       "2304       926       Steak Burrito         1        9.25     9.25\n",
       "2305       926        Chicken Bowl         1        8.75     8.75\n",
       "2306       926        Chicken Bowl         1        8.75     8.75\n",
       "2308       926          Steak Bowl         1        9.25     9.25\n",
       "2309       926        Chicken Bowl         1        8.75     8.75\n",
       "2310       926       Steak Burrito         1        9.25     9.25\n",
       "2311       926     Chicken Burrito         1        8.75     8.75\n",
       "2312       926        Chicken Bowl         1        8.75     8.75\n",
       "2313       926        Chicken Bowl         1        8.75     8.75\n",
       "2314       926  Chicken Salad Bowl         1        8.75     8.75\n",
       "2315       926          Steak Bowl         1        9.25     9.25\n",
       "2316       926     Chicken Burrito         1        8.75     8.75\n",
       "2317       926          Steak Bowl         1        9.25     9.25\n",
       "2319       926          Steak Bowl         1        9.25     9.25\n",
       "2320       926     Chicken Burrito         1        8.75     8.75\n",
       "2321       926        Chicken Bowl         1        8.75     8.75\n",
       "2322       926        Chicken Bowl         1        8.75     8.75\n",
       "2323       926    Barbacoa Burrito         1        9.25     9.25\n",
       "2324       926     Chicken Burrito         1        8.75     8.75\n",
       "2325       926          Steak Bowl         1        9.25     9.25\n",
       "2326       926         Veggie Bowl         1        8.75     8.75"
      ]
     },
     "execution_count": 25,
     "metadata": {},
     "output_type": "execute_result"
    }
   ],
   "source": [
    "# liệt kê các món ăn được đặt\n",
    "df[df['order_id']==df_.index[0]]"
   ]
  },
  {
   "cell_type": "code",
   "execution_count": 26,
   "id": "armed-charter",
   "metadata": {},
   "outputs": [
    {
     "data": {
      "text/plain": [
       "order_id\n",
       "1443    1074.24\n",
       "Name: revenue, dtype: float64"
      ]
     },
     "execution_count": 26,
     "metadata": {},
     "output_type": "execute_result"
    }
   ],
   "source": [
    "# cho biết đơn đặt hàng nào có tổng thành tiền lớn nhất\n",
    "df_ = df.groupby('order_id')['revenue'].sum()\n",
    "max_revenue = df_.max()\n",
    "df_[df_==max_revenue]"
   ]
  },
  {
   "cell_type": "markdown",
   "id": "ranking-miracle",
   "metadata": {},
   "source": [
    "## 6. Tính toán"
   ]
  },
  {
   "cell_type": "code",
   "execution_count": 27,
   "id": "cleared-medline",
   "metadata": {},
   "outputs": [
    {
     "data": {
      "text/plain": [
       "38914.11"
      ]
     },
     "execution_count": 27,
     "metadata": {},
     "output_type": "execute_result"
    }
   ],
   "source": [
    "# cho biết tổng doanh thu trong ngày\n",
    "df['revenue'].sum()"
   ]
  },
  {
   "cell_type": "code",
   "execution_count": 28,
   "id": "composed-found",
   "metadata": {},
   "outputs": [
    {
     "data": {
      "text/plain": [
       "Chicken Bowl    717\n",
       "Name: item_name, dtype: int64"
      ]
     },
     "execution_count": 28,
     "metadata": {},
     "output_type": "execute_result"
    }
   ],
   "source": [
    "# cho biết món ăn nào được đặt nhiều nhất\n",
    "df['item_name'].value_counts().head(1)"
   ]
  },
  {
   "cell_type": "code",
   "execution_count": 29,
   "id": "final-speaking",
   "metadata": {},
   "outputs": [
    {
     "data": {
      "text/plain": [
       "min        8.750000\n",
       "max     1074.240000\n",
       "mean      21.218162\n",
       "Name: revenue, dtype: float64"
      ]
     },
     "execution_count": 29,
     "metadata": {},
     "output_type": "execute_result"
    }
   ],
   "source": [
    "# cho biết thành tiền nhỏ nhất, lớn nhất và trung bình của các hóa đơn\n",
    "df_ = df.groupby('order_id')['revenue'].sum()\n",
    "df_.agg(['min','max','mean'])"
   ]
  },
  {
   "cell_type": "code",
   "execution_count": 30,
   "id": "therapeutic-daily",
   "metadata": {},
   "outputs": [
    {
     "data": {
      "image/png": "[encoded data removed]",
      "text/plain": [
       "<Figure size 432x288 with 1 Axes>"
      ]
     },
     "metadata": {
      "needs_background": "light"
     },
     "output_type": "display_data"
    }
   ],
   "source": [
    "# vẽ biểu đồ Histogram biểu diễn: trục y là đếm số đơn đặt hàng; trục x là số món ăn đặt\n",
    "# vẽ với bins=5\n",
    "df_ = df.groupby('order_id').size()\n",
    "df_.plot.hist(bins=5, alpha=0.3);"
   ]
  },
  {
   "cell_type": "code",
   "execution_count": null,
   "id": "accepted-steel",
   "metadata": {},
   "outputs": [],
   "source": []
  }
 ],
 "metadata": {
  "kernelspec": {
   "display_name": "Python 3",
   "language": "python",
   "name": "python3"
  },
  "language_info": {
   "codemirror_mode": {
    "name": "ipython",
    "version": 3
   },
   "file_extension": ".py",
   "mimetype": "text/x-python",
   "name": "python",
   "nbconvert_exporter": "python",
   "pygments_lexer": "ipython3",
   "version": "3.9.2"
  }
 },
 "nbformat": 4,
 "nbformat_minor": 5
}
