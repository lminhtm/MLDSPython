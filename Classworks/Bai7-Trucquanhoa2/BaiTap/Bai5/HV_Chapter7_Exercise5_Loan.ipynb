{
 "cells": [
  {
   "cell_type": "markdown",
   "id": "external-blues",
   "metadata": {},
   "source": [
    "## Chapter 7 - Exercise 5: Trực quan hóa dữ liệu Loan"
   ]
  },
  {
   "cell_type": "markdown",
   "id": "increasing-portland",
   "metadata": {},
   "source": [
    "#### Cho tập dữ liệu loan_train.csv"
   ]
  },
  {
   "cell_type": "markdown",
   "id": "responsible-pipeline",
   "metadata": {},
   "source": [
    "Tập dữ liệu gồm có 346 khách hàng, KH đã trả hết các khoản vay hoặc còn đang trả. Giải thích các thuộc tính sau:\n",
    "\n",
    "| Field          | Description                                                                           |\n",
    "|----------------|---------------------------------------------------------------------------------------|\n",
    "| Loan_status    | Whether a loan is paid off on in collection (<b>khoản vay đã trả hết hoặc còn đang trả</b>)                                           |\n",
    "| Principal      | Basic principal loan amount at the (<b>Số tiền cho vay gốc</b>)|\n",
    "| Terms          | Origination terms which can be weekly (7 days), biweekly, and monthly payoff schedule (<b>lịch trình thanh toán hàng tháng</b>) |\n",
    "| Effective_date | When the loan got originated and took effects (<b>Ngày thực_hiện khi khoản vay có nguồn gốc và có hiệu lực</b>)                                         |\n",
    "| Due_date       | Since it’s one-time payoff schedule, each loan has one single due date (<b> Ngày đến hạn </b>)                |\n",
    "| Age            | Age of applicant (<b>Tuổi của KH vay</b>)                                                                      |\n",
    "| Education      | Education of applicant (<b>Trình độ học vấn</b>)                                                                |\n",
    "| Gender         | The gender of applicant (<b>Giới tính</b>)                                                               |"
   ]
  },
  {
   "cell_type": "code",
   "execution_count": 1,
   "id": "hundred-planning",
   "metadata": {},
   "outputs": [],
   "source": [
    "import numpy as np\n",
    "import pandas as pd\n",
    "import matplotlib.pyplot as plt\n",
    "import seaborn as sns"
   ]
  },
  {
   "cell_type": "code",
   "execution_count": 2,
   "id": "bibliographic-honduras",
   "metadata": {},
   "outputs": [],
   "source": [
    "loan = pd.read_csv('data/loan_train.csv')\n",
    "loan.drop(columns=['Unnamed: 0','Unnamed: 0.1'], inplace=True)"
   ]
  },
  {
   "cell_type": "code",
   "execution_count": 3,
   "id": "opposed-airline",
   "metadata": {},
   "outputs": [
    {
     "data": {
      "text/plain": [
       "(346, 8)"
      ]
     },
     "execution_count": 3,
     "metadata": {},
     "output_type": "execute_result"
    }
   ],
   "source": [
    "loan.shape"
   ]
  },
  {
   "cell_type": "code",
   "execution_count": 4,
   "id": "wanted-roller",
   "metadata": {},
   "outputs": [
    {
     "data": {
      "text/html": [
       "<div>\n",
       "<style scoped>\n",
       "    .dataframe tbody tr th:only-of-type {\n",
       "        vertical-align: middle;\n",
       "    }\n",
       "\n",
       "    .dataframe tbody tr th {\n",
       "        vertical-align: top;\n",
       "    }\n",
       "\n",
       "    .dataframe thead th {\n",
       "        text-align: right;\n",
       "    }\n",
       "</style>\n",
       "<table border=\"1\" class=\"dataframe\">\n",
       "  <thead>\n",
       "    <tr style=\"text-align: right;\">\n",
       "      <th></th>\n",
       "      <th>loan_status</th>\n",
       "      <th>Principal</th>\n",
       "      <th>terms</th>\n",
       "      <th>effective_date</th>\n",
       "      <th>due_date</th>\n",
       "      <th>age</th>\n",
       "      <th>education</th>\n",
       "      <th>Gender</th>\n",
       "    </tr>\n",
       "  </thead>\n",
       "  <tbody>\n",
       "    <tr>\n",
       "      <th>0</th>\n",
       "      <td>PAIDOFF</td>\n",
       "      <td>1000</td>\n",
       "      <td>30</td>\n",
       "      <td>9/8/2016</td>\n",
       "      <td>10/7/2016</td>\n",
       "      <td>45</td>\n",
       "      <td>High School or Below</td>\n",
       "      <td>male</td>\n",
       "    </tr>\n",
       "    <tr>\n",
       "      <th>1</th>\n",
       "      <td>PAIDOFF</td>\n",
       "      <td>1000</td>\n",
       "      <td>30</td>\n",
       "      <td>9/8/2016</td>\n",
       "      <td>10/7/2016</td>\n",
       "      <td>33</td>\n",
       "      <td>Bechalor</td>\n",
       "      <td>female</td>\n",
       "    </tr>\n",
       "    <tr>\n",
       "      <th>2</th>\n",
       "      <td>PAIDOFF</td>\n",
       "      <td>1000</td>\n",
       "      <td>15</td>\n",
       "      <td>9/8/2016</td>\n",
       "      <td>9/22/2016</td>\n",
       "      <td>27</td>\n",
       "      <td>college</td>\n",
       "      <td>male</td>\n",
       "    </tr>\n",
       "    <tr>\n",
       "      <th>3</th>\n",
       "      <td>PAIDOFF</td>\n",
       "      <td>1000</td>\n",
       "      <td>30</td>\n",
       "      <td>9/9/2016</td>\n",
       "      <td>10/8/2016</td>\n",
       "      <td>28</td>\n",
       "      <td>college</td>\n",
       "      <td>female</td>\n",
       "    </tr>\n",
       "    <tr>\n",
       "      <th>4</th>\n",
       "      <td>PAIDOFF</td>\n",
       "      <td>1000</td>\n",
       "      <td>30</td>\n",
       "      <td>9/9/2016</td>\n",
       "      <td>10/8/2016</td>\n",
       "      <td>29</td>\n",
       "      <td>college</td>\n",
       "      <td>male</td>\n",
       "    </tr>\n",
       "  </tbody>\n",
       "</table>\n",
       "</div>"
      ],
      "text/plain": [
       "  loan_status  Principal  terms effective_date   due_date  age  \\\n",
       "0     PAIDOFF       1000     30       9/8/2016  10/7/2016   45   \n",
       "1     PAIDOFF       1000     30       9/8/2016  10/7/2016   33   \n",
       "2     PAIDOFF       1000     15       9/8/2016  9/22/2016   27   \n",
       "3     PAIDOFF       1000     30       9/9/2016  10/8/2016   28   \n",
       "4     PAIDOFF       1000     30       9/9/2016  10/8/2016   29   \n",
       "\n",
       "              education  Gender  \n",
       "0  High School or Below    male  \n",
       "1              Bechalor  female  \n",
       "2               college    male  \n",
       "3               college  female  \n",
       "4               college    male  "
      ]
     },
     "execution_count": 4,
     "metadata": {},
     "output_type": "execute_result"
    }
   ],
   "source": [
    "loan.head()"
   ]
  },
  {
   "cell_type": "code",
   "execution_count": 5,
   "id": "passive-choir",
   "metadata": {},
   "outputs": [
    {
     "name": "stdout",
     "output_type": "stream",
     "text": [
      "<class 'pandas.core.frame.DataFrame'>\n",
      "RangeIndex: 346 entries, 0 to 345\n",
      "Data columns (total 8 columns):\n",
      " #   Column          Non-Null Count  Dtype \n",
      "---  ------          --------------  ----- \n",
      " 0   loan_status     346 non-null    object\n",
      " 1   Principal       346 non-null    int64 \n",
      " 2   terms           346 non-null    int64 \n",
      " 3   effective_date  346 non-null    object\n",
      " 4   due_date        346 non-null    object\n",
      " 5   age             346 non-null    int64 \n",
      " 6   education       346 non-null    object\n",
      " 7   Gender          346 non-null    object\n",
      "dtypes: int64(3), object(5)\n",
      "memory usage: 21.8+ KB\n"
     ]
    }
   ],
   "source": [
    "loan.info()"
   ]
  },
  {
   "cell_type": "code",
   "execution_count": 6,
   "id": "physical-mortality",
   "metadata": {},
   "outputs": [],
   "source": [
    "# Câu 1: Vẽ biểu đồ biểu diễn tần suất của Principal theo hai nhóm: Gender và loan_status\n",
    "# cho nhận xét\n"
   ]
  },
  {
   "cell_type": "markdown",
   "id": "proper-reducing",
   "metadata": {},
   "source": [
    "<details>\n",
    "  <summary style='color:#FD6504; font-size:14px'>Nhấn vào đây để xem kết quả!</summary>\n",
    "<img src=\"data:image/png;base64,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\n",
    "\">\n",
    "</details>"
   ]
  },
  {
   "cell_type": "code",
   "execution_count": 7,
   "id": "minute-break",
   "metadata": {},
   "outputs": [],
   "source": [
    "# Câu 2: Vẽ biểu đồ biểu diễn phân phối của Principal theo hai nhóm: Gender và loan_status\n",
    "# cho nhận xét\n"
   ]
  },
  {
   "cell_type": "markdown",
   "id": "artistic-vessel",
   "metadata": {},
   "source": [
    "<details>\n",
    "  <summary style='color:#FD6504; font-size:14px'>Nhấn vào đây để xem kết quả!</summary>\n",
    "<img src=\"data:image/png;base64,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\n",
    "\">\n",
    "</details>"
   ]
  },
  {
   "cell_type": "code",
   "execution_count": 8,
   "id": "suitable-support",
   "metadata": {},
   "outputs": [],
   "source": [
    "# Câu 3: Vẽ biểu đồ biểu diễn phân phối của age theo hai nhóm: Gender và loan_status\n",
    "# cho nhận xét\n"
   ]
  },
  {
   "cell_type": "markdown",
   "id": "alone-frequency",
   "metadata": {},
   "source": [
    "<details>\n",
    "  <summary style='color:#FD6504; font-size:14px'>Nhấn vào đây để xem kết quả!</summary>\n",
    "<img src=\"data:image/png;base64,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\n",
    "\">\n",
    "</details>"
   ]
  },
  {
   "cell_type": "code",
   "execution_count": 9,
   "id": "organized-watson",
   "metadata": {},
   "outputs": [],
   "source": [
    "# Câu 4: Vẽ biểu đồ biểu diễn phân phối của dayofweek theo hai nhóm: Gender và loan_status\n",
    "\n",
    "# tạo cột dayofweek (Monday=0, Sunday=6)\n",
    "loan['dayofweek'] = pd.to_datetime(loan.effective_date).dt.dayofweek\n",
    "\n",
    "# vẽ biểu đồ\n"
   ]
  },
  {
   "cell_type": "markdown",
   "id": "rolled-swiss",
   "metadata": {},
   "source": [
    "<details>\n",
    "  <summary style='color:#FD6504; font-size:14px'>Nhấn vào đây để xem kết quả!</summary>\n",
    "<img src=\"data:image/png;base64,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\n",
    "\">\n",
    "</details>"
   ]
  },
  {
   "cell_type": "code",
   "execution_count": null,
   "id": "substantial-cornell",
   "metadata": {},
   "outputs": [],
   "source": []
  }
 ],
 "metadata": {
  "kernelspec": {
   "display_name": "Python 3",
   "language": "python",
   "name": "python3"
  },
  "language_info": {
   "codemirror_mode": {
    "name": "ipython",
    "version": 3
   },
   "file_extension": ".py",
   "mimetype": "text/x-python",
   "name": "python",
   "nbconvert_exporter": "python",
   "pygments_lexer": "ipython3",
   "version": "3.9.2"
  }
 },
 "nbformat": 4,
 "nbformat_minor": 5
}
