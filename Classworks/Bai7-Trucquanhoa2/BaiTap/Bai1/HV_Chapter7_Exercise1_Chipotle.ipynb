{
 "cells": [
  {
   "cell_type": "markdown",
   "metadata": {},
   "source": [
    "## Chapter 7 - Exercise 1: Trực quan hóa dữ liệu Chipotle"
   ]
  },
  {
   "cell_type": "markdown",
   "metadata": {},
   "source": [
    "#### Cho dữ liệu https://raw.githubusercontent.com/justmarkham/DAT8/master/data/chipotle.tsv"
   ]
  },
  {
   "cell_type": "markdown",
   "metadata": {},
   "source": [
    "Nhà hàng Chipotle cần phân tích dữ liệu bán được trong ngày diễn ra khuyến mãi để có thể điều chỉnh thực đơn và thực hiện các chương trình khuyến mãi phù hợp.\n",
    "\n",
    "Dữ liệu được cung cấp trong file chipotle.tsv, hãy thực hiện các yêu cầu sau:"
   ]
  },
  {
   "cell_type": "code",
   "execution_count": 1,
   "metadata": {},
   "outputs": [],
   "source": [
    "import pandas as pd\n",
    "import matplotlib.pyplot as plt \n",
    "import seaborn as sns"
   ]
  },
  {
   "cell_type": "code",
   "execution_count": 2,
   "metadata": {
    "scrolled": true
   },
   "outputs": [
    {
     "data": {
      "text/html": [
       "<div>\n",
       "<style scoped>\n",
       "    .dataframe tbody tr th:only-of-type {\n",
       "        vertical-align: middle;\n",
       "    }\n",
       "\n",
       "    .dataframe tbody tr th {\n",
       "        vertical-align: top;\n",
       "    }\n",
       "\n",
       "    .dataframe thead th {\n",
       "        text-align: right;\n",
       "    }\n",
       "</style>\n",
       "<table border=\"1\" class=\"dataframe\">\n",
       "  <thead>\n",
       "    <tr style=\"text-align: right;\">\n",
       "      <th></th>\n",
       "      <th>order_id</th>\n",
       "      <th>quantity</th>\n",
       "      <th>item_name</th>\n",
       "      <th>choice_description</th>\n",
       "      <th>item_price</th>\n",
       "    </tr>\n",
       "  </thead>\n",
       "  <tbody>\n",
       "    <tr>\n",
       "      <th>0</th>\n",
       "      <td>1</td>\n",
       "      <td>1</td>\n",
       "      <td>Chips and Fresh Tomato Salsa</td>\n",
       "      <td>NaN</td>\n",
       "      <td>$2.39</td>\n",
       "    </tr>\n",
       "    <tr>\n",
       "      <th>1</th>\n",
       "      <td>1</td>\n",
       "      <td>1</td>\n",
       "      <td>Izze</td>\n",
       "      <td>[Clementine]</td>\n",
       "      <td>$3.39</td>\n",
       "    </tr>\n",
       "    <tr>\n",
       "      <th>2</th>\n",
       "      <td>1</td>\n",
       "      <td>1</td>\n",
       "      <td>Nantucket Nectar</td>\n",
       "      <td>[Apple]</td>\n",
       "      <td>$3.39</td>\n",
       "    </tr>\n",
       "    <tr>\n",
       "      <th>3</th>\n",
       "      <td>1</td>\n",
       "      <td>1</td>\n",
       "      <td>Chips and Tomatillo-Green Chili Salsa</td>\n",
       "      <td>NaN</td>\n",
       "      <td>$2.39</td>\n",
       "    </tr>\n",
       "    <tr>\n",
       "      <th>4</th>\n",
       "      <td>2</td>\n",
       "      <td>2</td>\n",
       "      <td>Chicken Bowl</td>\n",
       "      <td>[Tomatillo-Red Chili Salsa (Hot), [Black Beans...</td>\n",
       "      <td>$16.98</td>\n",
       "    </tr>\n",
       "    <tr>\n",
       "      <th>5</th>\n",
       "      <td>3</td>\n",
       "      <td>1</td>\n",
       "      <td>Chicken Bowl</td>\n",
       "      <td>[Fresh Tomato Salsa (Mild), [Rice, Cheese, Sou...</td>\n",
       "      <td>$10.98</td>\n",
       "    </tr>\n",
       "    <tr>\n",
       "      <th>6</th>\n",
       "      <td>3</td>\n",
       "      <td>1</td>\n",
       "      <td>Side of Chips</td>\n",
       "      <td>NaN</td>\n",
       "      <td>$1.69</td>\n",
       "    </tr>\n",
       "    <tr>\n",
       "      <th>7</th>\n",
       "      <td>4</td>\n",
       "      <td>1</td>\n",
       "      <td>Steak Burrito</td>\n",
       "      <td>[Tomatillo Red Chili Salsa, [Fajita Vegetables...</td>\n",
       "      <td>$11.75</td>\n",
       "    </tr>\n",
       "    <tr>\n",
       "      <th>8</th>\n",
       "      <td>4</td>\n",
       "      <td>1</td>\n",
       "      <td>Steak Soft Tacos</td>\n",
       "      <td>[Tomatillo Green Chili Salsa, [Pinto Beans, Ch...</td>\n",
       "      <td>$9.25</td>\n",
       "    </tr>\n",
       "    <tr>\n",
       "      <th>9</th>\n",
       "      <td>5</td>\n",
       "      <td>1</td>\n",
       "      <td>Steak Burrito</td>\n",
       "      <td>[Fresh Tomato Salsa, [Rice, Black Beans, Pinto...</td>\n",
       "      <td>$9.25</td>\n",
       "    </tr>\n",
       "  </tbody>\n",
       "</table>\n",
       "</div>"
      ],
      "text/plain": [
       "   order_id  quantity                              item_name  \\\n",
       "0         1         1           Chips and Fresh Tomato Salsa   \n",
       "1         1         1                                   Izze   \n",
       "2         1         1                       Nantucket Nectar   \n",
       "3         1         1  Chips and Tomatillo-Green Chili Salsa   \n",
       "4         2         2                           Chicken Bowl   \n",
       "5         3         1                           Chicken Bowl   \n",
       "6         3         1                          Side of Chips   \n",
       "7         4         1                          Steak Burrito   \n",
       "8         4         1                       Steak Soft Tacos   \n",
       "9         5         1                          Steak Burrito   \n",
       "\n",
       "                                  choice_description item_price  \n",
       "0                                                NaN     $2.39   \n",
       "1                                       [Clementine]     $3.39   \n",
       "2                                            [Apple]     $3.39   \n",
       "3                                                NaN     $2.39   \n",
       "4  [Tomatillo-Red Chili Salsa (Hot), [Black Beans...    $16.98   \n",
       "5  [Fresh Tomato Salsa (Mild), [Rice, Cheese, Sou...    $10.98   \n",
       "6                                                NaN     $1.69   \n",
       "7  [Tomatillo Red Chili Salsa, [Fajita Vegetables...    $11.75   \n",
       "8  [Tomatillo Green Chili Salsa, [Pinto Beans, Ch...     $9.25   \n",
       "9  [Fresh Tomato Salsa, [Rice, Black Beans, Pinto...     $9.25   "
      ]
     },
     "execution_count": 2,
     "metadata": {},
     "output_type": "execute_result"
    }
   ],
   "source": [
    "# Câu 1: Đọc dữ liệu và gán vào biến chipo \n",
    "url = 'https://raw.githubusercontent.com/justmarkham/DAT8/master/data/chipotle.tsv'  \n",
    "chipo = pd.read_csv(url, sep = '\\t')\n",
    "# Hiển thị 10 dòng đầu của dữ liệu\n",
    "chipo.head(10)"
   ]
  },
  {
   "cell_type": "code",
   "execution_count": 3,
   "metadata": {
    "scrolled": true
   },
   "outputs": [
    {
     "data": {
      "text/html": [
       "<div>\n",
       "<style scoped>\n",
       "    .dataframe tbody tr th:only-of-type {\n",
       "        vertical-align: middle;\n",
       "    }\n",
       "\n",
       "    .dataframe tbody tr th {\n",
       "        vertical-align: top;\n",
       "    }\n",
       "\n",
       "    .dataframe thead th {\n",
       "        text-align: right;\n",
       "    }\n",
       "</style>\n",
       "<table border=\"1\" class=\"dataframe\">\n",
       "  <thead>\n",
       "    <tr style=\"text-align: right;\">\n",
       "      <th></th>\n",
       "      <th>order_id</th>\n",
       "      <th>quantity</th>\n",
       "      <th>item_name</th>\n",
       "      <th>choice_description</th>\n",
       "      <th>item_price</th>\n",
       "    </tr>\n",
       "  </thead>\n",
       "  <tbody>\n",
       "    <tr>\n",
       "      <th>4612</th>\n",
       "      <td>1831</td>\n",
       "      <td>1</td>\n",
       "      <td>Carnitas Bowl</td>\n",
       "      <td>[Fresh Tomato Salsa, [Fajita Vegetables, Rice,...</td>\n",
       "      <td>$9.25</td>\n",
       "    </tr>\n",
       "    <tr>\n",
       "      <th>4613</th>\n",
       "      <td>1831</td>\n",
       "      <td>1</td>\n",
       "      <td>Chips</td>\n",
       "      <td>NaN</td>\n",
       "      <td>$2.15</td>\n",
       "    </tr>\n",
       "    <tr>\n",
       "      <th>4614</th>\n",
       "      <td>1831</td>\n",
       "      <td>1</td>\n",
       "      <td>Bottled Water</td>\n",
       "      <td>NaN</td>\n",
       "      <td>$1.50</td>\n",
       "    </tr>\n",
       "    <tr>\n",
       "      <th>4615</th>\n",
       "      <td>1832</td>\n",
       "      <td>1</td>\n",
       "      <td>Chicken Soft Tacos</td>\n",
       "      <td>[Fresh Tomato Salsa, [Rice, Cheese, Sour Cream]]</td>\n",
       "      <td>$8.75</td>\n",
       "    </tr>\n",
       "    <tr>\n",
       "      <th>4616</th>\n",
       "      <td>1832</td>\n",
       "      <td>1</td>\n",
       "      <td>Chips and Guacamole</td>\n",
       "      <td>NaN</td>\n",
       "      <td>$4.45</td>\n",
       "    </tr>\n",
       "    <tr>\n",
       "      <th>4617</th>\n",
       "      <td>1833</td>\n",
       "      <td>1</td>\n",
       "      <td>Steak Burrito</td>\n",
       "      <td>[Fresh Tomato Salsa, [Rice, Black Beans, Sour ...</td>\n",
       "      <td>$11.75</td>\n",
       "    </tr>\n",
       "    <tr>\n",
       "      <th>4618</th>\n",
       "      <td>1833</td>\n",
       "      <td>1</td>\n",
       "      <td>Steak Burrito</td>\n",
       "      <td>[Fresh Tomato Salsa, [Rice, Sour Cream, Cheese...</td>\n",
       "      <td>$11.75</td>\n",
       "    </tr>\n",
       "    <tr>\n",
       "      <th>4619</th>\n",
       "      <td>1834</td>\n",
       "      <td>1</td>\n",
       "      <td>Chicken Salad Bowl</td>\n",
       "      <td>[Fresh Tomato Salsa, [Fajita Vegetables, Pinto...</td>\n",
       "      <td>$11.25</td>\n",
       "    </tr>\n",
       "    <tr>\n",
       "      <th>4620</th>\n",
       "      <td>1834</td>\n",
       "      <td>1</td>\n",
       "      <td>Chicken Salad Bowl</td>\n",
       "      <td>[Fresh Tomato Salsa, [Fajita Vegetables, Lettu...</td>\n",
       "      <td>$8.75</td>\n",
       "    </tr>\n",
       "    <tr>\n",
       "      <th>4621</th>\n",
       "      <td>1834</td>\n",
       "      <td>1</td>\n",
       "      <td>Chicken Salad Bowl</td>\n",
       "      <td>[Fresh Tomato Salsa, [Fajita Vegetables, Pinto...</td>\n",
       "      <td>$8.75</td>\n",
       "    </tr>\n",
       "  </tbody>\n",
       "</table>\n",
       "</div>"
      ],
      "text/plain": [
       "      order_id  quantity            item_name  \\\n",
       "4612      1831         1        Carnitas Bowl   \n",
       "4613      1831         1                Chips   \n",
       "4614      1831         1        Bottled Water   \n",
       "4615      1832         1   Chicken Soft Tacos   \n",
       "4616      1832         1  Chips and Guacamole   \n",
       "4617      1833         1        Steak Burrito   \n",
       "4618      1833         1        Steak Burrito   \n",
       "4619      1834         1   Chicken Salad Bowl   \n",
       "4620      1834         1   Chicken Salad Bowl   \n",
       "4621      1834         1   Chicken Salad Bowl   \n",
       "\n",
       "                                     choice_description item_price  \n",
       "4612  [Fresh Tomato Salsa, [Fajita Vegetables, Rice,...     $9.25   \n",
       "4613                                                NaN     $2.15   \n",
       "4614                                                NaN     $1.50   \n",
       "4615   [Fresh Tomato Salsa, [Rice, Cheese, Sour Cream]]     $8.75   \n",
       "4616                                                NaN     $4.45   \n",
       "4617  [Fresh Tomato Salsa, [Rice, Black Beans, Sour ...    $11.75   \n",
       "4618  [Fresh Tomato Salsa, [Rice, Sour Cream, Cheese...    $11.75   \n",
       "4619  [Fresh Tomato Salsa, [Fajita Vegetables, Pinto...    $11.25   \n",
       "4620  [Fresh Tomato Salsa, [Fajita Vegetables, Lettu...     $8.75   \n",
       "4621  [Fresh Tomato Salsa, [Fajita Vegetables, Pinto...     $8.75   "
      ]
     },
     "execution_count": 3,
     "metadata": {},
     "output_type": "execute_result"
    }
   ],
   "source": [
    "chipo.tail(10)"
   ]
  },
  {
   "cell_type": "code",
   "execution_count": 4,
   "metadata": {},
   "outputs": [
    {
     "data": {
      "text/plain": [
       "(4622, 5)"
      ]
     },
     "execution_count": 4,
     "metadata": {},
     "output_type": "execute_result"
    }
   ],
   "source": [
    "chipo.shape"
   ]
  },
  {
   "cell_type": "code",
   "execution_count": 5,
   "metadata": {},
   "outputs": [
    {
     "name": "stdout",
     "output_type": "stream",
     "text": [
      "<class 'pandas.core.frame.DataFrame'>\n",
      "RangeIndex: 4622 entries, 0 to 4621\n",
      "Data columns (total 5 columns):\n",
      " #   Column              Non-Null Count  Dtype \n",
      "---  ------              --------------  ----- \n",
      " 0   order_id            4622 non-null   int64 \n",
      " 1   quantity            4622 non-null   int64 \n",
      " 2   item_name           4622 non-null   object\n",
      " 3   choice_description  3376 non-null   object\n",
      " 4   item_price          4622 non-null   object\n",
      "dtypes: int64(2), object(3)\n",
      "memory usage: 180.7+ KB\n"
     ]
    }
   ],
   "source": [
    "chipo.info()"
   ]
  },
  {
   "cell_type": "code",
   "execution_count": 6,
   "metadata": {},
   "outputs": [],
   "source": [
    "# Câu 2: \n",
    "# a) Đổi kiểu dữ liệu của cột item_price sang kiểu số thực \n"
   ]
  },
  {
   "cell_type": "markdown",
   "metadata": {},
   "source": [
    "<details>\n",
    "  <summary style='color:#FD6504; font-size:14px'>Nhấn vào đây để xem kết quả!</summary>\n",
    "<table border=\"1\" class=\"dataframe\">\n",
    "  <thead>\n",
    "    <tr style=\"text-align: right;\">\n",
    "      <th></th>\n",
    "      <th>order_id</th>\n",
    "      <th>quantity</th>\n",
    "      <th>item_name</th>\n",
    "      <th>choice_description</th>\n",
    "      <th>item_price</th>\n",
    "    </tr>\n",
    "  </thead>\n",
    "  <tbody>\n",
    "    <tr>\n",
    "      <th>0</th>\n",
    "      <td>1</td>\n",
    "      <td>1</td>\n",
    "      <td>Chips and Fresh Tomato Salsa</td>\n",
    "      <td>NaN</td>\n",
    "      <td>2.39</td>\n",
    "    </tr>\n",
    "    <tr>\n",
    "      <th>1</th>\n",
    "      <td>1</td>\n",
    "      <td>1</td>\n",
    "      <td>Izze</td>\n",
    "      <td>[Clementine]</td>\n",
    "      <td>3.39</td>\n",
    "    </tr>\n",
    "    <tr>\n",
    "      <th>2</th>\n",
    "      <td>1</td>\n",
    "      <td>1</td>\n",
    "      <td>Nantucket Nectar</td>\n",
    "      <td>[Apple]</td>\n",
    "      <td>3.39</td>\n",
    "    </tr>\n",
    "    <tr>\n",
    "      <th>3</th>\n",
    "      <td>1</td>\n",
    "      <td>1</td>\n",
    "      <td>Chips and Tomatillo-Green Chili Salsa</td>\n",
    "      <td>NaN</td>\n",
    "      <td>2.39</td>\n",
    "    </tr>\n",
    "    <tr>\n",
    "      <th>4</th>\n",
    "      <td>2</td>\n",
    "      <td>2</td>\n",
    "      <td>Chicken Bowl</td>\n",
    "      <td>[Tomatillo-Red Chili Salsa (Hot), [Black Beans...</td>\n",
    "      <td>16.98</td>\n",
    "    </tr>\n",
    "  </tbody>\n",
    "</table>\n",
    "</details>"
   ]
  },
  {
   "cell_type": "code",
   "execution_count": 7,
   "metadata": {},
   "outputs": [],
   "source": [
    "# b) Tạo cột revenue, với revenue = quantity * item_price\n"
   ]
  },
  {
   "cell_type": "markdown",
   "metadata": {},
   "source": [
    "<details>\n",
    "  <summary style='color:#FD6504; font-size:14px'>Nhấn vào đây để xem kết quả!</summary>\n",
    "<table border=\"1\" class=\"dataframe\">\n",
    "  <thead>\n",
    "    <tr style=\"text-align: right;\">\n",
    "      <th></th>\n",
    "      <th>order_id</th>\n",
    "      <th>quantity</th>\n",
    "      <th>item_name</th>\n",
    "      <th>choice_description</th>\n",
    "      <th>item_price</th>\n",
    "      <th>revenue</th>\n",
    "    </tr>\n",
    "  </thead>\n",
    "  <tbody>\n",
    "    <tr>\n",
    "      <th>0</th>\n",
    "      <td>1</td>\n",
    "      <td>1</td>\n",
    "      <td>Chips and Fresh Tomato Salsa</td>\n",
    "      <td>NaN</td>\n",
    "      <td>2.39</td>\n",
    "      <td>2.39</td>\n",
    "    </tr>\n",
    "    <tr>\n",
    "      <th>1</th>\n",
    "      <td>1</td>\n",
    "      <td>1</td>\n",
    "      <td>Izze</td>\n",
    "      <td>[Clementine]</td>\n",
    "      <td>3.39</td>\n",
    "      <td>3.39</td>\n",
    "    </tr>\n",
    "    <tr>\n",
    "      <th>2</th>\n",
    "      <td>1</td>\n",
    "      <td>1</td>\n",
    "      <td>Nantucket Nectar</td>\n",
    "      <td>[Apple]</td>\n",
    "      <td>3.39</td>\n",
    "      <td>3.39</td>\n",
    "    </tr>\n",
    "    <tr>\n",
    "      <th>3</th>\n",
    "      <td>1</td>\n",
    "      <td>1</td>\n",
    "      <td>Chips and Tomatillo-Green Chili Salsa</td>\n",
    "      <td>NaN</td>\n",
    "      <td>2.39</td>\n",
    "      <td>2.39</td>\n",
    "    </tr>\n",
    "    <tr>\n",
    "      <th>4</th>\n",
    "      <td>2</td>\n",
    "      <td>2</td>\n",
    "      <td>Chicken Bowl</td>\n",
    "      <td>[Tomatillo-Red Chili Salsa (Hot), [Black Beans...</td>\n",
    "      <td>16.98</td>\n",
    "      <td>33.96</td>\n",
    "    </tr>\n",
    "  </tbody>\n",
    "</table>\n",
    "</details>"
   ]
  },
  {
   "cell_type": "code",
   "execution_count": 8,
   "metadata": {},
   "outputs": [],
   "source": [
    "# Câu 3\n",
    "# a) Vẽ biểu đồ countplot cho biết 5 món được gọi nhiều nhất \n",
    "# (có title, xlabel, ylabel và xticks)\n"
   ]
  },
  {
   "cell_type": "markdown",
   "metadata": {},
   "source": [
    "<details>\n",
    "  <summary style='color:#FD6504; font-size:14px'>Nhấn vào đây để xem kết quả!</summary>\n",
    "<img src=\"data:image/png;base64,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\n",
    "\">\n",
    "</details>"
   ]
  },
  {
   "cell_type": "code",
   "execution_count": 9,
   "metadata": {},
   "outputs": [],
   "source": [
    "# b) Vẽ biểu đồ barplot cho biết 5 món được gọi nhiều nhất và trung bình item_price\n"
   ]
  },
  {
   "cell_type": "markdown",
   "metadata": {},
   "source": [
    "<details>\n",
    "  <summary style='color:#FD6504; font-size:14px'>Nhấn vào đây để xem kết quả!</summary>\n",
    "<img src=\"data:image/png;base64,iVBORw0KGgoAAAANSUhEUgAAAeAAAAEHCAYAAAB2lZWvAAAAOXRFWHRTb2Z0d2FyZQBNYXRwbG90bGliIHZlcnNpb24zLjQuMSwgaHR0cHM6Ly9tYXRwbG90bGliLm9yZy/Z1A+gAAAACXBIWXMAAAsTAAALEwEAmpwYAAAeeUlEQVR4nO3deZQnVX338fcHBtkG8UFAFIRBZQkg62hAdiEec0TUCEElAiY6JEcRTDTB5SiJj0tiNHENAjGgEkF5XEBRQZBFCMIMDDMMgoi4oCIQNwYDDsP3+aNuS9OZXn4z3V1Dz/t1Dqd/detW1bcaDp++t+pXlapCkiRNr7X6LkCSpDWRASxJUg8MYEmSemAAS5LUAwNYkqQezOq7AD02bLrppjVnzpy+y5Ckx5QFCxbcW1WbrWidAawJmTNnDvPnz++7DEl6TEnyw9HWOQUtSVIPDGBJknpgAEuS1AOvAWtCvnPnf7PXmz7ZdxmStMoWvO+YvksAHAFLktQLA1iSpB4YwJIk9cAAliSpBwawJEk9MIAlSeqBASxJUg8MYEmSemAAS5LUAwNYkqQeGMCSJPXAAJYkqQcGsCRJPTCAmyRbJDknye1JFiS5MMn2SQ5K8uVRtjkjyU5j7POUJG+c5DqPS3JPkoVJliQ5L8kGk7DPj0xWjZKk8RnAQJIAXwAuq6qnV9VewJuBJ421XVW9uqpuno4aRzi3qnavqp2B3wFH9VCDJGkVGMCdg4FlVXXqUENV3VhVV7bF2W2keUuSs1tgk+SyJHPb5+cnuT7JjUkuGXmAJK9J8tUk6yf5syTXtlHsx5Os3fosTfKuto9rkoz5B0CSWcCGwC/b8pwklyZZlOSSJFsnWTvJHek8IcnyJAe0/lck2W7Vf32SpEEZwJ1dgAVjrN8DOAnYCXgasO/wlUk2A04HXlpVuwFHjlj/OuAw4MXAHLoR675VtTuwHDi6dd0QuKbt4wrgNaPUc1SShcBPgE2AC1r7h4GzqmpX4GzgQ1W1HLi11b4fcD2wf5J1gadW1W2jnXSSeUnmJ5n/0G/vG62bJGklGMATc21V3VlVDwML6UJ0uL2BK6rqDoCq+sWwdccAfwwcUVUPAocAewHXtRA9hC7UoZtOHrrevGAFxxlybgvvLYDFwJta+z7Af7bPn6ILXIArgQPaP+9p7c8CrhvrpKvqtKqaW1VzZ22w0VhdJUkDMoA7S+hCcTQPDvu8HJg1wL4X0wXpVm05dKPU3ds/O1TVKW3dsqqqiR6n9b2ALljHcgWwP/Bs4ELgCcBBdMEsSeqBAdy5FFg3ybyhhiS7Jtl/gttfAxyQZNu27SbD1t0AHA+cn+QpwCXAEUk2H+qbZJtVqH0/4Pb2+WrgZe3z0TwSsNcCzwEerqoH6Ebxx9MFsySpBwYwvx9JvgQ4tH0NaQndVO1dE9z+HmAe8PkkNwLnjlj/LeCNwFeAu4G3ARclWQRcDDx5wJKPajdwLaK7Pv3O1n4C8KrW/krgxHb8B4Ef0/2hAF0wb0Q3Opck9SCPzHhKo9twi21rx1f+fd9lSNIqW/C+Y6btWEkWVNXcFa1zBCxJUg8MYEmSemAAS5LUAwNYkqQeGMCSJPXAAJYkqQcGsCRJPTCAJUnqgQEsSVIPDGBJknpgAEuS1AMDWJKkHgzyXlutwf5gqycyfxofYC5JM50jYEmSemAAS5LUAwNYkqQeGMCSJPXAAJYkqQcGsCRJPTCAJUnqgd8D1oT87mdL+NE/PLPvMiRpWm399sVTtm9HwJIk9cAAliSpBwawJEk9MIAlSeqBASxJUg8MYEmSemAAS5LUAwNYkqQeGMCSJPXAAJYkqQcGsCRJPTCAJUnqgQEsSVIPDOBhkrw1yZIki5IsTPKHrf2kJBuswn4vSzJ3An1ubcf9TpJ5K3u8Yfs8PMnJ7fOLk+y0qvuUJE0OA7hJsg9wGLBnVe0KHAr8uK0+CVjpAB7A0VW1O7Av8I9JHjfRDZPMGrlcVedX1Xtb04sBA1iSVhO+D/gRTwburaoHAarqXoAkrweeAnwzyb1VdXCS5wF/D6wL3A68qqqWJnk78EJgfeBq4PiqqqEDJFkL+ARwZ1W9bYxaZgP3A8vbdkuranb7fARwWFUdl+RM4AFgD+CqJJuMWF4EzAX+EzgcODDJ24CXAhsBp9L9YXE78OdV9cuV//VJkgbhCPgRFwFPTfLdJB9LciBAVX0I+ClwcAvfTYG3AYdW1Z7AfOCv2z4+UlXPqqpd6EL4sGH7nwWcDdw2Rvie3ULzVuCdVbV8AnVvBTynqv56lGWq6mrgfOBNVbV7Vd0OfBL4uzbaXwy8YwLHkiRNEgO4qaqlwF7APOAe4Nwkx62g6950U7lXJVkIHAts09YdnOTbSRYDzwV2Hrbdx4GbqupdY5RxdAvErYE3JtlmjL5DPjciqEcu/y9JNgaeUFWXt6azgANW0G9ekvlJ5v/i/on8LSBJmiinoIdpwXUZcFkL0WOBM0d0C3BxVb38UY3JesDHgLlV9eMkpwDrDetyNV1Av7+qHhinjnuSXA/8IfBDoIatXm9E9/vHWV5pVXUacBrArluuX+N0lyQNwBFwk2SHJNsNa9qdLvwA7qO7ZgpwDbBvkme07TZMsj2PBOO9SWYDR4w4xL8DFwKfHXnD1Apq2YDuOu7trennSf6gXUN+ycAnN+IcqurXwC+T7N/WvRK4fLQNJUmTzxHwI2YDH07yBOAh4Ht009HQjQK/luSn7TrwccBnkqzb1r+tqr6b5HTgJuAu4LqRB6iqD7Tp308lObqqHh7R5ewk/0N3c9eZVbWgtZ8MfJluanx+q3VQ5wCnt5vKjqAb3Z/awv77wKtWYp+SpJWUYTfpSqPadcv168vHP6PvMiRpWm399sWrtH2SBVW1wudAOAUtSVIPDGBJknpgAEuS1AMDWJKkHhjAkiT1wACWJKkHBrAkST0wgCVJ6oEBLElSDwxgSZJ6YABLktQDA1iSpB74NiRNyOOevDNbv31+32VI0owx0Ag4yfpJdpiqYiRJWlNMOICTvBBYCHytLe+e5PwpqkuSpBltkBHwKcCzgV8BVNVCYNtJr0iSpDXAIAG8rKp+PaKtJrMYSZLWFIPchLUkySuAtZNsB7weuHpqypIkaWYbZAR8ArAz8CDwGeA3wElTUJMkSTPehEfAVfVb4K3tH0mStAomHMBJ5gJvAeYM366qdp38siRJmtkGuQZ8NvAmYDHw8NSUo9XVLXffwr4f3rfvMvQYcdUJV/VdgrTaGySA76kqv/crSdIkGCSA35HkDOASuhuxAKiqz096VZIkzXCDBPCrgB2BdXhkCroAA1iSpAENEsDPqiqfAy1J0iQY5HvAVyfZacoqkSRpDTLICHhvYGGSO+iuAQcov4YkSdLgBgng509ZFZIkrWEGeRLWDwGSbA6sN2UVSZK0BhjkfcCHJ7kNuAO4HPgB8NUpqkuSpBltkJuw3kl3Hfi7VbUtcAhwzZRUJUnSDDfo+4D/G1gryVpV9U1g7hTVJUnSjDbITVi/SjIbuAI4O8ndwP1TU5YkSTPbICPgFwH/A7wB+BpwO/DCqShKkqSZbsIBXFX3V9Xyqnqoqs6qqg+1KelRJdkiyTlJbk+yIMmFSbZPclCSL4+yzRl9P/BjnPqeneSyJLcluT7JV5I8c7prXBmtbi8bSNJqYJD3Af8J8I/A5nQP4Rh6EMfjR+kf4AvAWVX1sta2G/CksY5TVa+eaE3TLcmTgM8Cr6iqq1vbfsDT6V7TKEnShAwyBf1PwOFVtXFVPb6qNhotfJuD6W7cOnWooapurKor2+LsJOcluSXJ2S2wHzVKS7I0yb8kWZLkkiSbtfbXJ7k5yaIk54w8cJI5Sa5sI9TrkzyntR/U9r+i4z6/tV0P/Mko5/Q6uj8orh52Tt+qqi+2fZyZ5IhhdSxtP2e3+q9PsjjJi4b1Oaadx41JPtXaXpjk20luSPKNFvwkOSXJWe3cfpjkT5L8U9vn15Ks0/od0rZdnOQTSdZdwe/oeUn+q9X0uXZ9X5I0TQYJ4J9X1XcG6L8LsGCM9XsAJwE7AU8DVvS29w2B+VW1M913j9/R2k8G9miPwfzLFWx3N/BHVbUncBTwobGOm2Q94HS6a9p7AVuMUvPOwPVjnNNoHgBe0uo5GHh/OjsDbwOeW1W7ASe2/t8C9q6qPYBzgL8dtq+nA88FDgc+DXyzqp5Jd33+Be1czgSOau2zgL8aXkySTdtxD201zQf+emTRSeYlmZ9k/rKly1bitCVJoxnkLuj5Sc4FvsjkvA/42qq6EyDJQmAOXfAM9zBwbvv8aR559eEiujuxv9jqGWkd4CNJdgeWA9uPc9ylwB1VdVtr/zQwb7wTSPJt4PHARVV14lhdgXcnOaCd05Z0U/HPBT5XVfcCVNUvWv+tgHOTPBl4HN3DT4Z8taqWJVkMrE13Qxx0U+BzgB3auXy3tZ8FvBb412H72JvuD5Cr2gTA44D/Gll0VZ0GnAYwe+vZNdbvQpI0mEEC+PHAb4HnDWsb633AS4AjRlkHw0KcLiQnUstQCLwAOIBuxPrWJM+sqoeG9XsD8HNgN7pR/gOreNwhS4A9gS8BVNUftinnw9r6h9rxSLIWXbABHA1sBuzVwvMHjP04zw8DH6iq85McBJwysv6qejjJsqoa+p08PMC5BLi4ql4+wf6SpEk2yF3Qr1rBP38+tD7Jm0dscimwbpJ5w/rsmmT/AesbCvFXAN9qwfbU9iCQvwM2BkZev9wY+FlVPQy8km6kOJZbgDlJnt6WRwumjwLHDV1TbjYY9vkHdFPY0E0RrzOsnrtb+B4MbNPaLwWOTPJEgCSbDOv/k/b52HFqH+nWdi7PaMuvpJu+H+4auqn3Z7TjbphkeyRJ02aQa8DjOXL4QhuZvQQ4NN3XkJYA7wHuGmCf9wPPTnIT3XTtP9CF6afbFOwNwIeq6lcjtvsYcGySG4EdGeeBIVX1AN2U81faTVh3j9LvLrpryu9J8r0kV9P9gfCR1uV04MB23H2GHfdsYG6r+Ri6wKeqlgDvAi5v23yg9T8F+FySBcC9Y9U+yrm8qm2/mG5kfOqIPvcAxwGfSbKIbvp5x0GOI0laNXlkBnMVd5Tc0G4amjRJllaVd+euBmZvPbt2e9NufZehx4irTriq7xKk1UKSBVW1wucvTOYI2Jt0JEmaoMkM4EzivgBw9CtJmqkmM4A/N4n7kiRpRhvkUZTbAifQfdf099tV1eHt57snuzhJkmaqQb4D+0Xg34EL6O6slSRJK2mQAH6gqj40fjdJkjSeQQL4g0neAVzEox9FuTLPRpYkaY02SAA/k+6pSs/lkSnoasuSJGkAgwTwkcDTqup3U1WMJElrikG+hnQT8IQpqkOSpDXKICPgJwC3JLmOR18DPnyyi5IkaaYbJIDfMWVVSJK0hplwAFfV5Um2Abarqm8k2YDxX/OnGWLHzXf0AfuSNIkmfA04yWuA84CPt6Yt6R7OIUmSBjTITVivBfYFfgNQVbcBm09FUZIkzXSDBPCDw7+ClGQWvoJQkqSVMkgAX57kLcD6Sf6I7u1HF0xNWZIkzWyDBPDJwD3AYuB44MKqeuuUVCVJ0gw3yNeQTqiqDwKnDzUkObG1SZKkAQwyAj52BW3HTVIdkiStUcYdASd5OfAKYNsk5w9btRHwi6kqTKuX+269lcsPOLDvMiRplR14xeV9lwBMbAr6auBnwKbA+4e13wcsmoqiJEma6cYN4Kr6IfBDYJ+pL0eSpDXDRKagv1VV+yW5j0d/7zdAVdXjp6w6SZJmqImMgPdrPzea+nIkSVozDHIXtCRJmiQGsCRJPTCAJUnqgQEsSVIPDGBJknpgAEuS1AMDWJKkHhjAkiT1wACWJKkHMz6Ak2yR5JwktydZkOTCJNsnOSjJl0fZ5owkO42xz1OSvHGS6zwuyT1JFiZZkuS8JBtMwn6vbj/nJHnFqlcqSZoMMzqAkwT4AnBZVT29qvYC3gw8aaztqurVVXXzdNQ4wrlVtXtV7Qz8DjhqohsmmbWi5ap6TmuaQ/daSUnSamBGBzBwMLCsqk4daqiqG6vqyrY4u400b0lydgtsklyWZG77/Pwk1ye5McklIw+Q5DVJvppk/SR/luTaNor9eJK1W5+lSd7V9nFNkjH/AGjhuSHwy7Z8ZpIjhq1f2n4elOTK9p7mm0cuD+8LvBfYv9X2hiTrJfmPJIuT3JDk4MF/vZKklTXTA3gXYMEY6/cATgJ2Ap4G7Dt8ZZLNgNOBl1bVbsCRI9a/DjgMeDHdCPMoYN+q2h1YDhzdum4IXNP2cQXwmlHqOSrJQuAnwCbABeOeIewJnFhV24+yPORk4Mo2wv4X4LV0b7N6JvBy4Kwk603geJKkSTDTA3g811bVnVX1MLCQLkSH2xu4oqruAKiqXwxbdwzwx8ARVfUgcAiwF3BdC9FD6EIduunkoevNC1ZwnCHntvDeAlgMvGmC53DHGMuj2Q/4NEBV3UL3zudHhXaSeUnmJ5n/62XLJrBLSdJEzfQAXkIXiqN5cNjn5Uzg9YzDLKYL0q3acoCz2ghz96raoapOaeuWVdXQu5THPU7rewFwQGt6iPbvKslawOOGdb9/xOYjl1daVZ1WVXOrau7G66wzWbuVJDHzA/hSYN0k84YakuyaZP8Jbn8NcECSbdu2mwxbdwNwPHB+kqcAlwBHJNl8qG+SbVah9v2A29vnH/DIHxKHAyuThvcBw9/pfCVtijzJ9sDWwK0rU6gkaXAzOoDbSPIlwKHta0hLgPcAd01w+3uAecDnk9wInDti/beANwJfAe4G3gZclGQRcDHw5AFLPqrdJLWI7vr0O1v76cCBrYZ9WLlR7iJgebsR7A3Ax4C1kixu53Vcm0qXJE2DPDIzKo1uh402qtP22LPvMiRplR14xeXTdqwkC6pq7orWzegRsCRJqysDWJKkHhjAkiT1wACWJKkHBrAkST0wgCVJ6oEBLElSDwxgSZJ6YABLktQDA1iSpB4YwJIk9cAAliSpB4O8/1ZrsI122GFaH2AuSTOdI2BJknpgAEuS1AMDWJKkHhjAkiT1wACWJKkHBrAkST0wgCVJ6oEBLElSD3wQhybk7jt/zUf+5oK+yxjI697/wr5LkKRROQKWJKkHBrAkST0wgCVJ6oEBLElSDwxgSZJ6YABLktQDA1iSpB4YwJIk9cAAliSpBwawJEk9MIAlSeqBASxJUg8MYEmSevCYCOAkWyQ5J8ntSRYkuTDJ9j3VcmaSI1bQvneSbydZmOQ7SU4ZZz/rJvlG639UkreM0fcHSRa3f25O8n+TrDdG/6sncB4/SLLpeP0kSVNjtX8dYZIAXwDOqqqXtbbdgCcB3+2zthHOAv60qm5Msjawwzj99wCoqt0BkiwF3j1G/4Or6t4ks4HTgI8Dxw7vkGRWVT1UVc9ZyXOQJE2Tx8II+GBgWVWdOtRQVTdW1ZVJZie5JMn1bXT4IoAkc9oo9PQkS5JclGT9tu6yJP+Y5Nok302yf2tfO8n7klyXZFGS41t7knwkya1JvgFsPkqdmwM/a/Utr6qb2/abJPli2+c1SXZNsjnwaeBZbQT8OWD99vnssX4ZVbUU+EvgxW3fByW5Msn5wNAxl7afB7XzPS/JLUnObn/Q/F6S9ZN8NclrJv6vRJK0qh4LAbwLsGCUdQ8AL6mqPemC+v3DAmY74KNVtTPwK+Clw7abVVXPBk4C3tHa/gL4dVU9C3gW8Jok2wIvoRvN7gQcA4w2uvwX4NYkX0hy/LAp4r8HbqiqXYG3AJ+sqruBVwNXVtXuVXUk8D/t89Hj/UKq6jfAHe0cAfYETqyqFU3L79HOcyfgacC+w9bNBi4APlNVp4/cMMm8JPOTzF/621+PV5YkaQCPhQAeS4B3J1kEfAPYkm5qGuCOqlrYPi8A5gzb7vMraH8ecEyShcC3gSfSBdwBdAG1vKp+Cly6okKq6h+AucBFwCuAr7VV+wGfan0uBZ6Y5PErdbaPNnwke21V3TFKv2ur6s6qehhYyKN/D18C/qOqPrmiDavqtKqaW1VzZ2+w8SSULEka8lgI4CXAXqOsOxrYDNirXUv9OTA08nxwWL/lPPp694MraA9wQhuF7l5V21bVRYMUWlW3V9W/AYcAuyV54iDbT1SSjeiCdOga+P1jdB/r93AV8PyR09KSpKn3WAjgS4F1k8wbamjXUfcHNgburqplSQ4GtlmF43wd+Ksk67RjbJ9kQ+AK4Kh2jfjJdFPd/0uSF4yY/l5ON/V9Jd0fCiQ5CLi3TSGPtGzo2GNpN2F9DPhiVf1y4qe3Qm8Hfgl8dBX3I0ka0GofwFVVdNdhD21fQ1oCvAe4CzgbmJtkMd312VtW4VBn0N3EdH2Sm+juMp5Fdwf2bW3dJ4H/GmX7V9JdA15IN+V8dFUtB04B9mrT5O9lxJ3Lw5wGLBrjJqxvtrquBX4EHD/Q2Y3uRLobwP5pkvYnSZqAdPkmjW3rLbarvz36A32XMZDXvf+FfZcgaQ2XZEFVzV3RutV+BCxJ0kxkAEuS1AMDWJKkHhjAkiT1wACWJKkHBrAkST0wgCVJ6oEBLElSDwxgSZJ6YABLktQDA1iSpB4YwJIk9WDW+F0k2HyrjX25gSRNIkfAkiT1wACWJKkHBrAkST1IVfVdgx4DktwH3Np3HdNsU+DevouYZp7zmsFznj7bVNVmK1rhTViaqFuram7fRUynJPM955nPc14zrI7n7BS0JEk9MIAlSeqBAayJOq3vAnrgOa8ZPOc1w2p3zt6EJUlSDxwBS5LUAwNYkqQeGMAaV5LnJ7k1yfeSnNx3PVMtyVOTfDPJzUmWJDmx75qmS5K1k9yQ5Mt91zIdkjwhyXlJbknynST79F3TVEvyhvbf9U1JPpNkvb5rmmxJPpHk7iQ3DWvbJMnFSW5rP/9PnzWCAaxxJFkb+Cjwx8BOwMuT7NRvVVPuIeBvqmonYG/gtWvAOQ85EfhO30VMow8CX6uqHYHdmOHnnmRL4PXA3KraBVgbeFm/VU2JM4Hnj2g7GbikqrYDLmnLvTKANZ5nA9+rqu9X1e+Ac4AX9VzTlKqqn1XV9e3zfXT/U96y36qmXpKtgBcAZ/Rdy3RIsjFwAPDvAFX1u6r6Va9FTY9ZwPpJZgEbAD/tuZ5JV1VXAL8Y0fwi4Kz2+SzgxdNZ04oYwBrPlsCPhy3fyRoQRkOSzAH2AL7dcynT4V+BvwUe7rmO6bItcA/wH23a/YwkG/Zd1FSqqp8A/wz8CPgZ8OuquqjfqqbNk6rqZ+3zXcCT+iwGDGBpVElmA/8POKmqftN3PVMpyWHA3VW1oO9aptEsYE/g36pqD+B+VoNpyanUrnu+iO6Pj6cAGyb5s36rmn7Vff+29+/gGsAaz0+Apw5b3qq1zWhJ1qEL37Or6vN91zMN9gUOT/IDussMz03y6X5LmnJ3AndW1dDsxnl0gTyTHQrcUVX3VNUy4PPAc3quabr8PMmTAdrPu3uuxwDWuK4DtkuybZLH0d2wcX7PNU2pJKG7LvidqvpA3/VMh6p6c1VtVVVz6P4dX1pVM3pkVFV3AT9OskNrOgS4uceSpsOPgL2TbND+Oz+EGX7j2TDnA8e2z8cCX+qxFsC3IWkcVfVQktcBX6e7Y/ITVbWk57Km2r7AK4HFSRa2trdU1YX9laQpcgJwdvvj8vvAq3quZ0pV1beTnAdcT3e3/w2sho9oXFVJPgMcBGya5E7gHcB7gc8m+Qvgh8Cf9ldhx0dRSpLUA6egJUnqgQEsSVIPDGBJknpgAEuS1AMDWJKkHhjAkiT1wACWNKWSXN1+zknyir7rAUjylPZ9WKk3fg9Y0rRIchDwxqo6rOc6ZlXVQ33WIIEjYElTLMnS9vG9wP5JFraXwq+d5H1JrkuyKMnxrf9BSS5P8qUk30/y3iRHJ7k2yeIkTx/jWGcmOTXJ/CTfbS+ZIMlxSc5PcilwSRuN39TWrZ3kn9sL6hclOaG179XqWJDk60PPEZYmi4+ilDRdTmbYCDjJPLrX4T0rybrAVUmGXo23G/AHdO90/T5wRlU9O8mJdI+PPGmM48yhe4/104FvJnlGa98T2LWqftFeMzlkXttm9/bo1U3ayzg+DLyoqu5JchTwLuDPV+k3IA1jAEvqy/OAXZMc0ZY3BrYDfgdcN/Tu1iS3A0PBvBg4eJz9fraqHgZuS/J9YMfWfnFVjXxJO3RvCDp1aFq6BfQuwC7Axd07C1ib7v250qQxgCX1JcAJVfX1RzV214ofHNb08LDlhxn//1sjb2wZWr5/wNqWVNU+A2wjDcRrwJKmy33ARsOWvw78VZvuJcn2STachOMcmWStdq34acCt4/S/GDg+yaxWxyZtm82S7NPa1kmy8yTUJv2eI2BJ02URsDzJjcCZwAfprr1e395New/w4kk4zo+Aa4HHA39ZVQ+0aeTRnAFsDyxKsgw4vao+0qbGP5RkY7r/V/4rMNNfxalp5NeQJM0YSc4EvlxVfsdXqz2noCVJ6oFT0JIec5K8FThyRPPnquq4HsqRVopT0JIk9cApaEmSemAAS5LUAwNYkqQeGMCSJPXg/wM0ZeItWTgFugAAAABJRU5ErkJggg==\n",
    "\">\n",
    "</details>"
   ]
  },
  {
   "cell_type": "code",
   "execution_count": 10,
   "metadata": {},
   "outputs": [],
   "source": [
    "# c) Vẽ biểu đồ barplot cho biết 5 món được gọi nhiều nhất và trung bình revenue\n"
   ]
  },
  {
   "cell_type": "markdown",
   "metadata": {},
   "source": [
    "<details>\n",
    "  <summary style='color:#FD6504; font-size:14px'>Nhấn vào đây để xem kết quả!</summary>\n",
    "<img src=\"data:image/png;base64,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\n",
    "\">\n",
    "</details>"
   ]
  },
  {
   "cell_type": "code",
   "execution_count": 11,
   "metadata": {},
   "outputs": [],
   "source": [
    "# Câu 4: Nhóm các đơn hàng theo order_id, và tính tổng số lượng gọi \n",
    "# và tổng giá trị của mỗi đơn hàng, \n",
    "# in kết quả\n"
   ]
  },
  {
   "cell_type": "code",
   "execution_count": 12,
   "metadata": {},
   "outputs": [],
   "source": [
    "# xem xét hệ số tương quan giữa quantity và revenue\n"
   ]
  },
  {
   "cell_type": "code",
   "execution_count": 13,
   "metadata": {},
   "outputs": [],
   "source": [
    "# Câu 5: \n",
    "# a) Từ câu 4, hãy vẽ scatterplot với x là revenue, \n",
    "# và y là quantity, có title, xlabel, ylabel\n",
    "# Bạn có nhận xét gì qua biểu đồ này \n"
   ]
  },
  {
   "cell_type": "markdown",
   "metadata": {},
   "source": [
    "<details>\n",
    "  <summary style='color:#FD6504; font-size:14px'>Nhấn vào đây để xem kết quả!</summary>\n",
    "<img src=\"data:image/png;base64,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\n",
    "\">\n",
    "</details>"
   ]
  },
  {
   "cell_type": "code",
   "execution_count": 14,
   "metadata": {},
   "outputs": [],
   "source": [
    "# b) Hãy vẽ scatterplot với x là revenue, \n",
    "# và y là quantity, có title, xlabel, ylabel, đặt plt.xscale('log')\n",
    "# Bạn có nhận xét gì qua biểu đồ này \n"
   ]
  },
  {
   "cell_type": "markdown",
   "metadata": {},
   "source": [
    "<details>\n",
    "  <summary style='color:#FD6504; font-size:14px'>Nhấn vào đây để xem kết quả!</summary>\n",
    "<img src=\"data:image/png;base64,iVBORw0KGgoAAAANSUhEUgAAAX4AAAEaCAYAAAAWvzywAAAAOXRFWHRTb2Z0d2FyZQBNYXRwbG90bGliIHZlcnNpb24zLjQuMSwgaHR0cHM6Ly9tYXRwbG90bGliLm9yZy/Z1A+gAAAACXBIWXMAAAsTAAALEwEAmpwYAAAzF0lEQVR4nO3deZxcZZX/8c+p6uolvWTt7CQxEAQSAmhAVGAQxEGFgA7iOC44ougMCiOu4yiBiDPjMjgy+psxDgq4IAyOGBhcUERlEQkYQkKEYEiAkKQ7W+9bVZ3fH/dWp6q7qro66erq7vq+X69+perWc+997k316Vv3OXUec3dERKR8RErdARERGV0K/CIiZUaBX0SkzCjwi4iUGQV+EZEyo8AvIlJmFPjLlJndZGbXlWjfZmbfMbP9ZvaHLK+/08x+UYq+FdNonnMzu8bMvlfkfWwzs9fneO10M3s6W9vR6Fs+ZuZmdlSp9j8WKPCPEeEvRpOZ1aYte7+Z3V/CbhXLacA5wHx3P2Xgi+7+fXd/Q+q5flHHH3f/nbu/fLjrmdmZZvZisdpLQIF/bIkCV5a6E8NlZtFhrrIQ2ObuHcXoz1hwCOck37YqRmpbIqDAP9Z8Gfi4mU0Z+IKZLQqvfCvSlt1vZu8PH7/XzB40s6+a2QEz22pmrwmXvxB+mrhkwGZnmNm9ZtZmZr8xs4Vp2z4mfG2fmT1tZhenvXaTmf2nmd1jZh3A67L0d66ZrQ3Xf9bMPhAuvxT4b+DVZtZuZtdmWfe9ZvZA+Pi34eInwvZvD5efZ2brw2N9yMyWp62/zcw+YWYbzKzDzG40s1lm9tPwWH9pZlPDttVm9j0z2xtu61Ezm5XtP8fMjg3P+QEz22RmK/OdEzM7ycweD/d5G1A9YHtDHcOnzGwD0GFmFWZ2atjugJk9YWZnprV/Wfh/2GZm9wIzsh1D2HazmZ2X9rzCzJrN7BXDOR+hk83sKQtu233HzKrDbQ77StyCT7s/BeaG/9ft4fuoysz+3cxeCn/+PVyWq/0pZvZw2P+dZvZ1M6scTl8mPHfXzxj4AbYBrwf+F7guXPZ+4P7w8SLAgYq0de4H3h8+fi8QB/6W4JPDdcDzwDeAKuANQBtQF7a/KXx+Rvj614AHwtdqgRfCbVUAJwF7gOPS1m0BXktw8VCd5Xh+C/w/gmB3ItAMnJXW1wfynIuM18PjPirt+UlAE/Cq8FgvCc9fVdq5/D0wC5gXtn08XK8auA9YFbb9IHAXMCnc1iuBhix9igHPAp8BKoGzwvP38hznpAHYDnw0XPcioC/t/7aQY1gPHAHUhMexF3hTuP1zwueNYfuHgevD/8szwr59L8f5vRr4ftrzNwObh3M+0vq4MezjNODBtOM7E3hx4Ps7fHxNnr5lrBcuWx3+f84EGoGHgM/naf9K4FSC9+4iYDPwD7neT+X4oyv+sedq4CNm1ngI6z7n7t9x9wRwG8Ev5Gp373H3XwC9QPq98v9z99+6ew/wTwRX4UcA5xHcivmOu8fd/Y/Aj4C3pa37E3d/0N2T7t6d3olwG68FPuXu3e6+nuAq/z2HcEzZXAZ8090fcfeEu98M9BD8sqf8h7vvdvcdwO+AR9z9j2Fff0wQeCEIxtMJAkHC3R9z99Ys+zwVqAP+1d173f0+4G7gHWlt+s8JwR+7GPDv7t7n7ncAjw7zGG5w9xfcvQt4F3CPu98TnvN7gXXAm8xsAXAy8Lnw//q3BME7lx8AK81sUvj8b4Bbh3k+Ur4e9nEf8IUB52OkvJPgfdzk7s3AtcC7czUO+/z78L27Dfgm8BdF6Ne4pcA/xrj7RoKA8ulDWH132uOucHsDl9WlPX8hbb/twD5gLsE9+FeFH5UPmNkBgl++2dnWzWIusM/d29KWbSe4ah0JC4GPDejfEeF+UwYed67z8F3g58APw9sIXzKzWJZ9zgVeCIN6ysBjemFA+x0eXmKmtR/OMbwwoP3bBrQ/DZgTrrPfM8dM0veVwd2fJbgKPj8M/isJ/hhA4ecjWx+3D+j/SJlL5vHk3Y+ZHW1md5vZLjNrBf6ZPLe+ypEC/9i0CvgAmUEl9Us9KW1ZeiA+FEekHphZHcHH9ZcIfpl/4+5T0n7q3P3v0tbNV9b1JWCamdWnLVsA7DjM/qa8AHxhQP8mufutQ645QHg1fq27Hwe8huDTTrZPJi8BR5hZ+u/MwGNKPyc7gXlmZgPaD+cYfED77w5oX+vu/xrua6qlZYQN2Fc2txJcnV8APBX+MRjO+Ug5Iu3xAoLzdDiyva9eIvjDl20/2dr/J/AnYIm7NxDcnrMs7cqWAv8YFP4S3gZckbasmSDIvMvMomb2PuDIw9zVm8zstHDg6/PA7939BYJPHEeb2bvNLBb+nGxmxxbY/xcI7sP+SzhYuBy4FDjU3O3dwOK0598CPmRmr7JArZm9ecAfmoKY2evM7HgLsnBaCW51JLM0fQToBD4Zno8zgfOBH+bY9MMEYy5XhO3fCqSnrg73GL5HcIX+l+H/f3U4gDrf3bcT3Pa51swqzey0sG/5/JBg3OfvOHi1P5zzkXK5mc03s2kEtwtvG2K/Q9kNTDezyWnLbgU+a2aNZjaD4Hbo9/K0rw/73m5mxxAco6RR4B+7VhMMsqb7APAJgkG9pQTB9XD8gODTxT6CAbF3AYS3aN4A/DXBldUu4IsEA4eFegfBwNpLBPfUV7n7Lw+xn9cAN4e3OC5293UE5+LrwH6CQdf3HuK2ZwN3EASKzcBvCG53ZHD3XoJg+kaCge7/B7zH3f+UbaNh+7eG/doHvJ1g4D71+rCOIfxjegHB1WszwSeAT3Dwd/hvCAaK9xH8n96S76DdfSfBH6fXkBmsCzofaX4A/ALYCvyZIKngkIXn81Zga/j/PTfc5jpgA/AkwUD9dXnaf5zgfLQR/IE93D9GE45l3oIUEZGJTlf8IiJlRoFfRKTMKPCLiJQZBX4RkTKjwC8iUmbGRdW/GTNm+KJFi0rdDRGRceWxxx7b4+6Dyr+Mi8C/aNEi1q1bV+puiIiMK2aWtXSHbvWIiJQZBX4RkTKjwC8iUmYU+EVEykzRAn9YPfAPFkwRt8nCKfYsmKLuOQumnFtvZicWqw8iIuNVMulsbW7n4T/vYWtzO8nkyNVVK2ZWTw/BVHvt4UQOD5jZT8PXPhHOSCQiIgMkk87PNu3iqtvX092XpDoW4fqLT+TcpbOJRA5/aoGiXfF7oD18Ggt/VApURGQI2/Z29Ad9gO6+JFfdvp5tezuGWLMwRb3HH04YsZ5gUul73f2R8KUvmNkGM/uqmWWt8W5ml5nZOjNb19zcXMxuioiMKbtbu/uDfkp3X5Kmtu4cawxPUQN/OFnzicB84BQzWwb8I3AMweTQ04BP5Vh3jbuvcPcVjY2HMu+4iMj4NKuhmupYZniujkWYWV89Itsflawedz8A/Bo41913hreBeoDvkDkdnYhI2Vs0vZbrLz6xP/in7vEvmj5wUr5DU7TBXTNrBPrc/YCZ1QDnAF80sznuvjOchPpCYGOx+iAiMh5FIsa5S2dzzBWn09TWzcz6ahZNrx2RgV0oblbPHIJ5UqMEnyxud/e7zey+8I+CAeuBDxWxDyIi41IkYixurGNxY92Ib7togd/dNwAnZVl+VrH2KSIiQ9M3d0VEyowCv4hImVHgFxEpMwr8IiJlRoFfRKTMKPCLiJQZBX4RkTKjwC8iUmYU+EVEyowCv4hImVHgFxEpMwr8IiJlRoFfRKTMKPCLiJQZBX4RkTKjwC8iUmYU+EVEyowCv4hImVHgFxEpMwr8IiJlpmiB38yqzewPZvaEmW0ys2vD5S8zs0fM7Fkzu83MKovVBxERGayYV/w9wFnufgJwInCumZ0KfBH4qrsfBewHLi1iH0REZICiBX4PtIdPY+GPA2cBd4TLbwYuLFYfRERksKLe4zezqJmtB5qAe4E/AwfcPR42eRGYV8w+iIhIpqIGfndPuPuJwHzgFOCYQtc1s8vMbJ2ZrWtubi5WF0VEys6oZPW4+wHg18CrgSlmVhG+NB/YkWOdNe6+wt1XNDY2jkY3RUTKQjGzehrNbEr4uAY4B9hM8AfgorDZJcBPitUHEREZrGLoJodsDnCzmUUJ/sDc7u53m9lTwA/N7Drgj8CNReyDiIgMULTA7+4bgJOyLN9KcL9fRERKQN/cFREpMwr8IiJlRoFfRKTMKPCLiJQZBX4RkTKjwC8iUmYU+EVEyowCv4hImVHgFxEpMwr8IiJlRoFfRKTMKPCLiJQZBX4RkTKjwC8iUmYU+EVEyowCv4hImVHgFxEpMwr8IiJlRoFfRKTMKPCLiJSZogV+MzvCzH5tZk+Z2SYzuzJcfo2Z7TCz9eHPm4rVBxERGayiiNuOAx9z98fNrB54zMzuDV/7qrt/pYj7FhGRHIoW+N19J7AzfNxmZpuBecXan4iIFGZU7vGb2SLgJOCRcNGHzWyDmX3bzKaORh9ERCRQ9MBvZnXAj4B/cPdW4D+BI4ETCT4R/FuO9S4zs3Vmtq65ubnY3RQRKRtFDfxmFiMI+t939/8FcPfd7p5w9yTwLeCUbOu6+xp3X+HuKxobG4vZTRGRslLMrB4DbgQ2u/v1acvnpDV7C7CxWH0QEZHBipnV81rg3cCTZrY+XPYZ4B1mdiLgwDbgg0Xsg4iIDFDMrJ4HAMvy0j3F2qeIiAxN39wVESkzCvwiImVGgV9EpMzkvMdvZk8SDMBm5e7Li9IjESmKZNLZtreD3a3dzGqoZtH0WiKRbMNwMtHlG9w9L/z38vDf74b/vrN43RGRYkgmnZ9t2sVVt6+nuy9JdSzC9RefyLlLZyv4l6Gct3rcfbu7bwfOcfdPuvuT4c+ngTeMXhdF5HBt29vRH/QBuvuSXHX7erbt7Shxz6QUCrnHb2b22rQnrylwPREZI3a3dvcH/ZTuviRNbd0l6pGUUiF5/JcC3zazyeHzA8D7itYjERlxsxqqqY5FMoJ/dSzCzPrqEvZKSmXIK3d3f8zdTwBOAE5w9xPd/fHid01ERsqi6bVcf/GJVMeCX/nUPf5F02tL3DMphSGv+M1sFvDPwFx3f6OZHQe82t1vLHrvRGRERCLGuUtnc8wVp9PU1s3MemX1lLNC7tXfBPwcmBs+fwb4hyL1R0SKJBIxFjfWceriGSxurFPQL2OFBP4Z7n47kARw9ziQKGqvRESkaAoJ/B1mNp3wy1xmdirQUtReiYhI0RSS1XMVsBY40sweBBqBi4raKxERKZq8gd/MosBfhD8vJyiz/LS7941C30REpAjy3upx9wTwDnePu/smd9+ooC8iMr4VcqvnQTP7OnAb0P/9buXyi4iMT4UE/hPDf1enLXPgrBHvjYiIFN2Qgd/dXzcaHRERkdExZDqnmc0ysxvN7Kfh8+PM7NLid01ERIqhaN/cNbMjzOzXZvaUmW0ysyvD5dPM7F4z2xL+O/UQ+y4iIoegmN/cjQMfc/fjgFOBy8M6P58GfuXuS4Bfhc9FpAiSSWdrczsP/3kPW5vbSSZzTqonZaSQwd1D+uauu+8EdoaP28xsMzAPuAA4M2x2M3A/8KnhdlxE8tOsW5JLIVf8A7+5ewvwkeHsxMwWAScBjwCzwj8KALuAWcPZlogURrNuSS6FZPU8bmaH/M1dM6sDfgT8g7u3mh280nB3N7Osnz3N7DLgMoAFCxYUujsRCeWbdWtxY12JeiVjQc7Ab2ZvzfHS0WaGu//vUBs3sxhB0P9+WvvdZjbH3Xea2RygKdu67r4GWAOwYsUK3ZgUGSbNuiW55LvVc374cylwI/DO8Oe/KWDqRQsu7W8ENrv79WkvrQUuCR9fAvxk+N0WkaEUMuuWBn/Lk7nn/482s18Al6Tuy4dX6Te5+18Osd5pwO+AJwkzgoDPENznvx1YAGwHLnb3ffm2tWLFCl+3bt3QRyMiGZJJZ9vejqyzbmnwd+Izs8fcfcXA5YVk9RyRNhgLsJsgaOfl7g8QjAlkc3YB+xWRw5SadSvbPf1cg7/HXHG6xgAmuEIC/6/M7OfAreHztwO/LF6XRGQ0aPC3fBWS1fNhM3sLcEa4aI27/7i43RKRYtPgb/kqZCKWTe5+DKBgLzKBpAZ/B97jTx/8lYkpb+B394SZPW1mC9z9+dHqlMhEkxpk3d3azayGzEHWUolEjHOXzuaYK07POvgrE1ch9/inApvM7A9kTsSysmi9EplAxnL2TL7BX5m4Cgn8nyt6L0QmMGXPyFgzZK0ed/8N8CegPvzZHC4TkQLky54RKYVCJmK5GPgD8DbgYuARM7uo2B0TmShS2TPplD0jpVRIdc5/Ak5290vc/T3AKej2j0jBCimdIDKaCrnHH3H39EJqeynsD4aIUL7ZM2Mxk0kChQT+n2X55u49xeuSyMRTbtkzYzmTSQob3P0E8E1gefizxt01Y5aI5KRJYMa2Qq74U7X3h6y/LyICqgM01ulevYiMOGUyjW0K/CIy4pTJNLYVdKsnxcymEtTn31Ck/ojIGHC4GTnlmsk0XgwZ+M3sfmBl2PYxoMnMHnT3q4rcNxEpgZHKyCm3TKbxpJBbPZPdvRV4K3CLu78KeH1xuyUipaKMnImvkMBfEc6zezFwd5H7IyIlptpCE18hgX818HPgWXd/1MwWA1uK2y0RKRVl5Ex8hXyB63/cfbm7/334fKu7/9VQ65nZt82sycw2pi27xsx2mNn68OdNh9d9ERlpysiZ+AoZ3H0Z8BFgUXr7AiZiuQn4OnDLgOVfdfevDKuXIjJqlJEz8RWSznkncCNwF5DM3/Qgd/+tmS06tG6JSCkpI2diKyTwd7v7DSO4zw+b2XuAdcDH3H3/CG5bRESGUMjg7tfMbJWZvdrMXpH6OcT9/SdwJHAisBP4t1wNzewyM1tnZuuam5sPcXciIjJQIVf8xwPvBs7i4K0eD58Pi7vvTj02s2+RJz3U3dcAawBWrFjhw92XiIhkV0jgfxuw2N17D3dnZjbH3XeGT98CbMzXXkRERl4hgX8jMAVoGqJdBjO7FTgTmGFmLwKrgDPN7ESCTwzbgA8OZ5siE5FmqpLRVkjgnwL8ycweBXpSC4dK53T3d2RZfOOweicywWmmKimFQgL/qqL3QqRM5aqLc8wVpyuVUoqmkG/u/obgtkwsfPwo8HiR+yVSFlQXR0phyMBvZh8A7iCYdxdgHsGXukTkMKkujpRCIXn8lwOvBVoB3H0LMLOYnRIpF6qLI6VQyD3+HnfvNQsGmsysgiArR0QOk+riSCkUEvh/Y2afAWrM7Bzg7wnq9ojICFBdHBlthdzq+TTQDDxJkHd/j7v/U1F7JSIiRVPIFf9H3P1rwLdSC8zsynCZiIiMM4Vc8V+SZdl7R7gfIiIySnJe8ZvZO4C/AV5mZmvTXqoH9hW7YyLjicouyHiS71bPQwSlk2eQWT65DdhQzE6JjCcquyDjTc7A7+7bge3Aq0evOyLjj8ouyHiT71ZPG9nz9Q1wd28oWq9ExpF8ZRcU+GUsynfFXz+aHREZr1JlF9KDv8ouyFhWSFaPiOShsgsy3hSSxy9S9vJl7eQquwCwtbl9RDN9lD0kI0GBX2QIhWTtDCy7UIxMH2UPyUjRrR6RIeTK2tm2t2NE1ylGP0SyUeAXGcKhTJZSjAlWNGmLjBQFfpEhHMpkKcWYYEWTtshIKVrgN7Nvm1mTmW1MWzbNzO41sy3hv1OLtX+RkXIoWTvFyPRR9pCMFHMvzpwqZnYG0A7c4u7LwmVfAva5+7+a2aeBqe7+qaG2tWLFCl+3bl1R+iljz1jMXEn1qamtm8a6aqIR2NmSv3/p64zUBCuFbnMsnkMZfWb2mLuvGLS8WIE/3Oki4O60wP80cKa77zSzOcD97v7yobajwF8+xnrmyljvH4yPPsroyBX4R/se/yx33xk+3gXMGuX9yxg31jNXxnr/YHz0UUqrZIO7HnzUyPlxw8wuM7N1Zrauubl5FHsmpTTWM1fGev9gfPRRSmu0A//u8BYP4b9NuRq6+xp3X+HuKxobG0etg1JaYz1zZaz3D8ZHH6W0Rjvwr+XgjF6XAD8Z5f3LGDfWM1fGev9gfPRRSquYWT23AmcSTOSyG1gF3AncDiwgqPV/sbsPOZuXBnfLSzGyYbJt/1AzXordv5EwHvooxVeSrJ6RosAvI0UZL1JOxkpWj0hJKeNFRIFfyowyXkQU+KXMKONFRPX4y1qpv9afvv+Z9bnLIBxKP3Otk8p4+eLPNnPe8nlEI/DKBVOZP7lmNA5ZZExQ4C9TpR7kzLb/K89ewi0Pb2d/Z29/X4Bh93OoY3v9y2fS1Zfgn378ZP/r1124jAtPmEdFhT4Ey8Snd3mZKvUgZ7b9f+1XW3jrK+Zn9KUYk6Bs3t3aH/RTr3/2zo1s2tlSzEMWGTMU+MtUqQc5c+3fLLMvxZgEZWdL9td3tWiAV8qDAn+ZKvUgZ679p75WkupLMSZBmTO5JuvrsydrgFfKgwJ/mSr11/qz7f/Ks5fwv4+/mNGXYkyCsnROA9dduCzj9esuXMbSOZOLecgiY4a+uVvGhvpa/0hm/cTjSTbtbGFnSzdzJtewdE4DkYgNmtxkV+vBvkBwv35vRw+Gsa+jl1kNVSydM3nIQdhk0nluTwfP7+tgUmUFsydXEU9AU1twLPMn17B5dyu7WrqZPbmaY2c18GJLV0HHWupsKJFC5frmrrJ6ylgkYixurGNxY92g10Yy6yceT3LnEzv47J0bB2XRDNz/ohl1Ofd/xVlL+MI9T/Gpc48tqB9P727jqtvXM3VSJe959UK+9qstg47lhCNsWMda6mwokZGgWz2S1Uhm/Wza2dIf9FPbGiqLJtv+b7hvC+ctn1dQP9LXf+sr5vcH/WzHMpxjLXU2lMhIUOCXrEYy6+dQsmjyZf0U0o/09VPrDNxWahvDOdZSZ0OJjAQFfslqJLN+DiWLJl/WTyH9GLh+vmMZzrGWOhtKZCQo8EtWI5n1cyhZNNn2f8VZS7h7w46C+pG+/o8ee5Erz16S81iGc6ylzoYSGQnK6hmn8mWWZHsNyFi2YOoknt/f2f88leWSLetmX0cPsWiEzt7EoO3t7eihMnxtzuRqEskgc2bO5GriCef5fZ1MqopSFY3Q1N5DQ02M3r4EC6ZOIomxrzOVsdPDrIYapkyq4KUD3cydUs2Bzj52tnTTUFPB5OoYXX0JptVWDTrW5/d1sLu1h47eOAun1fKyGcHr6VlLsxuCvjW3589gKmTiEk1yIuOFJmKZQPJllkD22jaVFcaHf/DHjKya/7hvC9v3drFi4WQuPnkhV/9kcNZNJGI5t/f5u5/i7SsWcMN9WzIyZ7Jl0aTX4fno64+mJhbhxgef618/1W7V+Ut5dOseTl48g2vv2pS3lk4y6dz39G627G7PmrGjYCzlToF/Atna3M6bbvhdxiBjdSzCPVecDpD1tcvOWMwNv3o2Y9mlpy3mG79+lhvecRKfvOOJQevcdtmp1FfHcm4vkYQbH9hKd1+Sy193VNbH2faXbf30dt9+78m876ZHs/bnhCOmZpyHO9fvYM1vB2/jnitOz5qmKlJONAPXBJIvsyTXa8kBf9/T6+J09cRzZt3k2156tkyux9n2l2399HZ72nsKygLa3dpN0vNn7IjIYAr841C+zJJcrw2865FeF2dSVUXOrJuhtpcrc2aoOjzZ1k89b6yrKigLaFZDNVHLn7EjIoMp8I9D+TJLcr22fP7kQVk1d2/YAcDND21l9QXZs27ybe+uJ3ZwxVlLBmXOZMuiSa/D89HXH82M2sqM9VPtVp2/lP959HlWnb90yCygRdNrOX7+5LwZOyIyWEnu8ZvZNqANSADxbPeg0k2Ee/yF1HdJb9OfFbO/k9rKCmY1VLFgWi3JpLPppRZ2tHQxo64KSFIRidLZm6CjN87USZV09caJRSPUVlVgQEdvgtkN1bT19LGrpZvaytQVvrGrtZuF0yfRG0/S3ttHVbSC5vYe5jRUc/zcyVRWRvv7ta+jh+pYsK8DnX1MqowSqzDqqypo707QFY8zKVbB3vagpk5fMsmBzjg1lVEqo0bSnaqKKF29ceZMrqG9N87e9l6qY1Hae+JMqYnR2t1HfXWMOVOq2NfWx77OHuqrK+mNJ5k9OXs2Tiqrp7M3zoIwqwdQPR0pe2OxVs/r3H1PCfc/agqp75LeJldWzAlHNLBjfw+fC7NvFk6v4apzjualA90Zba84awm3rXueD/3FUfzXb56lN+5Zt1dbGeXXf2riDcvm8KPHnuevXrGAa+9+vL/N6guWceHyuVRWRlk0vZate9rZ+vwBrr/3mYztzJ1SzXcf3sZZx8welKHzX795lu17uzL2GYkY7b0JtjZ35MwCuu7CZaw8fi6/fLqJv/v+IznPWyRiLJpR11/jp9DzLVLOSnnFv6LQwD/er/jzZeGkMk/S2+TKilnz7ldy2Xcf619++euOIhoha1bLpact5sYHtnLpaYuB7Nkzl52xmFcunMoHv/sYX7rohKyZPd+79FWsWDQtbwbNZWcs5qiZ9VnXT2XypLcFOHpmPR8P2+c63u9d+iredeMjw87YKeR8i5SDsZbV48AvzOwxM7ssWwMzu8zM1pnZuubm5lHu3sgqpL5LIbVl9nX0ZSw3I2dWS2obZrm3l3Q4EG4zV2bP7taD9Wxy7SvpuTODzAa3TTp09MaHPN5dh1gXR/V0RPIrVeA/zd1fAbwRuNzMzhjYwN3XuPsKd1/R2Ng4+j0cQYXUdymktsy02tig5bmyWlI1bdIzaQa2iRhMCbeZK7NnVsPBeja59hWx3JlB6R8oU20jRto4Q+7+zTnEujiqpyOSX0kCv7vvCP9tAn4MnFKKfoyWQuq7DFVb5sqzl1ARhc+nZd/c9cQOFjfWDmqbqmmz6vyl3L1hR87tzait5KYHnmPV+Uu5+aGtrDovM5Nm9QXLWD53cn//jp8/mavOOXrQdo5srOXmh7ZmzdBJZQ6l73NmfRWxCsubBXTdhcs4fu7kQ6qLo3o6IvmN+j1+M6sFIu7eFj6+F1jt7j/LtU6x7vEPzLSZXVfJpl1t7O/sY3JNjIqIk3Bjd2sPsxqqOHZ2Lc/t6eKlsH7MnIYaFg6oWzOjNkpze4LdrT3MbqiiImrs7+jjiGmT6I0neGF/F/OnVtPZm2R3aw8zG6qorjDiCaciEmF3Ww/VsQiTa2Ikkh60qa8CnM6+JD19CRpqYrR0BX2MJxPUVsbo7E2wv7OX2Q3VdPUlaO2O01hXSUdPnMqKCJMqK+juSwDQG3e6+uJMr60knnRauvqoraqgtjJKPOk0t/UwrbaKtp4+JlfHqKuO0tOXoDcOezp6+rOJ3CM0twfHWV0RZVdbN9NrK+mJJ9nT3ktjfRXVFRFe3N/F9LpKYhGjN5GkvjrGUdPreHZvO/s7++juS7B4ei3tvXE6e+MkktAbT7Jwei0Lp01i294OntvbQXUsytRJMY6Z1dBfuiFXtpTq6YiMrayeWcCPLbj5WwH8IF/QL5aBmR/vf+0RHD17Kt+4fwtvX7GA9S/s5exj57Bq7cF6MatXLmPdtmZuf2xn/xXsUTPrMIPP3/0UX7jgOB5t7uDqtHVWnb+UWx/ZzjNN7Vx1ztHs3N9B69wpGW0+f8EyqmLGJ+94sj9b50N/cVR/rZqBz6tjEVadt5Rv/uZZzl8+j86+RM7smI++/mh+8IftfOD0xdRVVbCzJTMD6BN/+XL++3fPsb+zly9fdDyV0SgHuuJ89PYn+tt86a+W05tIZsygtXrlUr5x/8GMnVw1dtKPP71eT3qtoOpYhC9ftJyWrj7auuMZ/fu3t51I0pN84o4NBdcRSmXv5JpdTKTcjfqtHnff6u4nhD9L3f0Lo90HGDyT0uuXzuPqtRs5b/k8brhvC+889WX9QR+CwcGr127kwlcs6H/+tV9t4ckdLWx4sYXzls+jsiLWH9BTba69axPvP+NIuvuSXH/vM/zl8fMGtfncTzbybFNH/7Lzls/rD57Znnf3Jbn27k285zWL2dvZ2x8os8009dVfPsN5y+fR1NbD1j0dg17/8s+f5q2vmE93X5LJNZX0JXzQvp5tbh80g9bVazdx3vJ5Gcd50ckLBvcz7fi/9qst/fv67J0bM9bf0tROU1vPoP597H/Ws6WpPWNZavYuzYYlcmjK9pu7AzM/mtu6M7Jh9g/IoIFg+d72noznqSwVM9jdlj2bpKs33v+4OUeb9Fo6A7NccmW9dPXGMzJt8tXISfUzX+bNvo4+OrJk5wy1Xup5rho76cefXq8nff18/ctWZyhfHSFl74jkV7aBf2Dmx8z66ozBwGwZNNWxCNPrqjKep7JUsm0z1aamsqL/cfp+Bm5n4LKhnk+qrBiUaZMrsyZq+TOAAKbVxqitHpydM9R6qee5auykH396llH6+vn6l+3c5KsjpOwdkfzKpixzd3ecJ3e2sKu1h6NnTaKlK9E/aFtXFWHaJOP5fQma2nqYVlfJo39u4vgjprP+xQMkPcigufzMJf33+D/7xqNYvmBG/zamTIpyoDPO8/u6Mu6Fp+5xz55cyaWnHRUMnNZVcv0v/sS67S0snF7DqvOXUlkBVRUVdPQk6OpN0FBTwWd+/CTb93axcHoNn3nTsXgS+pJObWWU+pooO1u6mFpTxb7OPrY2t/PrPzXxxuPn9N/vf9uK+SyeUUd1LMKMugp648a+zl6m11bS3N5DxIzKCqO6IoIRJPx39MSprYyyeWcrrT0JogbHzWmgrSee9x7/6pXLeHFfG3Om1uW8x3/1ecfxwz88zzNN7UW7x//Fv1rOm5fNyajbny4eT7JpZ0vGhDO52g40cCB54GQ2GkCWsaas6/F3d8dZ++ROrl67kVe/bBrnHp85aPv996/gz03dXL32YCmEy888atAA7Iz6GLEo1FfFeHpXZ3/7VCB8ZtcB/m9jM29bMZ8jG+uYWV9FXyJBU2s3SbeM7a2+YBnzp1Sxq7WXn23cwZuXzxtUeuGf33I8LZ29LJ5Zy66Wnow+/8tbj6e5rSejfMLnL1hGY30liaSzt723f38Lp9fw92celbF+qqzD5a9bQk3MeHF/5r6vOudovvPgNvZ39vLPbzmeF/a08srFjbR09jG9rpKpkyrY097Hjv1dVFdWcMtDW7n45IUcN7uOrr4ku9t6mF5bSWWF8fCf99HVl+TuDTu4/HVLWDi9hpPmTeXFlq7+rJsFUyfx4oFO9rb30h1P0BtP9tfdSSadTTtb2NXSzezJ1SydM7k/WMfjSR7aupd12/eRSMLdG3bwqXOPzVqeIR5PcucTOzL+gGWb4CWbgckAC6fX8JGzlmRsS2UhZKwp68D/6HN7efe3/0B3X5Kb33cyH0wrewBw+2Wn8p7v/KF/Wa4SApedsZjTjpwBkNE+9fpNf3sKf73m9/3Pv3LRCXz8jif45rtfOWif1bEI33nvyfztTY/yzXe/kse2789aDuFLF51ABPrLG6RccfZROUs1QGaJhnwTo9z4wNZBpSDSX09NnJIq6ZDe52zHdMv7TuGBZ/ew5rdb+7c/sM1XLjqB4+Y2jEjGzXDKMzzxwn7evub3g9oOnOClkP3kOqcqCyFjyVgr2TCqdrUeHHTMNmg7cFA2X4mD3W3dOQdxm9MGFbv7kv1lCXINFKcGQ/d39OUc2OzqjQ97wLXQweH+gezO7P1LH4jtCo+lua0n7zHtbu3p71uu/Xb0xkdsAHY4A7w7W7K3HTjBSyH7yXVsGliW8aAsAv/shoODjtkGbXMNEg58HjGYlWeyk8a0QcXqWKS/LEGugeIZ4WDotNpYzoHNSZUVhzTgWsjxpMo6TJ2UvX/p26oJj6WxvirvMc1qqMroW7Y2tZUVIzYAO5wB3jmTa7K2HTjBy3D2U8h+Rcaasgj8x8+ZzOqVQamD7zzwHNeuzCxNEI0k+1+HYCB3YJsrz17CUY21bHhhD1FLZLRP3eP/5aaD5Qk+f8EyuvriXHn2Er73+8H7vHblUhLJBFedczTf+/1zWUsvXHfhMm5+aCud3X2D1l80o3ZQ+YRcJRqyHU+qrMPqlcto6eodtO+rzjm6f+KUVect5ZaHtnLl2UtIeIJrVy7NekyrVy5j6ey6/tIOuSZaqa+Jjlj5hOGUZ1g6p4HrLsw+4cxw93PXEzsGbUtlIWS8mLD3+A90dfPMrg72d/YxtSZGW08f02sr6ehN0NYdZ2Z9FV19Bx9Pr4vQ1Jpgb0dQrqCzN05NrILeeJyqior+UgWpiUJm1Udpak2wu62HWfVVTK2NsrcjTmtXnLqqKDWxKLvbeqirqqC+qoJo1Ons9f5SC3vaD26voTpGbZVhRGjrDjKLZjVUMaUmyva93dRURpkyKUZvPLjlUh2roKM3TldfIjimnjiRSISGqgqSOC8d6Gb+lBriSaeprYe66gpm1sdo7Tp4fAe6gnIMjXVRWruSdMYTJJLQ1ZtgzpRK+uLQ1t1HTWVFf+bSgqkxnt/f1/98ck00Iztq2ex6JtVUkkw6Ta0dPL+/p/+1vkScikiUWDTCrtZuZtUfnOjlcA2nPEMqqyfbQPFw95PK6lFZCBmrympw90BXN7/Y2NxffuGG+zLLGWQrbfDNd51ENGK8dKA3b3ZPKhvm7888ihl1lay++6m0lMal3L7u+UETknz2zcdSVRHl678+2J+B2/vIWUuojEb45I8Opi2uXrmU3/95D/ds2s3X/vpEcOjsS7BrQNmF6y5cxtJ5dbx85pTDDjypc/fLzS9lLVnxy80v8Yun9vQ/P2/ZLCbVVGZso72rm3s2NmdkPV1z/lLiySTX/d/mjMym1EQvIjLyympw95ldHRnlF7r7MssZZCttUB2LEY1E+4MVBKUSBpZXuOG+LZy3fB6r1m4iFo1klB24em1QRiG1z9TyprZg1qz0/gzc3mfv3MizzZmlCa5eG5RB6O5L0hd3+hLOc1nKLnz2zo20dSZHpFRB6tzlKlnxzlNflvF84662Qdt4KtxG+rrX3LWJpraezO39ZCMbXmo57D6LyPCUcurFotkdZvGkZ17kepzS1NaN+/CzYQaWLejqzZ2BM9T2spUmSJWI6OiJZ2xrYLvdbd0k8cNOJUydu1xZOwc6+zL329ozcBP92xi4brbjS030IiKjZ0Je8c9Ky+JJz7zI9RiCkg2pjJV0Q2XDDCxbMKkyfwZOvu1lK02QKhFRWx1k9+TK5plVXz0iGSWpc5cra2fKpFjmfhuqBm4i4/ynt812fKmJXkRk9EzIwH/07FpWr1yWkVWSnumSbeKP7r4+EsnEoOye1TmyYa5duZS+RDJjopHVK5dmnZCksb6Kz1+wLGuWS2p71124jKMa6wZlCt3x6PNUxyLEokYsYiyakT37p35SZEQySlLnLlfWzvd//1zG82Wz6wdt47hwG+nrXnP+UmbWZ/5BTp/oRURGz4Qc3IXcWT2dvQlauuPMrKsEjN1t3f3FxWIVgButYWbN9NpK5kyuoKktQXNbD411weQkdVUxGqqj7GrrobaygvbuYFlVhdMTN1q6g8yd/R291FZVUFdVQdITxJPWn8Wzt72H6bVVtPYEz2fURsFgTziJy6z6Khpqomzf28W02krqa6JEDTp7nd5Ekq7eoKZPY30VcyZXMqth5DJKUueuL5EgFo32Z+YcPbuWZ3Z1DMriyaa9q5undnXQFE4205dIUBGJ9Gf1zKyvZvkIZfWISHZlldWTLr3Gyv0fezW/3dKaWTNn5VJe3NfOmge2s3rlMt6wrJEpNbr9ICLjX1ll9aRLn6zj+X2JQVk6V6/dxGuXzOrPUnlmlybxEJGJbcIH/vQaK7lq7KTqq+TKUhERmUgmfOBPr7EyVF2XXFkqIiITyYQP/Ok1VhZMjQ7K0lm9cikPbtndn6Vy9GzVWhGRia0kg7tmdi7wNSAK/Le7/2u+9odbjz+9xsqiaTGe3x/vz0yZOinKn3Z19metaGBXRCaKXIO7o/7NXTOLAt8AzgFeBB41s7Xu/lSx9hmJGIsb6/q/1Tp7SubrS2ZNGbSOiMhEVYpbPacAz7r7VnfvBX4IXFCCfoiIlKVSBP55wAtpz18Ml2Uws8vMbJ2ZrWtubh61zomITHRjdnDX3de4+wp3X9HY2Fjq7oiITBilCPw7gCPSns8Pl4mIyCgoReB/FFhiZi8zs0rgr4G1JeiHiEhZKlU655uAfydI5/y2u39hiPYtwJY8TSYDuWb0mAHsOYRullK+4xmr+zmcbQ1n3ZFseziv6301OvsZrffVcNqPp/fVQncffK/c3cf8D7DmUF8H1pW6/yN9vGNxP4ezreGsO5Jt9b4a+/sZrffVcNpPhPfVmB3cHeCuw3x9vBmt4xnJ/RzOtoaz7ki21ftq7O9ntN5Xw2k/7t9X46Is8+Ews3We5ZtrIodD7ysphtF6X42XK/7DsabUHZAJSe8rKYZReV9N+Ct+ERHJVA5X/CIikkaBX0SkzCjwi4iUmbIK/Ga22MxuNLM7St0XmTjM7EIz+5aZ3WZmbyh1f2RiMLNjzey/zOwOM/u7kdz2uA/8ZvZtM2sys40Dlp9rZk+b2bNm9mkAD0pBX1qansp4Msz31Z3u/gHgQ8DbS9FfGR+G+b7a7O4fAi4GXjuS/Rj3gR+4CTg3fUHaZC9vBI4D3mFmx41+12Qcu4nhv68+G74ukstNDON9ZWYrgf8D7hnJToz7wO/uvwX2DVisyV7ksAznfWWBLwI/dffHR7uvMn4MN165+1p3fyPwzpHsx7gP/DlknezFzKab2X8BJ5nZP5amazKO5ZpE6CPA64GLzOxDpeiYjGu54tWZZnaDmX2TEb7iH/U5d0vJ3fcS3IcVGTHufgNwQ6n7IROLu98P3F+MbU/UK35N9iLFoPeVFMOov68mauDXZC9SDHpfSTGM+vtq3Ad+M7sVeBh4uZm9aGaXunsc+DDwc2AzcLu7byplP2V80ftKimGsvK9UpE1EpMyM+yt+EREZHgV+EZEyo8AvIlJmFPhFRMqMAr+ISJlR4BcRKTMK/FJ2zCxhZuvN7Akze9zMXhMun5uaqyGsk3J3+Pi9Zvb1LNs5M7XuEPu7sJDqsGZ2jZl9fPhHJDI8CvxSjrrc/UR3PwH4R+BfANz9JXe/aBjbORMYMvADFxKU2xUZExT4pdw1APsBzGzRwAkycjGzRQQF/z4afno4PVz/PjPbYGa/MrMF4SeClcCXw3ZHmtkHzOzR8BPHj8xsUrEOTiSbsqrOKRKqMbP1QDUwBzhruBtw921hie92d/8KgJndBdzs7jeb2fuAG9z9QjNbC9zt7qnbSAfc/Vvh4+uAS4H/GIkDEymErvilHKVu9RxDMBvSLWZmI7DdVwM/CB9/FzgtR7tlZvY7M3uSYIKNpSOwb5GCKfBLWXP3h4EZQOMo7vYm4MPufjxwLcEnD5FRo8AvZc3MjgGiwN5DWL0NqE97/hBBSV0IruR/l6NdPbDTzGKM8JR6IoVQ4JdyVBMOtK4HbgMucffEIWznLuAtqcFdgikY/9bMNgDvBq4M2/0Q+ISZ/dHMjgQ+BzwCPAj86TCPRWTYVJZZRKTM6IpfRKTMKPCLiJQZBX4RkTKjwC8iUmYU+EVEyowCv4hImVHgFxEpMwr8IiJl5v8Dn1pahteWHWwAAAAASUVORK5CYII=\n",
    "\">\n",
    "</details>"
   ]
  },
  {
   "cell_type": "code",
   "execution_count": 15,
   "metadata": {},
   "outputs": [],
   "source": [
    "# c) Hãy vẽ scatterplot với x là revenue, \n",
    "# và y là quantity, có hue là order_id\n",
    "# Bạn có nhận xét gì qua biểu đồ này \n"
   ]
  },
  {
   "cell_type": "markdown",
   "metadata": {},
   "source": [
    "<details>\n",
    "  <summary style='color:#FD6504; font-size:14px'>Nhấn vào đây để xem kết quả!</summary>\n",
    "<img src=\"data:image/png;base64,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\n",
    "\">\n",
    "</details>"
   ]
  },
  {
   "cell_type": "code",
   "execution_count": 16,
   "metadata": {},
   "outputs": [],
   "source": [
    "# d) Hãy vẽ regplot với x là revenue, \n",
    "# và y là quantity\n",
    "# Bạn có nhận xét gì qua biểu đồ này \n"
   ]
  },
  {
   "cell_type": "markdown",
   "metadata": {},
   "source": [
    "<details>\n",
    "  <summary style='color:#FD6504; font-size:14px'>Nhấn vào đây để xem kết quả!</summary>\n",
    "<img src=\"data:image/png;base64,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\n",
    "\">\n",
    "</details>"
   ]
  },
  {
   "cell_type": "code",
   "execution_count": 17,
   "metadata": {},
   "outputs": [],
   "source": [
    "# Câu 6: vẽ barplot với x là các món ăn, \n",
    "# và y là tổng thành tiền. Vẽ cho 5 món có tổng thành tiền lớn nhất\n"
   ]
  },
  {
   "cell_type": "markdown",
   "metadata": {},
   "source": [
    "<details>\n",
    "  <summary style='color:#FD6504; font-size:14px'>Nhấn vào đây để xem kết quả!</summary>\n",
    "<img src=\"data:image/png;base64,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\n",
    "\">\n",
    "</details>"
   ]
  },
  {
   "cell_type": "code",
   "execution_count": 18,
   "metadata": {},
   "outputs": [],
   "source": [
    "# Câu 7: Vẽ displot cho cột item_price\n",
    "# vẽ có KDE và bins=10\n",
    "# cho nhận xét\n"
   ]
  },
  {
   "cell_type": "markdown",
   "metadata": {},
   "source": [
    "<details>\n",
    "  <summary style='color:#FD6504; font-size:14px'>Nhấn vào đây để xem kết quả!</summary>\n",
    "<img src=\"data:image/png;base64,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\n",
    "\">\n",
    "</details>"
   ]
  },
  {
   "cell_type": "code",
   "execution_count": 19,
   "metadata": {},
   "outputs": [],
   "source": [
    "# Câu 8: \n",
    "# Chia dữ liệu chipo ra làm 3 bin, chia theo cột item_price và lưu vào cột interval\n",
    "# Vẽ countplot cho cột interval\n",
    "# cho nhận xét\n",
    "# chipo['interval'] = pd.cut(x=chipo.item_price, bins=3)\n"
   ]
  },
  {
   "cell_type": "markdown",
   "metadata": {},
   "source": [
    "<details>\n",
    "  <summary style='color:#FD6504; font-size:14px'>Nhấn vào đây để xem kết quả!</summary>\n",
    "<img src=\"data:image/png;base64,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\n",
    "\">\n",
    "</details>"
   ]
  },
  {
   "cell_type": "code",
   "execution_count": null,
   "metadata": {},
   "outputs": [],
   "source": []
  }
 ],
 "metadata": {
  "kernelspec": {
   "display_name": "Python 3",
   "language": "python",
   "name": "python3"
  },
  "language_info": {
   "codemirror_mode": {
    "name": "ipython",
    "version": 3
   },
   "file_extension": ".py",
   "mimetype": "text/x-python",
   "name": "python",
   "nbconvert_exporter": "python",
   "pygments_lexer": "ipython3",
   "version": "3.9.2"
  }
 },
 "nbformat": 4,
 "nbformat_minor": 1
}
