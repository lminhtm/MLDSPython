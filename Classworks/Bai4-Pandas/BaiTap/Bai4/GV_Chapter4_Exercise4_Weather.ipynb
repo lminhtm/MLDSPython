{
 "cells": [
  {
   "cell_type": "markdown",
   "id": "bbcf3b32",
   "metadata": {
    "id": "bbcf3b32"
   },
   "source": [
    "# Chapter 4 - Exercise 4: Weather Data"
   ]
  },
  {
   "cell_type": "markdown",
   "id": "e1beac2d",
   "metadata": {
    "id": "e1beac2d"
   },
   "source": [
    "#### Bộ dữ liệu Weather Data bao gồm thông tin về thời tiết của tất cả các ngày trong tháng 7 năm 2017\n",
    "#### Bộ dữ liệu chứa trong thư mục data gồm các file dữ liệu:\n",
    "- 1_TempHighF: Nhiệt độ cao nhất (độ F)\n",
    "- 2_TempLowF: Nhiệt độ thấp nhất (độ F)\n",
    "- 3_HumidityHighPercent: Độ ẩm cao nhất (%)\n",
    "- 4_HumidityLowPercent: Độ ẩm thấp nhất (%)\n",
    "- 5_VisibilityHighMiles: Tầm nhìn xa (miles)\n",
    "- 6_VisibilityLowMiles: Tầm nhìn gần (miles)\n",
    "- 7_WindMPH: Sức gió (miles per hour)\n",
    "- 8_PrecipitationSumInches: Lượng mưa (inches)"
   ]
  },
  {
   "cell_type": "markdown",
   "id": "hvUw3DwZZDBW",
   "metadata": {
    "id": "hvUw3DwZZDBW"
   },
   "source": [
    "- Link thư mục data: https://drive.google.com/drive/folders/1614aFbGoWimoWYVi_x-o5F9Tbc_bNnPc?usp=sharing"
   ]
  },
  {
   "cell_type": "markdown",
   "id": "b353e1de",
   "metadata": {
    "id": "b353e1de"
   },
   "source": [
    "### * Yêu cầu\n",
    "<p><b>1. Đọc dữ liệu từ các tập tin và lưu trữ vào list data với mỗi phần tử là dữ liệu được đọc từ 1 tập tin tương ứng trong thư mục data (có kiểu numpy array). In kết quả list data</b></p>\n",
    "<p><b>2. Từ các numpy array trong list data, tạo dataframe dfWeather gồm các cột: \n",
    "- 'TempHighF', 'TempLowF', 'HumidityHighPercent', 'HumidityLowPercent', 'VisibilityHighMiles', 'VisibilityLowMiles', 'WindMPH', 'PrecipitationSumInches'</b><br>\n",
    "- Nhiệt độ cao nhất, nhiệt độ thấp nhất, độ ẩm cao nhất, độ ẩm thấp nhất, tầm nhìn xa, tầm nhìn gần, sức gió và lượng mưa<br>\n",
    "- Xem 5 dòng đầu tiên trong dfWeather\n",
    "</p>"
   ]
  },
  {
   "cell_type": "markdown",
   "id": "exciting-closure",
   "metadata": {},
   "source": [
    "<p><b>3. Tạo dataframe dfWeather2 lần lượt với các cột sau đây:\n",
    "'TempHighC', 'TempLowC', 'HumidityHighPercent', 'HumidityLowPercent', 'VisibilityHighKMs', 'VisibilityLowKMs', 'WindKMPH', 'PrecipitationSumMM'</b></p>  \n",
    "<p>&nbsp; &nbsp;3.1  Chuyển đổi cột nhiệt độ cao nhất từ độ F sang độ C và lưu vào cột TempHighC trong dfWeather2 (làm tròn 2 số lẻ), hiển thị 5 giá trị đầu của TempHighC</p>\n",
    "<ul>\n",
    "    <li>công thức chuyển từ độ F sang C: C = (F − 32) × 5/9</li>\n",
    "    <li>ví dụ chuyển từ 80F sang C: C = (80 - 32) x 5/9 = 26.67C</li>\n",
    "</ul>    \n",
    "<p>&nbsp; &nbsp;3.2 Chuyển đổi cột nhiệt độ thấp nhất từ độ F sang độ C và lưu vào cột TempLowC trong dfWeather2</p>\n",
    "<p>&nbsp; &nbsp;3.3 Tính nhiệt độ trung bình TempMediumC trong dfWeather2</p>\n",
    "<p>&nbsp; &nbsp;3.4 Tạo mới các cột độ ẩm HumidityHighPercent và HumidityLowPercent trong dfWeather2 bằng các cột HumidityHighPercent và HumidityLowPercent trong dfWeather</p>\n",
    "<p>&nbsp; &nbsp;3.5 Chuyển đổi cột tầm nhìn xa từ miles sang kilomet và lưu vào cột VisibilityHighKMs trong dfWeather2</p>\n",
    "<ul>\n",
    "<li>công thức chuyển từ Mile sang Kilomet: km = mile * 1.609344</li>\n",
    "    <li>ví dụ chuyển từ 10 mile sang km: km = 10 * 1.609344 = 16.09344 km</li>\n",
    "</ul>    \n",
    "<p>&nbsp; &nbsp;3.6 Chuyển đổi cột tầm nhìn gần từ miles sang kilomet và lưu vào cột VisibilityLowKMs trong dfWeather2</p>\n",
    "<p>&nbsp; &nbsp;3.7 Chuyển đổi cột sức gió từ miles/hour (WindMPH) sang kilomets/hour và lưu vào cột WindKMPH trong dfWeather2</p>\n",
    "<p>&nbsp; &nbsp;3.8 Chuyển đổi cột lượng mưa từ inches sang milimet và lưu vào cột PrecipitationSumMMs trong dfWeather2</p>\n",
    "<ul>\n",
    "    <li>công thức chuyển từ Inches sang Milimet: mm = inches * 25.4</li>\n",
    "    <li>ví dụ chuyển từ 10 inches sang milimet: mm = 10 * 25.4 = 254 mm</li>"
   ]
  },
  {
   "cell_type": "markdown",
   "id": "innovative-warning",
   "metadata": {},
   "source": [
    "<p><b>4. Xem thông tin thời tiết của 5 ngày đầu tiên trong dfWeather2\n",
    "<p><b>5. Từ dfWeather2, liệt kê thông tin thời tiết của các ngày có nhiệt độ trung bình cao nhất\n",
    "<p><b>6. Từ dfWeather2, liệt kê thông tin thời tiết của các ngày có nhiệt độ trung bình thấp nhất\n",
    "<p><b>7. Từ dfWeather2, liệt kê thông tin thời tiết của các ngày có mưa, sắp giảm theo lượng mưa\n",
    "<p><b>8. Từ dfWeather2, liệt kê thông tin thời tiết của các ngày không có mưa và có độ ẩm trung bình cao nhất\n",
    "<p><b>9. Tạo series ser chứa hai giá trị trung bình cột TempMediumC của các ngày có mưa và các ngày không mưa trong tháng"
   ]
  },
  {
   "cell_type": "code",
   "execution_count": 2,
   "id": "3995dac0",
   "metadata": {
    "id": "3995dac0"
   },
   "outputs": [],
   "source": [
    "import numpy as np\n",
    "import os"
   ]
  },
  {
   "cell_type": "markdown",
   "id": "polar-adapter",
   "metadata": {},
   "source": [
    "#### 1. Đọc dữ liệu từ các tập tin và lưu trữ vào list data với mỗi phần tử là dữ liệu được đọc từ 1 tập tin tương ứng trong thư mục data (có kiểu numpy array). In kết quả list data"
   ]
  },
  {
   "cell_type": "code",
   "execution_count": 3,
   "id": "ce636797",
   "metadata": {
    "id": "ce636797"
   },
   "outputs": [
    {
     "data": {
      "text/plain": [
       "['1_TempHighF.txt',\n",
       " '2_TempLowF.txt',\n",
       " '3_HumidityHighPercent.txt',\n",
       " '4_HumidityLowPercent.txt',\n",
       " '5_VisibilityHighMiles.txt',\n",
       " '6_VisibilityLowMiles.txt',\n",
       " '7_WindMPH.txt',\n",
       " '8_PrecipitationSumInches.txt']"
      ]
     },
     "execution_count": 3,
     "metadata": {},
     "output_type": "execute_result"
    }
   ],
   "source": [
    "# lấy danh sách file\n",
    "list_files = os.listdir('Weather Data')\n",
    "list_files"
   ]
  },
  {
   "cell_type": "code",
   "execution_count": 4,
   "id": "a6a1f685",
   "metadata": {
    "id": "a6a1f685"
   },
   "outputs": [],
   "source": [
    "# đọc các file có trong danh sách file và lưu vào list data\n",
    "data = []\n",
    "for file in list_files:\n",
    "    with open('Weather Data/' + file, encoding='utf8') as f:\n",
    "        content = f.read()\n",
    "        data.append(np.array(content.split(','), dtype=float))"
   ]
  },
  {
   "cell_type": "code",
   "execution_count": 5,
   "id": "2535aa95",
   "metadata": {
    "id": "2535aa95",
    "outputId": "39ac77e3-627c-47ff-de78-636139b5970c"
   },
   "outputs": [
    {
     "name": "stdout",
     "output_type": "stream",
     "text": [
      "[ 98. 100.  99. 101.  99. 100.  99. 100. 101. 100. 101. 101. 102. 101.\n",
      " 103.  99.  98. 100. 101. 103. 104. 103. 103. 102. 103. 103. 103. 105.\n",
      " 107. 106.  99.] \n",
      "\n",
      "[79. 78. 76. 78. 78. 77. 75. 75. 77. 76. 77. 77. 77. 77. 71. 68. 77. 76.\n",
      " 77. 77. 77. 77. 77. 76. 78. 78. 75. 76. 77. 79. 77.] \n",
      "\n",
      "[ 85.  91.  88.  85.  85.  88.  88.  87.  82.  87.  88.  88.  88.  88.\n",
      " 100. 100.  88.  88.  88.  85.  85.  88.  85.  91.  91.  91.  82.  87.\n",
      "  82.  69.  64.] \n",
      "\n",
      "[38. 35. 35. 35. 31. 31. 33. 31. 29. 26. 27. 29. 29. 27. 29. 33. 38. 33.\n",
      " 31. 27. 27. 27. 31. 29. 31. 25. 25. 20. 19. 27. 22.] \n",
      "\n",
      "[10. 10. 10. 10. 10. 10. 10. 10. 10. 10. 10. 10. 10. 10. 10. 10. 10. 10.\n",
      " 10. 10. 10. 10. 10. 10. 10. 10. 10. 10. 10. 10. 10.] \n",
      "\n",
      "[ 6.  8. 10. 10. 10. 10. 10. 10. 10. 10. 10. 10. 10. 10.  2.  6. 10. 10.\n",
      " 10. 10. 10. 10.  2.  9.  9. 10. 10. 10. 10. 10. 10.] \n",
      "\n",
      "[15. 14. 13. 13. 13. 12. 15.  9. 12. 12. 14. 13. 10. 15. 23. 12. 16. 14.\n",
      " 18. 14. 14. 13. 13. 13. 15. 15. 12. 14. 12. 13. 12.] \n",
      "\n",
      "[0.01 0.   0.   0.   0.   0.   0.02 0.   0.   0.   0.   0.   0.   0.\n",
      " 0.16 0.   0.03 0.   0.   0.   0.01 0.   0.04 0.01 0.   0.01 0.   0.\n",
      " 0.   0.   0.  ] \n",
      "\n"
     ]
    }
   ],
   "source": [
    "#xem kết quả\n",
    "for d in data:\n",
    "    print(d,'\\n')"
   ]
  },
  {
   "cell_type": "markdown",
   "id": "divine-disorder",
   "metadata": {
    "id": "707469ad"
   },
   "source": [
    "#### 2. Từ các numpy array trong list data, tạo dataframe dfWeather gồm các cột: \n",
    "- 'TempHighF', 'TempLowF', 'HumidityHighPercent', 'HumidityLowPercent', 'VisibilityHighMiles', 'VisibilityLowMiles', 'WindMPH', 'PrecipitationSumInches'\n",
    "- Nhiệt độ cao nhất, nhiệt độ thấp nhất, độ ẩm cao nhất, độ ẩm thấp nhất, tầm nhìn xa, tầm nhìn gần, sức gió và lượng mưa\n",
    "- Xem 5 dòng đầu tiên trong dfWeather"
   ]
  },
  {
   "cell_type": "code",
   "execution_count": 6,
   "id": "random-drive",
   "metadata": {},
   "outputs": [],
   "source": [
    "import pandas as pd"
   ]
  },
  {
   "cell_type": "code",
   "execution_count": 7,
   "id": "atomic-cylinder",
   "metadata": {},
   "outputs": [],
   "source": [
    "# 'TempHighF', 'TempLowF', 'HumidityHighPercent', 'HumidityLowPercent', 'VisibilityHighMiles', 'VisibilityLowMiles', \n",
    "# 'WindMPH', 'PrecipitationSumInches'\n",
    "dfWeather = pd.DataFrame({'TempHighF':data[0], 'TempLowF':data[1], 'HumidityHighPercent':data[2],\n",
    "                        'HumidityLowPercent':data[3], 'VisibilityHighMiles':data[4], 'VisibilityLowMiles':data[5],\n",
    "                        'WindMPH':data[6], 'PrecipitationSumInches':data[7]})"
   ]
  },
  {
   "cell_type": "code",
   "execution_count": 8,
   "id": "postal-reverse",
   "metadata": {},
   "outputs": [
    {
     "data": {
      "text/html": [
       "<div>\n",
       "<style scoped>\n",
       "    .dataframe tbody tr th:only-of-type {\n",
       "        vertical-align: middle;\n",
       "    }\n",
       "\n",
       "    .dataframe tbody tr th {\n",
       "        vertical-align: top;\n",
       "    }\n",
       "\n",
       "    .dataframe thead th {\n",
       "        text-align: right;\n",
       "    }\n",
       "</style>\n",
       "<table border=\"1\" class=\"dataframe\">\n",
       "  <thead>\n",
       "    <tr style=\"text-align: right;\">\n",
       "      <th></th>\n",
       "      <th>TempHighF</th>\n",
       "      <th>TempLowF</th>\n",
       "      <th>HumidityHighPercent</th>\n",
       "      <th>HumidityLowPercent</th>\n",
       "      <th>VisibilityHighMiles</th>\n",
       "      <th>VisibilityLowMiles</th>\n",
       "      <th>WindMPH</th>\n",
       "      <th>PrecipitationSumInches</th>\n",
       "    </tr>\n",
       "  </thead>\n",
       "  <tbody>\n",
       "    <tr>\n",
       "      <th>0</th>\n",
       "      <td>98.0</td>\n",
       "      <td>79.0</td>\n",
       "      <td>85.0</td>\n",
       "      <td>38.0</td>\n",
       "      <td>10.0</td>\n",
       "      <td>6.0</td>\n",
       "      <td>15.0</td>\n",
       "      <td>0.01</td>\n",
       "    </tr>\n",
       "    <tr>\n",
       "      <th>1</th>\n",
       "      <td>100.0</td>\n",
       "      <td>78.0</td>\n",
       "      <td>91.0</td>\n",
       "      <td>35.0</td>\n",
       "      <td>10.0</td>\n",
       "      <td>8.0</td>\n",
       "      <td>14.0</td>\n",
       "      <td>0.00</td>\n",
       "    </tr>\n",
       "    <tr>\n",
       "      <th>2</th>\n",
       "      <td>99.0</td>\n",
       "      <td>76.0</td>\n",
       "      <td>88.0</td>\n",
       "      <td>35.0</td>\n",
       "      <td>10.0</td>\n",
       "      <td>10.0</td>\n",
       "      <td>13.0</td>\n",
       "      <td>0.00</td>\n",
       "    </tr>\n",
       "    <tr>\n",
       "      <th>3</th>\n",
       "      <td>101.0</td>\n",
       "      <td>78.0</td>\n",
       "      <td>85.0</td>\n",
       "      <td>35.0</td>\n",
       "      <td>10.0</td>\n",
       "      <td>10.0</td>\n",
       "      <td>13.0</td>\n",
       "      <td>0.00</td>\n",
       "    </tr>\n",
       "    <tr>\n",
       "      <th>4</th>\n",
       "      <td>99.0</td>\n",
       "      <td>78.0</td>\n",
       "      <td>85.0</td>\n",
       "      <td>31.0</td>\n",
       "      <td>10.0</td>\n",
       "      <td>10.0</td>\n",
       "      <td>13.0</td>\n",
       "      <td>0.00</td>\n",
       "    </tr>\n",
       "  </tbody>\n",
       "</table>\n",
       "</div>"
      ],
      "text/plain": [
       "   TempHighF  TempLowF  HumidityHighPercent  HumidityLowPercent  \\\n",
       "0       98.0      79.0                 85.0                38.0   \n",
       "1      100.0      78.0                 91.0                35.0   \n",
       "2       99.0      76.0                 88.0                35.0   \n",
       "3      101.0      78.0                 85.0                35.0   \n",
       "4       99.0      78.0                 85.0                31.0   \n",
       "\n",
       "   VisibilityHighMiles  VisibilityLowMiles  WindMPH  PrecipitationSumInches  \n",
       "0                 10.0                 6.0     15.0                    0.01  \n",
       "1                 10.0                 8.0     14.0                    0.00  \n",
       "2                 10.0                10.0     13.0                    0.00  \n",
       "3                 10.0                10.0     13.0                    0.00  \n",
       "4                 10.0                10.0     13.0                    0.00  "
      ]
     },
     "execution_count": 8,
     "metadata": {},
     "output_type": "execute_result"
    }
   ],
   "source": [
    "dfWeather.head()"
   ]
  },
  {
   "cell_type": "markdown",
   "id": "lyric-league",
   "metadata": {},
   "source": [
    "### 3. Tạo dataframe dfWeather2 lần lượt với các cột sau đây:\n",
    "- 'TempHighC', 'TempLowC', 'HumidityHighPercent', 'HumidityLowPercent', 'VisibilityHighKMs', 'VisibilityLowKMs', 'WindKMPH', 'PrecipitationSumMM'"
   ]
  },
  {
   "cell_type": "markdown",
   "id": "postal-prerequisite",
   "metadata": {},
   "source": [
    "##### 3.1  Chuyển đổi cột nhiệt độ cao nhất từ độ F sang độ C và lưu vào cột TempHighC trong dfWeather2 (làm tròn 2 số lẻ), hiển thị 5 giá trị đầu của TempHighC\n",
    "    - công thức chuyển từ độ F sang C: C = (F − 32) × 5/9\n",
    "    - ví dụ chuyển từ 80F sang C: C = (80 - 32) x 5/9 = 26.67C"
   ]
  },
  {
   "cell_type": "code",
   "execution_count": 9,
   "id": "cordless-ensemble",
   "metadata": {},
   "outputs": [],
   "source": [
    "dfWeather2 = pd.DataFrame({'TempHighC':np.round((dfWeather['TempHighF']-32)*5/9, 2)})"
   ]
  },
  {
   "cell_type": "code",
   "execution_count": 10,
   "id": "medium-tiger",
   "metadata": {},
   "outputs": [
    {
     "data": {
      "text/html": [
       "<div>\n",
       "<style scoped>\n",
       "    .dataframe tbody tr th:only-of-type {\n",
       "        vertical-align: middle;\n",
       "    }\n",
       "\n",
       "    .dataframe tbody tr th {\n",
       "        vertical-align: top;\n",
       "    }\n",
       "\n",
       "    .dataframe thead th {\n",
       "        text-align: right;\n",
       "    }\n",
       "</style>\n",
       "<table border=\"1\" class=\"dataframe\">\n",
       "  <thead>\n",
       "    <tr style=\"text-align: right;\">\n",
       "      <th></th>\n",
       "      <th>TempHighC</th>\n",
       "    </tr>\n",
       "  </thead>\n",
       "  <tbody>\n",
       "    <tr>\n",
       "      <th>0</th>\n",
       "      <td>36.67</td>\n",
       "    </tr>\n",
       "    <tr>\n",
       "      <th>1</th>\n",
       "      <td>37.78</td>\n",
       "    </tr>\n",
       "    <tr>\n",
       "      <th>2</th>\n",
       "      <td>37.22</td>\n",
       "    </tr>\n",
       "    <tr>\n",
       "      <th>3</th>\n",
       "      <td>38.33</td>\n",
       "    </tr>\n",
       "    <tr>\n",
       "      <th>4</th>\n",
       "      <td>37.22</td>\n",
       "    </tr>\n",
       "  </tbody>\n",
       "</table>\n",
       "</div>"
      ],
      "text/plain": [
       "   TempHighC\n",
       "0      36.67\n",
       "1      37.78\n",
       "2      37.22\n",
       "3      38.33\n",
       "4      37.22"
      ]
     },
     "execution_count": 10,
     "metadata": {},
     "output_type": "execute_result"
    }
   ],
   "source": [
    "dfWeather2.head()"
   ]
  },
  {
   "cell_type": "markdown",
   "id": "perfect-recovery",
   "metadata": {},
   "source": [
    "#### 3.2 Chuyển đổi cột nhiệt độ thấp nhất từ độ F sang độ C và lưu vào cột TempLowC trong dfWeather2"
   ]
  },
  {
   "cell_type": "code",
   "execution_count": 11,
   "id": "atomic-pipeline",
   "metadata": {},
   "outputs": [
    {
     "data": {
      "text/html": [
       "<div>\n",
       "<style scoped>\n",
       "    .dataframe tbody tr th:only-of-type {\n",
       "        vertical-align: middle;\n",
       "    }\n",
       "\n",
       "    .dataframe tbody tr th {\n",
       "        vertical-align: top;\n",
       "    }\n",
       "\n",
       "    .dataframe thead th {\n",
       "        text-align: right;\n",
       "    }\n",
       "</style>\n",
       "<table border=\"1\" class=\"dataframe\">\n",
       "  <thead>\n",
       "    <tr style=\"text-align: right;\">\n",
       "      <th></th>\n",
       "      <th>TempHighC</th>\n",
       "      <th>TempLowC</th>\n",
       "    </tr>\n",
       "  </thead>\n",
       "  <tbody>\n",
       "    <tr>\n",
       "      <th>0</th>\n",
       "      <td>36.67</td>\n",
       "      <td>26.11</td>\n",
       "    </tr>\n",
       "    <tr>\n",
       "      <th>1</th>\n",
       "      <td>37.78</td>\n",
       "      <td>25.56</td>\n",
       "    </tr>\n",
       "    <tr>\n",
       "      <th>2</th>\n",
       "      <td>37.22</td>\n",
       "      <td>24.44</td>\n",
       "    </tr>\n",
       "    <tr>\n",
       "      <th>3</th>\n",
       "      <td>38.33</td>\n",
       "      <td>25.56</td>\n",
       "    </tr>\n",
       "    <tr>\n",
       "      <th>4</th>\n",
       "      <td>37.22</td>\n",
       "      <td>25.56</td>\n",
       "    </tr>\n",
       "  </tbody>\n",
       "</table>\n",
       "</div>"
      ],
      "text/plain": [
       "   TempHighC  TempLowC\n",
       "0      36.67     26.11\n",
       "1      37.78     25.56\n",
       "2      37.22     24.44\n",
       "3      38.33     25.56\n",
       "4      37.22     25.56"
      ]
     },
     "execution_count": 11,
     "metadata": {},
     "output_type": "execute_result"
    }
   ],
   "source": [
    "dfWeather2['TempLowC'] = np.round((dfWeather['TempLowF']-32)*5/9, 2)\n",
    "dfWeather2.head()"
   ]
  },
  {
   "cell_type": "markdown",
   "id": "married-interference",
   "metadata": {},
   "source": [
    "##### 3.3 Tính nhiệt độ trung bình TempMediumC trong dfWeather2"
   ]
  },
  {
   "cell_type": "code",
   "execution_count": 12,
   "id": "labeled-memphis",
   "metadata": {},
   "outputs": [
    {
     "data": {
      "text/html": [
       "<div>\n",
       "<style scoped>\n",
       "    .dataframe tbody tr th:only-of-type {\n",
       "        vertical-align: middle;\n",
       "    }\n",
       "\n",
       "    .dataframe tbody tr th {\n",
       "        vertical-align: top;\n",
       "    }\n",
       "\n",
       "    .dataframe thead th {\n",
       "        text-align: right;\n",
       "    }\n",
       "</style>\n",
       "<table border=\"1\" class=\"dataframe\">\n",
       "  <thead>\n",
       "    <tr style=\"text-align: right;\">\n",
       "      <th></th>\n",
       "      <th>TempHighC</th>\n",
       "      <th>TempLowC</th>\n",
       "      <th>TempMediumC</th>\n",
       "    </tr>\n",
       "  </thead>\n",
       "  <tbody>\n",
       "    <tr>\n",
       "      <th>0</th>\n",
       "      <td>36.67</td>\n",
       "      <td>26.11</td>\n",
       "      <td>31.39</td>\n",
       "    </tr>\n",
       "    <tr>\n",
       "      <th>1</th>\n",
       "      <td>37.78</td>\n",
       "      <td>25.56</td>\n",
       "      <td>31.67</td>\n",
       "    </tr>\n",
       "    <tr>\n",
       "      <th>2</th>\n",
       "      <td>37.22</td>\n",
       "      <td>24.44</td>\n",
       "      <td>30.83</td>\n",
       "    </tr>\n",
       "    <tr>\n",
       "      <th>3</th>\n",
       "      <td>38.33</td>\n",
       "      <td>25.56</td>\n",
       "      <td>31.94</td>\n",
       "    </tr>\n",
       "    <tr>\n",
       "      <th>4</th>\n",
       "      <td>37.22</td>\n",
       "      <td>25.56</td>\n",
       "      <td>31.39</td>\n",
       "    </tr>\n",
       "  </tbody>\n",
       "</table>\n",
       "</div>"
      ],
      "text/plain": [
       "   TempHighC  TempLowC  TempMediumC\n",
       "0      36.67     26.11        31.39\n",
       "1      37.78     25.56        31.67\n",
       "2      37.22     24.44        30.83\n",
       "3      38.33     25.56        31.94\n",
       "4      37.22     25.56        31.39"
      ]
     },
     "execution_count": 12,
     "metadata": {},
     "output_type": "execute_result"
    }
   ],
   "source": [
    "dfWeather2['TempMediumC'] = np.round((dfWeather2['TempHighC']+dfWeather2['TempLowC'])/2, 2)\n",
    "dfWeather2.head()"
   ]
  },
  {
   "cell_type": "markdown",
   "id": "sensitive-botswana",
   "metadata": {},
   "source": [
    "##### 3.4 Tạo mới các cột độ ẩm HumidityHighPercent và HumidityLowPercent trong dfWeather2 bằng các cột HumidityHighPercent và HumidityLowPercent trong dfWeather"
   ]
  },
  {
   "cell_type": "code",
   "execution_count": 13,
   "id": "clear-easter",
   "metadata": {},
   "outputs": [
    {
     "data": {
      "text/html": [
       "<div>\n",
       "<style scoped>\n",
       "    .dataframe tbody tr th:only-of-type {\n",
       "        vertical-align: middle;\n",
       "    }\n",
       "\n",
       "    .dataframe tbody tr th {\n",
       "        vertical-align: top;\n",
       "    }\n",
       "\n",
       "    .dataframe thead th {\n",
       "        text-align: right;\n",
       "    }\n",
       "</style>\n",
       "<table border=\"1\" class=\"dataframe\">\n",
       "  <thead>\n",
       "    <tr style=\"text-align: right;\">\n",
       "      <th></th>\n",
       "      <th>TempHighC</th>\n",
       "      <th>TempLowC</th>\n",
       "      <th>TempMediumC</th>\n",
       "      <th>HumidityHighPercent</th>\n",
       "      <th>HumidityLowPercent</th>\n",
       "    </tr>\n",
       "  </thead>\n",
       "  <tbody>\n",
       "    <tr>\n",
       "      <th>0</th>\n",
       "      <td>36.67</td>\n",
       "      <td>26.11</td>\n",
       "      <td>31.39</td>\n",
       "      <td>85.0</td>\n",
       "      <td>38.0</td>\n",
       "    </tr>\n",
       "    <tr>\n",
       "      <th>1</th>\n",
       "      <td>37.78</td>\n",
       "      <td>25.56</td>\n",
       "      <td>31.67</td>\n",
       "      <td>91.0</td>\n",
       "      <td>35.0</td>\n",
       "    </tr>\n",
       "    <tr>\n",
       "      <th>2</th>\n",
       "      <td>37.22</td>\n",
       "      <td>24.44</td>\n",
       "      <td>30.83</td>\n",
       "      <td>88.0</td>\n",
       "      <td>35.0</td>\n",
       "    </tr>\n",
       "    <tr>\n",
       "      <th>3</th>\n",
       "      <td>38.33</td>\n",
       "      <td>25.56</td>\n",
       "      <td>31.94</td>\n",
       "      <td>85.0</td>\n",
       "      <td>35.0</td>\n",
       "    </tr>\n",
       "    <tr>\n",
       "      <th>4</th>\n",
       "      <td>37.22</td>\n",
       "      <td>25.56</td>\n",
       "      <td>31.39</td>\n",
       "      <td>85.0</td>\n",
       "      <td>31.0</td>\n",
       "    </tr>\n",
       "  </tbody>\n",
       "</table>\n",
       "</div>"
      ],
      "text/plain": [
       "   TempHighC  TempLowC  TempMediumC  HumidityHighPercent  HumidityLowPercent\n",
       "0      36.67     26.11        31.39                 85.0                38.0\n",
       "1      37.78     25.56        31.67                 91.0                35.0\n",
       "2      37.22     24.44        30.83                 88.0                35.0\n",
       "3      38.33     25.56        31.94                 85.0                35.0\n",
       "4      37.22     25.56        31.39                 85.0                31.0"
      ]
     },
     "execution_count": 13,
     "metadata": {},
     "output_type": "execute_result"
    }
   ],
   "source": [
    "dfWeather2['HumidityHighPercent'] = dfWeather['HumidityHighPercent']\n",
    "dfWeather2['HumidityLowPercent'] = dfWeather['HumidityLowPercent']\n",
    "dfWeather2.head()"
   ]
  },
  {
   "cell_type": "markdown",
   "id": "appointed-german",
   "metadata": {},
   "source": [
    "##### 3.5 Chuyển đổi cột tầm nhìn xa từ miles sang kilomet và lưu vào cột VisibilityHighKMs trong dfWeather2\n",
    "    - công thức chuyển từ Mile sang Kilomet: km = mile * 1.609344\n",
    "    - ví dụ chuyển từ 10 mile sang km: km = 10 * 1.609344 = 16.09344 km"
   ]
  },
  {
   "cell_type": "code",
   "execution_count": 14,
   "id": "decimal-diameter",
   "metadata": {},
   "outputs": [
    {
     "data": {
      "text/html": [
       "<div>\n",
       "<style scoped>\n",
       "    .dataframe tbody tr th:only-of-type {\n",
       "        vertical-align: middle;\n",
       "    }\n",
       "\n",
       "    .dataframe tbody tr th {\n",
       "        vertical-align: top;\n",
       "    }\n",
       "\n",
       "    .dataframe thead th {\n",
       "        text-align: right;\n",
       "    }\n",
       "</style>\n",
       "<table border=\"1\" class=\"dataframe\">\n",
       "  <thead>\n",
       "    <tr style=\"text-align: right;\">\n",
       "      <th></th>\n",
       "      <th>TempHighC</th>\n",
       "      <th>TempLowC</th>\n",
       "      <th>TempMediumC</th>\n",
       "      <th>HumidityHighPercent</th>\n",
       "      <th>HumidityLowPercent</th>\n",
       "      <th>VisibilityHighKMs</th>\n",
       "    </tr>\n",
       "  </thead>\n",
       "  <tbody>\n",
       "    <tr>\n",
       "      <th>0</th>\n",
       "      <td>36.67</td>\n",
       "      <td>26.11</td>\n",
       "      <td>31.39</td>\n",
       "      <td>85.0</td>\n",
       "      <td>38.0</td>\n",
       "      <td>16.09</td>\n",
       "    </tr>\n",
       "    <tr>\n",
       "      <th>1</th>\n",
       "      <td>37.78</td>\n",
       "      <td>25.56</td>\n",
       "      <td>31.67</td>\n",
       "      <td>91.0</td>\n",
       "      <td>35.0</td>\n",
       "      <td>16.09</td>\n",
       "    </tr>\n",
       "    <tr>\n",
       "      <th>2</th>\n",
       "      <td>37.22</td>\n",
       "      <td>24.44</td>\n",
       "      <td>30.83</td>\n",
       "      <td>88.0</td>\n",
       "      <td>35.0</td>\n",
       "      <td>16.09</td>\n",
       "    </tr>\n",
       "    <tr>\n",
       "      <th>3</th>\n",
       "      <td>38.33</td>\n",
       "      <td>25.56</td>\n",
       "      <td>31.94</td>\n",
       "      <td>85.0</td>\n",
       "      <td>35.0</td>\n",
       "      <td>16.09</td>\n",
       "    </tr>\n",
       "    <tr>\n",
       "      <th>4</th>\n",
       "      <td>37.22</td>\n",
       "      <td>25.56</td>\n",
       "      <td>31.39</td>\n",
       "      <td>85.0</td>\n",
       "      <td>31.0</td>\n",
       "      <td>16.09</td>\n",
       "    </tr>\n",
       "  </tbody>\n",
       "</table>\n",
       "</div>"
      ],
      "text/plain": [
       "   TempHighC  TempLowC  TempMediumC  HumidityHighPercent  HumidityLowPercent  \\\n",
       "0      36.67     26.11        31.39                 85.0                38.0   \n",
       "1      37.78     25.56        31.67                 91.0                35.0   \n",
       "2      37.22     24.44        30.83                 88.0                35.0   \n",
       "3      38.33     25.56        31.94                 85.0                35.0   \n",
       "4      37.22     25.56        31.39                 85.0                31.0   \n",
       "\n",
       "   VisibilityHighKMs  \n",
       "0              16.09  \n",
       "1              16.09  \n",
       "2              16.09  \n",
       "3              16.09  \n",
       "4              16.09  "
      ]
     },
     "execution_count": 14,
     "metadata": {},
     "output_type": "execute_result"
    }
   ],
   "source": [
    "dfWeather2['VisibilityHighKMs'] = np.round(dfWeather['VisibilityHighMiles']*1.609344, 2)\n",
    "dfWeather2.head()"
   ]
  },
  {
   "cell_type": "markdown",
   "id": "clinical-magazine",
   "metadata": {},
   "source": [
    "##### 3.6 Chuyển đổi cột tầm nhìn gần từ miles sang kilomet và lưu vào cột VisibilityLowKMs trong dfWeather2"
   ]
  },
  {
   "cell_type": "code",
   "execution_count": 15,
   "id": "negative-spare",
   "metadata": {},
   "outputs": [
    {
     "data": {
      "text/html": [
       "<div>\n",
       "<style scoped>\n",
       "    .dataframe tbody tr th:only-of-type {\n",
       "        vertical-align: middle;\n",
       "    }\n",
       "\n",
       "    .dataframe tbody tr th {\n",
       "        vertical-align: top;\n",
       "    }\n",
       "\n",
       "    .dataframe thead th {\n",
       "        text-align: right;\n",
       "    }\n",
       "</style>\n",
       "<table border=\"1\" class=\"dataframe\">\n",
       "  <thead>\n",
       "    <tr style=\"text-align: right;\">\n",
       "      <th></th>\n",
       "      <th>TempHighC</th>\n",
       "      <th>TempLowC</th>\n",
       "      <th>TempMediumC</th>\n",
       "      <th>HumidityHighPercent</th>\n",
       "      <th>HumidityLowPercent</th>\n",
       "      <th>VisibilityHighKMs</th>\n",
       "      <th>VisibilityLowKMs</th>\n",
       "    </tr>\n",
       "  </thead>\n",
       "  <tbody>\n",
       "    <tr>\n",
       "      <th>0</th>\n",
       "      <td>36.67</td>\n",
       "      <td>26.11</td>\n",
       "      <td>31.39</td>\n",
       "      <td>85.0</td>\n",
       "      <td>38.0</td>\n",
       "      <td>16.09</td>\n",
       "      <td>9.66</td>\n",
       "    </tr>\n",
       "    <tr>\n",
       "      <th>1</th>\n",
       "      <td>37.78</td>\n",
       "      <td>25.56</td>\n",
       "      <td>31.67</td>\n",
       "      <td>91.0</td>\n",
       "      <td>35.0</td>\n",
       "      <td>16.09</td>\n",
       "      <td>12.87</td>\n",
       "    </tr>\n",
       "    <tr>\n",
       "      <th>2</th>\n",
       "      <td>37.22</td>\n",
       "      <td>24.44</td>\n",
       "      <td>30.83</td>\n",
       "      <td>88.0</td>\n",
       "      <td>35.0</td>\n",
       "      <td>16.09</td>\n",
       "      <td>16.09</td>\n",
       "    </tr>\n",
       "    <tr>\n",
       "      <th>3</th>\n",
       "      <td>38.33</td>\n",
       "      <td>25.56</td>\n",
       "      <td>31.94</td>\n",
       "      <td>85.0</td>\n",
       "      <td>35.0</td>\n",
       "      <td>16.09</td>\n",
       "      <td>16.09</td>\n",
       "    </tr>\n",
       "    <tr>\n",
       "      <th>4</th>\n",
       "      <td>37.22</td>\n",
       "      <td>25.56</td>\n",
       "      <td>31.39</td>\n",
       "      <td>85.0</td>\n",
       "      <td>31.0</td>\n",
       "      <td>16.09</td>\n",
       "      <td>16.09</td>\n",
       "    </tr>\n",
       "  </tbody>\n",
       "</table>\n",
       "</div>"
      ],
      "text/plain": [
       "   TempHighC  TempLowC  TempMediumC  HumidityHighPercent  HumidityLowPercent  \\\n",
       "0      36.67     26.11        31.39                 85.0                38.0   \n",
       "1      37.78     25.56        31.67                 91.0                35.0   \n",
       "2      37.22     24.44        30.83                 88.0                35.0   \n",
       "3      38.33     25.56        31.94                 85.0                35.0   \n",
       "4      37.22     25.56        31.39                 85.0                31.0   \n",
       "\n",
       "   VisibilityHighKMs  VisibilityLowKMs  \n",
       "0              16.09              9.66  \n",
       "1              16.09             12.87  \n",
       "2              16.09             16.09  \n",
       "3              16.09             16.09  \n",
       "4              16.09             16.09  "
      ]
     },
     "execution_count": 15,
     "metadata": {},
     "output_type": "execute_result"
    }
   ],
   "source": [
    "dfWeather2['VisibilityLowKMs'] = np.round(dfWeather['VisibilityLowMiles']*1.609344, 2)\n",
    "dfWeather2.head()"
   ]
  },
  {
   "cell_type": "markdown",
   "id": "present-subscription",
   "metadata": {},
   "source": [
    "##### 3.7 Chuyển đổi cột sức gió từ miles/hour (WindMPH) sang kilomets/hour và lưu vào cột WindKMPH trong dfWeather2"
   ]
  },
  {
   "cell_type": "code",
   "execution_count": 16,
   "id": "spatial-liverpool",
   "metadata": {},
   "outputs": [
    {
     "data": {
      "text/html": [
       "<div>\n",
       "<style scoped>\n",
       "    .dataframe tbody tr th:only-of-type {\n",
       "        vertical-align: middle;\n",
       "    }\n",
       "\n",
       "    .dataframe tbody tr th {\n",
       "        vertical-align: top;\n",
       "    }\n",
       "\n",
       "    .dataframe thead th {\n",
       "        text-align: right;\n",
       "    }\n",
       "</style>\n",
       "<table border=\"1\" class=\"dataframe\">\n",
       "  <thead>\n",
       "    <tr style=\"text-align: right;\">\n",
       "      <th></th>\n",
       "      <th>TempHighC</th>\n",
       "      <th>TempLowC</th>\n",
       "      <th>TempMediumC</th>\n",
       "      <th>HumidityHighPercent</th>\n",
       "      <th>HumidityLowPercent</th>\n",
       "      <th>VisibilityHighKMs</th>\n",
       "      <th>VisibilityLowKMs</th>\n",
       "      <th>WindKMPH</th>\n",
       "    </tr>\n",
       "  </thead>\n",
       "  <tbody>\n",
       "    <tr>\n",
       "      <th>0</th>\n",
       "      <td>36.67</td>\n",
       "      <td>26.11</td>\n",
       "      <td>31.39</td>\n",
       "      <td>85.0</td>\n",
       "      <td>38.0</td>\n",
       "      <td>16.09</td>\n",
       "      <td>9.66</td>\n",
       "      <td>24.14</td>\n",
       "    </tr>\n",
       "    <tr>\n",
       "      <th>1</th>\n",
       "      <td>37.78</td>\n",
       "      <td>25.56</td>\n",
       "      <td>31.67</td>\n",
       "      <td>91.0</td>\n",
       "      <td>35.0</td>\n",
       "      <td>16.09</td>\n",
       "      <td>12.87</td>\n",
       "      <td>22.53</td>\n",
       "    </tr>\n",
       "    <tr>\n",
       "      <th>2</th>\n",
       "      <td>37.22</td>\n",
       "      <td>24.44</td>\n",
       "      <td>30.83</td>\n",
       "      <td>88.0</td>\n",
       "      <td>35.0</td>\n",
       "      <td>16.09</td>\n",
       "      <td>16.09</td>\n",
       "      <td>20.92</td>\n",
       "    </tr>\n",
       "    <tr>\n",
       "      <th>3</th>\n",
       "      <td>38.33</td>\n",
       "      <td>25.56</td>\n",
       "      <td>31.94</td>\n",
       "      <td>85.0</td>\n",
       "      <td>35.0</td>\n",
       "      <td>16.09</td>\n",
       "      <td>16.09</td>\n",
       "      <td>20.92</td>\n",
       "    </tr>\n",
       "    <tr>\n",
       "      <th>4</th>\n",
       "      <td>37.22</td>\n",
       "      <td>25.56</td>\n",
       "      <td>31.39</td>\n",
       "      <td>85.0</td>\n",
       "      <td>31.0</td>\n",
       "      <td>16.09</td>\n",
       "      <td>16.09</td>\n",
       "      <td>20.92</td>\n",
       "    </tr>\n",
       "  </tbody>\n",
       "</table>\n",
       "</div>"
      ],
      "text/plain": [
       "   TempHighC  TempLowC  TempMediumC  HumidityHighPercent  HumidityLowPercent  \\\n",
       "0      36.67     26.11        31.39                 85.0                38.0   \n",
       "1      37.78     25.56        31.67                 91.0                35.0   \n",
       "2      37.22     24.44        30.83                 88.0                35.0   \n",
       "3      38.33     25.56        31.94                 85.0                35.0   \n",
       "4      37.22     25.56        31.39                 85.0                31.0   \n",
       "\n",
       "   VisibilityHighKMs  VisibilityLowKMs  WindKMPH  \n",
       "0              16.09              9.66     24.14  \n",
       "1              16.09             12.87     22.53  \n",
       "2              16.09             16.09     20.92  \n",
       "3              16.09             16.09     20.92  \n",
       "4              16.09             16.09     20.92  "
      ]
     },
     "execution_count": 16,
     "metadata": {},
     "output_type": "execute_result"
    }
   ],
   "source": [
    "dfWeather2['WindKMPH'] = np.round(dfWeather['WindMPH']*1.609344, 2)\n",
    "dfWeather2.head()"
   ]
  },
  {
   "cell_type": "markdown",
   "id": "needed-aggregate",
   "metadata": {},
   "source": [
    "##### 3.8 Chuyển đổi cột lượng mưa từ inches sang milimet và lưu vào cột PrecipitationSumMMs trong dfWeather2\n",
    "    - công thức chuyển từ Inches sang Milimet: mm = inches * 25.4\n",
    "    - ví dụ chuyển từ 10 inches sang milimet: mm = 10 * 25.4 = 254 mm"
   ]
  },
  {
   "cell_type": "code",
   "execution_count": 17,
   "id": "specific-batman",
   "metadata": {},
   "outputs": [
    {
     "data": {
      "text/html": [
       "<div>\n",
       "<style scoped>\n",
       "    .dataframe tbody tr th:only-of-type {\n",
       "        vertical-align: middle;\n",
       "    }\n",
       "\n",
       "    .dataframe tbody tr th {\n",
       "        vertical-align: top;\n",
       "    }\n",
       "\n",
       "    .dataframe thead th {\n",
       "        text-align: right;\n",
       "    }\n",
       "</style>\n",
       "<table border=\"1\" class=\"dataframe\">\n",
       "  <thead>\n",
       "    <tr style=\"text-align: right;\">\n",
       "      <th></th>\n",
       "      <th>TempHighC</th>\n",
       "      <th>TempLowC</th>\n",
       "      <th>TempMediumC</th>\n",
       "      <th>HumidityHighPercent</th>\n",
       "      <th>HumidityLowPercent</th>\n",
       "      <th>VisibilityHighKMs</th>\n",
       "      <th>VisibilityLowKMs</th>\n",
       "      <th>WindKMPH</th>\n",
       "      <th>PrecipitationSumMMs</th>\n",
       "    </tr>\n",
       "  </thead>\n",
       "  <tbody>\n",
       "    <tr>\n",
       "      <th>0</th>\n",
       "      <td>36.67</td>\n",
       "      <td>26.11</td>\n",
       "      <td>31.39</td>\n",
       "      <td>85.0</td>\n",
       "      <td>38.0</td>\n",
       "      <td>16.09</td>\n",
       "      <td>9.66</td>\n",
       "      <td>24.14</td>\n",
       "      <td>0.25</td>\n",
       "    </tr>\n",
       "    <tr>\n",
       "      <th>1</th>\n",
       "      <td>37.78</td>\n",
       "      <td>25.56</td>\n",
       "      <td>31.67</td>\n",
       "      <td>91.0</td>\n",
       "      <td>35.0</td>\n",
       "      <td>16.09</td>\n",
       "      <td>12.87</td>\n",
       "      <td>22.53</td>\n",
       "      <td>0.00</td>\n",
       "    </tr>\n",
       "    <tr>\n",
       "      <th>2</th>\n",
       "      <td>37.22</td>\n",
       "      <td>24.44</td>\n",
       "      <td>30.83</td>\n",
       "      <td>88.0</td>\n",
       "      <td>35.0</td>\n",
       "      <td>16.09</td>\n",
       "      <td>16.09</td>\n",
       "      <td>20.92</td>\n",
       "      <td>0.00</td>\n",
       "    </tr>\n",
       "    <tr>\n",
       "      <th>3</th>\n",
       "      <td>38.33</td>\n",
       "      <td>25.56</td>\n",
       "      <td>31.94</td>\n",
       "      <td>85.0</td>\n",
       "      <td>35.0</td>\n",
       "      <td>16.09</td>\n",
       "      <td>16.09</td>\n",
       "      <td>20.92</td>\n",
       "      <td>0.00</td>\n",
       "    </tr>\n",
       "    <tr>\n",
       "      <th>4</th>\n",
       "      <td>37.22</td>\n",
       "      <td>25.56</td>\n",
       "      <td>31.39</td>\n",
       "      <td>85.0</td>\n",
       "      <td>31.0</td>\n",
       "      <td>16.09</td>\n",
       "      <td>16.09</td>\n",
       "      <td>20.92</td>\n",
       "      <td>0.00</td>\n",
       "    </tr>\n",
       "  </tbody>\n",
       "</table>\n",
       "</div>"
      ],
      "text/plain": [
       "   TempHighC  TempLowC  TempMediumC  HumidityHighPercent  HumidityLowPercent  \\\n",
       "0      36.67     26.11        31.39                 85.0                38.0   \n",
       "1      37.78     25.56        31.67                 91.0                35.0   \n",
       "2      37.22     24.44        30.83                 88.0                35.0   \n",
       "3      38.33     25.56        31.94                 85.0                35.0   \n",
       "4      37.22     25.56        31.39                 85.0                31.0   \n",
       "\n",
       "   VisibilityHighKMs  VisibilityLowKMs  WindKMPH  PrecipitationSumMMs  \n",
       "0              16.09              9.66     24.14                 0.25  \n",
       "1              16.09             12.87     22.53                 0.00  \n",
       "2              16.09             16.09     20.92                 0.00  \n",
       "3              16.09             16.09     20.92                 0.00  \n",
       "4              16.09             16.09     20.92                 0.00  "
      ]
     },
     "execution_count": 17,
     "metadata": {},
     "output_type": "execute_result"
    }
   ],
   "source": [
    "dfWeather2['PrecipitationSumMMs'] = np.round(dfWeather['PrecipitationSumInches']*25.4, 2)\n",
    "dfWeather2.head()"
   ]
  },
  {
   "cell_type": "code",
   "execution_count": 18,
   "id": "gross-letters",
   "metadata": {},
   "outputs": [
    {
     "data": {
      "text/plain": [
       "(31, 9)"
      ]
     },
     "execution_count": 18,
     "metadata": {},
     "output_type": "execute_result"
    }
   ],
   "source": [
    "dfWeather2.shape"
   ]
  },
  {
   "cell_type": "markdown",
   "id": "administrative-symbol",
   "metadata": {},
   "source": [
    "### 4. Xem thông tin thời tiết của 5 ngày đầu tiên trong dfWeather2"
   ]
  },
  {
   "cell_type": "code",
   "execution_count": 19,
   "id": "brutal-stage",
   "metadata": {},
   "outputs": [
    {
     "data": {
      "text/html": [
       "<div>\n",
       "<style scoped>\n",
       "    .dataframe tbody tr th:only-of-type {\n",
       "        vertical-align: middle;\n",
       "    }\n",
       "\n",
       "    .dataframe tbody tr th {\n",
       "        vertical-align: top;\n",
       "    }\n",
       "\n",
       "    .dataframe thead th {\n",
       "        text-align: right;\n",
       "    }\n",
       "</style>\n",
       "<table border=\"1\" class=\"dataframe\">\n",
       "  <thead>\n",
       "    <tr style=\"text-align: right;\">\n",
       "      <th></th>\n",
       "      <th>TempHighC</th>\n",
       "      <th>TempLowC</th>\n",
       "      <th>TempMediumC</th>\n",
       "      <th>HumidityHighPercent</th>\n",
       "      <th>HumidityLowPercent</th>\n",
       "      <th>VisibilityHighKMs</th>\n",
       "      <th>VisibilityLowKMs</th>\n",
       "      <th>WindKMPH</th>\n",
       "      <th>PrecipitationSumMMs</th>\n",
       "    </tr>\n",
       "  </thead>\n",
       "  <tbody>\n",
       "    <tr>\n",
       "      <th>0</th>\n",
       "      <td>36.67</td>\n",
       "      <td>26.11</td>\n",
       "      <td>31.39</td>\n",
       "      <td>85.0</td>\n",
       "      <td>38.0</td>\n",
       "      <td>16.09</td>\n",
       "      <td>9.66</td>\n",
       "      <td>24.14</td>\n",
       "      <td>0.25</td>\n",
       "    </tr>\n",
       "    <tr>\n",
       "      <th>1</th>\n",
       "      <td>37.78</td>\n",
       "      <td>25.56</td>\n",
       "      <td>31.67</td>\n",
       "      <td>91.0</td>\n",
       "      <td>35.0</td>\n",
       "      <td>16.09</td>\n",
       "      <td>12.87</td>\n",
       "      <td>22.53</td>\n",
       "      <td>0.00</td>\n",
       "    </tr>\n",
       "    <tr>\n",
       "      <th>2</th>\n",
       "      <td>37.22</td>\n",
       "      <td>24.44</td>\n",
       "      <td>30.83</td>\n",
       "      <td>88.0</td>\n",
       "      <td>35.0</td>\n",
       "      <td>16.09</td>\n",
       "      <td>16.09</td>\n",
       "      <td>20.92</td>\n",
       "      <td>0.00</td>\n",
       "    </tr>\n",
       "    <tr>\n",
       "      <th>3</th>\n",
       "      <td>38.33</td>\n",
       "      <td>25.56</td>\n",
       "      <td>31.94</td>\n",
       "      <td>85.0</td>\n",
       "      <td>35.0</td>\n",
       "      <td>16.09</td>\n",
       "      <td>16.09</td>\n",
       "      <td>20.92</td>\n",
       "      <td>0.00</td>\n",
       "    </tr>\n",
       "    <tr>\n",
       "      <th>4</th>\n",
       "      <td>37.22</td>\n",
       "      <td>25.56</td>\n",
       "      <td>31.39</td>\n",
       "      <td>85.0</td>\n",
       "      <td>31.0</td>\n",
       "      <td>16.09</td>\n",
       "      <td>16.09</td>\n",
       "      <td>20.92</td>\n",
       "      <td>0.00</td>\n",
       "    </tr>\n",
       "  </tbody>\n",
       "</table>\n",
       "</div>"
      ],
      "text/plain": [
       "   TempHighC  TempLowC  TempMediumC  HumidityHighPercent  HumidityLowPercent  \\\n",
       "0      36.67     26.11        31.39                 85.0                38.0   \n",
       "1      37.78     25.56        31.67                 91.0                35.0   \n",
       "2      37.22     24.44        30.83                 88.0                35.0   \n",
       "3      38.33     25.56        31.94                 85.0                35.0   \n",
       "4      37.22     25.56        31.39                 85.0                31.0   \n",
       "\n",
       "   VisibilityHighKMs  VisibilityLowKMs  WindKMPH  PrecipitationSumMMs  \n",
       "0              16.09              9.66     24.14                 0.25  \n",
       "1              16.09             12.87     22.53                 0.00  \n",
       "2              16.09             16.09     20.92                 0.00  \n",
       "3              16.09             16.09     20.92                 0.00  \n",
       "4              16.09             16.09     20.92                 0.00  "
      ]
     },
     "execution_count": 19,
     "metadata": {},
     "output_type": "execute_result"
    }
   ],
   "source": [
    "dfWeather2.head()"
   ]
  },
  {
   "cell_type": "markdown",
   "id": "virtual-schema",
   "metadata": {},
   "source": [
    "16. Từ arrWeather2, liệt kê thông tin thời tiết của các ngày có nhiệt độ cao nhất\n",
    "17. Từ arrWeather2, liệt kê thông tin thời tiết của các ngày có nhiệt độ thấp nhất\n",
    "18. Từ arrWeather2, liệt kê thông tin thời tiết của các ngày có mưa\n",
    "19. Từ arrWeather2, liệt kê thông tin thời tiết của các ngày không có mưa và có độ ẩm cao nhất\n",
    "20. Tạo mảng 1 chiều chứa giá trị trung bình thời tiết của các ngày có mưa trong tháng\n"
   ]
  },
  {
   "cell_type": "markdown",
   "id": "scientific-clause",
   "metadata": {},
   "source": [
    "### 5. Từ dfWeather2, liệt kê thông tin thời tiết của các ngày có nhiệt độ trung bình cao nhất"
   ]
  },
  {
   "cell_type": "code",
   "execution_count": 20,
   "id": "christian-latvia",
   "metadata": {},
   "outputs": [
    {
     "data": {
      "text/html": [
       "<div>\n",
       "<style scoped>\n",
       "    .dataframe tbody tr th:only-of-type {\n",
       "        vertical-align: middle;\n",
       "    }\n",
       "\n",
       "    .dataframe tbody tr th {\n",
       "        vertical-align: top;\n",
       "    }\n",
       "\n",
       "    .dataframe thead th {\n",
       "        text-align: right;\n",
       "    }\n",
       "</style>\n",
       "<table border=\"1\" class=\"dataframe\">\n",
       "  <thead>\n",
       "    <tr style=\"text-align: right;\">\n",
       "      <th></th>\n",
       "      <th>TempHighC</th>\n",
       "      <th>TempLowC</th>\n",
       "      <th>TempMediumC</th>\n",
       "      <th>HumidityHighPercent</th>\n",
       "      <th>HumidityLowPercent</th>\n",
       "      <th>VisibilityHighKMs</th>\n",
       "      <th>VisibilityLowKMs</th>\n",
       "      <th>WindKMPH</th>\n",
       "      <th>PrecipitationSumMMs</th>\n",
       "    </tr>\n",
       "  </thead>\n",
       "  <tbody>\n",
       "    <tr>\n",
       "      <th>29</th>\n",
       "      <td>41.11</td>\n",
       "      <td>26.11</td>\n",
       "      <td>33.61</td>\n",
       "      <td>69.0</td>\n",
       "      <td>27.0</td>\n",
       "      <td>16.09</td>\n",
       "      <td>16.09</td>\n",
       "      <td>20.92</td>\n",
       "      <td>0.0</td>\n",
       "    </tr>\n",
       "  </tbody>\n",
       "</table>\n",
       "</div>"
      ],
      "text/plain": [
       "    TempHighC  TempLowC  TempMediumC  HumidityHighPercent  HumidityLowPercent  \\\n",
       "29      41.11     26.11        33.61                 69.0                27.0   \n",
       "\n",
       "    VisibilityHighKMs  VisibilityLowKMs  WindKMPH  PrecipitationSumMMs  \n",
       "29              16.09             16.09     20.92                  0.0  "
      ]
     },
     "execution_count": 20,
     "metadata": {},
     "output_type": "execute_result"
    }
   ],
   "source": [
    "maxTemp = dfWeather2['TempMediumC'].max()\n",
    "dfWeather2[dfWeather2['TempMediumC']==maxTemp]"
   ]
  },
  {
   "cell_type": "markdown",
   "id": "czech-carpet",
   "metadata": {},
   "source": [
    "### 6. Từ dfWeather2, liệt kê thông tin thời tiết của các ngày có nhiệt độ trung bình thấp nhất"
   ]
  },
  {
   "cell_type": "code",
   "execution_count": 21,
   "id": "psychological-agriculture",
   "metadata": {},
   "outputs": [
    {
     "data": {
      "text/html": [
       "<div>\n",
       "<style scoped>\n",
       "    .dataframe tbody tr th:only-of-type {\n",
       "        vertical-align: middle;\n",
       "    }\n",
       "\n",
       "    .dataframe tbody tr th {\n",
       "        vertical-align: top;\n",
       "    }\n",
       "\n",
       "    .dataframe thead th {\n",
       "        text-align: right;\n",
       "    }\n",
       "</style>\n",
       "<table border=\"1\" class=\"dataframe\">\n",
       "  <thead>\n",
       "    <tr style=\"text-align: right;\">\n",
       "      <th></th>\n",
       "      <th>TempHighC</th>\n",
       "      <th>TempLowC</th>\n",
       "      <th>TempMediumC</th>\n",
       "      <th>HumidityHighPercent</th>\n",
       "      <th>HumidityLowPercent</th>\n",
       "      <th>VisibilityHighKMs</th>\n",
       "      <th>VisibilityLowKMs</th>\n",
       "      <th>WindKMPH</th>\n",
       "      <th>PrecipitationSumMMs</th>\n",
       "    </tr>\n",
       "  </thead>\n",
       "  <tbody>\n",
       "    <tr>\n",
       "      <th>15</th>\n",
       "      <td>37.22</td>\n",
       "      <td>20.0</td>\n",
       "      <td>28.61</td>\n",
       "      <td>100.0</td>\n",
       "      <td>33.0</td>\n",
       "      <td>16.09</td>\n",
       "      <td>9.66</td>\n",
       "      <td>19.31</td>\n",
       "      <td>0.0</td>\n",
       "    </tr>\n",
       "  </tbody>\n",
       "</table>\n",
       "</div>"
      ],
      "text/plain": [
       "    TempHighC  TempLowC  TempMediumC  HumidityHighPercent  HumidityLowPercent  \\\n",
       "15      37.22      20.0        28.61                100.0                33.0   \n",
       "\n",
       "    VisibilityHighKMs  VisibilityLowKMs  WindKMPH  PrecipitationSumMMs  \n",
       "15              16.09              9.66     19.31                  0.0  "
      ]
     },
     "execution_count": 21,
     "metadata": {},
     "output_type": "execute_result"
    }
   ],
   "source": [
    "minTemp = dfWeather2['TempMediumC'].min()\n",
    "dfWeather2[dfWeather2['TempMediumC']==minTemp]"
   ]
  },
  {
   "cell_type": "markdown",
   "id": "brave-repeat",
   "metadata": {},
   "source": [
    "### 7. Từ dfWeather2, liệt kê thông tin thời tiết của các ngày có mưa, sắp giảm theo lượng mưa"
   ]
  },
  {
   "cell_type": "code",
   "execution_count": 22,
   "id": "single-listening",
   "metadata": {},
   "outputs": [
    {
     "data": {
      "text/html": [
       "<div>\n",
       "<style scoped>\n",
       "    .dataframe tbody tr th:only-of-type {\n",
       "        vertical-align: middle;\n",
       "    }\n",
       "\n",
       "    .dataframe tbody tr th {\n",
       "        vertical-align: top;\n",
       "    }\n",
       "\n",
       "    .dataframe thead th {\n",
       "        text-align: right;\n",
       "    }\n",
       "</style>\n",
       "<table border=\"1\" class=\"dataframe\">\n",
       "  <thead>\n",
       "    <tr style=\"text-align: right;\">\n",
       "      <th></th>\n",
       "      <th>TempHighC</th>\n",
       "      <th>TempLowC</th>\n",
       "      <th>TempMediumC</th>\n",
       "      <th>HumidityHighPercent</th>\n",
       "      <th>HumidityLowPercent</th>\n",
       "      <th>VisibilityHighKMs</th>\n",
       "      <th>VisibilityLowKMs</th>\n",
       "      <th>WindKMPH</th>\n",
       "      <th>PrecipitationSumMMs</th>\n",
       "    </tr>\n",
       "  </thead>\n",
       "  <tbody>\n",
       "    <tr>\n",
       "      <th>14</th>\n",
       "      <td>39.44</td>\n",
       "      <td>21.67</td>\n",
       "      <td>30.56</td>\n",
       "      <td>100.0</td>\n",
       "      <td>29.0</td>\n",
       "      <td>16.09</td>\n",
       "      <td>3.22</td>\n",
       "      <td>37.01</td>\n",
       "      <td>4.06</td>\n",
       "    </tr>\n",
       "    <tr>\n",
       "      <th>22</th>\n",
       "      <td>39.44</td>\n",
       "      <td>25.00</td>\n",
       "      <td>32.22</td>\n",
       "      <td>85.0</td>\n",
       "      <td>31.0</td>\n",
       "      <td>16.09</td>\n",
       "      <td>3.22</td>\n",
       "      <td>20.92</td>\n",
       "      <td>1.02</td>\n",
       "    </tr>\n",
       "    <tr>\n",
       "      <th>16</th>\n",
       "      <td>36.67</td>\n",
       "      <td>25.00</td>\n",
       "      <td>30.84</td>\n",
       "      <td>88.0</td>\n",
       "      <td>38.0</td>\n",
       "      <td>16.09</td>\n",
       "      <td>16.09</td>\n",
       "      <td>25.75</td>\n",
       "      <td>0.76</td>\n",
       "    </tr>\n",
       "    <tr>\n",
       "      <th>6</th>\n",
       "      <td>37.22</td>\n",
       "      <td>23.89</td>\n",
       "      <td>30.56</td>\n",
       "      <td>88.0</td>\n",
       "      <td>33.0</td>\n",
       "      <td>16.09</td>\n",
       "      <td>16.09</td>\n",
       "      <td>24.14</td>\n",
       "      <td>0.51</td>\n",
       "    </tr>\n",
       "    <tr>\n",
       "      <th>0</th>\n",
       "      <td>36.67</td>\n",
       "      <td>26.11</td>\n",
       "      <td>31.39</td>\n",
       "      <td>85.0</td>\n",
       "      <td>38.0</td>\n",
       "      <td>16.09</td>\n",
       "      <td>9.66</td>\n",
       "      <td>24.14</td>\n",
       "      <td>0.25</td>\n",
       "    </tr>\n",
       "    <tr>\n",
       "      <th>20</th>\n",
       "      <td>40.00</td>\n",
       "      <td>25.00</td>\n",
       "      <td>32.50</td>\n",
       "      <td>85.0</td>\n",
       "      <td>27.0</td>\n",
       "      <td>16.09</td>\n",
       "      <td>16.09</td>\n",
       "      <td>22.53</td>\n",
       "      <td>0.25</td>\n",
       "    </tr>\n",
       "    <tr>\n",
       "      <th>23</th>\n",
       "      <td>38.89</td>\n",
       "      <td>24.44</td>\n",
       "      <td>31.66</td>\n",
       "      <td>91.0</td>\n",
       "      <td>29.0</td>\n",
       "      <td>16.09</td>\n",
       "      <td>14.48</td>\n",
       "      <td>20.92</td>\n",
       "      <td>0.25</td>\n",
       "    </tr>\n",
       "    <tr>\n",
       "      <th>25</th>\n",
       "      <td>39.44</td>\n",
       "      <td>25.56</td>\n",
       "      <td>32.50</td>\n",
       "      <td>91.0</td>\n",
       "      <td>25.0</td>\n",
       "      <td>16.09</td>\n",
       "      <td>16.09</td>\n",
       "      <td>24.14</td>\n",
       "      <td>0.25</td>\n",
       "    </tr>\n",
       "  </tbody>\n",
       "</table>\n",
       "</div>"
      ],
      "text/plain": [
       "    TempHighC  TempLowC  TempMediumC  HumidityHighPercent  HumidityLowPercent  \\\n",
       "14      39.44     21.67        30.56                100.0                29.0   \n",
       "22      39.44     25.00        32.22                 85.0                31.0   \n",
       "16      36.67     25.00        30.84                 88.0                38.0   \n",
       "6       37.22     23.89        30.56                 88.0                33.0   \n",
       "0       36.67     26.11        31.39                 85.0                38.0   \n",
       "20      40.00     25.00        32.50                 85.0                27.0   \n",
       "23      38.89     24.44        31.66                 91.0                29.0   \n",
       "25      39.44     25.56        32.50                 91.0                25.0   \n",
       "\n",
       "    VisibilityHighKMs  VisibilityLowKMs  WindKMPH  PrecipitationSumMMs  \n",
       "14              16.09              3.22     37.01                 4.06  \n",
       "22              16.09              3.22     20.92                 1.02  \n",
       "16              16.09             16.09     25.75                 0.76  \n",
       "6               16.09             16.09     24.14                 0.51  \n",
       "0               16.09              9.66     24.14                 0.25  \n",
       "20              16.09             16.09     22.53                 0.25  \n",
       "23              16.09             14.48     20.92                 0.25  \n",
       "25              16.09             16.09     24.14                 0.25  "
      ]
     },
     "execution_count": 22,
     "metadata": {},
     "output_type": "execute_result"
    }
   ],
   "source": [
    "dfWeather2[dfWeather2['PrecipitationSumMMs']>0].sort_values(by='PrecipitationSumMMs', ascending=False)"
   ]
  },
  {
   "cell_type": "markdown",
   "id": "honest-carolina",
   "metadata": {},
   "source": [
    "### 8. Từ dfWeather2, liệt kê thông tin thời tiết của các ngày không có mưa và có độ ẩm trung bình cao nhất"
   ]
  },
  {
   "cell_type": "code",
   "execution_count": 23,
   "id": "consecutive-locator",
   "metadata": {},
   "outputs": [
    {
     "name": "stdout",
     "output_type": "stream",
     "text": [
      "độ ẩm trung bình cao nhất: 66.5\n"
     ]
    },
    {
     "data": {
      "text/html": [
       "<div>\n",
       "<style scoped>\n",
       "    .dataframe tbody tr th:only-of-type {\n",
       "        vertical-align: middle;\n",
       "    }\n",
       "\n",
       "    .dataframe tbody tr th {\n",
       "        vertical-align: top;\n",
       "    }\n",
       "\n",
       "    .dataframe thead th {\n",
       "        text-align: right;\n",
       "    }\n",
       "</style>\n",
       "<table border=\"1\" class=\"dataframe\">\n",
       "  <thead>\n",
       "    <tr style=\"text-align: right;\">\n",
       "      <th></th>\n",
       "      <th>TempHighC</th>\n",
       "      <th>TempLowC</th>\n",
       "      <th>TempMediumC</th>\n",
       "      <th>HumidityHighPercent</th>\n",
       "      <th>HumidityLowPercent</th>\n",
       "      <th>VisibilityHighKMs</th>\n",
       "      <th>VisibilityLowKMs</th>\n",
       "      <th>WindKMPH</th>\n",
       "      <th>PrecipitationSumMMs</th>\n",
       "    </tr>\n",
       "  </thead>\n",
       "  <tbody>\n",
       "    <tr>\n",
       "      <th>15</th>\n",
       "      <td>37.22</td>\n",
       "      <td>20.0</td>\n",
       "      <td>28.61</td>\n",
       "      <td>100.0</td>\n",
       "      <td>33.0</td>\n",
       "      <td>16.09</td>\n",
       "      <td>9.66</td>\n",
       "      <td>19.31</td>\n",
       "      <td>0.0</td>\n",
       "    </tr>\n",
       "  </tbody>\n",
       "</table>\n",
       "</div>"
      ],
      "text/plain": [
       "    TempHighC  TempLowC  TempMediumC  HumidityHighPercent  HumidityLowPercent  \\\n",
       "15      37.22      20.0        28.61                100.0                33.0   \n",
       "\n",
       "    VisibilityHighKMs  VisibilityLowKMs  WindKMPH  PrecipitationSumMMs  \n",
       "15              16.09              9.66     19.31                  0.0  "
      ]
     },
     "execution_count": 23,
     "metadata": {},
     "output_type": "execute_result"
    }
   ],
   "source": [
    "maxHumidityMedium = ((dfWeather2['HumidityHighPercent']+dfWeather2['HumidityLowPercent'])/2).max()\n",
    "print('độ ẩm trung bình cao nhất:', maxHumidityMedium)\n",
    "cond = (dfWeather2['PrecipitationSumMMs']==0) & ((dfWeather2['HumidityHighPercent']+dfWeather2['HumidityLowPercent'])/2==maxHumidityMedium)\n",
    "dfWeather2[cond]"
   ]
  },
  {
   "cell_type": "markdown",
   "id": "absolute-criminal",
   "metadata": {},
   "source": [
    "### 9. Tạo series ser chứa hai giá trị trung bình cột TempMediumC của các ngày có mưa và các ngày không mưa trong tháng"
   ]
  },
  {
   "cell_type": "code",
   "execution_count": 24,
   "id": "international-airplane",
   "metadata": {},
   "outputs": [
    {
     "data": {
      "text/plain": [
       "có mưa       31.528750\n",
       "không mưa    31.664783\n",
       "dtype: float64"
      ]
     },
     "execution_count": 24,
     "metadata": {},
     "output_type": "execute_result"
    }
   ],
   "source": [
    "mean_co_mua = dfWeather2[dfWeather2['PrecipitationSumMMs']>0]['TempMediumC'].mean()\n",
    "mean_khong_mua = dfWeather2[dfWeather2['PrecipitationSumMMs']==0]['TempMediumC'].mean()\n",
    "ser = pd.Series([mean_co_mua, mean_khong_mua], index=['có mưa','không mưa'])\n",
    "ser"
   ]
  },
  {
   "cell_type": "code",
   "execution_count": null,
   "id": "determined-protection",
   "metadata": {},
   "outputs": [],
   "source": []
  }
 ],
 "metadata": {
  "colab": {
   "collapsed_sections": [],
   "name": "Chap3_Ex6.ipynb",
   "provenance": []
  },
  "kernelspec": {
   "display_name": "Python 3",
   "language": "python",
   "name": "python3"
  },
  "language_info": {
   "codemirror_mode": {
    "name": "ipython",
    "version": 3
   },
   "file_extension": ".py",
   "mimetype": "text/x-python",
   "name": "python",
   "nbconvert_exporter": "python",
   "pygments_lexer": "ipython3",
   "version": "3.9.2"
  }
 },
 "nbformat": 4,
 "nbformat_minor": 5
}
