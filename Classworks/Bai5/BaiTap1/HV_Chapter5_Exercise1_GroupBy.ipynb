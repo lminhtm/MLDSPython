{
 "cells": [
  {
   "cell_type": "markdown",
   "metadata": {},
   "source": [
    "# Chapter 5 - Exercise 1: GroupBy"
   ]
  },
  {
   "cell_type": "markdown",
   "metadata": {},
   "source": [
    "#### drinks.csv là tập tin cung cấp dữ liệu về tình hình tiêu thụ rượu bia ở các quốc gia theo từng châu lục\n",
    "\n",
    "country: tên quốc gia tiêu thụ<br/>\n",
    "beer_servings: số lượng bia tiêu thụ<br/>\n",
    "spirit_servings: số lượng rượu mạnh (>= 40<sup>0</sup>)<br/>\n",
    "wine_servings: số lượng rượu vang<br/>\n",
    "total_litres_of_pure_alcohol: tổng số lít rượu nguyên chất<br/>\n",
    "continent: châu lục"
   ]
  },
  {
   "cell_type": "code",
   "execution_count": 1,
   "metadata": {},
   "outputs": [],
   "source": [
    "import pandas as pd"
   ]
  },
  {
   "cell_type": "code",
   "execution_count": 2,
   "metadata": {
    "scrolled": true
   },
   "outputs": [],
   "source": [
    "# Câu 1: Đọc dữ liệu từ tập tin drinks.csv với index_col là cột đầu tiên của dữ liệu, \n",
    "# và lưu vào biến drinks. \n",
    "# Cho biết kiểu dữ liệu (type) của drinks\n",
    "# Cho biết kích thước (shape) của drinks \n",
    "# Hiển thị tên các cột (columns) của drinks\n",
    "# Xem thông tin info()\n",
    "# code here\n"
   ]
  },
  {
   "cell_type": "markdown",
   "metadata": {},
   "source": [
    "<details>\n",
    "  <summary style='color:#FD6504; font-size:14px'>Nhấn vào đây để xem kết quả!</summary>\n",
    "  <pre>&lt;class 'pandas.core.frame.DataFrame'&gt;\n",
    "(193, 6)\n",
    "Index(['country', 'beer_servings', 'spirit_servings', 'wine_servings',\n",
    "       'total_litres_of_pure_alcohol', 'continent'],\n",
    "      dtype='object')\n",
    "&lt;class 'pandas.core.frame.DataFrame'&gt;\n",
    "Int64Index: 193 entries, 0 to 192\n",
    "Data columns (total 6 columns):\n",
    " #   Column                        Non-Null Count  Dtype  \n",
    "---  ------                        --------------  -----  \n",
    " 0   country                       193 non-null    object \n",
    " 1   beer_servings                 193 non-null    int64  \n",
    " 2   spirit_servings               193 non-null    int64  \n",
    " 3   wine_servings                 193 non-null    int64  \n",
    " 4   total_litres_of_pure_alcohol  193 non-null    float64\n",
    " 5   continent                     170 non-null    object \n",
    "dtypes: float64(1), int64(3), object(2)\n",
    "memory usage: 10.6+ KB\n",
    "None\n",
    "</pre>\n",
    "</details>"
   ]
  },
  {
   "cell_type": "code",
   "execution_count": 3,
   "metadata": {},
   "outputs": [],
   "source": [
    "# Xem 5 dòng dữ liệu đầu tiên (head) của drinks\n",
    "# code here\n"
   ]
  },
  {
   "cell_type": "code",
   "execution_count": 4,
   "metadata": {},
   "outputs": [],
   "source": [
    "# Xem 5 dòng dữ liệu cuối cùng (tail) của drinks\n",
    "# code here\n"
   ]
  },
  {
   "cell_type": "code",
   "execution_count": 5,
   "metadata": {},
   "outputs": [],
   "source": [
    "# Đếm dữ liệu NULL\n",
    "# code here\n"
   ]
  },
  {
   "cell_type": "markdown",
   "metadata": {},
   "source": [
    "<details>\n",
    "  <summary style='color:#FD6504; font-size:14px'>Nhấn vào đây để xem kết quả!</summary>\n",
    "  <pre>country                          0\n",
    "beer_servings                    0\n",
    "spirit_servings                  0\n",
    "wine_servings                    0\n",
    "total_litres_of_pure_alcohol     0\n",
    "continent                       23\n",
    "dtype: int64</pre>\n",
    "</details>"
   ]
  },
  {
   "cell_type": "code",
   "execution_count": 6,
   "metadata": {},
   "outputs": [],
   "source": [
    "# cho biết số lượng quốc gia ở mỗi châu lục\n",
    "# code here\n"
   ]
  },
  {
   "cell_type": "markdown",
   "metadata": {},
   "source": [
    "<details>\n",
    "  <summary style='color:#FD6504; font-size:14px'>Nhấn vào đây để xem kết quả!</summary>\n",
    "  <pre>AF    53\n",
    "EU    45\n",
    "AS    44\n",
    "OC    16\n",
    "SA    12\n",
    "Name: continent, dtype: int64</pre>\n",
    "</details>"
   ]
  },
  {
   "cell_type": "code",
   "execution_count": 7,
   "metadata": {},
   "outputs": [],
   "source": [
    "# Câu 2: Cho biết số lượng bia tiêu thụ trung bình (mean) ở mỗi châu lục\n",
    "# code here\n"
   ]
  },
  {
   "cell_type": "markdown",
   "metadata": {},
   "source": [
    "<details>\n",
    "  <summary style='color:#FD6504; font-size:14px'>Nhấn vào đây để xem kết quả!</summary>\n",
    "  <pre>continent\n",
    "AF     61.471698\n",
    "AS     37.045455\n",
    "EU    193.777778\n",
    "OC     89.687500\n",
    "SA    175.083333\n",
    "Name: beer_servings, dtype: float64</pre>\n",
    "</details>"
   ]
  },
  {
   "cell_type": "code",
   "execution_count": 8,
   "metadata": {},
   "outputs": [],
   "source": [
    "# sắp giảm dần\n",
    "# code here\n"
   ]
  },
  {
   "cell_type": "markdown",
   "metadata": {},
   "source": [
    "<details>\n",
    "  <summary style='color:#FD6504; font-size:14px'>Nhấn vào đây để xem kết quả!</summary>\n",
    "  <pre>continent\n",
    "EU    193.777778\n",
    "SA    175.083333\n",
    "OC     89.687500\n",
    "AF     61.471698\n",
    "AS     37.045455\n",
    "Name: beer_servings, dtype: float64</pre>\n",
    "</details>"
   ]
  },
  {
   "cell_type": "code",
   "execution_count": 9,
   "metadata": {},
   "outputs": [],
   "source": [
    "# Câu 2: Vẽ biểu đồ Bar với số lượng bia tiêu thụ trung bình ở mỗi châu lục\n",
    "# HD:\n",
    "# drinks.groupby('continent').beer_servings.mean().plot.bar(\n",
    "#     title='Lượng bia tiêu thụ trung bình ở mỗi châu lục', rot=0, grid=True);"
   ]
  },
  {
   "cell_type": "markdown",
   "metadata": {},
   "source": [
    "<details>\n",
    "  <summary style='color:#FD6504; font-size:14px'>Nhấn vào đây để xem kết quả!</summary>\n",
    "  <img src=\"data:image/png;base64,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\n",
    "\">\n",
    "</details>"
   ]
  },
  {
   "cell_type": "code",
   "execution_count": 10,
   "metadata": {},
   "outputs": [],
   "source": [
    "# Câu 3: Cho biết thông tin thống kê tổng quát (describe) số lượng rượu vang \n",
    "# được tiêu thụ ở mỗi châu lục \n",
    "# code here\n"
   ]
  },
  {
   "cell_type": "markdown",
   "metadata": {},
   "source": [
    "<details>\n",
    "  <summary style='color:#FD6504; font-size:14px'>Nhấn vào đây để xem kết quả!</summary>\n",
    "  <table border=\"1\" class=\"dataframe\">\n",
    "  <thead>\n",
    "    <tr style=\"text-align: right;\">\n",
    "      <th></th>\n",
    "      <th>count</th>\n",
    "      <th>mean</th>\n",
    "      <th>std</th>\n",
    "      <th>min</th>\n",
    "      <th>25%</th>\n",
    "      <th>50%</th>\n",
    "      <th>75%</th>\n",
    "      <th>max</th>\n",
    "    </tr>\n",
    "    <tr>\n",
    "      <th>continent</th>\n",
    "      <th></th>\n",
    "      <th></th>\n",
    "      <th></th>\n",
    "      <th></th>\n",
    "      <th></th>\n",
    "      <th></th>\n",
    "      <th></th>\n",
    "      <th></th>\n",
    "    </tr>\n",
    "  </thead>\n",
    "  <tbody>\n",
    "    <tr>\n",
    "      <th>AF</th>\n",
    "      <td>53.0</td>\n",
    "      <td>16.264151</td>\n",
    "      <td>38.846419</td>\n",
    "      <td>0.0</td>\n",
    "      <td>1.0</td>\n",
    "      <td>2.0</td>\n",
    "      <td>13.00</td>\n",
    "      <td>233.0</td>\n",
    "    </tr>\n",
    "    <tr>\n",
    "      <th>AS</th>\n",
    "      <td>44.0</td>\n",
    "      <td>9.068182</td>\n",
    "      <td>21.667034</td>\n",
    "      <td>0.0</td>\n",
    "      <td>0.0</td>\n",
    "      <td>1.0</td>\n",
    "      <td>8.00</td>\n",
    "      <td>123.0</td>\n",
    "    </tr>\n",
    "    <tr>\n",
    "      <th>EU</th>\n",
    "      <td>45.0</td>\n",
    "      <td>142.222222</td>\n",
    "      <td>97.421738</td>\n",
    "      <td>0.0</td>\n",
    "      <td>59.0</td>\n",
    "      <td>128.0</td>\n",
    "      <td>195.00</td>\n",
    "      <td>370.0</td>\n",
    "    </tr>\n",
    "    <tr>\n",
    "      <th>OC</th>\n",
    "      <td>16.0</td>\n",
    "      <td>35.625000</td>\n",
    "      <td>64.555790</td>\n",
    "      <td>0.0</td>\n",
    "      <td>1.0</td>\n",
    "      <td>8.5</td>\n",
    "      <td>23.25</td>\n",
    "      <td>212.0</td>\n",
    "    </tr>\n",
    "    <tr>\n",
    "      <th>SA</th>\n",
    "      <td>12.0</td>\n",
    "      <td>62.416667</td>\n",
    "      <td>88.620189</td>\n",
    "      <td>1.0</td>\n",
    "      <td>3.0</td>\n",
    "      <td>12.0</td>\n",
    "      <td>98.50</td>\n",
    "      <td>221.0</td>\n",
    "    </tr>\n",
    "  </tbody>\n",
    "</table>\n",
    "</details>"
   ]
  },
  {
   "cell_type": "code",
   "execution_count": 11,
   "metadata": {},
   "outputs": [],
   "source": [
    "# Câu 4: Cho biết số lượng bia và rượu tiêu thụ trung bình (mean) ở mỗi châu lục\n",
    "# code here\n"
   ]
  },
  {
   "cell_type": "markdown",
   "metadata": {},
   "source": [
    "<details>\n",
    "  <summary style='color:#FD6504; font-size:14px'>Nhấn vào đây để xem kết quả!</summary>\n",
    "  <table border=\"1\" class=\"dataframe\">\n",
    "  <thead>\n",
    "    <tr style=\"text-align: right;\">\n",
    "      <th></th>\n",
    "      <th>beer_servings</th>\n",
    "      <th>spirit_servings</th>\n",
    "      <th>wine_servings</th>\n",
    "      <th>total_litres_of_pure_alcohol</th>\n",
    "    </tr>\n",
    "    <tr>\n",
    "      <th>continent</th>\n",
    "      <th></th>\n",
    "      <th></th>\n",
    "      <th></th>\n",
    "      <th></th>\n",
    "    </tr>\n",
    "  </thead>\n",
    "  <tbody>\n",
    "    <tr>\n",
    "      <th>AF</th>\n",
    "      <td>61.471698</td>\n",
    "      <td>16.339623</td>\n",
    "      <td>16.264151</td>\n",
    "      <td>3.007547</td>\n",
    "    </tr>\n",
    "    <tr>\n",
    "      <th>AS</th>\n",
    "      <td>37.045455</td>\n",
    "      <td>60.840909</td>\n",
    "      <td>9.068182</td>\n",
    "      <td>2.170455</td>\n",
    "    </tr>\n",
    "    <tr>\n",
    "      <th>EU</th>\n",
    "      <td>193.777778</td>\n",
    "      <td>132.555556</td>\n",
    "      <td>142.222222</td>\n",
    "      <td>8.617778</td>\n",
    "    </tr>\n",
    "    <tr>\n",
    "      <th>OC</th>\n",
    "      <td>89.687500</td>\n",
    "      <td>58.437500</td>\n",
    "      <td>35.625000</td>\n",
    "      <td>3.381250</td>\n",
    "    </tr>\n",
    "    <tr>\n",
    "      <th>SA</th>\n",
    "      <td>175.083333</td>\n",
    "      <td>114.750000</td>\n",
    "      <td>62.416667</td>\n",
    "      <td>6.308333</td>\n",
    "    </tr>\n",
    "  </tbody>\n",
    "</table>\n",
    "</details>"
   ]
  },
  {
   "cell_type": "code",
   "execution_count": 12,
   "metadata": {},
   "outputs": [],
   "source": [
    "# Câu 5: Cho biết giá trị trung vị (median) của các loại bia và rượu \n",
    "# tiêu thụ ở mỗi châu lục\n",
    "# code here\n"
   ]
  },
  {
   "cell_type": "code",
   "execution_count": 13,
   "metadata": {},
   "outputs": [],
   "source": [
    "# Câu 6: Cho biết số lượng rượu mạnh (spirit_servings) \n",
    "# tiêu thụ trung bình, lớn nhất và nhỏ nhất ở mỗi châu lục \n",
    "# Gợi ý: Dùng spirit_servings.agg(['mean', 'min', 'max'])\n",
    "# code here\n"
   ]
  },
  {
   "cell_type": "markdown",
   "metadata": {},
   "source": [
    "<details>\n",
    "  <summary style='color:#FD6504; font-size:14px'>Nhấn vào đây để xem kết quả!</summary>\n",
    "  <table border=\"1\" class=\"dataframe\">\n",
    "  <thead>\n",
    "    <tr style=\"text-align: right;\">\n",
    "      <th></th>\n",
    "      <th>mean</th>\n",
    "      <th>min</th>\n",
    "      <th>max</th>\n",
    "    </tr>\n",
    "    <tr>\n",
    "      <th>continent</th>\n",
    "      <th></th>\n",
    "      <th></th>\n",
    "      <th></th>\n",
    "    </tr>\n",
    "  </thead>\n",
    "  <tbody>\n",
    "    <tr>\n",
    "      <th>AF</th>\n",
    "      <td>19.681818</td>\n",
    "      <td>1</td>\n",
    "      <td>152</td>\n",
    "    </tr>\n",
    "    <tr>\n",
    "      <th>AS</th>\n",
    "      <td>78.735294</td>\n",
    "      <td>1</td>\n",
    "      <td>326</td>\n",
    "    </tr>\n",
    "    <tr>\n",
    "      <th>EU</th>\n",
    "      <td>138.720930</td>\n",
    "      <td>27</td>\n",
    "      <td>373</td>\n",
    "    </tr>\n",
    "    <tr>\n",
    "      <th>OC</th>\n",
    "      <td>66.785714</td>\n",
    "      <td>11</td>\n",
    "      <td>254</td>\n",
    "    </tr>\n",
    "    <tr>\n",
    "      <th>SA</th>\n",
    "      <td>114.750000</td>\n",
    "      <td>25</td>\n",
    "      <td>302</td>\n",
    "    </tr>\n",
    "  </tbody>\n",
    "</table>\n",
    "</details>"
   ]
  },
  {
   "cell_type": "code",
   "execution_count": 14,
   "metadata": {},
   "outputs": [],
   "source": [
    "# Câu 7: Sắp xếp dữ liệu tăng dần (sort_values) theo số lượng bia tiêu thụ,\n",
    "# In 10 dòng đầu tiên\n",
    "# code here\n"
   ]
  },
  {
   "cell_type": "code",
   "execution_count": 15,
   "metadata": {},
   "outputs": [],
   "source": [
    "# Cho biết 5 quốc gia có lượng tiêu thụ bia lớn nhất\n",
    "# code here\n"
   ]
  },
  {
   "cell_type": "code",
   "execution_count": 16,
   "metadata": {
    "scrolled": true
   },
   "outputs": [],
   "source": [
    "# Vẽ biểu đồ Bar với 5 quốc gia có lượng tiêu thụ bia lớn nhất\n",
    "# HD:\n",
    "# drinks_des.tail().plot.bar(x='country', y='beer_servings', \n",
    "# rot=60, legend=False, title='5 quốc gia tiêu thụ bia nhiều nhất', grid=True);"
   ]
  },
  {
   "cell_type": "markdown",
   "metadata": {},
   "source": [
    "<details>\n",
    "  <summary style='color:#FD6504; font-size:14px'>Nhấn vào đây để xem kết quả!</summary>\n",
    "  <img src=\"data:image/png;base64,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\n",
    "\">\n",
    "</details>"
   ]
  },
  {
   "cell_type": "code",
   "execution_count": 17,
   "metadata": {},
   "outputs": [],
   "source": [
    "# Cho biết 5 quốc gia có lượng tiêu thụ bia ít nhất\n",
    "# code here\n"
   ]
  },
  {
   "cell_type": "code",
   "execution_count": 18,
   "metadata": {},
   "outputs": [],
   "source": [
    "# Câu 8: Cho biết 5 quốc gia ở Châu Á có lượng tiêu thụ bia ít nhất\n",
    "# code here\n"
   ]
  },
  {
   "cell_type": "markdown",
   "metadata": {},
   "source": [
    "<details>\n",
    "  <summary style='color:#FD6504; font-size:14px'>Nhấn vào đây để xem kết quả!</summary>\n",
    "  <table border=\"1\" class=\"dataframe\">\n",
    "  <thead>\n",
    "    <tr style=\"text-align: right;\">\n",
    "      <th></th>\n",
    "      <th>country</th>\n",
    "      <th>beer_servings</th>\n",
    "    </tr>\n",
    "  </thead>\n",
    "  <tbody>\n",
    "    <tr>\n",
    "      <th>171</th>\n",
    "      <td>Timor-Leste</td>\n",
    "      <td>1</td>\n",
    "    </tr>\n",
    "    <tr>\n",
    "      <th>137</th>\n",
    "      <td>Qatar</td>\n",
    "      <td>1</td>\n",
    "    </tr>\n",
    "    <tr>\n",
    "      <th>168</th>\n",
    "      <td>Tajikistan</td>\n",
    "      <td>2</td>\n",
    "    </tr>\n",
    "    <tr>\n",
    "      <th>116</th>\n",
    "      <td>Myanmar</td>\n",
    "      <td>5</td>\n",
    "    </tr>\n",
    "    <tr>\n",
    "      <th>167</th>\n",
    "      <td>Syria</td>\n",
    "      <td>5</td>\n",
    "    </tr>\n",
    "  </tbody>\n",
    "</table>\n",
    "</details>"
   ]
  },
  {
   "cell_type": "code",
   "execution_count": null,
   "metadata": {},
   "outputs": [],
   "source": []
  }
 ],
 "metadata": {
  "kernelspec": {
   "display_name": "Python 3",
   "language": "python",
   "name": "python3"
  },
  "language_info": {
   "codemirror_mode": {
    "name": "ipython",
    "version": 3
   },
   "file_extension": ".py",
   "mimetype": "text/x-python",
   "name": "python",
   "nbconvert_exporter": "python",
   "pygments_lexer": "ipython3",
   "version": "3.9.2"
  }
 },
 "nbformat": 4,
 "nbformat_minor": 1
}
