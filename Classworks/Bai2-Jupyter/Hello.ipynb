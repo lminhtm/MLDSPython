{
 "cells": [
  {
   "cell_type": "markdown",
   "metadata": {},
   "source": [
    "## Markdown\n",
    "\n",
    "### 1. Simple Text\n",
    "This is **bold** text.\n",
    "This is *italic* text.\n",
    "This is `inline` text.\n",
    "- First Section\n",
    "- Second Section\n",
    "\n",
    "1. Item 1\n",
    "2. Item 2\n",
    "\n",
    "> This is a blockquote\n",
    "\n",
    "### 2. Link\n",
    "[Google](google.com)\n",
    "\n",
    "### 3. Image\n",
    "![Image](https://picsum.photos/536/354)\n",
    "\n",
    "### 4. Table\n",
    "| Type | Description |\n",
    "| :--- | ---: |\n",
    "| Root | \\sqrt{k} |\n",
    "\n",
    "### 5. Code\n",
    "```python\n",
    "print(\"Hello\")\n",
    "```\n",
    "\n",
    "### 6. Symbol\n",
    "| Type | Symbol |\n",
    "| :--- | ---: |\n",
    "| alpha | $\\alpha$ |\n",
    "| pi | $\\pi$ |\n",
    "| infinite | $\\infty$ |\n",
    "\n",
    "### 7. Operator\n",
    "$n^2$\n",
    "\n",
    "$\\sqrt{k}$\n",
    "\n",
    "$\\frac{n!}{k!(n-k)!}$"
   ]
  },
  {
   "cell_type": "markdown",
   "metadata": {},
   "source": [
    "# Bai tap 2.1\n",
    "\n",
    "1. [Udemy](https://www.udemy.com/) (https://www.udemy.com/)\n",
    "2. [Udemy](https://www.udemy.com/) (https://www.udemy.com/)\n",
    "3. [Udemy](https://www.udemy.com/) (https://www.udemy.com/)\n",
    "4. [Udemy](https://www.udemy.com/) (https://www.udemy.com/)\n",
    "5. [Udemy](https://www.udemy.com/) (https://www.udemy.com/)"
   ]
  }
 ],
 "metadata": {
  "kernelspec": {
   "display_name": "Python 3",
   "language": "python",
   "name": "python3"
  },
  "language_info": {
   "codemirror_mode": {
    "name": "ipython",
    "version": 3
   },
   "file_extension": ".py",
   "mimetype": "text/x-python",
   "name": "python",
   "nbconvert_exporter": "python",
   "pygments_lexer": "ipython3",
   "version": "3.6.8"
  }
 },
 "nbformat": 4,
 "nbformat_minor": 4
}
