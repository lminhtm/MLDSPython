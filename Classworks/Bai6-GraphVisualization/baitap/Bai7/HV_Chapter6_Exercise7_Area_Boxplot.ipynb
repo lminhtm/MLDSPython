{
 "cells": [
  {
   "cell_type": "markdown",
   "metadata": {},
   "source": [
    "## Chapter 6 - Exercise 7: Area plot, Box plot"
   ]
  },
  {
   "cell_type": "markdown",
   "metadata": {},
   "source": [
    "#### Thực hành vẽ Area plot, Box plot trên 2 tập dữ liệu khác nhau."
   ]
  },
  {
   "cell_type": "markdown",
   "metadata": {},
   "source": [
    "### Part 1: Area Plot"
   ]
  },
  {
   "cell_type": "code",
   "execution_count": 1,
   "metadata": {},
   "outputs": [],
   "source": [
    "import numpy as np\n",
    "import pandas as pd\n",
    "import matplotlib.pyplot as plt"
   ]
  },
  {
   "cell_type": "code",
   "execution_count": 2,
   "metadata": {},
   "outputs": [],
   "source": [
    "# Cho Dữ liệu Số giờ nắng các tháng trong năm 2016, 2017 tại trạm quan trắc Vũng Tàu:\n",
    "df = pd.DataFrame(\n",
    "    {\n",
    "        'Month': [1, 2, 3, 4, 5, 6, 7, 8, 9, 10, 11, 12],\n",
    "        'Hours_2017': [183.4, 211.8, 286.4, 287.5, 238.8, 200.3, 187.4, \n",
    "                       233.8, 225.5, 149.1, 180.2,198.3],\n",
    "        'Hours_2016': [272.8, 254.0, 296.0, 298.0, 240.1, 197.8, 240.3, \n",
    "                       219.5, 212.7, 134.7, 215.3, 109.1]        \n",
    "    }\n",
    ")"
   ]
  },
  {
   "cell_type": "code",
   "execution_count": 3,
   "metadata": {},
   "outputs": [
    {
     "data": {
      "text/html": [
       "<div>\n",
       "<style scoped>\n",
       "    .dataframe tbody tr th:only-of-type {\n",
       "        vertical-align: middle;\n",
       "    }\n",
       "\n",
       "    .dataframe tbody tr th {\n",
       "        vertical-align: top;\n",
       "    }\n",
       "\n",
       "    .dataframe thead th {\n",
       "        text-align: right;\n",
       "    }\n",
       "</style>\n",
       "<table border=\"1\" class=\"dataframe\">\n",
       "  <thead>\n",
       "    <tr style=\"text-align: right;\">\n",
       "      <th></th>\n",
       "      <th>Month</th>\n",
       "      <th>Hours_2017</th>\n",
       "      <th>Hours_2016</th>\n",
       "    </tr>\n",
       "  </thead>\n",
       "  <tbody>\n",
       "    <tr>\n",
       "      <th>0</th>\n",
       "      <td>1</td>\n",
       "      <td>183.4</td>\n",
       "      <td>272.8</td>\n",
       "    </tr>\n",
       "    <tr>\n",
       "      <th>1</th>\n",
       "      <td>2</td>\n",
       "      <td>211.8</td>\n",
       "      <td>254.0</td>\n",
       "    </tr>\n",
       "    <tr>\n",
       "      <th>2</th>\n",
       "      <td>3</td>\n",
       "      <td>286.4</td>\n",
       "      <td>296.0</td>\n",
       "    </tr>\n",
       "    <tr>\n",
       "      <th>3</th>\n",
       "      <td>4</td>\n",
       "      <td>287.5</td>\n",
       "      <td>298.0</td>\n",
       "    </tr>\n",
       "    <tr>\n",
       "      <th>4</th>\n",
       "      <td>5</td>\n",
       "      <td>238.8</td>\n",
       "      <td>240.1</td>\n",
       "    </tr>\n",
       "    <tr>\n",
       "      <th>5</th>\n",
       "      <td>6</td>\n",
       "      <td>200.3</td>\n",
       "      <td>197.8</td>\n",
       "    </tr>\n",
       "    <tr>\n",
       "      <th>6</th>\n",
       "      <td>7</td>\n",
       "      <td>187.4</td>\n",
       "      <td>240.3</td>\n",
       "    </tr>\n",
       "    <tr>\n",
       "      <th>7</th>\n",
       "      <td>8</td>\n",
       "      <td>233.8</td>\n",
       "      <td>219.5</td>\n",
       "    </tr>\n",
       "    <tr>\n",
       "      <th>8</th>\n",
       "      <td>9</td>\n",
       "      <td>225.5</td>\n",
       "      <td>212.7</td>\n",
       "    </tr>\n",
       "    <tr>\n",
       "      <th>9</th>\n",
       "      <td>10</td>\n",
       "      <td>149.1</td>\n",
       "      <td>134.7</td>\n",
       "    </tr>\n",
       "    <tr>\n",
       "      <th>10</th>\n",
       "      <td>11</td>\n",
       "      <td>180.2</td>\n",
       "      <td>215.3</td>\n",
       "    </tr>\n",
       "    <tr>\n",
       "      <th>11</th>\n",
       "      <td>12</td>\n",
       "      <td>198.3</td>\n",
       "      <td>109.1</td>\n",
       "    </tr>\n",
       "  </tbody>\n",
       "</table>\n",
       "</div>"
      ],
      "text/plain": [
       "    Month  Hours_2017  Hours_2016\n",
       "0       1       183.4       272.8\n",
       "1       2       211.8       254.0\n",
       "2       3       286.4       296.0\n",
       "3       4       287.5       298.0\n",
       "4       5       238.8       240.1\n",
       "5       6       200.3       197.8\n",
       "6       7       187.4       240.3\n",
       "7       8       233.8       219.5\n",
       "8       9       225.5       212.7\n",
       "9      10       149.1       134.7\n",
       "10     11       180.2       215.3\n",
       "11     12       198.3       109.1"
      ]
     },
     "execution_count": 3,
     "metadata": {},
     "output_type": "execute_result"
    }
   ],
   "source": [
    "# Hiển thị nội dung của df\n",
    "df"
   ]
  },
  {
   "cell_type": "markdown",
   "metadata": {},
   "source": [
    "## Câu 1: Trên cùng một biểu đồ, hãy vẽ:\n",
    "- Area plot cho 12 tháng nắng trong năm 2016\n",
    "- Line plot cho 12 tháng nắng trong năm 2017\n",
    "- Bạn nhận xét gì về biểu đồ vừa vẽ"
   ]
  },
  {
   "cell_type": "markdown",
   "metadata": {},
   "source": [
    "<details>\n",
    "  <summary style='color:#FD6504; font-size:14px'>Nhấn vào đây để xem kết quả!</summary>\n",
    "<img src=\"data:image/png;base64,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\n",
    "\">\n",
    "</details>"
   ]
  },
  {
   "cell_type": "markdown",
   "metadata": {},
   "source": [
    "### Part 2: Box plot"
   ]
  },
  {
   "cell_type": "markdown",
   "metadata": {},
   "source": [
    "## Câu 1"
   ]
  },
  {
   "cell_type": "code",
   "execution_count": 4,
   "metadata": {},
   "outputs": [
    {
     "data": {
      "text/html": [
       "<div>\n",
       "<style scoped>\n",
       "    .dataframe tbody tr th:only-of-type {\n",
       "        vertical-align: middle;\n",
       "    }\n",
       "\n",
       "    .dataframe tbody tr th {\n",
       "        vertical-align: top;\n",
       "    }\n",
       "\n",
       "    .dataframe thead th {\n",
       "        text-align: right;\n",
       "    }\n",
       "</style>\n",
       "<table border=\"1\" class=\"dataframe\">\n",
       "  <thead>\n",
       "    <tr style=\"text-align: right;\">\n",
       "      <th></th>\n",
       "      <th>height</th>\n",
       "      <th>weight</th>\n",
       "    </tr>\n",
       "  </thead>\n",
       "  <tbody>\n",
       "    <tr>\n",
       "      <th>0</th>\n",
       "      <td>1.8796</td>\n",
       "      <td>81.646560</td>\n",
       "    </tr>\n",
       "    <tr>\n",
       "      <th>1</th>\n",
       "      <td>1.8796</td>\n",
       "      <td>97.522280</td>\n",
       "    </tr>\n",
       "    <tr>\n",
       "      <th>2</th>\n",
       "      <td>1.8288</td>\n",
       "      <td>95.254320</td>\n",
       "    </tr>\n",
       "    <tr>\n",
       "      <th>3</th>\n",
       "      <td>1.8288</td>\n",
       "      <td>95.254320</td>\n",
       "    </tr>\n",
       "    <tr>\n",
       "      <th>4</th>\n",
       "      <td>1.8542</td>\n",
       "      <td>85.275296</td>\n",
       "    </tr>\n",
       "    <tr>\n",
       "      <th>5</th>\n",
       "      <td>1.7526</td>\n",
       "      <td>79.832192</td>\n",
       "    </tr>\n",
       "    <tr>\n",
       "      <th>6</th>\n",
       "      <td>1.7526</td>\n",
       "      <td>94.800728</td>\n",
       "    </tr>\n",
       "    <tr>\n",
       "      <th>7</th>\n",
       "      <td>1.8034</td>\n",
       "      <td>90.718400</td>\n",
       "    </tr>\n",
       "    <tr>\n",
       "      <th>8</th>\n",
       "      <td>1.9304</td>\n",
       "      <td>104.779752</td>\n",
       "    </tr>\n",
       "    <tr>\n",
       "      <th>9</th>\n",
       "      <td>1.8034</td>\n",
       "      <td>81.646560</td>\n",
       "    </tr>\n",
       "  </tbody>\n",
       "</table>\n",
       "</div>"
      ],
      "text/plain": [
       "   height      weight\n",
       "0  1.8796   81.646560\n",
       "1  1.8796   97.522280\n",
       "2  1.8288   95.254320\n",
       "3  1.8288   95.254320\n",
       "4  1.8542   85.275296\n",
       "5  1.7526   79.832192\n",
       "6  1.7526   94.800728\n",
       "7  1.8034   90.718400\n",
       "8  1.9304  104.779752\n",
       "9  1.8034   81.646560"
      ]
     },
     "execution_count": 4,
     "metadata": {},
     "output_type": "execute_result"
    }
   ],
   "source": [
    "# Cho dữ liệu baseball.csv. Đọc dữ liệu từ baseball.csv và lưu vào biến data, \n",
    "# hiển thị 10 dòng nội dung đầu của data\n",
    "data = pd.read_csv('data/baseball.csv', index_col=0)\n",
    "data.head(10)"
   ]
  },
  {
   "cell_type": "code",
   "execution_count": 5,
   "metadata": {},
   "outputs": [
    {
     "data": {
      "text/html": [
       "<div>\n",
       "<style scoped>\n",
       "    .dataframe tbody tr th:only-of-type {\n",
       "        vertical-align: middle;\n",
       "    }\n",
       "\n",
       "    .dataframe tbody tr th {\n",
       "        vertical-align: top;\n",
       "    }\n",
       "\n",
       "    .dataframe thead th {\n",
       "        text-align: right;\n",
       "    }\n",
       "</style>\n",
       "<table border=\"1\" class=\"dataframe\">\n",
       "  <thead>\n",
       "    <tr style=\"text-align: right;\">\n",
       "      <th></th>\n",
       "      <th>height</th>\n",
       "      <th>weight</th>\n",
       "    </tr>\n",
       "  </thead>\n",
       "  <tbody>\n",
       "    <tr>\n",
       "      <th>count</th>\n",
       "      <td>1015.000000</td>\n",
       "      <td>1015.000000</td>\n",
       "    </tr>\n",
       "    <tr>\n",
       "      <th>mean</th>\n",
       "      <td>1.871717</td>\n",
       "      <td>91.330191</td>\n",
       "    </tr>\n",
       "    <tr>\n",
       "      <th>std</th>\n",
       "      <td>0.058774</td>\n",
       "      <td>9.445198</td>\n",
       "    </tr>\n",
       "    <tr>\n",
       "      <th>min</th>\n",
       "      <td>1.701800</td>\n",
       "      <td>68.038800</td>\n",
       "    </tr>\n",
       "    <tr>\n",
       "      <th>25%</th>\n",
       "      <td>1.828800</td>\n",
       "      <td>84.368112</td>\n",
       "    </tr>\n",
       "    <tr>\n",
       "      <th>50%</th>\n",
       "      <td>1.879600</td>\n",
       "      <td>90.718400</td>\n",
       "    </tr>\n",
       "    <tr>\n",
       "      <th>75%</th>\n",
       "      <td>1.905000</td>\n",
       "      <td>97.522280</td>\n",
       "    </tr>\n",
       "    <tr>\n",
       "      <th>max</th>\n",
       "      <td>2.108200</td>\n",
       "      <td>131.541680</td>\n",
       "    </tr>\n",
       "  </tbody>\n",
       "</table>\n",
       "</div>"
      ],
      "text/plain": [
       "            height       weight\n",
       "count  1015.000000  1015.000000\n",
       "mean      1.871717    91.330191\n",
       "std       0.058774     9.445198\n",
       "min       1.701800    68.038800\n",
       "25%       1.828800    84.368112\n",
       "50%       1.879600    90.718400\n",
       "75%       1.905000    97.522280\n",
       "max       2.108200   131.541680"
      ]
     },
     "execution_count": 5,
     "metadata": {},
     "output_type": "execute_result"
    }
   ],
   "source": [
    "# Cho biết thông tin thống kê chung của data\n",
    "data.describe()"
   ]
  },
  {
   "cell_type": "markdown",
   "metadata": {},
   "source": [
    "## Câu 2"
   ]
  },
  {
   "cell_type": "code",
   "execution_count": 6,
   "metadata": {
    "scrolled": true
   },
   "outputs": [],
   "source": [
    "# Vẽ boxplot cho dữ liệu height\n",
    "red_square = dict(markerfacecolor = 'r', marker = 's')\n"
   ]
  },
  {
   "cell_type": "markdown",
   "metadata": {},
   "source": [
    "<details>\n",
    "  <summary style='color:#FD6504; font-size:14px'>Nhấn vào đây để xem kết quả!</summary>\n",
    "<img src=\"data:image/png;base64,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\n",
    "\">\n",
    "</details>"
   ]
  },
  {
   "cell_type": "code",
   "execution_count": 7,
   "metadata": {},
   "outputs": [],
   "source": [
    "# Vẽ boxplot cho dữ liệu weight\n"
   ]
  },
  {
   "cell_type": "markdown",
   "metadata": {},
   "source": [
    "<details>\n",
    "  <summary style='color:#FD6504; font-size:14px'>Nhấn vào đây để xem kết quả!</summary>\n",
    "<img src=\"data:image/png;base64,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\n",
    "\">\n",
    "</details>"
   ]
  },
  {
   "cell_type": "markdown",
   "metadata": {},
   "source": [
    "### Câu 3: Kiểm tra xem dữ liệu có outliers hay không? Nếu có thì loại bỏ các outliers. Vẽ lại boxplot"
   ]
  },
  {
   "cell_type": "code",
   "execution_count": 8,
   "metadata": {},
   "outputs": [],
   "source": [
    "# Tìm, đếm và in ra các outliers\n"
   ]
  },
  {
   "cell_type": "code",
   "execution_count": 9,
   "metadata": {},
   "outputs": [],
   "source": [
    "# Loại bỏ các outliers\n"
   ]
  },
  {
   "cell_type": "code",
   "execution_count": 10,
   "metadata": {},
   "outputs": [],
   "source": [
    "# Vẽ lại box plot\n"
   ]
  },
  {
   "cell_type": "code",
   "execution_count": null,
   "metadata": {},
   "outputs": [],
   "source": []
  }
 ],
 "metadata": {
  "kernelspec": {
   "display_name": "Python 3",
   "language": "python",
   "name": "python3"
  },
  "language_info": {
   "codemirror_mode": {
    "name": "ipython",
    "version": 3
   },
   "file_extension": ".py",
   "mimetype": "text/x-python",
   "name": "python",
   "nbconvert_exporter": "python",
   "pygments_lexer": "ipython3",
   "version": "3.9.2"
  }
 },
 "nbformat": 4,
 "nbformat_minor": 2
}
