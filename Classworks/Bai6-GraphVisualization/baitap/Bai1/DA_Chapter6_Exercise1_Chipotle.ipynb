{
 "cells": [
  {
   "cell_type": "markdown",
   "metadata": {},
   "source": [
    "## Chapter 6 - Exercise 1: Trực quan hóa dữ liệu Chipotle"
   ]
  },
  {
   "cell_type": "markdown",
   "metadata": {},
   "source": [
    "#### Cho dữ liệu https://raw.githubusercontent.com/justmarkham/DAT8/master/data/chipotle.tsv"
   ]
  },
  {
   "cell_type": "markdown",
   "metadata": {},
   "source": [
    "Nhà hàng Chipotle cần phân tích dữ liệu bán được trong ngày diễn ra khuyến mãi để có thể điều chỉnh thực đơn và thực hiện các chương trình khuyến mãi phù hợp.\n",
    "\n",
    "Dữ liệu được cung cấp trong file chipotle.tsv, hãy thực hiện các yêu cầu sau:"
   ]
  },
  {
   "cell_type": "markdown",
   "metadata": {},
   "source": [
    "# Yêu cầu"
   ]
  },
  {
   "cell_type": "markdown",
   "metadata": {},
   "source": [
    "# Câu 1: \n",
    "- Đọc dữ liệu và gán vào biến chipo \n",
    "- Hiển thị 10 dòng đầu của dữ liệu"
   ]
  },
  {
   "cell_type": "markdown",
   "metadata": {},
   "source": [
    "# Câu 2: \n",
    "- Tạo dataframe df gồm 2 cột: tên món ăn và đếm các món ăn"
   ]
  },
  {
   "cell_type": "markdown",
   "metadata": {},
   "source": [
    "# Câu 3:\n",
    "- a) Sắp xếp df theo tần suất giảm dần, và lấy 5 item đầu tiên\n",
    "- b) Vẽ biểu đồ bar chart cho biết 5 món được gọi nhiều nhất, có title, xlabel, ylabel và xticks"
   ]
  },
  {
   "cell_type": "markdown",
   "metadata": {},
   "source": [
    "# Câu 4: \n",
    "- a) Đổi kiểu dữ liệu của cột item_price sang kiểu số thực \n",
    "- b) Tạo cột revenue, với revenue = quantity * item_price\n",
    "- c) Nhóm các đơn hàng theo order_id, và tính tổng số lượng gọi và tổng giá trị của mỗi đơn hàng, in kết quả"
   ]
  },
  {
   "cell_type": "markdown",
   "metadata": {},
   "source": [
    "# Câu 5: \n",
    "- Từ câu 4b, hãy vẽ scatterplot với x là revenue,  và y là quantity, có title, xlabel, ylabel. Bạn có nhận xét gì qua biểu đồ này "
   ]
  },
  {
   "cell_type": "markdown",
   "metadata": {},
   "source": [
    "# Câu 6: \n",
    "- Vẽ bar chart với x là các món ăn và y là tổng thành tiền. Vẽ cho 5 món có tổng thành tiền lớn nhất"
   ]
  },
  {
   "cell_type": "code",
   "execution_count": 1,
   "metadata": {},
   "outputs": [],
   "source": [
    "import pandas as pd\n",
    "import matplotlib.pyplot as plt "
   ]
  },
  {
   "cell_type": "code",
   "execution_count": 2,
   "metadata": {
    "scrolled": true
   },
   "outputs": [
    {
     "data": {
      "text/html": [
       "<div>\n",
       "<style scoped>\n",
       "    .dataframe tbody tr th:only-of-type {\n",
       "        vertical-align: middle;\n",
       "    }\n",
       "\n",
       "    .dataframe tbody tr th {\n",
       "        vertical-align: top;\n",
       "    }\n",
       "\n",
       "    .dataframe thead th {\n",
       "        text-align: right;\n",
       "    }\n",
       "</style>\n",
       "<table border=\"1\" class=\"dataframe\">\n",
       "  <thead>\n",
       "    <tr style=\"text-align: right;\">\n",
       "      <th></th>\n",
       "      <th>order_id</th>\n",
       "      <th>quantity</th>\n",
       "      <th>item_name</th>\n",
       "      <th>choice_description</th>\n",
       "      <th>item_price</th>\n",
       "    </tr>\n",
       "  </thead>\n",
       "  <tbody>\n",
       "    <tr>\n",
       "      <th>0</th>\n",
       "      <td>1</td>\n",
       "      <td>1</td>\n",
       "      <td>Chips and Fresh Tomato Salsa</td>\n",
       "      <td>NaN</td>\n",
       "      <td>$2.39</td>\n",
       "    </tr>\n",
       "    <tr>\n",
       "      <th>1</th>\n",
       "      <td>1</td>\n",
       "      <td>1</td>\n",
       "      <td>Izze</td>\n",
       "      <td>[Clementine]</td>\n",
       "      <td>$3.39</td>\n",
       "    </tr>\n",
       "    <tr>\n",
       "      <th>2</th>\n",
       "      <td>1</td>\n",
       "      <td>1</td>\n",
       "      <td>Nantucket Nectar</td>\n",
       "      <td>[Apple]</td>\n",
       "      <td>$3.39</td>\n",
       "    </tr>\n",
       "    <tr>\n",
       "      <th>3</th>\n",
       "      <td>1</td>\n",
       "      <td>1</td>\n",
       "      <td>Chips and Tomatillo-Green Chili Salsa</td>\n",
       "      <td>NaN</td>\n",
       "      <td>$2.39</td>\n",
       "    </tr>\n",
       "    <tr>\n",
       "      <th>4</th>\n",
       "      <td>2</td>\n",
       "      <td>2</td>\n",
       "      <td>Chicken Bowl</td>\n",
       "      <td>[Tomatillo-Red Chili Salsa (Hot), [Black Beans...</td>\n",
       "      <td>$16.98</td>\n",
       "    </tr>\n",
       "    <tr>\n",
       "      <th>5</th>\n",
       "      <td>3</td>\n",
       "      <td>1</td>\n",
       "      <td>Chicken Bowl</td>\n",
       "      <td>[Fresh Tomato Salsa (Mild), [Rice, Cheese, Sou...</td>\n",
       "      <td>$10.98</td>\n",
       "    </tr>\n",
       "    <tr>\n",
       "      <th>6</th>\n",
       "      <td>3</td>\n",
       "      <td>1</td>\n",
       "      <td>Side of Chips</td>\n",
       "      <td>NaN</td>\n",
       "      <td>$1.69</td>\n",
       "    </tr>\n",
       "    <tr>\n",
       "      <th>7</th>\n",
       "      <td>4</td>\n",
       "      <td>1</td>\n",
       "      <td>Steak Burrito</td>\n",
       "      <td>[Tomatillo Red Chili Salsa, [Fajita Vegetables...</td>\n",
       "      <td>$11.75</td>\n",
       "    </tr>\n",
       "    <tr>\n",
       "      <th>8</th>\n",
       "      <td>4</td>\n",
       "      <td>1</td>\n",
       "      <td>Steak Soft Tacos</td>\n",
       "      <td>[Tomatillo Green Chili Salsa, [Pinto Beans, Ch...</td>\n",
       "      <td>$9.25</td>\n",
       "    </tr>\n",
       "    <tr>\n",
       "      <th>9</th>\n",
       "      <td>5</td>\n",
       "      <td>1</td>\n",
       "      <td>Steak Burrito</td>\n",
       "      <td>[Fresh Tomato Salsa, [Rice, Black Beans, Pinto...</td>\n",
       "      <td>$9.25</td>\n",
       "    </tr>\n",
       "  </tbody>\n",
       "</table>\n",
       "</div>"
      ],
      "text/plain": [
       "   order_id  quantity                              item_name  \\\n",
       "0         1         1           Chips and Fresh Tomato Salsa   \n",
       "1         1         1                                   Izze   \n",
       "2         1         1                       Nantucket Nectar   \n",
       "3         1         1  Chips and Tomatillo-Green Chili Salsa   \n",
       "4         2         2                           Chicken Bowl   \n",
       "5         3         1                           Chicken Bowl   \n",
       "6         3         1                          Side of Chips   \n",
       "7         4         1                          Steak Burrito   \n",
       "8         4         1                       Steak Soft Tacos   \n",
       "9         5         1                          Steak Burrito   \n",
       "\n",
       "                                  choice_description item_price  \n",
       "0                                                NaN     $2.39   \n",
       "1                                       [Clementine]     $3.39   \n",
       "2                                            [Apple]     $3.39   \n",
       "3                                                NaN     $2.39   \n",
       "4  [Tomatillo-Red Chili Salsa (Hot), [Black Beans...    $16.98   \n",
       "5  [Fresh Tomato Salsa (Mild), [Rice, Cheese, Sou...    $10.98   \n",
       "6                                                NaN     $1.69   \n",
       "7  [Tomatillo Red Chili Salsa, [Fajita Vegetables...    $11.75   \n",
       "8  [Tomatillo Green Chili Salsa, [Pinto Beans, Ch...     $9.25   \n",
       "9  [Fresh Tomato Salsa, [Rice, Black Beans, Pinto...     $9.25   "
      ]
     },
     "execution_count": 2,
     "metadata": {},
     "output_type": "execute_result"
    }
   ],
   "source": [
    "# Câu 1: Đọc dữ liệu và gán vào biến chipo \n",
    "chipo = pd.read_csv('data/chipotle.tsv', sep = '\\t')\n",
    "# Hiển thị 10 dòng đầu của dữ liệu\n",
    "chipo.head(10)"
   ]
  },
  {
   "cell_type": "markdown",
   "metadata": {},
   "source": [
    "<details>\n",
    "  <summary style='color:#FD6504; font-size:14px'>Nhấn vào đây để xem kết quả!</summary>\n",
    "  <div>\n",
    "<table border=\"1\" class=\"dataframe\">\n",
    "  <thead>\n",
    "    <tr style=\"text-align: right;\">\n",
    "      <th></th>\n",
    "      <th>order_id</th>\n",
    "      <th>quantity</th>\n",
    "      <th>item_name</th>\n",
    "      <th>choice_description</th>\n",
    "      <th>item_price</th>\n",
    "    </tr>\n",
    "  </thead>\n",
    "  <tbody>\n",
    "    <tr>\n",
    "      <th>0</th>\n",
    "      <td>1</td>\n",
    "      <td>1</td>\n",
    "      <td>Chips and Fresh Tomato Salsa</td>\n",
    "      <td>NaN</td>\n",
    "      <td>\\$2.39</td>\n",
    "    </tr>\n",
    "    <tr>\n",
    "      <th>1</th>\n",
    "      <td>1</td>\n",
    "      <td>1</td>\n",
    "      <td>Izze</td>\n",
    "      <td>[Clementine]</td>\n",
    "      <td>\\$3.39</td>\n",
    "    </tr>\n",
    "    <tr>\n",
    "      <th>2</th>\n",
    "      <td>1</td>\n",
    "      <td>1</td>\n",
    "      <td>Nantucket Nectar</td>\n",
    "      <td>[Apple]</td>\n",
    "      <td>\\$3.39</td>\n",
    "    </tr>\n",
    "    <tr>\n",
    "      <th>3</th>\n",
    "      <td>1</td>\n",
    "      <td>1</td>\n",
    "      <td>Chips and Tomatillo-Green Chili Salsa</td>\n",
    "      <td>NaN</td>\n",
    "      <td>\\$2.39</td>\n",
    "    </tr>\n",
    "    <tr>\n",
    "      <th>4</th>\n",
    "      <td>2</td>\n",
    "      <td>2</td>\n",
    "      <td>Chicken Bowl</td>\n",
    "      <td>[Tomatillo-Red Chili Salsa (Hot), [Black Beans...</td>\n",
    "      <td>\\$16.98</td>\n",
    "    </tr>\n",
    "    <tr>\n",
    "      <th>5</th>\n",
    "      <td>3</td>\n",
    "      <td>1</td>\n",
    "      <td>Chicken Bowl</td>\n",
    "      <td>[Fresh Tomato Salsa (Mild), [Rice, Cheese, Sou...</td>\n",
    "      <td>\\$10.98</td>\n",
    "    </tr>\n",
    "    <tr>\n",
    "      <th>6</th>\n",
    "      <td>3</td>\n",
    "      <td>1</td>\n",
    "      <td>Side of Chips</td>\n",
    "      <td>NaN</td>\n",
    "      <td>\\$1.69</td>\n",
    "    </tr>\n",
    "    <tr>\n",
    "      <th>7</th>\n",
    "      <td>4</td>\n",
    "      <td>1</td>\n",
    "      <td>Steak Burrito</td>\n",
    "      <td>[Tomatillo Red Chili Salsa, [Fajita Vegetables...</td>\n",
    "      <td>\\$11.75</td>\n",
    "    </tr>\n",
    "    <tr>\n",
    "      <th>8</th>\n",
    "      <td>4</td>\n",
    "      <td>1</td>\n",
    "      <td>Steak Soft Tacos</td>\n",
    "      <td>[Tomatillo Green Chili Salsa, [Pinto Beans, Ch...</td>\n",
    "      <td>\\$9.25</td>\n",
    "    </tr>\n",
    "    <tr>\n",
    "      <th>9</th>\n",
    "      <td>5</td>\n",
    "      <td>1</td>\n",
    "      <td>Steak Burrito</td>\n",
    "      <td>[Fresh Tomato Salsa, [Rice, Black Beans, Pinto...</td>\n",
    "      <td>\\$9.25</td>\n",
    "    </tr>\n",
    "  </tbody>\n",
    "</table>\n",
    "</div>\n",
    "</details>"
   ]
  },
  {
   "cell_type": "code",
   "execution_count": 6,
   "metadata": {},
   "outputs": [
    {
     "data": {
      "text/html": [
       "<div>\n",
       "<style scoped>\n",
       "    .dataframe tbody tr th:only-of-type {\n",
       "        vertical-align: middle;\n",
       "    }\n",
       "\n",
       "    .dataframe tbody tr th {\n",
       "        vertical-align: top;\n",
       "    }\n",
       "\n",
       "    .dataframe thead th {\n",
       "        text-align: right;\n",
       "    }\n",
       "</style>\n",
       "<table border=\"1\" class=\"dataframe\">\n",
       "  <thead>\n",
       "    <tr style=\"text-align: right;\">\n",
       "      <th></th>\n",
       "      <th>item_name</th>\n",
       "      <th>cnt</th>\n",
       "    </tr>\n",
       "  </thead>\n",
       "  <tbody>\n",
       "    <tr>\n",
       "      <th>0</th>\n",
       "      <td>6 Pack Soft Drink</td>\n",
       "      <td>54</td>\n",
       "    </tr>\n",
       "    <tr>\n",
       "      <th>1</th>\n",
       "      <td>Barbacoa Bowl</td>\n",
       "      <td>66</td>\n",
       "    </tr>\n",
       "    <tr>\n",
       "      <th>2</th>\n",
       "      <td>Barbacoa Burrito</td>\n",
       "      <td>91</td>\n",
       "    </tr>\n",
       "    <tr>\n",
       "      <th>3</th>\n",
       "      <td>Barbacoa Crispy Tacos</td>\n",
       "      <td>11</td>\n",
       "    </tr>\n",
       "    <tr>\n",
       "      <th>4</th>\n",
       "      <td>Barbacoa Salad Bowl</td>\n",
       "      <td>10</td>\n",
       "    </tr>\n",
       "  </tbody>\n",
       "</table>\n",
       "</div>"
      ],
      "text/plain": [
       "               item_name  cnt\n",
       "0      6 Pack Soft Drink   54\n",
       "1          Barbacoa Bowl   66\n",
       "2       Barbacoa Burrito   91\n",
       "3  Barbacoa Crispy Tacos   11\n",
       "4    Barbacoa Salad Bowl   10"
      ]
     },
     "execution_count": 6,
     "metadata": {},
     "output_type": "execute_result"
    }
   ],
   "source": [
    "# Câu 2: tạo dataframe df gồm 2 cột: tên món ăn và đếm các món ăn\n",
    "df = chipo.groupby('item_name', as_index=False).size()\n",
    "df.rename(columns={'size':'cnt'}, inplace=True)\n",
    "df.head()"
   ]
  },
  {
   "cell_type": "markdown",
   "metadata": {},
   "source": [
    "<details>\n",
    "  <summary style='color:#FD6504; font-size:14px'>Nhấn vào đây để xem kết quả!</summary>\n",
    "  <table border=\"1\" class=\"dataframe\">\n",
    "  <thead>\n",
    "    <tr style=\"text-align: right;\">\n",
    "      <th></th>\n",
    "      <th>item_name</th>\n",
    "      <th>cnt</th>\n",
    "    </tr>\n",
    "  </thead>\n",
    "  <tbody>\n",
    "    <tr>\n",
    "      <th>0</th>\n",
    "      <td>6 Pack Soft Drink</td>\n",
    "      <td>54</td>\n",
    "    </tr>\n",
    "    <tr>\n",
    "      <th>1</th>\n",
    "      <td>Barbacoa Bowl</td>\n",
    "      <td>66</td>\n",
    "    </tr>\n",
    "    <tr>\n",
    "      <th>2</th>\n",
    "      <td>Barbacoa Burrito</td>\n",
    "      <td>91</td>\n",
    "    </tr>\n",
    "    <tr>\n",
    "      <th>3</th>\n",
    "      <td>Barbacoa Crispy Tacos</td>\n",
    "      <td>11</td>\n",
    "    </tr>\n",
    "    <tr>\n",
    "      <th>4</th>\n",
    "      <td>Barbacoa Salad Bowl</td>\n",
    "      <td>10</td>\n",
    "    </tr>\n",
    "  </tbody>\n",
    "</table>\n",
    "</details>"
   ]
  },
  {
   "cell_type": "code",
   "execution_count": 7,
   "metadata": {},
   "outputs": [
    {
     "data": {
      "text/html": [
       "<div>\n",
       "<style scoped>\n",
       "    .dataframe tbody tr th:only-of-type {\n",
       "        vertical-align: middle;\n",
       "    }\n",
       "\n",
       "    .dataframe tbody tr th {\n",
       "        vertical-align: top;\n",
       "    }\n",
       "\n",
       "    .dataframe thead th {\n",
       "        text-align: right;\n",
       "    }\n",
       "</style>\n",
       "<table border=\"1\" class=\"dataframe\">\n",
       "  <thead>\n",
       "    <tr style=\"text-align: right;\">\n",
       "      <th></th>\n",
       "      <th>item_name</th>\n",
       "      <th>cnt</th>\n",
       "    </tr>\n",
       "  </thead>\n",
       "  <tbody>\n",
       "    <tr>\n",
       "      <th>17</th>\n",
       "      <td>Chicken Bowl</td>\n",
       "      <td>726</td>\n",
       "    </tr>\n",
       "    <tr>\n",
       "      <th>18</th>\n",
       "      <td>Chicken Burrito</td>\n",
       "      <td>553</td>\n",
       "    </tr>\n",
       "    <tr>\n",
       "      <th>25</th>\n",
       "      <td>Chips and Guacamole</td>\n",
       "      <td>479</td>\n",
       "    </tr>\n",
       "    <tr>\n",
       "      <th>39</th>\n",
       "      <td>Steak Burrito</td>\n",
       "      <td>368</td>\n",
       "    </tr>\n",
       "    <tr>\n",
       "      <th>10</th>\n",
       "      <td>Canned Soft Drink</td>\n",
       "      <td>301</td>\n",
       "    </tr>\n",
       "  </tbody>\n",
       "</table>\n",
       "</div>"
      ],
      "text/plain": [
       "              item_name  cnt\n",
       "17         Chicken Bowl  726\n",
       "18      Chicken Burrito  553\n",
       "25  Chips and Guacamole  479\n",
       "39        Steak Burrito  368\n",
       "10    Canned Soft Drink  301"
      ]
     },
     "execution_count": 7,
     "metadata": {},
     "output_type": "execute_result"
    }
   ],
   "source": [
    "# Câu 3:\n",
    "# a) Sắp xếp df theo tần suất giảm dần, và lấy 5 item đầu tiên\n",
    "df.sort_values(by='cnt', ascending = False).head()"
   ]
  },
  {
   "cell_type": "code",
   "execution_count": 9,
   "metadata": {},
   "outputs": [
    {
     "data": {
      "image/png": "[encoded data removed]",
      "text/plain": [
       "<Figure size 432x288 with 1 Axes>"
      ]
     },
     "metadata": {
      "needs_background": "light"
     },
     "output_type": "display_data"
    }
   ],
   "source": [
    "# b) Vẽ biểu đồ bar chart cho biết 5 món được gọi nhiều nhất \n",
    "# (có title, xlabel, ylabel và xticks)\n",
    "df_ = df.sort_values(by='cnt', ascending = False).head()\n",
    "\n",
    "plt.bar(x=df_['item_name'], height=df_['cnt'])\n",
    "plt.xlabel('Items')\n",
    "plt.ylabel('frequency')\n",
    "plt.title('Most ordered Chipotle\\'s Items')\n",
    "plt.xticks(rotation=60)\n",
    "plt.grid()\n",
    "plt.show()"
   ]
  },
  {
   "cell_type": "markdown",
   "metadata": {},
   "source": [
    "<details>\n",
    "  <summary style='color:#FD6504; font-size:14px'>Nhấn vào đây để xem kết quả!</summary>\n",
    "<img src=\"data:image/png;base64,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\n",
    "\">\n",
    "</details>"
   ]
  },
  {
   "cell_type": "code",
   "execution_count": 10,
   "metadata": {},
   "outputs": [
    {
     "data": {
      "text/html": [
       "<div>\n",
       "<style scoped>\n",
       "    .dataframe tbody tr th:only-of-type {\n",
       "        vertical-align: middle;\n",
       "    }\n",
       "\n",
       "    .dataframe tbody tr th {\n",
       "        vertical-align: top;\n",
       "    }\n",
       "\n",
       "    .dataframe thead th {\n",
       "        text-align: right;\n",
       "    }\n",
       "</style>\n",
       "<table border=\"1\" class=\"dataframe\">\n",
       "  <thead>\n",
       "    <tr style=\"text-align: right;\">\n",
       "      <th></th>\n",
       "      <th>order_id</th>\n",
       "      <th>quantity</th>\n",
       "      <th>item_name</th>\n",
       "      <th>choice_description</th>\n",
       "      <th>item_price</th>\n",
       "    </tr>\n",
       "  </thead>\n",
       "  <tbody>\n",
       "    <tr>\n",
       "      <th>0</th>\n",
       "      <td>1</td>\n",
       "      <td>1</td>\n",
       "      <td>Chips and Fresh Tomato Salsa</td>\n",
       "      <td>NaN</td>\n",
       "      <td>2.39</td>\n",
       "    </tr>\n",
       "    <tr>\n",
       "      <th>1</th>\n",
       "      <td>1</td>\n",
       "      <td>1</td>\n",
       "      <td>Izze</td>\n",
       "      <td>[Clementine]</td>\n",
       "      <td>3.39</td>\n",
       "    </tr>\n",
       "    <tr>\n",
       "      <th>2</th>\n",
       "      <td>1</td>\n",
       "      <td>1</td>\n",
       "      <td>Nantucket Nectar</td>\n",
       "      <td>[Apple]</td>\n",
       "      <td>3.39</td>\n",
       "    </tr>\n",
       "    <tr>\n",
       "      <th>3</th>\n",
       "      <td>1</td>\n",
       "      <td>1</td>\n",
       "      <td>Chips and Tomatillo-Green Chili Salsa</td>\n",
       "      <td>NaN</td>\n",
       "      <td>2.39</td>\n",
       "    </tr>\n",
       "    <tr>\n",
       "      <th>4</th>\n",
       "      <td>2</td>\n",
       "      <td>2</td>\n",
       "      <td>Chicken Bowl</td>\n",
       "      <td>[Tomatillo-Red Chili Salsa (Hot), [Black Beans...</td>\n",
       "      <td>16.98</td>\n",
       "    </tr>\n",
       "  </tbody>\n",
       "</table>\n",
       "</div>"
      ],
      "text/plain": [
       "   order_id  quantity                              item_name  \\\n",
       "0         1         1           Chips and Fresh Tomato Salsa   \n",
       "1         1         1                                   Izze   \n",
       "2         1         1                       Nantucket Nectar   \n",
       "3         1         1  Chips and Tomatillo-Green Chili Salsa   \n",
       "4         2         2                           Chicken Bowl   \n",
       "\n",
       "                                  choice_description  item_price  \n",
       "0                                                NaN        2.39  \n",
       "1                                       [Clementine]        3.39  \n",
       "2                                            [Apple]        3.39  \n",
       "3                                                NaN        2.39  \n",
       "4  [Tomatillo-Red Chili Salsa (Hot), [Black Beans...       16.98  "
      ]
     },
     "execution_count": 10,
     "metadata": {},
     "output_type": "execute_result"
    }
   ],
   "source": [
    "# Câu 4: \n",
    "# a) Đổi kiểu dữ liệu của cột item_price sang kiểu số thực \n",
    "chipo.item_price = chipo.item_price.str.replace('$', '').astype(float)\n",
    "# chipo.item_price = [float(value[1:]) for value in chipo.item_price]\n",
    "chipo.head()"
   ]
  },
  {
   "cell_type": "code",
   "execution_count": 11,
   "metadata": {},
   "outputs": [
    {
     "data": {
      "text/html": [
       "<div>\n",
       "<style scoped>\n",
       "    .dataframe tbody tr th:only-of-type {\n",
       "        vertical-align: middle;\n",
       "    }\n",
       "\n",
       "    .dataframe tbody tr th {\n",
       "        vertical-align: top;\n",
       "    }\n",
       "\n",
       "    .dataframe thead th {\n",
       "        text-align: right;\n",
       "    }\n",
       "</style>\n",
       "<table border=\"1\" class=\"dataframe\">\n",
       "  <thead>\n",
       "    <tr style=\"text-align: right;\">\n",
       "      <th></th>\n",
       "      <th>order_id</th>\n",
       "      <th>quantity</th>\n",
       "      <th>item_name</th>\n",
       "      <th>choice_description</th>\n",
       "      <th>item_price</th>\n",
       "      <th>revenue</th>\n",
       "    </tr>\n",
       "  </thead>\n",
       "  <tbody>\n",
       "    <tr>\n",
       "      <th>0</th>\n",
       "      <td>1</td>\n",
       "      <td>1</td>\n",
       "      <td>Chips and Fresh Tomato Salsa</td>\n",
       "      <td>NaN</td>\n",
       "      <td>2.39</td>\n",
       "      <td>2.39</td>\n",
       "    </tr>\n",
       "    <tr>\n",
       "      <th>1</th>\n",
       "      <td>1</td>\n",
       "      <td>1</td>\n",
       "      <td>Izze</td>\n",
       "      <td>[Clementine]</td>\n",
       "      <td>3.39</td>\n",
       "      <td>3.39</td>\n",
       "    </tr>\n",
       "    <tr>\n",
       "      <th>2</th>\n",
       "      <td>1</td>\n",
       "      <td>1</td>\n",
       "      <td>Nantucket Nectar</td>\n",
       "      <td>[Apple]</td>\n",
       "      <td>3.39</td>\n",
       "      <td>3.39</td>\n",
       "    </tr>\n",
       "    <tr>\n",
       "      <th>3</th>\n",
       "      <td>1</td>\n",
       "      <td>1</td>\n",
       "      <td>Chips and Tomatillo-Green Chili Salsa</td>\n",
       "      <td>NaN</td>\n",
       "      <td>2.39</td>\n",
       "      <td>2.39</td>\n",
       "    </tr>\n",
       "    <tr>\n",
       "      <th>4</th>\n",
       "      <td>2</td>\n",
       "      <td>2</td>\n",
       "      <td>Chicken Bowl</td>\n",
       "      <td>[Tomatillo-Red Chili Salsa (Hot), [Black Beans...</td>\n",
       "      <td>16.98</td>\n",
       "      <td>33.96</td>\n",
       "    </tr>\n",
       "  </tbody>\n",
       "</table>\n",
       "</div>"
      ],
      "text/plain": [
       "   order_id  quantity                              item_name  \\\n",
       "0         1         1           Chips and Fresh Tomato Salsa   \n",
       "1         1         1                                   Izze   \n",
       "2         1         1                       Nantucket Nectar   \n",
       "3         1         1  Chips and Tomatillo-Green Chili Salsa   \n",
       "4         2         2                           Chicken Bowl   \n",
       "\n",
       "                                  choice_description  item_price  revenue  \n",
       "0                                                NaN        2.39     2.39  \n",
       "1                                       [Clementine]        3.39     3.39  \n",
       "2                                            [Apple]        3.39     3.39  \n",
       "3                                                NaN        2.39     2.39  \n",
       "4  [Tomatillo-Red Chili Salsa (Hot), [Black Beans...       16.98    33.96  "
      ]
     },
     "execution_count": 11,
     "metadata": {},
     "output_type": "execute_result"
    }
   ],
   "source": [
    "# b) Tạo cột revenue, với revenue = quantity * item_price\n",
    "chipo['revenue'] = chipo['quantity']*chipo['item_price']\n",
    "chipo.head()"
   ]
  },
  {
   "cell_type": "code",
   "execution_count": 12,
   "metadata": {},
   "outputs": [
    {
     "data": {
      "text/html": [
       "<div>\n",
       "<style scoped>\n",
       "    .dataframe tbody tr th:only-of-type {\n",
       "        vertical-align: middle;\n",
       "    }\n",
       "\n",
       "    .dataframe tbody tr th {\n",
       "        vertical-align: top;\n",
       "    }\n",
       "\n",
       "    .dataframe thead th {\n",
       "        text-align: right;\n",
       "    }\n",
       "</style>\n",
       "<table border=\"1\" class=\"dataframe\">\n",
       "  <thead>\n",
       "    <tr style=\"text-align: right;\">\n",
       "      <th></th>\n",
       "      <th>quantity</th>\n",
       "      <th>revenue</th>\n",
       "    </tr>\n",
       "    <tr>\n",
       "      <th>order_id</th>\n",
       "      <th></th>\n",
       "      <th></th>\n",
       "    </tr>\n",
       "  </thead>\n",
       "  <tbody>\n",
       "    <tr>\n",
       "      <th>1</th>\n",
       "      <td>4</td>\n",
       "      <td>11.56</td>\n",
       "    </tr>\n",
       "    <tr>\n",
       "      <th>2</th>\n",
       "      <td>2</td>\n",
       "      <td>33.96</td>\n",
       "    </tr>\n",
       "    <tr>\n",
       "      <th>3</th>\n",
       "      <td>2</td>\n",
       "      <td>12.67</td>\n",
       "    </tr>\n",
       "    <tr>\n",
       "      <th>4</th>\n",
       "      <td>2</td>\n",
       "      <td>21.00</td>\n",
       "    </tr>\n",
       "    <tr>\n",
       "      <th>5</th>\n",
       "      <td>2</td>\n",
       "      <td>13.70</td>\n",
       "    </tr>\n",
       "  </tbody>\n",
       "</table>\n",
       "</div>"
      ],
      "text/plain": [
       "          quantity  revenue\n",
       "order_id                   \n",
       "1                4    11.56\n",
       "2                2    33.96\n",
       "3                2    12.67\n",
       "4                2    21.00\n",
       "5                2    13.70"
      ]
     },
     "execution_count": 12,
     "metadata": {},
     "output_type": "execute_result"
    }
   ],
   "source": [
    "# c) Nhóm các đơn hàng theo order_id, và tính tổng số lượng gọi \n",
    "# và tổng giá trị của mỗi đơn hàng, \n",
    "# in kết quả\n",
    "orders = chipo.groupby('order_id')[['quantity','revenue']].sum()\n",
    "orders.head()"
   ]
  },
  {
   "cell_type": "markdown",
   "metadata": {},
   "source": [
    "<details>\n",
    "  <summary style='color:#FD6504; font-size:14px'>Nhấn vào đây để xem kết quả!</summary>\n",
    "<table border=\"1\" class=\"dataframe\">\n",
    "  <thead>\n",
    "    <tr style=\"text-align: right;\">\n",
    "      <th></th>\n",
    "      <th>quantity</th>\n",
    "      <th>revenue</th>\n",
    "    </tr>\n",
    "    <tr>\n",
    "      <th>order_id</th>\n",
    "      <th></th>\n",
    "      <th></th>\n",
    "    </tr>\n",
    "  </thead>\n",
    "  <tbody>\n",
    "    <tr>\n",
    "      <th>1</th>\n",
    "      <td>4</td>\n",
    "      <td>11.56</td>\n",
    "    </tr>\n",
    "    <tr>\n",
    "      <th>2</th>\n",
    "      <td>2</td>\n",
    "      <td>33.96</td>\n",
    "    </tr>\n",
    "    <tr>\n",
    "      <th>3</th>\n",
    "      <td>2</td>\n",
    "      <td>12.67</td>\n",
    "    </tr>\n",
    "    <tr>\n",
    "      <th>4</th>\n",
    "      <td>2</td>\n",
    "      <td>21.00</td>\n",
    "    </tr>\n",
    "    <tr>\n",
    "      <th>5</th>\n",
    "      <td>2</td>\n",
    "      <td>13.70</td>\n",
    "    </tr>\n",
    "  </tbody>\n",
    "</table>\n",
    "</details>"
   ]
  },
  {
   "cell_type": "code",
   "execution_count": 13,
   "metadata": {},
   "outputs": [
    {
     "data": {
      "image/png": "[encoded data removed]",
      "text/plain": [
       "<Figure size 432x288 with 1 Axes>"
      ]
     },
     "metadata": {
      "needs_background": "light"
     },
     "output_type": "display_data"
    }
   ],
   "source": [
    "# Câu 5: Từ câu 4c, hãy vẽ scatterplot với x là revenue, \n",
    "# và y là quantity, có title, xlabel, ylabel\n",
    "# Bạn có nhận xét gì qua biểu đồ này \n",
    "plt.scatter(x = orders.revenue, y = orders.quantity, s = 50, c = 'blue')\n",
    "# Thiết lập title và labels\n",
    "plt.xlabel('Bill total')\n",
    "plt.ylabel('Items ordered')\n",
    "plt.title('Number of items ordered vs bill total')\n",
    "plt.show()"
   ]
  },
  {
   "cell_type": "code",
   "execution_count": 14,
   "metadata": {},
   "outputs": [
    {
     "data": {
      "text/plain": [
       "item_name\n",
       "Chips and Guacamole    2475.62\n",
       "Steak Bowl             2479.81\n",
       "Steak Burrito          4236.13\n",
       "Chicken Burrito        6387.06\n",
       "Chicken Bowl           8044.63\n",
       "Name: revenue, dtype: float64"
      ]
     },
     "execution_count": 14,
     "metadata": {},
     "output_type": "execute_result"
    }
   ],
   "source": [
    "# Câu 6: vẽ bar chart với x là các món ăn, \n",
    "# và y là tổng thành tiền. Vẽ cho 5 món có tổng thành tiền lớn nhất\n",
    "ser = chipo.groupby('item_name')['revenue'].sum().sort_values(ascending=False).head()\n",
    "ser = ser.sort_values()\n",
    "ser"
   ]
  },
  {
   "cell_type": "code",
   "execution_count": 15,
   "metadata": {},
   "outputs": [
    {
     "data": {
      "image/png": "[encoded data removed]",
      "text/plain": [
       "<Figure size 504x288 with 1 Axes>"
      ]
     },
     "metadata": {
      "needs_background": "light"
     },
     "output_type": "display_data"
    }
   ],
   "source": [
    "plt.figure(figsize=(7,4))\n",
    "plt.bar(x=ser.index, height=ser.values)\n",
    "plt.xticks(rotation=60)\n",
    "plt.show()"
   ]
  },
  {
   "cell_type": "code",
   "execution_count": 16,
   "metadata": {},
   "outputs": [
    {
     "data": {
      "image/png": "[encoded data removed]",
      "text/plain": [
       "<Figure size 504x288 with 1 Axes>"
      ]
     },
     "metadata": {
      "needs_background": "light"
     },
     "output_type": "display_data"
    }
   ],
   "source": [
    "plt.figure(figsize=(7,4))\n",
    "plt.barh(y=ser.index, width=ser.values)\n",
    "plt.show()"
   ]
  },
  {
   "cell_type": "code",
   "execution_count": null,
   "metadata": {},
   "outputs": [],
   "source": []
  }
 ],
 "metadata": {
  "kernelspec": {
   "display_name": "Python 3",
   "language": "python",
   "name": "python3"
  },
  "language_info": {
   "codemirror_mode": {
    "name": "ipython",
    "version": 3
   },
   "file_extension": ".py",
   "mimetype": "text/x-python",
   "name": "python",
   "nbconvert_exporter": "python",
   "pygments_lexer": "ipython3",
   "version": "3.6.8"
  }
 },
 "nbformat": 4,
 "nbformat_minor": 1
}
